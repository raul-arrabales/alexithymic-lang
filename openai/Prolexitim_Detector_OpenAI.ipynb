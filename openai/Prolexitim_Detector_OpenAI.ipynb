{
 "cells": [
  {
   "cell_type": "markdown",
   "id": "7b5b169c-27ed-4565-a8b4-dadb8d19d593",
   "metadata": {
    "tags": []
   },
   "source": [
    "# Prolexitim NLP Analytics\n",
    "## Predicting TAS-20 from subject text\n",
    "### Using OpenAI API for embeddings and GPT-based approaches\n",
    "<hr>\n",
    "\n",
    "- Prolexitim normalized dataset version Jan23 (from Psicobotica citizen science forms).\n",
    "- Dataset from Piscobotica Prolexitim TAS-20 Spain instrument and Prolexitim NLP.\n",
    "- Updated Jan '23, including automated English translation of users' inputs. \n",
    "\n",
    "<hr>\n",
    "Raúl Arrabales Moreno - Updated 4th May 2023 (Psicobótica)<br>\n",
    "\n",
    "- [conscious-robots.com](http://www.conscious-robots.com/)\n",
    "- [psicobotica.com](http://www.psicobotica.com/en/)\n",
    "\n",
    "<hr>\n",
    "\n",
    "#### This notebook contains:\n",
    "- Prolexitim dataset loading and checking\n",
    "- Obtaining OpenAI ADA Embeddings for Card1\n",
    "- \n"
   ]
  },
  {
   "cell_type": "markdown",
   "id": "83803e41-12ea-46b1-a43e-44d988c11eb9",
   "metadata": {
    "jp-MarkdownHeadingCollapsed": true,
    "tags": []
   },
   "source": [
    "### Helper functions"
   ]
  },
  {
   "cell_type": "code",
   "execution_count": 10,
   "id": "89cc1ea6-5238-4337-8361-eb41f499df03",
   "metadata": {
    "tags": []
   },
   "outputs": [],
   "source": [
    "def get_apikey_from_file(filename):\n",
    "    \"\"\" Given a filename,\n",
    "        return the contents of that file\n",
    "    \"\"\"\n",
    "    try:\n",
    "        with open(filename, 'r') as f:\n",
    "            # It's assumed our file contains a single line,\n",
    "            # with our API key\n",
    "            return f.read().strip()\n",
    "    except FileNotFoundError:\n",
    "        print(\"'%s' file not found\" % filename)"
   ]
  },
  {
   "cell_type": "markdown",
   "id": "35228e15-74b9-4c3c-b5c1-d70a5bb9705a",
   "metadata": {
    "jp-MarkdownHeadingCollapsed": true,
    "tags": []
   },
   "source": [
    "### Loading Prolexitim Dataset"
   ]
  },
  {
   "cell_type": "code",
   "execution_count": 36,
   "id": "847ad329-aa37-44a5-99ee-640d8a78f622",
   "metadata": {
    "tags": []
   },
   "outputs": [],
   "source": [
    "import pandas as pd \n",
    "import numpy as np\n",
    "\n",
    "prolexitim_dataset_path = \"data/Prolexitim_Jan23_En.csv\"\n",
    "prolexitim_df = pd.read_csv(prolexitim_dataset_path,header=0,delimiter=\",\")"
   ]
  },
  {
   "cell_type": "code",
   "execution_count": 3,
   "id": "edb4ab71-1a37-4fd5-a871-a88692df5620",
   "metadata": {
    "tags": []
   },
   "outputs": [
    {
     "data": {
      "text/html": [
       "<div>\n",
       "<style scoped>\n",
       "    .dataframe tbody tr th:only-of-type {\n",
       "        vertical-align: middle;\n",
       "    }\n",
       "\n",
       "    .dataframe tbody tr th {\n",
       "        vertical-align: top;\n",
       "    }\n",
       "\n",
       "    .dataframe thead th {\n",
       "        text-align: right;\n",
       "    }\n",
       "</style>\n",
       "<table border=\"1\" class=\"dataframe\">\n",
       "  <thead>\n",
       "    <tr style=\"text-align: right;\">\n",
       "      <th></th>\n",
       "      <th>Timestamp</th>\n",
       "      <th>TAS20</th>\n",
       "      <th>F1</th>\n",
       "      <th>F2</th>\n",
       "      <th>F3</th>\n",
       "      <th>Gender</th>\n",
       "      <th>Age</th>\n",
       "      <th>Code</th>\n",
       "      <th>Alexithymia</th>\n",
       "      <th>Timestamp (1)</th>\n",
       "      <th>...</th>\n",
       "      <th>Depression</th>\n",
       "      <th>BAI</th>\n",
       "      <th>Anxiety</th>\n",
       "      <th>PSS</th>\n",
       "      <th>AN</th>\n",
       "      <th>AP</th>\n",
       "      <th>Text_Card1_en</th>\n",
       "      <th>Text_Card9VH_en</th>\n",
       "      <th>Text_Card11_en</th>\n",
       "      <th>Text_Card13HM_en</th>\n",
       "    </tr>\n",
       "  </thead>\n",
       "  <tbody>\n",
       "    <tr>\n",
       "      <th>167</th>\n",
       "      <td>2021-03-02T15:18:19.781Z</td>\n",
       "      <td>77</td>\n",
       "      <td>31</td>\n",
       "      <td>21</td>\n",
       "      <td>25</td>\n",
       "      <td>2</td>\n",
       "      <td>31</td>\n",
       "      <td>20850840d662dd622d0954cc665ac1fa</td>\n",
       "      <td>POSITIVE</td>\n",
       "      <td>2021-03-02T15:23:36.144Z</td>\n",
       "      <td>...</td>\n",
       "      <td>UNKNOWN</td>\n",
       "      <td>NaN</td>\n",
       "      <td>UNKNOWN</td>\n",
       "      <td>NaN</td>\n",
       "      <td>NaN</td>\n",
       "      <td>NaN</td>\n",
       "      <td>... The boy doesn't want to play the violin</td>\n",
       "      <td>... The men on the battlefield are dead</td>\n",
       "      <td>...There is a vulture on a rocky cliff waiting...</td>\n",
       "      <td>... The man killed the woman unintentionally a...</td>\n",
       "    </tr>\n",
       "    <tr>\n",
       "      <th>908</th>\n",
       "      <td>2022-04-26T04:01:09.648Z</td>\n",
       "      <td>75</td>\n",
       "      <td>30</td>\n",
       "      <td>22</td>\n",
       "      <td>23</td>\n",
       "      <td>2</td>\n",
       "      <td>20</td>\n",
       "      <td>85440806db36c87d4e5ff39351a67702</td>\n",
       "      <td>POSITIVE</td>\n",
       "      <td>2022-04-26T04:10:36.656Z</td>\n",
       "      <td>...</td>\n",
       "      <td>POSITIVE</td>\n",
       "      <td>47.0</td>\n",
       "      <td>POSITIVE</td>\n",
       "      <td>34.0</td>\n",
       "      <td>NaN</td>\n",
       "      <td>NaN</td>\n",
       "      <td>That is, without a doubt, the disappointed loo...</td>\n",
       "      <td>The day had been exhausting for all the worker...</td>\n",
       "      <td>The war is over and all that remains are the r...</td>\n",
       "      <td>Along with the night came the departure of the...</td>\n",
       "    </tr>\n",
       "    <tr>\n",
       "      <th>998</th>\n",
       "      <td>2022-11-06T04:05:15.752Z</td>\n",
       "      <td>77</td>\n",
       "      <td>29</td>\n",
       "      <td>20</td>\n",
       "      <td>28</td>\n",
       "      <td>2</td>\n",
       "      <td>18</td>\n",
       "      <td>6a554e43beb267376f3ee3c98df3d6e5</td>\n",
       "      <td>POSITIVE</td>\n",
       "      <td>2022-11-06T04:09:15.529Z</td>\n",
       "      <td>...</td>\n",
       "      <td>POSITIVE</td>\n",
       "      <td>41.0</td>\n",
       "      <td>POSITIVE</td>\n",
       "      <td>42.0</td>\n",
       "      <td>30.0</td>\n",
       "      <td>17.0</td>\n",
       "      <td>...\\nA boy who was forced to study hard and pl...</td>\n",
       "      <td>...\\nAn invasion of rats in which people had t...</td>\n",
       "      <td>...\\nA jungle, a bird on the edge of a cliff w...</td>\n",
       "      <td>...\\nA married couple in the morning, the man ...</td>\n",
       "    </tr>\n",
       "    <tr>\n",
       "      <th>694</th>\n",
       "      <td>2021-10-03T19:32:30.266Z</td>\n",
       "      <td>91</td>\n",
       "      <td>34</td>\n",
       "      <td>25</td>\n",
       "      <td>32</td>\n",
       "      <td>2</td>\n",
       "      <td>18</td>\n",
       "      <td>236a07c3853c6e68c9fc08e35f0cf179</td>\n",
       "      <td>POSITIVE</td>\n",
       "      <td>2021-10-03T19:47:40.631Z</td>\n",
       "      <td>...</td>\n",
       "      <td>POSITIVE</td>\n",
       "      <td>NaN</td>\n",
       "      <td>UNKNOWN</td>\n",
       "      <td>49.0</td>\n",
       "      <td>22.0</td>\n",
       "      <td>28.0</td>\n",
       "      <td>...\\na boy wanted to be a violinist, he always...</td>\n",
       "      <td>... a man was surrounded by his best friends, ...</td>\n",
       "      <td>...a bored girl from her family went to the mo...</td>\n",
       "      <td>... a man, he thought he was in love, but he w...</td>\n",
       "    </tr>\n",
       "    <tr>\n",
       "      <th>448</th>\n",
       "      <td>2021-05-17T07:07:57.660Z</td>\n",
       "      <td>71</td>\n",
       "      <td>22</td>\n",
       "      <td>24</td>\n",
       "      <td>25</td>\n",
       "      <td>2</td>\n",
       "      <td>20</td>\n",
       "      <td>20e00639682765451f9b709a9ebeb4f8</td>\n",
       "      <td>POSITIVE</td>\n",
       "      <td>2021-05-17T07:33:41.708Z</td>\n",
       "      <td>...</td>\n",
       "      <td>UNKNOWN</td>\n",
       "      <td>NaN</td>\n",
       "      <td>UNKNOWN</td>\n",
       "      <td>NaN</td>\n",
       "      <td>NaN</td>\n",
       "      <td>NaN</td>\n",
       "      <td>Once upon a time there was a boy who wanted to...</td>\n",
       "      <td>Many men in war enjoy a moment of peace sleepi...</td>\n",
       "      <td>The waterfall of the nymph where she had her h...</td>\n",
       "      <td>This man is cheating on his wife for a long ti...</td>\n",
       "    </tr>\n",
       "  </tbody>\n",
       "</table>\n",
       "<p>5 rows × 36 columns</p>\n",
       "</div>"
      ],
      "text/plain": [
       "                    Timestamp  TAS20  F1  F2  F3  Gender Age   \n",
       "167  2021-03-02T15:18:19.781Z     77  31  21  25       2  31  \\\n",
       "908  2022-04-26T04:01:09.648Z     75  30  22  23       2  20   \n",
       "998  2022-11-06T04:05:15.752Z     77  29  20  28       2  18   \n",
       "694  2021-10-03T19:32:30.266Z     91  34  25  32       2  18   \n",
       "448  2021-05-17T07:07:57.660Z     71  22  24  25       2  20   \n",
       "\n",
       "                                 Code Alexithymia             Timestamp (1)   \n",
       "167  20850840d662dd622d0954cc665ac1fa    POSITIVE  2021-03-02T15:23:36.144Z  \\\n",
       "908  85440806db36c87d4e5ff39351a67702    POSITIVE  2022-04-26T04:10:36.656Z   \n",
       "998  6a554e43beb267376f3ee3c98df3d6e5    POSITIVE  2022-11-06T04:09:15.529Z   \n",
       "694  236a07c3853c6e68c9fc08e35f0cf179    POSITIVE  2021-10-03T19:47:40.631Z   \n",
       "448  20e00639682765451f9b709a9ebeb4f8    POSITIVE  2021-05-17T07:33:41.708Z   \n",
       "\n",
       "     ...  Depression   BAI   Anxiety   PSS    AN    AP   \n",
       "167  ...     UNKNOWN   NaN   UNKNOWN   NaN   NaN   NaN  \\\n",
       "908  ...    POSITIVE  47.0  POSITIVE  34.0   NaN   NaN   \n",
       "998  ...    POSITIVE  41.0  POSITIVE  42.0  30.0  17.0   \n",
       "694  ...    POSITIVE   NaN   UNKNOWN  49.0  22.0  28.0   \n",
       "448  ...     UNKNOWN   NaN   UNKNOWN   NaN   NaN   NaN   \n",
       "\n",
       "                                         Text_Card1_en   \n",
       "167        ... The boy doesn't want to play the violin  \\\n",
       "908  That is, without a doubt, the disappointed loo...   \n",
       "998  ...\\nA boy who was forced to study hard and pl...   \n",
       "694  ...\\na boy wanted to be a violinist, he always...   \n",
       "448  Once upon a time there was a boy who wanted to...   \n",
       "\n",
       "                                       Text_Card9VH_en   \n",
       "167            ... The men on the battlefield are dead  \\\n",
       "908  The day had been exhausting for all the worker...   \n",
       "998  ...\\nAn invasion of rats in which people had t...   \n",
       "694  ... a man was surrounded by his best friends, ...   \n",
       "448  Many men in war enjoy a moment of peace sleepi...   \n",
       "\n",
       "                                        Text_Card11_en   \n",
       "167  ...There is a vulture on a rocky cliff waiting...  \\\n",
       "908  The war is over and all that remains are the r...   \n",
       "998  ...\\nA jungle, a bird on the edge of a cliff w...   \n",
       "694  ...a bored girl from her family went to the mo...   \n",
       "448  The waterfall of the nymph where she had her h...   \n",
       "\n",
       "                                      Text_Card13HM_en  \n",
       "167  ... The man killed the woman unintentionally a...  \n",
       "908  Along with the night came the departure of the...  \n",
       "998  ...\\nA married couple in the morning, the man ...  \n",
       "694  ... a man, he thought he was in love, but he w...  \n",
       "448  This man is cheating on his wife for a long ti...  \n",
       "\n",
       "[5 rows x 36 columns]"
      ]
     },
     "execution_count": 3,
     "metadata": {},
     "output_type": "execute_result"
    }
   ],
   "source": [
    "prolexitim_df.sample(5)"
   ]
  },
  {
   "cell_type": "code",
   "execution_count": 4,
   "id": "582a5c2b-8418-4207-9a2e-9fc4cfe80f89",
   "metadata": {
    "tags": []
   },
   "outputs": [
    {
     "data": {
      "text/plain": [
       "Index(['Timestamp', 'TAS20', 'F1', 'F2', 'F3', 'Gender', 'Age', 'Code',\n",
       "       'Alexithymia', 'Timestamp (1)', 'DateDiff_TAS20_NLP', 'Text_Card1',\n",
       "       'Text_Card9VH', 'Text_Card11', 'Text_Card13HM', 'Text_AllCards', 'PHQ9',\n",
       "       'I1', 'I2', 'I3', 'I4', 'I5', 'I6', 'I7', 'I8', 'I9', 'Depression',\n",
       "       'BAI', 'Anxiety', 'PSS', 'AN', 'AP', 'Text_Card1_en', 'Text_Card9VH_en',\n",
       "       'Text_Card11_en', 'Text_Card13HM_en'],\n",
       "      dtype='object')"
      ]
     },
     "execution_count": 4,
     "metadata": {},
     "output_type": "execute_result"
    }
   ],
   "source": [
    "prolexitim_df.columns"
   ]
  },
  {
   "cell_type": "code",
   "execution_count": 5,
   "id": "894f4d67-90d4-4b5e-acf2-861346196bee",
   "metadata": {
    "tags": []
   },
   "outputs": [],
   "source": [
    "# Reduced dataset for alexithymia binary classification (Spanish)\n",
    "alex_bin_es_df = prolexitim_df[['Code','Alexithymia',\n",
    "                                'Text_Card1','Text_Card9VH', \n",
    "                                'Text_Card11', 'Text_Card13HM', \n",
    "                                'Text_AllCards']]"
   ]
  },
  {
   "cell_type": "code",
   "execution_count": 6,
   "id": "6cb413a4-b69e-4e40-a723-c6115b8146a8",
   "metadata": {
    "tags": []
   },
   "outputs": [
    {
     "data": {
      "text/html": [
       "<div>\n",
       "<style scoped>\n",
       "    .dataframe tbody tr th:only-of-type {\n",
       "        vertical-align: middle;\n",
       "    }\n",
       "\n",
       "    .dataframe tbody tr th {\n",
       "        vertical-align: top;\n",
       "    }\n",
       "\n",
       "    .dataframe thead th {\n",
       "        text-align: right;\n",
       "    }\n",
       "</style>\n",
       "<table border=\"1\" class=\"dataframe\">\n",
       "  <thead>\n",
       "    <tr style=\"text-align: right;\">\n",
       "      <th></th>\n",
       "      <th>Code</th>\n",
       "      <th>Alexithymia</th>\n",
       "      <th>Text_Card1</th>\n",
       "      <th>Text_Card9VH</th>\n",
       "      <th>Text_Card11</th>\n",
       "      <th>Text_Card13HM</th>\n",
       "      <th>Text_AllCards</th>\n",
       "    </tr>\n",
       "  </thead>\n",
       "  <tbody>\n",
       "    <tr>\n",
       "      <th>971</th>\n",
       "      <td>66f49551884b2adcbe9d05e3738d8450</td>\n",
       "      <td>POSITIVE</td>\n",
       "      <td>... \\nUn niño sentado en su banco de estudio....</td>\n",
       "      <td>... \\nUn grupo de trabajadores aprovechando s...</td>\n",
       "      <td>... \\nUn camino de tierra que te lleva a una ...</td>\n",
       "      <td>... \\nUn hombre despidiendo a su esposa despu...</td>\n",
       "      <td>... \\nUn niño sentado en su banco de estudio....</td>\n",
       "    </tr>\n",
       "    <tr>\n",
       "      <th>989</th>\n",
       "      <td>da8c3d15e1caab6a2f4aa4e4bdca9ad3</td>\n",
       "      <td>POSITIVE</td>\n",
       "      <td>... Un chico que tenía una pasión por el viol...</td>\n",
       "      <td>... \\nUn grupo de hombres que eran amigos de ...</td>\n",
       "      <td>... Existió el camino que decían que quitaba ...</td>\n",
       "      <td>un hombre con problemas de ira estaba tratand...</td>\n",
       "      <td>... Un chico que tenía una pasión por el viol...</td>\n",
       "    </tr>\n",
       "    <tr>\n",
       "      <th>720</th>\n",
       "      <td>7c2d4a539b7d771671ef745f6558fa4c</td>\n",
       "      <td>POSITIVE</td>\n",
       "      <td>Había una vez un niño que tenía un sueño, quer...</td>\n",
       "      <td>Un grupo de amigos ivivían en un pueblo, había...</td>\n",
       "      <td>\\nNo logro distinguir nada de la imagen, así q...</td>\n",
       "      <td>Había un hombre que era muy borracho y mujerie...</td>\n",
       "      <td>Había una vez un niño que tenía un sueño, quer...</td>\n",
       "    </tr>\n",
       "    <tr>\n",
       "      <th>521</th>\n",
       "      <td>a5f4f654a0739ba30a1146b5b014a617</td>\n",
       "      <td>POSITIVE</td>\n",
       "      <td>... \\nUn niño que estaba frustrado por no sab...</td>\n",
       "      <td>... \\nUn soldado dormido junto a sus amigos d...</td>\n",
       "      <td>... \\nUna cascada muy bonita</td>\n",
       "      <td>... \\nUn hombre que estaba triste por haber a...</td>\n",
       "      <td>... \\nUn niño que estaba frustrado por no sab...</td>\n",
       "    </tr>\n",
       "    <tr>\n",
       "      <th>613</th>\n",
       "      <td>e716902c617896d0126bca315905483b</td>\n",
       "      <td>POSITIVE</td>\n",
       "      <td>... \\nerase una vez un niño que le gustaba mu...</td>\n",
       "      <td>... \\nunos hombres que estaban exhaustos de t...</td>\n",
       "      <td>... no logró identificar para nada la imagen\\n</td>\n",
       "      <td>... \\nUn hombre tiene que ir a trabajar despu...</td>\n",
       "      <td>... \\nerase una vez un niño que le gustaba mu...</td>\n",
       "    </tr>\n",
       "  </tbody>\n",
       "</table>\n",
       "</div>"
      ],
      "text/plain": [
       "                                 Code Alexithymia   \n",
       "971  66f49551884b2adcbe9d05e3738d8450    POSITIVE  \\\n",
       "989  da8c3d15e1caab6a2f4aa4e4bdca9ad3    POSITIVE   \n",
       "720  7c2d4a539b7d771671ef745f6558fa4c    POSITIVE   \n",
       "521  a5f4f654a0739ba30a1146b5b014a617    POSITIVE   \n",
       "613  e716902c617896d0126bca315905483b    POSITIVE   \n",
       "\n",
       "                                            Text_Card1   \n",
       "971   ... \\nUn niño sentado en su banco de estudio....  \\\n",
       "989   ... Un chico que tenía una pasión por el viol...   \n",
       "720  Había una vez un niño que tenía un sueño, quer...   \n",
       "521   ... \\nUn niño que estaba frustrado por no sab...   \n",
       "613   ... \\nerase una vez un niño que le gustaba mu...   \n",
       "\n",
       "                                          Text_Card9VH   \n",
       "971   ... \\nUn grupo de trabajadores aprovechando s...  \\\n",
       "989   ... \\nUn grupo de hombres que eran amigos de ...   \n",
       "720  Un grupo de amigos ivivían en un pueblo, había...   \n",
       "521   ... \\nUn soldado dormido junto a sus amigos d...   \n",
       "613   ... \\nunos hombres que estaban exhaustos de t...   \n",
       "\n",
       "                                           Text_Card11   \n",
       "971   ... \\nUn camino de tierra que te lleva a una ...  \\\n",
       "989   ... Existió el camino que decían que quitaba ...   \n",
       "720  \\nNo logro distinguir nada de la imagen, así q...   \n",
       "521                       ... \\nUna cascada muy bonita   \n",
       "613     ... no logró identificar para nada la imagen\\n   \n",
       "\n",
       "                                         Text_Card13HM   \n",
       "971   ... \\nUn hombre despidiendo a su esposa despu...  \\\n",
       "989   un hombre con problemas de ira estaba tratand...   \n",
       "720  Había un hombre que era muy borracho y mujerie...   \n",
       "521   ... \\nUn hombre que estaba triste por haber a...   \n",
       "613   ... \\nUn hombre tiene que ir a trabajar despu...   \n",
       "\n",
       "                                         Text_AllCards  \n",
       "971   ... \\nUn niño sentado en su banco de estudio....  \n",
       "989   ... Un chico que tenía una pasión por el viol...  \n",
       "720  Había una vez un niño que tenía un sueño, quer...  \n",
       "521   ... \\nUn niño que estaba frustrado por no sab...  \n",
       "613   ... \\nerase una vez un niño que le gustaba mu...  "
      ]
     },
     "execution_count": 6,
     "metadata": {},
     "output_type": "execute_result"
    }
   ],
   "source": [
    "alex_bin_es_df.sample(5)"
   ]
  },
  {
   "cell_type": "code",
   "execution_count": 9,
   "id": "1cb2393e-c216-4f1a-8e92-d8bc1fcf6057",
   "metadata": {
    "tags": []
   },
   "outputs": [
    {
     "data": {
      "text/plain": [
       "Alexithymia\n",
       "POSITIVE    781\n",
       "NEGATIVE    230\n",
       "Name: count, dtype: int64"
      ]
     },
     "execution_count": 9,
     "metadata": {},
     "output_type": "execute_result"
    }
   ],
   "source": [
    "# It's quite unbalanced (Let's keep it that way for the time being)\n",
    "alex_bin_es_df.value_counts('Alexithymia')"
   ]
  },
  {
   "cell_type": "markdown",
   "id": "85ebde98-ec5d-4471-b863-75185b5724b0",
   "metadata": {},
   "source": [
    "### Build OpenAI Embeddings"
   ]
  },
  {
   "cell_type": "code",
   "execution_count": 15,
   "id": "0b628295-5248-416c-bf52-4e7b393fa5d1",
   "metadata": {
    "tags": []
   },
   "outputs": [],
   "source": [
    "# My OpenIA API Key\n",
    "import openai\n",
    "import os\n",
    "\n",
    "os.environ[\"OPENAI_API_KEY\"] = get_apikey_from_file('ram_openai_apikey.txt')"
   ]
  },
  {
   "cell_type": "code",
   "execution_count": 13,
   "id": "ad2a8fb6-09ad-4f49-966e-ca1fce9f4aa1",
   "metadata": {
    "tags": []
   },
   "outputs": [],
   "source": [
    "# Using the text-embedding-ada-002 model\n",
    "# See: https://openai.com/blog/new-and-improved-embedding-model\n",
    "\n",
    "def get_embedding(text, model=\"text-embedding-ada-002\"):\n",
    "   text = text.replace(\"\\n\", \" \")\n",
    "   return openai.Embedding.create(input = [text], model=model)['data'][0]['embedding']"
   ]
  },
  {
   "cell_type": "code",
   "execution_count": 26,
   "id": "3ddf4cf5-46a1-4457-9106-1b74f5ef0da8",
   "metadata": {
    "tags": []
   },
   "outputs": [],
   "source": [
    "# Delayed call to prevent this error:\n",
    "# RateLimitError: Rate limit reached for default-global-with-image-limits in organization on requests per min. \n",
    "# Limit: 60 / min. Please try again in 1s. Contact us through our help center at help.openai.com if you continue to have issues. \n",
    "import time\n",
    "\n",
    "def delayed_get_embedding(text, model, delay=1.0):\n",
    "    time.sleep(delay)\n",
    "    return get_embedding(text, model)"
   ]
  },
  {
   "cell_type": "code",
   "execution_count": 18,
   "id": "d461b4c7-9aa4-42cd-ba16-880fb98d3b47",
   "metadata": {
    "tags": []
   },
   "outputs": [
    {
     "data": {
      "text/plain": [
       "[-0.010036744177341461,\n",
       " -0.006101734936237335,\n",
       " -0.0021321496460586786,\n",
       " 0.0005581457517109811,\n",
       " 0.003024524310603738]"
      ]
     },
     "execution_count": 18,
     "metadata": {},
     "output_type": "execute_result"
    }
   ],
   "source": [
    "# Test the API\n",
    "embed1 = get_embedding('Prueba de texto número uno')\n",
    "embed1[0:5]"
   ]
  },
  {
   "cell_type": "code",
   "execution_count": 28,
   "id": "27067176-3c07-4b69-8076-6a357d17d152",
   "metadata": {
    "tags": []
   },
   "outputs": [
    {
     "data": {
      "text/plain": [
       "[-0.03275999426841736,\n",
       " -0.013665752485394478,\n",
       " -0.009965736418962479,\n",
       " 0.006113803945481777,\n",
       " 0.004797192290425301]"
      ]
     },
     "execution_count": 28,
     "metadata": {},
     "output_type": "execute_result"
    }
   ],
   "source": [
    "# Test the delayed API +call\n",
    "embed2 = delayed_get_embedding('Prueba de texto número dos con retardo','text-embedding-ada-002', 0.1)\n",
    "embed2[0:5]"
   ]
  },
  {
   "cell_type": "code",
   "execution_count": 31,
   "id": "73a08622-7c9c-4118-9708-44e36cdb1cb0",
   "metadata": {
    "tags": []
   },
   "outputs": [
    {
     "name": "stderr",
     "output_type": "stream",
     "text": [
      "/tmp/ipykernel_22351/3072694236.py:2: SettingWithCopyWarning: \n",
      "A value is trying to be set on a copy of a slice from a DataFrame.\n",
      "Try using .loc[row_indexer,col_indexer] = value instead\n",
      "\n",
      "See the caveats in the documentation: https://pandas.pydata.org/pandas-docs/stable/user_guide/indexing.html#returning-a-view-versus-a-copy\n",
      "  alex_bin_es_df['ada_card1'] = alex_bin_es_df['Text_Card1'].apply(lambda x: delayed_get_embedding(x, model='text-embedding-ada-002',delay=1.0))\n"
     ]
    }
   ],
   "source": [
    "# Adding the ADA embedding for Card1 text (one per second)\n",
    "alex_bin_es_df['ada_card1'] = alex_bin_es_df['Text_Card1'].apply(lambda x: delayed_get_embedding(x, model='text-embedding-ada-002',delay=1.0))"
   ]
  },
  {
   "cell_type": "code",
   "execution_count": 32,
   "id": "2dd0a542-64d8-486f-90df-80e87a938865",
   "metadata": {
    "tags": []
   },
   "outputs": [
    {
     "data": {
      "text/html": [
       "<div>\n",
       "<style scoped>\n",
       "    .dataframe tbody tr th:only-of-type {\n",
       "        vertical-align: middle;\n",
       "    }\n",
       "\n",
       "    .dataframe tbody tr th {\n",
       "        vertical-align: top;\n",
       "    }\n",
       "\n",
       "    .dataframe thead th {\n",
       "        text-align: right;\n",
       "    }\n",
       "</style>\n",
       "<table border=\"1\" class=\"dataframe\">\n",
       "  <thead>\n",
       "    <tr style=\"text-align: right;\">\n",
       "      <th></th>\n",
       "      <th>Code</th>\n",
       "      <th>Alexithymia</th>\n",
       "      <th>Text_Card1</th>\n",
       "      <th>Text_Card9VH</th>\n",
       "      <th>Text_Card11</th>\n",
       "      <th>Text_Card13HM</th>\n",
       "      <th>Text_AllCards</th>\n",
       "      <th>ada_card1</th>\n",
       "    </tr>\n",
       "  </thead>\n",
       "  <tbody>\n",
       "    <tr>\n",
       "      <th>68</th>\n",
       "      <td>1e72525d8fb4f267c045e14d55640ad4</td>\n",
       "      <td>POSITIVE</td>\n",
       "      <td>Erase una vez un niño que odiaba ir a clases d...</td>\n",
       "      <td>Había sido una dura jornada de trabajo, más in...</td>\n",
       "      <td>Aprovechó los túneles de una antigua mina aban...</td>\n",
       "      <td>No quería irse todavía, pero llegaba tarde al ...</td>\n",
       "      <td>Erase una vez un niño que odiaba ir a clases d...</td>\n",
       "      <td>[-0.010896380990743637, 0.0089723477140069, 0....</td>\n",
       "    </tr>\n",
       "    <tr>\n",
       "      <th>830</th>\n",
       "      <td>950b4cc4250f382566f349f11baac775</td>\n",
       "      <td>POSITIVE</td>\n",
       "      <td>Se durmió del aburrimiento porque su juguete o...</td>\n",
       "      <td>Un tipo se rindió acerca de la vida así que ya...</td>\n",
       "      <td>Es un bosque abandonado porque era raro y no t...</td>\n",
       "      <td>Un tipo mata a su esposa mientras estaba enfer...</td>\n",
       "      <td>Se durmió del aburrimiento porque su juguete o...</td>\n",
       "      <td>[-0.019900325685739517, -0.004587495233863592,...</td>\n",
       "    </tr>\n",
       "    <tr>\n",
       "      <th>594</th>\n",
       "      <td>61419c2148689318e050711b3239a679</td>\n",
       "      <td>POSITIVE</td>\n",
       "      <td>... \\nun niño que estaba en su casa estudiand...</td>\n",
       "      <td>... \\nunos hombres que estaban bebiendo y se ...</td>\n",
       "      <td>... \\nunas personas que estaban migrando de s...</td>\n",
       "      <td>... \\nun hombre que llegaba a su casa cansado...</td>\n",
       "      <td>... \\nun niño que estaba en su casa estudiand...</td>\n",
       "      <td>[-0.022362470626831055, 0.011275142431259155, ...</td>\n",
       "    </tr>\n",
       "    <tr>\n",
       "      <th>565</th>\n",
       "      <td>55814527e81fba16e0f5c4f2e2e43c53</td>\n",
       "      <td>POSITIVE</td>\n",
       "      <td>That child is feeling sad because he doesn't k...</td>\n",
       "      <td>Everyone is just lazy............................</td>\n",
       "      <td>i dont understand this picture...................</td>\n",
       "      <td>The man had sex with the lady and then killed ...</td>\n",
       "      <td>That child is feeling sad because he doesn't k...</td>\n",
       "      <td>[-0.0062584769912064075, 0.007839887402951717,...</td>\n",
       "    </tr>\n",
       "    <tr>\n",
       "      <th>989</th>\n",
       "      <td>da8c3d15e1caab6a2f4aa4e4bdca9ad3</td>\n",
       "      <td>POSITIVE</td>\n",
       "      <td>... Un chico que tenía una pasión por el viol...</td>\n",
       "      <td>... \\nUn grupo de hombres que eran amigos de ...</td>\n",
       "      <td>... Existió el camino que decían que quitaba ...</td>\n",
       "      <td>un hombre con problemas de ira estaba tratand...</td>\n",
       "      <td>... Un chico que tenía una pasión por el viol...</td>\n",
       "      <td>[-0.04239550977945328, 0.005835925228893757, 0...</td>\n",
       "    </tr>\n",
       "  </tbody>\n",
       "</table>\n",
       "</div>"
      ],
      "text/plain": [
       "                                 Code Alexithymia   \n",
       "68   1e72525d8fb4f267c045e14d55640ad4    POSITIVE  \\\n",
       "830  950b4cc4250f382566f349f11baac775    POSITIVE   \n",
       "594  61419c2148689318e050711b3239a679    POSITIVE   \n",
       "565  55814527e81fba16e0f5c4f2e2e43c53    POSITIVE   \n",
       "989  da8c3d15e1caab6a2f4aa4e4bdca9ad3    POSITIVE   \n",
       "\n",
       "                                            Text_Card1   \n",
       "68   Erase una vez un niño que odiaba ir a clases d...  \\\n",
       "830  Se durmió del aburrimiento porque su juguete o...   \n",
       "594   ... \\nun niño que estaba en su casa estudiand...   \n",
       "565  That child is feeling sad because he doesn't k...   \n",
       "989   ... Un chico que tenía una pasión por el viol...   \n",
       "\n",
       "                                          Text_Card9VH   \n",
       "68   Había sido una dura jornada de trabajo, más in...  \\\n",
       "830  Un tipo se rindió acerca de la vida así que ya...   \n",
       "594   ... \\nunos hombres que estaban bebiendo y se ...   \n",
       "565  Everyone is just lazy............................   \n",
       "989   ... \\nUn grupo de hombres que eran amigos de ...   \n",
       "\n",
       "                                           Text_Card11   \n",
       "68   Aprovechó los túneles de una antigua mina aban...  \\\n",
       "830  Es un bosque abandonado porque era raro y no t...   \n",
       "594   ... \\nunas personas que estaban migrando de s...   \n",
       "565  i dont understand this picture...................   \n",
       "989   ... Existió el camino que decían que quitaba ...   \n",
       "\n",
       "                                         Text_Card13HM   \n",
       "68   No quería irse todavía, pero llegaba tarde al ...  \\\n",
       "830  Un tipo mata a su esposa mientras estaba enfer...   \n",
       "594   ... \\nun hombre que llegaba a su casa cansado...   \n",
       "565  The man had sex with the lady and then killed ...   \n",
       "989   un hombre con problemas de ira estaba tratand...   \n",
       "\n",
       "                                         Text_AllCards   \n",
       "68   Erase una vez un niño que odiaba ir a clases d...  \\\n",
       "830  Se durmió del aburrimiento porque su juguete o...   \n",
       "594   ... \\nun niño que estaba en su casa estudiand...   \n",
       "565  That child is feeling sad because he doesn't k...   \n",
       "989   ... Un chico que tenía una pasión por el viol...   \n",
       "\n",
       "                                             ada_card1  \n",
       "68   [-0.010896380990743637, 0.0089723477140069, 0....  \n",
       "830  [-0.019900325685739517, -0.004587495233863592,...  \n",
       "594  [-0.022362470626831055, 0.011275142431259155, ...  \n",
       "565  [-0.0062584769912064075, 0.007839887402951717,...  \n",
       "989  [-0.04239550977945328, 0.005835925228893757, 0...  "
      ]
     },
     "execution_count": 32,
     "metadata": {},
     "output_type": "execute_result"
    }
   ],
   "source": [
    "alex_bin_es_df.sample(5)"
   ]
  },
  {
   "cell_type": "code",
   "execution_count": 33,
   "id": "76c7a956-04a4-4a77-8be0-0a9308bef750",
   "metadata": {
    "tags": []
   },
   "outputs": [],
   "source": [
    "# Save to file\n",
    "alex_bin_es_df.to_csv('output/alex_bin_es_ada.csv', index=False)"
   ]
  },
  {
   "cell_type": "code",
   "execution_count": 37,
   "id": "4b3988d5-a164-4b10-9362-ce44c73f21f2",
   "metadata": {
    "tags": []
   },
   "outputs": [],
   "source": [
    "# Read it back to mem:\n",
    "embeds_df = pd.read_csv('output/alex_bin_es_ada.csv')\n",
    "embeds_df['ada_card1'] = embeds_df.ada_card1.apply(eval).apply(np.array)"
   ]
  },
  {
   "cell_type": "code",
   "execution_count": 38,
   "id": "4c7c0a4b-3634-4601-a493-af95a59a7a74",
   "metadata": {
    "tags": []
   },
   "outputs": [
    {
     "data": {
      "text/html": [
       "<div>\n",
       "<style scoped>\n",
       "    .dataframe tbody tr th:only-of-type {\n",
       "        vertical-align: middle;\n",
       "    }\n",
       "\n",
       "    .dataframe tbody tr th {\n",
       "        vertical-align: top;\n",
       "    }\n",
       "\n",
       "    .dataframe thead th {\n",
       "        text-align: right;\n",
       "    }\n",
       "</style>\n",
       "<table border=\"1\" class=\"dataframe\">\n",
       "  <thead>\n",
       "    <tr style=\"text-align: right;\">\n",
       "      <th></th>\n",
       "      <th>Code</th>\n",
       "      <th>Alexithymia</th>\n",
       "      <th>Text_Card1</th>\n",
       "      <th>Text_Card9VH</th>\n",
       "      <th>Text_Card11</th>\n",
       "      <th>Text_Card13HM</th>\n",
       "      <th>Text_AllCards</th>\n",
       "      <th>ada_card1</th>\n",
       "    </tr>\n",
       "  </thead>\n",
       "  <tbody>\n",
       "    <tr>\n",
       "      <th>780</th>\n",
       "      <td>fe9e6c51a836d1a7e0f276e9baf1174c</td>\n",
       "      <td>POSITIVE</td>\n",
       "      <td>un niño estresado por algo que sentía que no...</td>\n",
       "      <td>varios hombres aburridos de su rutina, sin n...</td>\n",
       "      <td>un acantilado, muy peligroso, pero en el que...</td>\n",
       "      <td>un chico, el cual se sentía insuficiente por...</td>\n",
       "      <td>un niño estresado por algo que sentía que no...</td>\n",
       "      <td>[-0.03383832052350044, 0.0004078377387486398, ...</td>\n",
       "    </tr>\n",
       "    <tr>\n",
       "      <th>483</th>\n",
       "      <td>8dec5f595dd7acd55350a16aa11b105d</td>\n",
       "      <td>POSITIVE</td>\n",
       "      <td>... un niño con un talento brillante, era muy...</td>\n",
       "      <td>... unos campesinos que vivían juntos, todas ...</td>\n",
       "      <td>... un jarrón de oro, el jarrón era de los in...</td>\n",
       "      <td>... un hombre muy trabajador, con un puesto e...</td>\n",
       "      <td>... un niño con un talento brillante, era muy...</td>\n",
       "      <td>[-0.03478597104549408, 0.005945428274571896, 0...</td>\n",
       "    </tr>\n",
       "    <tr>\n",
       "      <th>667</th>\n",
       "      <td>a23f68fa91b47c75921d052084ea0b78</td>\n",
       "      <td>POSITIVE</td>\n",
       "      <td>Erase una vez Un niño que sufria mucho por sus...</td>\n",
       "      <td>Erase una vez... un hombre quetrabajaba en un ...</td>\n",
       "      <td>... \\nUn paisaje hermoso pero los humanos lo ...</td>\n",
       "      <td>... \\nUn señor asesino a su esposa o murio po...</td>\n",
       "      <td>Erase una vez Un niño que sufria mucho por sus...</td>\n",
       "      <td>[-0.007756105624139309, 0.008834250271320343, ...</td>\n",
       "    </tr>\n",
       "    <tr>\n",
       "      <th>25</th>\n",
       "      <td>42de991d2161773b17e4666e49b5b197</td>\n",
       "      <td>POSITIVE</td>\n",
       "      <td>... un niño que miraba al violín y no sabia s...</td>\n",
       "      <td>...  unos hombres que intentaban dormir al ca...</td>\n",
       "      <td>... unos hombres o mujeres que entraron dentr...</td>\n",
       "      <td>... un hombre y una mujer que han terminado d...</td>\n",
       "      <td>... un niño que miraba al violín y no sabia s...</td>\n",
       "      <td>[-0.025949135422706604, -0.003094201674684882,...</td>\n",
       "    </tr>\n",
       "    <tr>\n",
       "      <th>784</th>\n",
       "      <td>c8b2c7cdec9d114f9d6d362cc105b6d7</td>\n",
       "      <td>POSITIVE</td>\n",
       "      <td>... un niño que aprendía a tocar el violín. L...</td>\n",
       "      <td>... un grupo de trabajadores que en sus ratos...</td>\n",
       "      <td>...un grupo de aves observan desde una murall...</td>\n",
       "      <td>...un hombre sufriendo, tal vez arrepentido d...</td>\n",
       "      <td>... un niño que aprendía a tocar el violín. L...</td>\n",
       "      <td>[-0.027157096192240715, -0.0007798384176567197...</td>\n",
       "    </tr>\n",
       "  </tbody>\n",
       "</table>\n",
       "</div>"
      ],
      "text/plain": [
       "                                 Code Alexithymia   \n",
       "780  fe9e6c51a836d1a7e0f276e9baf1174c    POSITIVE  \\\n",
       "483  8dec5f595dd7acd55350a16aa11b105d    POSITIVE   \n",
       "667  a23f68fa91b47c75921d052084ea0b78    POSITIVE   \n",
       "25   42de991d2161773b17e4666e49b5b197    POSITIVE   \n",
       "784  c8b2c7cdec9d114f9d6d362cc105b6d7    POSITIVE   \n",
       "\n",
       "                                            Text_Card1   \n",
       "780    un niño estresado por algo que sentía que no...  \\\n",
       "483   ... un niño con un talento brillante, era muy...   \n",
       "667  Erase una vez Un niño que sufria mucho por sus...   \n",
       "25    ... un niño que miraba al violín y no sabia s...   \n",
       "784   ... un niño que aprendía a tocar el violín. L...   \n",
       "\n",
       "                                          Text_Card9VH   \n",
       "780    varios hombres aburridos de su rutina, sin n...  \\\n",
       "483   ... unos campesinos que vivían juntos, todas ...   \n",
       "667  Erase una vez... un hombre quetrabajaba en un ...   \n",
       "25    ...  unos hombres que intentaban dormir al ca...   \n",
       "784   ... un grupo de trabajadores que en sus ratos...   \n",
       "\n",
       "                                           Text_Card11   \n",
       "780    un acantilado, muy peligroso, pero en el que...  \\\n",
       "483   ... un jarrón de oro, el jarrón era de los in...   \n",
       "667   ... \\nUn paisaje hermoso pero los humanos lo ...   \n",
       "25    ... unos hombres o mujeres que entraron dentr...   \n",
       "784   ...un grupo de aves observan desde una murall...   \n",
       "\n",
       "                                         Text_Card13HM   \n",
       "780    un chico, el cual se sentía insuficiente por...  \\\n",
       "483   ... un hombre muy trabajador, con un puesto e...   \n",
       "667   ... \\nUn señor asesino a su esposa o murio po...   \n",
       "25    ... un hombre y una mujer que han terminado d...   \n",
       "784   ...un hombre sufriendo, tal vez arrepentido d...   \n",
       "\n",
       "                                         Text_AllCards   \n",
       "780    un niño estresado por algo que sentía que no...  \\\n",
       "483   ... un niño con un talento brillante, era muy...   \n",
       "667  Erase una vez Un niño que sufria mucho por sus...   \n",
       "25    ... un niño que miraba al violín y no sabia s...   \n",
       "784   ... un niño que aprendía a tocar el violín. L...   \n",
       "\n",
       "                                             ada_card1  \n",
       "780  [-0.03383832052350044, 0.0004078377387486398, ...  \n",
       "483  [-0.03478597104549408, 0.005945428274571896, 0...  \n",
       "667  [-0.007756105624139309, 0.008834250271320343, ...  \n",
       "25   [-0.025949135422706604, -0.003094201674684882,...  \n",
       "784  [-0.027157096192240715, -0.0007798384176567197...  "
      ]
     },
     "execution_count": 38,
     "metadata": {},
     "output_type": "execute_result"
    }
   ],
   "source": [
    "embeds_df.sample(5)"
   ]
  },
  {
   "cell_type": "markdown",
   "id": "27835b3f-c58b-4942-bfe0-914df7ef4f4a",
   "metadata": {},
   "source": [
    "### Embedding visualization in 2D (t-SNE)"
   ]
  },
  {
   "cell_type": "code",
   "execution_count": 49,
   "id": "af4cab57-5f96-4672-8434-049ad04bb5ff",
   "metadata": {
    "tags": []
   },
   "outputs": [],
   "source": [
    "import pandas as pd\n",
    "import numpy as np\n",
    "from sklearn.manifold import TSNE\n",
    "import matplotlib.pyplot as plt\n",
    "import matplotlib\n",
    "\n",
    "# Load the embeddings\n",
    "embeds_df = pd.read_csv('output/alex_bin_es_ada.csv')\n",
    "\n",
    "# Convert to a list of lists of floats\n",
    "matrix = np.array(embeds_df.ada_card1.apply(eval).to_list())"
   ]
  },
  {
   "cell_type": "code",
   "execution_count": 50,
   "id": "00419026-898d-4dd5-b71c-e114421c67b5",
   "metadata": {
    "tags": []
   },
   "outputs": [
    {
     "data": {
      "text/plain": [
       "Text(0.5, 1.0, 'Alexithymic language visualized in language using t-SNE')"
      ]
     },
     "execution_count": 50,
     "metadata": {},
     "output_type": "execute_result"
    },
    {
     "data": {
      "image/png": "[encoded data removed]",
      "text/plain": [
       "<Figure size 640x480 with 1 Axes>"
      ]
     },
     "metadata": {},
     "output_type": "display_data"
    }
   ],
   "source": [
    "# Create a t-SNE model and transform the data\n",
    "tsne = TSNE(n_components=2, perplexity=15, random_state=42, init='random', learning_rate=200)\n",
    "vis_dims = tsne.fit_transform(matrix)\n",
    "\n",
    "colors = {'POSITIVE':'red', 'NEGATIVE':'blue'}\n",
    "x = [x for x,y in vis_dims]\n",
    "y = [y for x,y in vis_dims]\n",
    "color_indices = embeds_df['Alexithymia'].apply(lambda x: colors[x])\n",
    "\n",
    "plt.scatter(x, y, c=color_indices, alpha=0.3)\n",
    "plt.title(\"Alexithymic language visualized in language using t-SNE\")"
   ]
  },
  {
   "cell_type": "code",
   "execution_count": null,
   "id": "db3206ba-c34f-4324-bd5c-46624b10cbf9",
   "metadata": {},
   "outputs": [],
   "source": []
  }
 ],
 "metadata": {
  "kernelspec": {
   "display_name": "Python 3 (ipykernel)",
   "language": "python",
   "name": "python3"
  },
  "language_info": {
   "codemirror_mode": {
    "name": "ipython",
    "version": 3
   },
   "file_extension": ".py",
   "mimetype": "text/x-python",
   "name": "python",
   "nbconvert_exporter": "python",
   "pygments_lexer": "ipython3",
   "version": "3.10.10"
  }
 },
 "nbformat": 4,
 "nbformat_minor": 5
}
