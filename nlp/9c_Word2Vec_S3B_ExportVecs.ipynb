{
 "cells": [
  {
   "cell_type": "markdown",
   "metadata": {},
   "source": [
    "## Language Analysis of Alexithymic Discourse\n",
    "\n",
    "<hr>\n",
    "\n",
    "Alexithymic Language Project / raul@psicobotica.com / V2 release (sept 2020)\n",
    "\n",
    "<hr>\n",
    "\n",
    "## Latent Space Feature Engineering (embeddings)\n",
    "### Using Spanish 3 billion Word2Vec\n",
    "\n",
    "- Pre-trained model: https://github.com/aitoralmeida/spanish_word2vec \n",
    "- Get word vectors for Spanish, compute consine similarity and distances. \n",
    "- Build a embedding representation of documents\n",
    "- Export a file with word vectors corresponding to SPECIFIC WORDS IN THIS CORPUS."
   ]
  },
  {
   "cell_type": "markdown",
   "metadata": {},
   "source": [
    "## Data set load "
   ]
  },
  {
   "cell_type": "code",
   "execution_count": 43,
   "metadata": {},
   "outputs": [],
   "source": [
    "import pandas as pd \n",
    "import numpy as np\n",
    "import ast"
   ]
  },
  {
   "cell_type": "markdown",
   "metadata": {},
   "source": [
    "## Load features dataset\n",
    "- Data is already pre-processed (1-Preprocessing). \n",
    "- Basic NLP features are already calculated (2-Features). \n",
    "- Some additional BoW features have been added (3-BoW).\n",
    "- Some additional TF/IDF features have been added (3-TFIDF).\n",
    "- N-Gram models have been generated (3-N-Grams). \n",
    "- PoS lists for each document identified (4-Lexicosemantics). \n",
    "- Writer's personality variables inferred (5-Personality).\n",
    "- Sentiment analysis (6-Sentiment). \n",
    "- Topic modeling with LSA (7-LatentSemantic). \n",
    "- Topic modeling using LDA (8-LantentDirichletAllocation).\n",
    "- Word2Vec traning (CBoW, SkipGram) (9-Word2Vec). "
   ]
  },
  {
   "cell_type": "code",
   "execution_count": 2,
   "metadata": {},
   "outputs": [],
   "source": [
    "feats_dataset_path = \"https://raw.githubusercontent.com/raul-arrabales/alexithymic-lang/master/data/Prolexitim_v2_features_8.csv\"\n",
    "alex_df = pd.read_csv(feats_dataset_path, header=0, delimiter=\";\")"
   ]
  },
  {
   "cell_type": "code",
   "execution_count": 3,
   "metadata": {
    "scrolled": true
   },
   "outputs": [
    {
     "data": {
      "text/html": [
       "<div>\n",
       "<style scoped>\n",
       "    .dataframe tbody tr th:only-of-type {\n",
       "        vertical-align: middle;\n",
       "    }\n",
       "\n",
       "    .dataframe tbody tr th {\n",
       "        vertical-align: top;\n",
       "    }\n",
       "\n",
       "    .dataframe thead th {\n",
       "        text-align: right;\n",
       "    }\n",
       "</style>\n",
       "<table border=\"1\" class=\"dataframe\">\n",
       "  <thead>\n",
       "    <tr style=\"text-align: right;\">\n",
       "      <th></th>\n",
       "      <th>Code</th>\n",
       "      <th>TAS20</th>\n",
       "      <th>F1</th>\n",
       "      <th>F2</th>\n",
       "      <th>F3</th>\n",
       "      <th>Gender</th>\n",
       "      <th>Age</th>\n",
       "      <th>Card</th>\n",
       "      <th>T_Metaphors</th>\n",
       "      <th>T_ToM</th>\n",
       "      <th>...</th>\n",
       "      <th>AFINN_Words_Int</th>\n",
       "      <th>AFINN_Stems_Int</th>\n",
       "      <th>AFINN_Words_Max</th>\n",
       "      <th>AFINN_Stems_Max</th>\n",
       "      <th>Watson_Sent</th>\n",
       "      <th>Clean_Text</th>\n",
       "      <th>LDA4_Umap2_0</th>\n",
       "      <th>LDA4_Umap2_1</th>\n",
       "      <th>LDA10_Topic</th>\n",
       "      <th>LDA4_Topic</th>\n",
       "    </tr>\n",
       "  </thead>\n",
       "  <tbody>\n",
       "    <tr>\n",
       "      <th>20</th>\n",
       "      <td>3a7bc6a0450eda9cc016324a2ee5b749</td>\n",
       "      <td>56</td>\n",
       "      <td>18</td>\n",
       "      <td>20</td>\n",
       "      <td>18</td>\n",
       "      <td>2</td>\n",
       "      <td>23</td>\n",
       "      <td>11</td>\n",
       "      <td>0</td>\n",
       "      <td>0</td>\n",
       "      <td>...</td>\n",
       "      <td>1.5</td>\n",
       "      <td>0.0</td>\n",
       "      <td>3</td>\n",
       "      <td>0</td>\n",
       "      <td>0.000000</td>\n",
       "      <td>bosque encantado habitaba nadie día apareció t...</td>\n",
       "      <td>2.220180</td>\n",
       "      <td>3.491362</td>\n",
       "      <td>0</td>\n",
       "      <td>0</td>\n",
       "    </tr>\n",
       "    <tr>\n",
       "      <th>165</th>\n",
       "      <td>f218eb77c97d846957ea8dc03ad38075</td>\n",
       "      <td>63</td>\n",
       "      <td>19</td>\n",
       "      <td>19</td>\n",
       "      <td>25</td>\n",
       "      <td>1</td>\n",
       "      <td>38</td>\n",
       "      <td>9VH</td>\n",
       "      <td>1</td>\n",
       "      <td>0</td>\n",
       "      <td>...</td>\n",
       "      <td>0.0</td>\n",
       "      <td>0.5</td>\n",
       "      <td>0</td>\n",
       "      <td>1</td>\n",
       "      <td>0.000000</td>\n",
       "      <td>tumbado amigos viajando tren destino desconocido</td>\n",
       "      <td>0.709412</td>\n",
       "      <td>8.056230</td>\n",
       "      <td>9</td>\n",
       "      <td>3</td>\n",
       "    </tr>\n",
       "    <tr>\n",
       "      <th>98</th>\n",
       "      <td>d14d5cbe51c764156f09db8a15d79a97</td>\n",
       "      <td>49</td>\n",
       "      <td>18</td>\n",
       "      <td>12</td>\n",
       "      <td>19</td>\n",
       "      <td>2</td>\n",
       "      <td>23</td>\n",
       "      <td>11</td>\n",
       "      <td>0</td>\n",
       "      <td>0</td>\n",
       "      <td>...</td>\n",
       "      <td>1.0</td>\n",
       "      <td>0.5</td>\n",
       "      <td>2</td>\n",
       "      <td>1</td>\n",
       "      <td>0.534224</td>\n",
       "      <td>cascada encantada escondida final bosque niños...</td>\n",
       "      <td>1.786455</td>\n",
       "      <td>1.628524</td>\n",
       "      <td>6</td>\n",
       "      <td>1</td>\n",
       "    </tr>\n",
       "  </tbody>\n",
       "</table>\n",
       "<p>3 rows × 189 columns</p>\n",
       "</div>"
      ],
      "text/plain": [
       "                                 Code  TAS20  F1  F2  F3  Gender  Age Card  \\\n",
       "20   3a7bc6a0450eda9cc016324a2ee5b749     56  18  20  18       2   23   11   \n",
       "165  f218eb77c97d846957ea8dc03ad38075     63  19  19  25       1   38  9VH   \n",
       "98   d14d5cbe51c764156f09db8a15d79a97     49  18  12  19       2   23   11   \n",
       "\n",
       "     T_Metaphors  T_ToM  ...  AFINN_Words_Int  AFINN_Stems_Int  \\\n",
       "20             0      0  ...              1.5              0.0   \n",
       "165            1      0  ...              0.0              0.5   \n",
       "98             0      0  ...              1.0              0.5   \n",
       "\n",
       "     AFINN_Words_Max  AFINN_Stems_Max Watson_Sent  \\\n",
       "20                 3                0    0.000000   \n",
       "165                0                1    0.000000   \n",
       "98                 2                1    0.534224   \n",
       "\n",
       "                                            Clean_Text  LDA4_Umap2_0  \\\n",
       "20   bosque encantado habitaba nadie día apareció t...      2.220180   \n",
       "165   tumbado amigos viajando tren destino desconocido      0.709412   \n",
       "98   cascada encantada escondida final bosque niños...      1.786455   \n",
       "\n",
       "     LDA4_Umap2_1  LDA10_Topic LDA4_Topic  \n",
       "20       3.491362            0          0  \n",
       "165      8.056230            9          3  \n",
       "98       1.628524            6          1  \n",
       "\n",
       "[3 rows x 189 columns]"
      ]
     },
     "execution_count": 3,
     "metadata": {},
     "output_type": "execute_result"
    }
   ],
   "source": [
    "alex_df.sample(3)"
   ]
  },
  {
   "cell_type": "markdown",
   "metadata": {},
   "source": [
    "## Load the word vectors\n",
    "- [Gensim KeyedVectors object](https://radimrehurek.com/gensim/models/keyedvectors.html)"
   ]
  },
  {
   "cell_type": "code",
   "execution_count": 4,
   "metadata": {},
   "outputs": [
    {
     "name": "stdout",
     "output_type": "stream",
     "text": [
      "Collecting pyemd\n",
      "  Using cached pyemd-0.5.1.tar.gz (91 kB)\n",
      "Requirement already satisfied: numpy<2.0.0,>=1.9.0 in c:\\users\\array\\anaconda3\\lib\\site-packages (from pyemd) (1.19.2)\n",
      "Building wheels for collected packages: pyemd\n",
      "  Building wheel for pyemd (setup.py): started\n",
      "  Building wheel for pyemd (setup.py): finished with status 'done'\n",
      "  Created wheel for pyemd: filename=pyemd-0.5.1-cp37-cp37m-win_amd64.whl size=79272 sha256=ae27ec822ff3059e8332ce719096034607b10a6a3d63116cb88c9bcff9caffeb\n",
      "  Stored in directory: c:\\users\\array\\appdata\\local\\pip\\cache\\wheels\\91\\ed\\01\\9f0beae80e84fc5053f69df3bf956308f2f1ca14b0bf422c32\n",
      "Successfully built pyemd\n",
      "Installing collected packages: pyemd\n",
      "Successfully installed pyemd-0.5.1\n"
     ]
    },
    {
     "name": "stderr",
     "output_type": "stream",
     "text": [
      "WARNING: You are using pip version 20.2.3; however, version 20.2.4 is available.\n",
      "You should consider upgrading via the 'c:\\users\\array\\anaconda3\\python.exe -m pip install --upgrade pip' command.\n"
     ]
    }
   ],
   "source": [
    "# ! pip install pyemd"
   ]
  },
  {
   "cell_type": "code",
   "execution_count": 4,
   "metadata": {},
   "outputs": [],
   "source": [
    "from gensim.models import KeyedVectors\n",
    "import pyemd"
   ]
  },
  {
   "cell_type": "code",
   "execution_count": 5,
   "metadata": {},
   "outputs": [],
   "source": [
    "# My copy of Spanish 3 Billion Word2Vec (3 GB)\n",
    "word_vectors = KeyedVectors.load('D:\\Dropbox-Array2001\\Dropbox\\DataSets\\Spanish Word2Vec\\complete.kv', mmap='r')"
   ]
  },
  {
   "cell_type": "code",
   "execution_count": 6,
   "metadata": {},
   "outputs": [
    {
     "data": {
      "text/plain": [
       "[('chiquillo', 0.8634899854660034),\n",
       " ('bebé', 0.8505645990371704),\n",
       " ('crío', 0.842483401298523),\n",
       " ('muchacho', 0.7765985727310181),\n",
       " ('niñito', 0.7588649988174438),\n",
       " ('chico', 0.75837242603302),\n",
       " ('cachorro', 0.7369438409805298),\n",
       " ('muchachito', 0.7227175831794739),\n",
       " ('gatito', 0.6718686819076538),\n",
       " ('hombre', 0.6658662557601929)]"
      ]
     },
     "execution_count": 6,
     "metadata": {},
     "output_type": "execute_result"
    }
   ],
   "source": [
    "# Testing Word Vectors \n",
    "word_vectors.most_similar(\"niño\")"
   ]
  },
  {
   "cell_type": "code",
   "execution_count": 7,
   "metadata": {},
   "outputs": [
    {
     "data": {
      "text/plain": [
       "memmap([-0.98019737,  0.37916845, -1.6284896 ,  0.74026036,  0.67275375,\n",
       "        -1.6113833 , -1.4873409 ,  1.6933979 ,  0.30024448,  0.6112603 ],\n",
       "       dtype=float32)"
      ]
     },
     "execution_count": 7,
     "metadata": {},
     "output_type": "execute_result"
    }
   ],
   "source": [
    "# Example of one 400 dim vector\n",
    "word_vectors.get_vector(\"niño\")[0:10]"
   ]
  },
  {
   "cell_type": "code",
   "execution_count": 8,
   "metadata": {},
   "outputs": [
    {
     "data": {
      "text/plain": [
       "[('reina', 0.7074883580207825),\n",
       " ('princesa', 0.6571576595306396),\n",
       " ('emperatriz', 0.6183611154556274),\n",
       " ('esposa', 0.5992065072059631),\n",
       " ('doncella', 0.5958696603775024),\n",
       " ('dama', 0.5885562896728516),\n",
       " ('infanta', 0.5775145292282104),\n",
       " ('mujer', 0.5741763114929199),\n",
       " ('concubina', 0.5553327202796936),\n",
       " ('hija', 0.5514962673187256)]"
      ]
     },
     "execution_count": 8,
     "metadata": {},
     "output_type": "execute_result"
    }
   ],
   "source": [
    "word_vectors.similar_by_vector(\n",
    "    word_vectors.get_vector(\"rey\") - \n",
    "    word_vectors.get_vector(\"hombre\") + \n",
    "    word_vectors.get_vector(\"mujer\"))"
   ]
  },
  {
   "cell_type": "code",
   "execution_count": 9,
   "metadata": {},
   "outputs": [
    {
     "data": {
      "text/plain": [
       "[('enfermero', 0.701812744140625),\n",
       " ('hombre', 0.6676745414733887),\n",
       " ('individuo', 0.6419544219970703),\n",
       " ('celador', 0.6333192586898804),\n",
       " ('cirujano', 0.6183052062988281),\n",
       " ('médico', 0.6180358529090881),\n",
       " ('camillero', 0.6082327365875244),\n",
       " ('muchacho', 0.6047707200050354),\n",
       " ('chico', 0.6040195822715759),\n",
       " ('hombrecillo', 0.5817157030105591)]"
      ]
     },
     "execution_count": 9,
     "metadata": {},
     "output_type": "execute_result"
    }
   ],
   "source": [
    "word_vectors.similar_by_vector(\n",
    "    word_vectors.get_vector(\"enfermera\") - \n",
    "    word_vectors.get_vector(\"mujer\") + \n",
    "    word_vectors.get_vector(\"hombre\"))"
   ]
  },
  {
   "cell_type": "code",
   "execution_count": 10,
   "metadata": {},
   "outputs": [
    {
     "data": {
      "text/plain": [
       "0.6524644"
      ]
     },
     "execution_count": 10,
     "metadata": {},
     "output_type": "execute_result"
    }
   ],
   "source": [
    "word_vectors.similarity('guitarra','violín')"
   ]
  },
  {
   "cell_type": "code",
   "execution_count": 11,
   "metadata": {},
   "outputs": [
    {
     "data": {
      "text/plain": [
       "28.55840932553196"
      ]
     },
     "execution_count": 11,
     "metadata": {},
     "output_type": "execute_result"
    }
   ],
   "source": [
    "sentence1 = 'Obama se dirige a los medios en Illinois'.lower().split()\n",
    "sentence2 = 'El presidente saluda a la prensa en Chicago'.lower().split()\n",
    "\n",
    "word_vectors.wmdistance(sentence1, sentence2)"
   ]
  },
  {
   "cell_type": "code",
   "execution_count": 12,
   "metadata": {},
   "outputs": [
    {
     "data": {
      "text/plain": [
       "0.7943162471055984"
      ]
     },
     "execution_count": 12,
     "metadata": {},
     "output_type": "execute_result"
    }
   ],
   "source": [
    "word_vectors.distance(\"media\", \"hora\") "
   ]
  },
  {
   "cell_type": "code",
   "execution_count": 13,
   "metadata": {},
   "outputs": [
    {
     "data": {
      "text/plain": [
       "0.91821563"
      ]
     },
     "execution_count": 13,
     "metadata": {},
     "output_type": "execute_result"
    }
   ],
   "source": [
    "word_vectors.n_similarity(['restaurante', 'chino', 'caro'], ['restaurante', 'japonés', 'barato'])"
   ]
  },
  {
   "cell_type": "markdown",
   "metadata": {},
   "source": [
    "## Word vectors visualization"
   ]
  },
  {
   "cell_type": "code",
   "execution_count": 14,
   "metadata": {},
   "outputs": [],
   "source": [
    "from sklearn.manifold import TSNE\n",
    "import matplotlib.pyplot as plt "
   ]
  },
  {
   "cell_type": "code",
   "execution_count": 15,
   "metadata": {},
   "outputs": [
    {
     "data": {
      "text/plain": [
       "int"
      ]
     },
     "execution_count": 15,
     "metadata": {},
     "output_type": "execute_result"
    }
   ],
   "source": [
    "type(word_vectors.vector_size)"
   ]
  },
  {
   "cell_type": "code",
   "execution_count": 16,
   "metadata": {},
   "outputs": [
    {
     "name": "stdout",
     "output_type": "stream",
     "text": [
      "['hombre', 'desolado', 'porque', 'se', 'ha', 'encontrado', 'a', 'su', 'mujer', 'fallecida']\n"
     ]
    }
   ],
   "source": [
    "sentence = ast.literal_eval(alex_df['Tokens'][4])\n",
    "print(sentence)"
   ]
  },
  {
   "cell_type": "code",
   "execution_count": 17,
   "metadata": {},
   "outputs": [],
   "source": [
    "def encode_words(w2v_model, word_list):\n",
    "    \n",
    "    # empty 2D array for word vectors\n",
    "    num_words = len(word_list)\n",
    "    num_dims = w2v_model.vector_size\n",
    "    enc_words = np.zeros((num_words, num_dims))\n",
    "\n",
    "    # fill the 2D array with actual vectors\n",
    "    word_idx = 0\n",
    "    for w in word_list: \n",
    "        if (w in w2v_model.vocab):\n",
    "            enc_words[word_idx] = w2v_model.get_vector(w)\n",
    "        word_idx += 1\n",
    "        \n",
    "    return enc_words"
   ]
  },
  {
   "cell_type": "code",
   "execution_count": 18,
   "metadata": {},
   "outputs": [],
   "source": [
    "enc_words = encode_words(word_vectors, sentence)"
   ]
  },
  {
   "cell_type": "code",
   "execution_count": 19,
   "metadata": {},
   "outputs": [
    {
     "data": {
      "text/plain": [
       "(10, 400)"
      ]
     },
     "execution_count": 19,
     "metadata": {},
     "output_type": "execute_result"
    }
   ],
   "source": [
    "enc_words.shape"
   ]
  },
  {
   "cell_type": "code",
   "execution_count": 20,
   "metadata": {},
   "outputs": [
    {
     "data": {
      "text/plain": [
       "memmap([ 1.3146172 , -0.9050656 ,  0.44533622,  0.98907256, -0.15550552,\n",
       "        -1.3354483 ,  1.1072322 ,  1.1321119 ,  0.7280162 ,  1.4634275 ],\n",
       "       dtype=float32)"
      ]
     },
     "execution_count": 20,
     "metadata": {},
     "output_type": "execute_result"
    }
   ],
   "source": [
    "word_vectors.get_vector('porque')[0:10]"
   ]
  },
  {
   "cell_type": "code",
   "execution_count": 21,
   "metadata": {},
   "outputs": [
    {
     "data": {
      "text/plain": [
       "array([ 1.31461716, -0.9050656 ,  0.44533622,  0.98907256, -0.15550552,\n",
       "       -1.33544827,  1.10723221,  1.13211191,  0.7280162 ,  1.46342754])"
      ]
     },
     "execution_count": 21,
     "metadata": {},
     "output_type": "execute_result"
    }
   ],
   "source": [
    "enc_words[2][0:10]"
   ]
  },
  {
   "cell_type": "code",
   "execution_count": 22,
   "metadata": {},
   "outputs": [],
   "source": [
    "# Reduce dimensionality to 2D\n",
    "tsne = TSNE(n_components=2)\n",
    "tsne_2D = tsne.fit_transform(enc_words)"
   ]
  },
  {
   "cell_type": "code",
   "execution_count": 23,
   "metadata": {},
   "outputs": [
    {
     "data": {
      "text/plain": [
       "array([[  -1.4868863,  -75.986465 ],\n",
       "       [ -42.981693 ,  -11.132301 ],\n",
       "       [ -71.80765  ,   63.026814 ],\n",
       "       [  33.93409  ,   -7.6932178],\n",
       "       [  87.74383  ,  -78.958374 ],\n",
       "       [-120.21834  ,  -30.229548 ],\n",
       "       [  20.850706 , -150.84981  ],\n",
       "       [ 108.0179   ,   17.11247  ],\n",
       "       [ -75.623695 , -110.54722  ],\n",
       "       [  19.531069 ,   72.81822  ]], dtype=float32)"
      ]
     },
     "execution_count": 23,
     "metadata": {},
     "output_type": "execute_result"
    }
   ],
   "source": [
    "tsne_2D"
   ]
  },
  {
   "cell_type": "code",
   "execution_count": 24,
   "metadata": {},
   "outputs": [],
   "source": [
    "# fd with 2D projections of vectors\n",
    "df_2D = pd.DataFrame(tsne_2D, index=sentence, columns=['tsne_0', 'tsne_1'])"
   ]
  },
  {
   "cell_type": "code",
   "execution_count": 25,
   "metadata": {},
   "outputs": [
    {
     "data": {
      "text/html": [
       "<div>\n",
       "<style scoped>\n",
       "    .dataframe tbody tr th:only-of-type {\n",
       "        vertical-align: middle;\n",
       "    }\n",
       "\n",
       "    .dataframe tbody tr th {\n",
       "        vertical-align: top;\n",
       "    }\n",
       "\n",
       "    .dataframe thead th {\n",
       "        text-align: right;\n",
       "    }\n",
       "</style>\n",
       "<table border=\"1\" class=\"dataframe\">\n",
       "  <thead>\n",
       "    <tr style=\"text-align: right;\">\n",
       "      <th></th>\n",
       "      <th>tsne_0</th>\n",
       "      <th>tsne_1</th>\n",
       "    </tr>\n",
       "  </thead>\n",
       "  <tbody>\n",
       "    <tr>\n",
       "      <th>hombre</th>\n",
       "      <td>-1.486886</td>\n",
       "      <td>-75.986465</td>\n",
       "    </tr>\n",
       "    <tr>\n",
       "      <th>desolado</th>\n",
       "      <td>-42.981693</td>\n",
       "      <td>-11.132301</td>\n",
       "    </tr>\n",
       "    <tr>\n",
       "      <th>porque</th>\n",
       "      <td>-71.807648</td>\n",
       "      <td>63.026814</td>\n",
       "    </tr>\n",
       "    <tr>\n",
       "      <th>se</th>\n",
       "      <td>33.934090</td>\n",
       "      <td>-7.693218</td>\n",
       "    </tr>\n",
       "    <tr>\n",
       "      <th>ha</th>\n",
       "      <td>87.743828</td>\n",
       "      <td>-78.958374</td>\n",
       "    </tr>\n",
       "    <tr>\n",
       "      <th>encontrado</th>\n",
       "      <td>-120.218338</td>\n",
       "      <td>-30.229548</td>\n",
       "    </tr>\n",
       "    <tr>\n",
       "      <th>a</th>\n",
       "      <td>20.850706</td>\n",
       "      <td>-150.849808</td>\n",
       "    </tr>\n",
       "    <tr>\n",
       "      <th>su</th>\n",
       "      <td>108.017899</td>\n",
       "      <td>17.112471</td>\n",
       "    </tr>\n",
       "    <tr>\n",
       "      <th>mujer</th>\n",
       "      <td>-75.623695</td>\n",
       "      <td>-110.547218</td>\n",
       "    </tr>\n",
       "    <tr>\n",
       "      <th>fallecida</th>\n",
       "      <td>19.531069</td>\n",
       "      <td>72.818222</td>\n",
       "    </tr>\n",
       "  </tbody>\n",
       "</table>\n",
       "</div>"
      ],
      "text/plain": [
       "                tsne_0      tsne_1\n",
       "hombre       -1.486886  -75.986465\n",
       "desolado    -42.981693  -11.132301\n",
       "porque      -71.807648   63.026814\n",
       "se           33.934090   -7.693218\n",
       "ha           87.743828  -78.958374\n",
       "encontrado -120.218338  -30.229548\n",
       "a            20.850706 -150.849808\n",
       "su          108.017899   17.112471\n",
       "mujer       -75.623695 -110.547218\n",
       "fallecida    19.531069   72.818222"
      ]
     },
     "execution_count": 25,
     "metadata": {},
     "output_type": "execute_result"
    }
   ],
   "source": [
    "df_2D"
   ]
  },
  {
   "cell_type": "code",
   "execution_count": 26,
   "metadata": {},
   "outputs": [
    {
     "data": {
      "image/png": "[encoded data removed]",
      "text/plain": [
       "<Figure size 432x288 with 1 Axes>"
      ]
     },
     "metadata": {
      "needs_background": "light"
     },
     "output_type": "display_data"
    }
   ],
   "source": [
    "fig = plt.figure()\n",
    "ax = fig.add_subplot(1, 1, 1)\n",
    "ax.scatter(df_2D['tsne_0'], df_2D['tsne_1'])\n",
    "\n",
    "for word, pos in df_2D.iterrows():\n",
    "    ax.annotate(word, pos+1.8)\n",
    "    \n",
    "plt.show()"
   ]
  },
  {
   "cell_type": "code",
   "execution_count": 27,
   "metadata": {},
   "outputs": [],
   "source": [
    "# let's get all that encapsulated in a function\n",
    "def plot_encoded_words(vectors, words):\n",
    "    \n",
    "    # Reduce dimensionality to 2D\n",
    "    tsne = TSNE(n_components=2)\n",
    "    tsne_2D = tsne.fit_transform(vectors)\n",
    "    \n",
    "    # df with 2D projections of vectors\n",
    "    df_2D = pd.DataFrame(tsne_2D, index=words, columns=['tsne_0', 'tsne_1'])\n",
    "    \n",
    "    fig = plt.figure(figsize=(12,8))\n",
    "    ax = fig.add_subplot(1, 1, 1)\n",
    "    ax.scatter(df_2D['tsne_0'], df_2D['tsne_1'])\n",
    "\n",
    "    for word, pos in df_2D.iterrows():\n",
    "        ax.annotate(word, pos+1.8, fontsize=14)\n",
    "    \n",
    "    plt.show()\n",
    "    return df_2D"
   ]
  },
  {
   "cell_type": "markdown",
   "metadata": {},
   "source": [
    "## Explore vector space semantics geometry"
   ]
  },
  {
   "cell_type": "code",
   "execution_count": 28,
   "metadata": {},
   "outputs": [],
   "source": [
    "words = \"Wikipedia es una enciclopedia libre, políglota y editada de manera colaborativa. Es administrada por la Fundación Wikimedia, una organización sin ánimo de lucro cuya financiación está basada en donaciones. Sus más de 50 millones de artículos en 300 idiomas han sido redactados en conjunto por voluntarios de todo el mundo,5​ lo que suma más de 2000 millones de ediciones, y permite que cualquier persona pueda sumarse al proyecto para editarlos, a menos que la página se encuentre protegida contra vandalismos para evitar problemas o disputas\".split()"
   ]
  },
  {
   "cell_type": "code",
   "execution_count": 29,
   "metadata": {},
   "outputs": [],
   "source": [
    "encoded = encode_words(word_vectors, words)"
   ]
  },
  {
   "cell_type": "code",
   "execution_count": 30,
   "metadata": {},
   "outputs": [
    {
     "data": {
      "image/png": "[encoded data removed]",
      "text/plain": [
       "<Figure size 864x576 with 1 Axes>"
      ]
     },
     "metadata": {
      "needs_background": "light"
     },
     "output_type": "display_data"
    }
   ],
   "source": [
    "df_2D = plot_encoded_words(encoded, words)"
   ]
  },
  {
   "cell_type": "markdown",
   "metadata": {},
   "source": [
    "We lose the higher dimension geometry due to TSNE 2D projection (same word in different positions)"
   ]
  },
  {
   "cell_type": "code",
   "execution_count": 31,
   "metadata": {},
   "outputs": [],
   "source": [
    "# synomims of \"loco\" and \"dinero\"\n",
    "words = \"alienado - alunado - arrojado - atolondrado - aturdir - aturdirse - chalado - chiflado - ido - vesánico - cuerdo - demente - desequilibrado - desquiciado - enajenado - energúmeno - enloquecer - enloquecido - frenético - grillado - insensato - irresponsable - lunático - majareta - maniaco - maniático - orate - paranoico - perturbado - pirado - poseso - psicópata - raro - sonado - tarumba - tocado - tronado bien - bienes - billete - capital - caudal - cuarto - cuartos - efectivo - finanzas - fondo - fondos - fortuna - guita - hacienda - metálico - moneda - monís - mosca - numerario - oro - parné - pasta - peculio - pela - perra - perras - plata - recurso - recursos - riqueza - tela - tesoro - vuelta\".replace('-', '').split()"
   ]
  },
  {
   "cell_type": "code",
   "execution_count": 32,
   "metadata": {},
   "outputs": [],
   "source": [
    "encoded = encode_words(word_vectors, words)"
   ]
  },
  {
   "cell_type": "code",
   "execution_count": 33,
   "metadata": {},
   "outputs": [
    {
     "data": {
      "image/png": "[encoded data removed]",
      "text/plain": [
       "<Figure size 864x576 with 1 Axes>"
      ]
     },
     "metadata": {
      "needs_background": "light"
     },
     "output_type": "display_data"
    }
   ],
   "source": [
    "df_2D = plot_encoded_words(encoded, words)"
   ]
  },
  {
   "cell_type": "markdown",
   "metadata": {},
   "source": [
    "It seems to be a good geometric separation of the two classes (synomims of \"loco\" and \"dinero\")"
   ]
  },
  {
   "cell_type": "markdown",
   "metadata": {},
   "source": [
    "## Export corpus-specific word vectors"
   ]
  },
  {
   "cell_type": "markdown",
   "metadata": {},
   "source": [
    "### Corpus vectors"
   ]
  },
  {
   "cell_type": "code",
   "execution_count": 40,
   "metadata": {},
   "outputs": [
    {
     "data": {
      "text/plain": [
       "400"
      ]
     },
     "execution_count": 40,
     "metadata": {},
     "output_type": "execute_result"
    }
   ],
   "source": [
    "word_vectors.vector_size"
   ]
  },
  {
   "cell_type": "code",
   "execution_count": 47,
   "metadata": {},
   "outputs": [],
   "source": [
    "corpus = list(alex_df['Tokens_Stop'].apply(lambda x: ast.literal_eval(x)))"
   ]
  },
  {
   "cell_type": "code",
   "execution_count": 49,
   "metadata": {},
   "outputs": [],
   "source": [
    "unique_words = set()\n",
    "for doc in corpus:\n",
    "    for word in doc: \n",
    "        unique_words.add(word)"
   ]
  },
  {
   "cell_type": "code",
   "execution_count": 54,
   "metadata": {},
   "outputs": [
    {
     "data": {
      "text/plain": [
       "2556"
      ]
     },
     "execution_count": 54,
     "metadata": {},
     "output_type": "execute_result"
    }
   ],
   "source": [
    "len(unique_words)"
   ]
  },
  {
   "cell_type": "code",
   "execution_count": 88,
   "metadata": {},
   "outputs": [],
   "source": [
    "my_vectors = pd.DataFrame(columns=['word','vector'])"
   ]
  },
  {
   "cell_type": "code",
   "execution_count": 89,
   "metadata": {},
   "outputs": [
    {
     "data": {
      "text/html": [
       "<div>\n",
       "<style scoped>\n",
       "    .dataframe tbody tr th:only-of-type {\n",
       "        vertical-align: middle;\n",
       "    }\n",
       "\n",
       "    .dataframe tbody tr th {\n",
       "        vertical-align: top;\n",
       "    }\n",
       "\n",
       "    .dataframe thead th {\n",
       "        text-align: right;\n",
       "    }\n",
       "</style>\n",
       "<table border=\"1\" class=\"dataframe\">\n",
       "  <thead>\n",
       "    <tr style=\"text-align: right;\">\n",
       "      <th></th>\n",
       "      <th>word</th>\n",
       "      <th>vector</th>\n",
       "    </tr>\n",
       "  </thead>\n",
       "  <tbody>\n",
       "  </tbody>\n",
       "</table>\n",
       "</div>"
      ],
      "text/plain": [
       "Empty DataFrame\n",
       "Columns: [word, vector]\n",
       "Index: []"
      ]
     },
     "execution_count": 89,
     "metadata": {},
     "output_type": "execute_result"
    }
   ],
   "source": [
    "my_vectors"
   ]
  },
  {
   "cell_type": "code",
   "execution_count": 82,
   "metadata": {},
   "outputs": [],
   "source": [
    "# word_vectors.get_vector('oblidado').tolist()"
   ]
  },
  {
   "cell_type": "code",
   "execution_count": 94,
   "metadata": {},
   "outputs": [],
   "source": [
    "i = 0\n",
    "for word in list(unique_words):\n",
    "    # print(word)\n",
    "    if word in word_vectors.vocab:\n",
    "        # print(\"OK\")\n",
    "        my_vectors.loc[i] = [word, word_vectors.get_vector(word).tolist()]\n",
    "        i += 1"
   ]
  },
  {
   "cell_type": "code",
   "execution_count": 95,
   "metadata": {},
   "outputs": [
    {
     "data": {
      "text/html": [
       "<div>\n",
       "<style scoped>\n",
       "    .dataframe tbody tr th:only-of-type {\n",
       "        vertical-align: middle;\n",
       "    }\n",
       "\n",
       "    .dataframe tbody tr th {\n",
       "        vertical-align: top;\n",
       "    }\n",
       "\n",
       "    .dataframe thead th {\n",
       "        text-align: right;\n",
       "    }\n",
       "</style>\n",
       "<table border=\"1\" class=\"dataframe\">\n",
       "  <thead>\n",
       "    <tr style=\"text-align: right;\">\n",
       "      <th></th>\n",
       "      <th>word</th>\n",
       "      <th>vector</th>\n",
       "    </tr>\n",
       "  </thead>\n",
       "  <tbody>\n",
       "    <tr>\n",
       "      <th>0</th>\n",
       "      <td>trifulca</td>\n",
       "      <td>[-1.1512731313705444, -0.23514406383037567, 0....</td>\n",
       "    </tr>\n",
       "    <tr>\n",
       "      <th>1</th>\n",
       "      <td>ví</td>\n",
       "      <td>[0.70328289270401, 0.5143758058547974, 1.24149...</td>\n",
       "    </tr>\n",
       "    <tr>\n",
       "      <th>2</th>\n",
       "      <td>suelen</td>\n",
       "      <td>[-0.284926176071167, -1.8658846616744995, 1.53...</td>\n",
       "    </tr>\n",
       "    <tr>\n",
       "      <th>3</th>\n",
       "      <td>frenética</td>\n",
       "      <td>[-1.6416864395141602, 1.5233111381530762, 1.14...</td>\n",
       "    </tr>\n",
       "    <tr>\n",
       "      <th>4</th>\n",
       "      <td>pasaba</td>\n",
       "      <td>[-2.285041332244873, -4.087771415710449, 0.675...</td>\n",
       "    </tr>\n",
       "    <tr>\n",
       "      <th>5</th>\n",
       "      <td>acabó</td>\n",
       "      <td>[-3.648432493209839, -0.6001234650611877, 2.80...</td>\n",
       "    </tr>\n",
       "    <tr>\n",
       "      <th>6</th>\n",
       "      <td>pesadilla</td>\n",
       "      <td>[2.836350440979004, 0.9079900979995728, -1.584...</td>\n",
       "    </tr>\n",
       "    <tr>\n",
       "      <th>7</th>\n",
       "      <td>preocupaciones</td>\n",
       "      <td>[1.0357916355133057, 0.648125410079956, -1.508...</td>\n",
       "    </tr>\n",
       "    <tr>\n",
       "      <th>8</th>\n",
       "      <td>jorge</td>\n",
       "      <td>[-0.5235119462013245, -0.6806917190551758, -0....</td>\n",
       "    </tr>\n",
       "    <tr>\n",
       "      <th>9</th>\n",
       "      <td>culpable</td>\n",
       "      <td>[-1.9412060976028442, -1.4236963987350464, -0....</td>\n",
       "    </tr>\n",
       "    <tr>\n",
       "      <th>10</th>\n",
       "      <td>orilla</td>\n",
       "      <td>[-0.13446670770645142, 0.7833167910575867, -0....</td>\n",
       "    </tr>\n",
       "    <tr>\n",
       "      <th>11</th>\n",
       "      <td>estreno</td>\n",
       "      <td>[-0.29315122961997986, 1.7381503582000732, 1.6...</td>\n",
       "    </tr>\n",
       "    <tr>\n",
       "      <th>12</th>\n",
       "      <td>invitó</td>\n",
       "      <td>[-2.4657230377197266, 4.0800275802612305, 4.87...</td>\n",
       "    </tr>\n",
       "    <tr>\n",
       "      <th>13</th>\n",
       "      <td>dejar</td>\n",
       "      <td>[2.776061534881592, -1.178110957145691, 1.3677...</td>\n",
       "    </tr>\n",
       "    <tr>\n",
       "      <th>14</th>\n",
       "      <td>enseñara</td>\n",
       "      <td>[0.3630870282649994, 1.411620855331421, 1.0766...</td>\n",
       "    </tr>\n",
       "    <tr>\n",
       "      <th>15</th>\n",
       "      <td>encontraba</td>\n",
       "      <td>[1.3668793439865112, 0.6078585982322693, -0.14...</td>\n",
       "    </tr>\n",
       "    <tr>\n",
       "      <th>16</th>\n",
       "      <td>hirviendo</td>\n",
       "      <td>[-1.0394481420516968, 1.2188271284103394, 0.49...</td>\n",
       "    </tr>\n",
       "    <tr>\n",
       "      <th>17</th>\n",
       "      <td>despedirse</td>\n",
       "      <td>[-0.2898922860622406, -1.0016695261001587, -0....</td>\n",
       "    </tr>\n",
       "    <tr>\n",
       "      <th>18</th>\n",
       "      <td>sirve</td>\n",
       "      <td>[-0.9914791584014893, -1.1611955165863037, 1.3...</td>\n",
       "    </tr>\n",
       "    <tr>\n",
       "      <th>19</th>\n",
       "      <td>ocasión</td>\n",
       "      <td>[-2.248551845550537, 0.6166591644287109, 1.119...</td>\n",
       "    </tr>\n",
       "    <tr>\n",
       "      <th>20</th>\n",
       "      <td>particularidad</td>\n",
       "      <td>[-0.31528258323669434, -2.2381927967071533, -0...</td>\n",
       "    </tr>\n",
       "    <tr>\n",
       "      <th>21</th>\n",
       "      <td>mesilla</td>\n",
       "      <td>[-1.2097769975662231, 0.8148078918457031, 0.48...</td>\n",
       "    </tr>\n",
       "    <tr>\n",
       "      <th>22</th>\n",
       "      <td>raudales</td>\n",
       "      <td>[-1.5515656471252441, 2.4476778507232666, -0.1...</td>\n",
       "    </tr>\n",
       "    <tr>\n",
       "      <th>23</th>\n",
       "      <td>complicarse</td>\n",
       "      <td>[-1.0502334833145142, -2.278393030166626, -0.3...</td>\n",
       "    </tr>\n",
       "    <tr>\n",
       "      <th>24</th>\n",
       "      <td>saber</td>\n",
       "      <td>[-1.4296249151229858, -1.6474671363830566, 0.9...</td>\n",
       "    </tr>\n",
       "    <tr>\n",
       "      <th>25</th>\n",
       "      <td>destino</td>\n",
       "      <td>[1.5632678270339966, -0.44233155250549316, 1.9...</td>\n",
       "    </tr>\n",
       "    <tr>\n",
       "      <th>26</th>\n",
       "      <td>respuestas</td>\n",
       "      <td>[-0.2905231714248657, 2.918426752090454, -1.46...</td>\n",
       "    </tr>\n",
       "    <tr>\n",
       "      <th>27</th>\n",
       "      <td>intemperie</td>\n",
       "      <td>[1.6068644523620605, -1.3449939489364624, 0.44...</td>\n",
       "    </tr>\n",
       "    <tr>\n",
       "      <th>28</th>\n",
       "      <td>escondida</td>\n",
       "      <td>[0.6619570851325989, 2.2934110164642334, 1.028...</td>\n",
       "    </tr>\n",
       "    <tr>\n",
       "      <th>29</th>\n",
       "      <td>juntos</td>\n",
       "      <td>[2.335517644882202, -1.9727646112442017, -1.70...</td>\n",
       "    </tr>\n",
       "    <tr>\n",
       "      <th>...</th>\n",
       "      <td>...</td>\n",
       "      <td>...</td>\n",
       "    </tr>\n",
       "    <tr>\n",
       "      <th>2495</th>\n",
       "      <td>supervivencia</td>\n",
       "      <td>[0.9735939502716064, -0.8087318539619446, 0.98...</td>\n",
       "    </tr>\n",
       "    <tr>\n",
       "      <th>2496</th>\n",
       "      <td>brillo</td>\n",
       "      <td>[-3.525420665740967, 1.1495336294174194, 3.083...</td>\n",
       "    </tr>\n",
       "    <tr>\n",
       "      <th>2497</th>\n",
       "      <td>antiguamente</td>\n",
       "      <td>[-0.7107038497924805, -1.6007421016693115, 0.7...</td>\n",
       "    </tr>\n",
       "    <tr>\n",
       "      <th>2498</th>\n",
       "      <td>durmiendo</td>\n",
       "      <td>[2.111055612564087, 2.506667375564575, -2.8719...</td>\n",
       "    </tr>\n",
       "    <tr>\n",
       "      <th>2499</th>\n",
       "      <td>violin</td>\n",
       "      <td>[-0.13493287563323975, 0.47126486897468567, 0....</td>\n",
       "    </tr>\n",
       "    <tr>\n",
       "      <th>2500</th>\n",
       "      <td>convertido</td>\n",
       "      <td>[2.3243327140808105, -0.3922572433948517, -0.9...</td>\n",
       "    </tr>\n",
       "    <tr>\n",
       "      <th>2501</th>\n",
       "      <td>perdida</td>\n",
       "      <td>[1.173399567604065, 1.4587817192077637, 2.0067...</td>\n",
       "    </tr>\n",
       "    <tr>\n",
       "      <th>2502</th>\n",
       "      <td>transformar</td>\n",
       "      <td>[3.338348150253296, -0.6077381372451782, 0.310...</td>\n",
       "    </tr>\n",
       "    <tr>\n",
       "      <th>2503</th>\n",
       "      <td>rato</td>\n",
       "      <td>[-2.2242510318756104, 1.9584051370620728, -0.6...</td>\n",
       "    </tr>\n",
       "    <tr>\n",
       "      <th>2504</th>\n",
       "      <td>comienzan</td>\n",
       "      <td>[0.781779944896698, -1.618635654449463, -0.303...</td>\n",
       "    </tr>\n",
       "    <tr>\n",
       "      <th>2505</th>\n",
       "      <td>ayudan</td>\n",
       "      <td>[-0.0721566304564476, 1.7295069694519043, 1.01...</td>\n",
       "    </tr>\n",
       "    <tr>\n",
       "      <th>2506</th>\n",
       "      <td>enemigo</td>\n",
       "      <td>[-2.3428938388824463, -1.3975756168365479, 2.6...</td>\n",
       "    </tr>\n",
       "    <tr>\n",
       "      <th>2507</th>\n",
       "      <td>soldado</td>\n",
       "      <td>[-2.4096577167510986, -1.395325779914856, 0.96...</td>\n",
       "    </tr>\n",
       "    <tr>\n",
       "      <th>2508</th>\n",
       "      <td>base</td>\n",
       "      <td>[1.2572097778320312, 0.5020307302474976, 0.285...</td>\n",
       "    </tr>\n",
       "    <tr>\n",
       "      <th>2509</th>\n",
       "      <td>apagados</td>\n",
       "      <td>[-1.5040996074676514, 0.3721226453781128, 0.82...</td>\n",
       "    </tr>\n",
       "    <tr>\n",
       "      <th>2510</th>\n",
       "      <td>sueldo</td>\n",
       "      <td>[-2.645698308944702, 2.0032405853271484, -0.52...</td>\n",
       "    </tr>\n",
       "    <tr>\n",
       "      <th>2511</th>\n",
       "      <td>dedicarle</td>\n",
       "      <td>[0.9036803245544434, -1.5077977180480957, 1.55...</td>\n",
       "    </tr>\n",
       "    <tr>\n",
       "      <th>2512</th>\n",
       "      <td>cansados</td>\n",
       "      <td>[-1.021702766418457, -1.3808684349060059, -0.3...</td>\n",
       "    </tr>\n",
       "    <tr>\n",
       "      <th>2513</th>\n",
       "      <td>jornal</td>\n",
       "      <td>[-1.3661463260650635, 0.1541873663663864, -1.0...</td>\n",
       "    </tr>\n",
       "    <tr>\n",
       "      <th>2514</th>\n",
       "      <td>época</td>\n",
       "      <td>[0.5680893659591675, 1.2786017656326294, 0.604...</td>\n",
       "    </tr>\n",
       "    <tr>\n",
       "      <th>2515</th>\n",
       "      <td>sacárselo</td>\n",
       "      <td>[0.45111095905303955, -1.5023518800735474, 0.1...</td>\n",
       "    </tr>\n",
       "    <tr>\n",
       "      <th>2516</th>\n",
       "      <td>pantano</td>\n",
       "      <td>[1.6182504892349243, -1.1027156114578247, -0.6...</td>\n",
       "    </tr>\n",
       "    <tr>\n",
       "      <th>2517</th>\n",
       "      <td>iniciarse</td>\n",
       "      <td>[-1.4141952991485596, 0.12160717695951462, -0....</td>\n",
       "    </tr>\n",
       "    <tr>\n",
       "      <th>2518</th>\n",
       "      <td>misma</td>\n",
       "      <td>[-0.3260990083217621, -2.4780399799346924, 1.9...</td>\n",
       "    </tr>\n",
       "    <tr>\n",
       "      <th>2519</th>\n",
       "      <td>enamoraron</td>\n",
       "      <td>[-1.1377795934677124, 0.0997193306684494, -0.1...</td>\n",
       "    </tr>\n",
       "    <tr>\n",
       "      <th>2520</th>\n",
       "      <td>canicas</td>\n",
       "      <td>[-0.664695143699646, 0.9616079926490784, -1.56...</td>\n",
       "    </tr>\n",
       "    <tr>\n",
       "      <th>2521</th>\n",
       "      <td>stradivarius</td>\n",
       "      <td>[-0.17657676339149475, 0.1427181214094162, 1.3...</td>\n",
       "    </tr>\n",
       "    <tr>\n",
       "      <th>2522</th>\n",
       "      <td>caminata</td>\n",
       "      <td>[0.4999941885471344, 1.4426919221878052, -2.19...</td>\n",
       "    </tr>\n",
       "    <tr>\n",
       "      <th>2523</th>\n",
       "      <td>puesto</td>\n",
       "      <td>[-1.338197112083435, -0.11248583346605301, 1.7...</td>\n",
       "    </tr>\n",
       "    <tr>\n",
       "      <th>2524</th>\n",
       "      <td>estraña</td>\n",
       "      <td>[-0.777580201625824, -0.34840524196624756, 0.0...</td>\n",
       "    </tr>\n",
       "  </tbody>\n",
       "</table>\n",
       "<p>2525 rows × 2 columns</p>\n",
       "</div>"
      ],
      "text/plain": [
       "                word                                             vector\n",
       "0           trifulca  [-1.1512731313705444, -0.23514406383037567, 0....\n",
       "1                 ví  [0.70328289270401, 0.5143758058547974, 1.24149...\n",
       "2             suelen  [-0.284926176071167, -1.8658846616744995, 1.53...\n",
       "3          frenética  [-1.6416864395141602, 1.5233111381530762, 1.14...\n",
       "4             pasaba  [-2.285041332244873, -4.087771415710449, 0.675...\n",
       "5              acabó  [-3.648432493209839, -0.6001234650611877, 2.80...\n",
       "6          pesadilla  [2.836350440979004, 0.9079900979995728, -1.584...\n",
       "7     preocupaciones  [1.0357916355133057, 0.648125410079956, -1.508...\n",
       "8              jorge  [-0.5235119462013245, -0.6806917190551758, -0....\n",
       "9           culpable  [-1.9412060976028442, -1.4236963987350464, -0....\n",
       "10            orilla  [-0.13446670770645142, 0.7833167910575867, -0....\n",
       "11           estreno  [-0.29315122961997986, 1.7381503582000732, 1.6...\n",
       "12            invitó  [-2.4657230377197266, 4.0800275802612305, 4.87...\n",
       "13             dejar  [2.776061534881592, -1.178110957145691, 1.3677...\n",
       "14          enseñara  [0.3630870282649994, 1.411620855331421, 1.0766...\n",
       "15        encontraba  [1.3668793439865112, 0.6078585982322693, -0.14...\n",
       "16         hirviendo  [-1.0394481420516968, 1.2188271284103394, 0.49...\n",
       "17        despedirse  [-0.2898922860622406, -1.0016695261001587, -0....\n",
       "18             sirve  [-0.9914791584014893, -1.1611955165863037, 1.3...\n",
       "19           ocasión  [-2.248551845550537, 0.6166591644287109, 1.119...\n",
       "20    particularidad  [-0.31528258323669434, -2.2381927967071533, -0...\n",
       "21           mesilla  [-1.2097769975662231, 0.8148078918457031, 0.48...\n",
       "22          raudales  [-1.5515656471252441, 2.4476778507232666, -0.1...\n",
       "23       complicarse  [-1.0502334833145142, -2.278393030166626, -0.3...\n",
       "24             saber  [-1.4296249151229858, -1.6474671363830566, 0.9...\n",
       "25           destino  [1.5632678270339966, -0.44233155250549316, 1.9...\n",
       "26        respuestas  [-0.2905231714248657, 2.918426752090454, -1.46...\n",
       "27        intemperie  [1.6068644523620605, -1.3449939489364624, 0.44...\n",
       "28         escondida  [0.6619570851325989, 2.2934110164642334, 1.028...\n",
       "29            juntos  [2.335517644882202, -1.9727646112442017, -1.70...\n",
       "...              ...                                                ...\n",
       "2495   supervivencia  [0.9735939502716064, -0.8087318539619446, 0.98...\n",
       "2496          brillo  [-3.525420665740967, 1.1495336294174194, 3.083...\n",
       "2497    antiguamente  [-0.7107038497924805, -1.6007421016693115, 0.7...\n",
       "2498       durmiendo  [2.111055612564087, 2.506667375564575, -2.8719...\n",
       "2499          violin  [-0.13493287563323975, 0.47126486897468567, 0....\n",
       "2500      convertido  [2.3243327140808105, -0.3922572433948517, -0.9...\n",
       "2501         perdida  [1.173399567604065, 1.4587817192077637, 2.0067...\n",
       "2502     transformar  [3.338348150253296, -0.6077381372451782, 0.310...\n",
       "2503            rato  [-2.2242510318756104, 1.9584051370620728, -0.6...\n",
       "2504       comienzan  [0.781779944896698, -1.618635654449463, -0.303...\n",
       "2505          ayudan  [-0.0721566304564476, 1.7295069694519043, 1.01...\n",
       "2506         enemigo  [-2.3428938388824463, -1.3975756168365479, 2.6...\n",
       "2507         soldado  [-2.4096577167510986, -1.395325779914856, 0.96...\n",
       "2508            base  [1.2572097778320312, 0.5020307302474976, 0.285...\n",
       "2509        apagados  [-1.5040996074676514, 0.3721226453781128, 0.82...\n",
       "2510          sueldo  [-2.645698308944702, 2.0032405853271484, -0.52...\n",
       "2511       dedicarle  [0.9036803245544434, -1.5077977180480957, 1.55...\n",
       "2512        cansados  [-1.021702766418457, -1.3808684349060059, -0.3...\n",
       "2513          jornal  [-1.3661463260650635, 0.1541873663663864, -1.0...\n",
       "2514           época  [0.5680893659591675, 1.2786017656326294, 0.604...\n",
       "2515       sacárselo  [0.45111095905303955, -1.5023518800735474, 0.1...\n",
       "2516         pantano  [1.6182504892349243, -1.1027156114578247, -0.6...\n",
       "2517       iniciarse  [-1.4141952991485596, 0.12160717695951462, -0....\n",
       "2518           misma  [-0.3260990083217621, -2.4780399799346924, 1.9...\n",
       "2519      enamoraron  [-1.1377795934677124, 0.0997193306684494, -0.1...\n",
       "2520         canicas  [-0.664695143699646, 0.9616079926490784, -1.56...\n",
       "2521    stradivarius  [-0.17657676339149475, 0.1427181214094162, 1.3...\n",
       "2522        caminata  [0.4999941885471344, 1.4426919221878052, -2.19...\n",
       "2523          puesto  [-1.338197112083435, -0.11248583346605301, 1.7...\n",
       "2524         estraña  [-0.777580201625824, -0.34840524196624756, 0.0...\n",
       "\n",
       "[2525 rows x 2 columns]"
      ]
     },
     "execution_count": 95,
     "metadata": {},
     "output_type": "execute_result"
    }
   ],
   "source": [
    "my_vectors"
   ]
  },
  {
   "cell_type": "markdown",
   "metadata": {},
   "source": [
    "### Save corpus embeddings"
   ]
  },
  {
   "cell_type": "code",
   "execution_count": 97,
   "metadata": {},
   "outputs": [],
   "source": [
    "myW2V_path = \"D:\\\\Dropbox-Array2001\\\\Dropbox\\\\DataSets\\\\Prolexitim-Dataset\\\\Prolexitim_v2_MyWord2Vec.csv\"\n",
    "my_vectors.to_csv(myW2V_path, sep=';', encoding='utf-8', index=False)"
   ]
  },
  {
   "cell_type": "code",
   "execution_count": null,
   "metadata": {},
   "outputs": [],
   "source": []
  }
 ],
 "metadata": {
  "kernelspec": {
   "display_name": "Python 3",
   "language": "python",
   "name": "python3"
  },
  "language_info": {
   "codemirror_mode": {
    "name": "ipython",
    "version": 3
   },
   "file_extension": ".py",
   "mimetype": "text/x-python",
   "name": "python",
   "nbconvert_exporter": "python",
   "pygments_lexer": "ipython3",
   "version": "3.7.3"
  }
 },
 "nbformat": 4,
 "nbformat_minor": 2
}
