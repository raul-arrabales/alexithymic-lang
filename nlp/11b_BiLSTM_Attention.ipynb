{
 "cells": [
  {
   "cell_type": "markdown",
   "metadata": {
    "id": "qCJf0EDPUv1w"
   },
   "source": [
    "## Language Analysis of Alexithymic Discourse\n",
    "\n",
    "<hr>\n",
    "\n",
    "Alexithymic Language Project / raul@psicobotica.com / V2 release (sept 2020)\n",
    "\n",
    "<hr>\n",
    "\n",
    "## Text classification with a Bidirectional Long Short Term Memory network (biLSTM)\n",
    "\n",
    "### Including an attention mechanism for providing an explanation of the predictive model\n",
    "\n"
   ]
  },
  {
   "cell_type": "markdown",
   "metadata": {
    "id": "1DQ7byc_VKmt"
   },
   "source": [
    "## Libraries"
   ]
  },
  {
   "cell_type": "code",
   "execution_count": 7,
   "metadata": {
    "id": "EGvc1cKKTrPo"
   },
   "outputs": [],
   "source": [
    "# Data handling\n",
    "import pandas as pd\n",
    "import numpy as np"
   ]
  },
  {
   "cell_type": "code",
   "execution_count": 8,
   "metadata": {
    "id": "zjFhI2NOT_hF"
   },
   "outputs": [],
   "source": [
    "# Plotting\n",
    "import matplotlib.pyplot as plt\n",
    "import seaborn as sns"
   ]
  },
  {
   "cell_type": "code",
   "execution_count": 9,
   "metadata": {
    "id": "UbCAIrJ2UE8t"
   },
   "outputs": [],
   "source": [
    "# Deep Learning with Keras\n",
    "from tensorflow.keras import models, layers, preprocessing as kprocessing\n",
    "from tensorflow.keras import backend as K"
   ]
  },
  {
   "cell_type": "code",
   "execution_count": 10,
   "metadata": {
    "id": "cYzK_kk2UMF1"
   },
   "outputs": [],
   "source": [
    "# Installing BERT\n",
    "# !pip install transformers"
   ]
  },
  {
   "cell_type": "code",
   "execution_count": 11,
   "metadata": {
    "id": "4Z1tJjDWUOkV"
   },
   "outputs": [],
   "source": [
    "# Using BERT (not here)\n",
    "# import transformers"
   ]
  },
  {
   "cell_type": "code",
   "execution_count": 12,
   "metadata": {
    "id": "BcP0axrXGzX0"
   },
   "outputs": [],
   "source": [
    "# importing my csv text formats\n",
    "import ast"
   ]
  },
  {
   "cell_type": "code",
   "execution_count": 13,
   "metadata": {
    "id": "SQrWGEqTe0os"
   },
   "outputs": [],
   "source": [
    "# Scikit Learn utils\n",
    "from sklearn import metrics"
   ]
  },
  {
   "cell_type": "markdown",
   "metadata": {
    "id": "VAgaWhgWVQ0U"
   },
   "source": [
    "## Load my dataset"
   ]
  },
  {
   "cell_type": "code",
   "execution_count": 30,
   "metadata": {
    "id": "h_foDw_nUgZF"
   },
   "outputs": [],
   "source": [
    "feats_dataset_path = \"https://raw.githubusercontent.com/raul-arrabales/alexithymic-lang/master/data/Prolexitim_v2_features_8.csv\"\n",
    "\n",
    "alex_df = pd.read_csv(feats_dataset_path, header=0, delimiter=\";\")"
   ]
  },
  {
   "cell_type": "code",
   "execution_count": 31,
   "metadata": {
    "colab": {
     "base_uri": "https://localhost:8080/"
    },
    "id": "vcmFEVt-Vgg-",
    "outputId": "2bd8b4b5-087b-4080-8507-3e6622322bb2"
   },
   "outputs": [
    {
     "data": {
      "text/plain": [
       "Index(['Code', 'TAS20', 'F1', 'F2', 'F3', 'Gender', 'Age', 'Card',\n",
       "       'T_Metaphors', 'T_ToM', 'T_FP', 'T_Interpret', 'T_Desc', 'T_Confussion',\n",
       "       'Text', 'Alex_A', 'Alex_B', 'Words', 'Sentences', 'Tokens',\n",
       "       'Tokens_Stop', 'Tokens_Stem_P', 'Tokens_Stem_S', 'POS', 'NER', 'DEP',\n",
       "       'Lemmas_CNLP', 'Lemmas_Spacy', 'Chars', 'avgWL', 'avgSL', 'Pun_Count',\n",
       "       'Stop_Count', 'RawTokens', 'Title_Count', 'Upper_Count', 'PRON_Count',\n",
       "       'DET_Count', 'ADV_Count', 'VERB_Count'],\n",
       "      dtype='object')"
      ]
     },
     "execution_count": 31,
     "metadata": {
      "tags": []
     },
     "output_type": "execute_result"
    }
   ],
   "source": [
    "alex_df.columns[0:40]"
   ]
  },
  {
   "cell_type": "code",
   "execution_count": 32,
   "metadata": {
    "colab": {
     "base_uri": "https://localhost:8080/",
     "height": 323
    },
    "id": "zYEIEfBCVjgk",
    "outputId": "e5870f5f-9b26-4313-f4d4-2a75f342921a"
   },
   "outputs": [
    {
     "data": {
      "text/html": [
       "<div>\n",
       "<style scoped>\n",
       "    .dataframe tbody tr th:only-of-type {\n",
       "        vertical-align: middle;\n",
       "    }\n",
       "\n",
       "    .dataframe tbody tr th {\n",
       "        vertical-align: top;\n",
       "    }\n",
       "\n",
       "    .dataframe thead th {\n",
       "        text-align: right;\n",
       "    }\n",
       "</style>\n",
       "<table border=\"1\" class=\"dataframe\">\n",
       "  <thead>\n",
       "    <tr style=\"text-align: right;\">\n",
       "      <th></th>\n",
       "      <th>Code</th>\n",
       "      <th>TAS20</th>\n",
       "      <th>F1</th>\n",
       "      <th>F2</th>\n",
       "      <th>F3</th>\n",
       "      <th>Gender</th>\n",
       "      <th>Age</th>\n",
       "      <th>Card</th>\n",
       "      <th>T_Metaphors</th>\n",
       "      <th>T_ToM</th>\n",
       "      <th>T_FP</th>\n",
       "      <th>T_Interpret</th>\n",
       "      <th>T_Desc</th>\n",
       "      <th>T_Confussion</th>\n",
       "      <th>Text</th>\n",
       "      <th>Alex_A</th>\n",
       "      <th>Alex_B</th>\n",
       "      <th>Words</th>\n",
       "      <th>Sentences</th>\n",
       "      <th>Tokens</th>\n",
       "      <th>Tokens_Stop</th>\n",
       "      <th>Tokens_Stem_P</th>\n",
       "      <th>Tokens_Stem_S</th>\n",
       "      <th>POS</th>\n",
       "      <th>NER</th>\n",
       "      <th>DEP</th>\n",
       "      <th>Lemmas_CNLP</th>\n",
       "      <th>Lemmas_Spacy</th>\n",
       "      <th>Chars</th>\n",
       "      <th>avgWL</th>\n",
       "      <th>avgSL</th>\n",
       "      <th>Pun_Count</th>\n",
       "      <th>Stop_Count</th>\n",
       "      <th>RawTokens</th>\n",
       "      <th>Title_Count</th>\n",
       "      <th>Upper_Count</th>\n",
       "      <th>PRON_Count</th>\n",
       "      <th>DET_Count</th>\n",
       "      <th>ADV_Count</th>\n",
       "      <th>VERB_Count</th>\n",
       "      <th>...</th>\n",
       "      <th>consumption_preferences_start_business</th>\n",
       "      <th>consumption_preferences_movie_romance</th>\n",
       "      <th>consumption_preferences_movie_adventure</th>\n",
       "      <th>consumption_preferences_movie_horror</th>\n",
       "      <th>consumption_preferences_movie_musical</th>\n",
       "      <th>consumption_preferences_movie_historical</th>\n",
       "      <th>consumption_preferences_movie_science_fiction</th>\n",
       "      <th>consumption_preferences_movie_war</th>\n",
       "      <th>consumption_preferences_movie_drama</th>\n",
       "      <th>consumption_preferences_movie_action</th>\n",
       "      <th>consumption_preferences_movie_documentary</th>\n",
       "      <th>consumption_preferences_music_rap</th>\n",
       "      <th>consumption_preferences_music_country</th>\n",
       "      <th>consumption_preferences_music_r_b</th>\n",
       "      <th>consumption_preferences_music_hip_hop</th>\n",
       "      <th>consumption_preferences_music_live_event</th>\n",
       "      <th>consumption_preferences_music_playing</th>\n",
       "      <th>consumption_preferences_music_latin</th>\n",
       "      <th>consumption_preferences_music_rock</th>\n",
       "      <th>consumption_preferences_music_classical</th>\n",
       "      <th>consumption_preferences_read_frequency</th>\n",
       "      <th>consumption_preferences_books_entertainment_magazines</th>\n",
       "      <th>consumption_preferences_books_non_fiction</th>\n",
       "      <th>consumption_preferences_books_financial_investing</th>\n",
       "      <th>consumption_preferences_books_autobiographies</th>\n",
       "      <th>consumption_preferences_volunteer</th>\n",
       "      <th>MSP_Words</th>\n",
       "      <th>MSP_Stems</th>\n",
       "      <th>AFINN_Words_Pol</th>\n",
       "      <th>AFINN_Stems_Pol</th>\n",
       "      <th>AFINN_Words_Int</th>\n",
       "      <th>AFINN_Stems_Int</th>\n",
       "      <th>AFINN_Words_Max</th>\n",
       "      <th>AFINN_Stems_Max</th>\n",
       "      <th>Watson_Sent</th>\n",
       "      <th>Clean_Text</th>\n",
       "      <th>LDA4_Umap2_0</th>\n",
       "      <th>LDA4_Umap2_1</th>\n",
       "      <th>LDA10_Topic</th>\n",
       "      <th>LDA4_Topic</th>\n",
       "    </tr>\n",
       "  </thead>\n",
       "  <tbody>\n",
       "    <tr>\n",
       "      <th>92</th>\n",
       "      <td>65e24a82d12f4a91135102a8a7eaab06</td>\n",
       "      <td>39</td>\n",
       "      <td>17</td>\n",
       "      <td>9</td>\n",
       "      <td>13</td>\n",
       "      <td>2</td>\n",
       "      <td>36</td>\n",
       "      <td>1</td>\n",
       "      <td>0</td>\n",
       "      <td>0</td>\n",
       "      <td>1</td>\n",
       "      <td>1</td>\n",
       "      <td>0</td>\n",
       "      <td>0</td>\n",
       "      <td>Pues no teníamos clase de música y voy y me du...</td>\n",
       "      <td>0</td>\n",
       "      <td>0</td>\n",
       "      <td>30</td>\n",
       "      <td>5</td>\n",
       "      <td>['pues', 'no', 'teníamos', 'clase', 'de', 'mús...</td>\n",
       "      <td>['pues', 'clase', 'música', 'voy', 'duermo', '...</td>\n",
       "      <td>['pue', 'clase', 'música', 'voy', 'duermo', 'c...</td>\n",
       "      <td>['pues', 'clas', 'music', 'voy', 'duerm', 'cua...</td>\n",
       "      <td>[('pues', 'SCONJ'), ('no', 'ADV'), ('teníamos'...</td>\n",
       "      <td>[('pues', 'O'), ('no', 'O'), ('teníamos', 'O')...</td>\n",
       "      <td>[[(('teníamos', 'VERB'), 'mark', ('pues', 'SCO...</td>\n",
       "      <td>pues no teníamos clase de música y voy y I due...</td>\n",
       "      <td>['pues', 'no', 'tener', 'clase', 'de', 'música...</td>\n",
       "      <td>133</td>\n",
       "      <td>4.433333</td>\n",
       "      <td>6.0</td>\n",
       "      <td>5</td>\n",
       "      <td>17</td>\n",
       "      <td>['Pues', 'no', 'teníamos', 'clase', 'de', 'mús...</td>\n",
       "      <td>3</td>\n",
       "      <td>3</td>\n",
       "      <td>4</td>\n",
       "      <td>1</td>\n",
       "      <td>2</td>\n",
       "      <td>4</td>\n",
       "      <td>...</td>\n",
       "      <td>NaN</td>\n",
       "      <td>NaN</td>\n",
       "      <td>NaN</td>\n",
       "      <td>NaN</td>\n",
       "      <td>NaN</td>\n",
       "      <td>NaN</td>\n",
       "      <td>NaN</td>\n",
       "      <td>NaN</td>\n",
       "      <td>NaN</td>\n",
       "      <td>NaN</td>\n",
       "      <td>NaN</td>\n",
       "      <td>NaN</td>\n",
       "      <td>NaN</td>\n",
       "      <td>NaN</td>\n",
       "      <td>NaN</td>\n",
       "      <td>NaN</td>\n",
       "      <td>NaN</td>\n",
       "      <td>NaN</td>\n",
       "      <td>NaN</td>\n",
       "      <td>NaN</td>\n",
       "      <td>NaN</td>\n",
       "      <td>NaN</td>\n",
       "      <td>NaN</td>\n",
       "      <td>NaN</td>\n",
       "      <td>NaN</td>\n",
       "      <td>NaN</td>\n",
       "      <td>0.230769</td>\n",
       "      <td>0.153846</td>\n",
       "      <td>3</td>\n",
       "      <td>1</td>\n",
       "      <td>1.5</td>\n",
       "      <td>2.5</td>\n",
       "      <td>3</td>\n",
       "      <td>3</td>\n",
       "      <td>0.372589</td>\n",
       "      <td>pues clase música voy duermo cualquiera diría ...</td>\n",
       "      <td>-0.389296</td>\n",
       "      <td>6.269419</td>\n",
       "      <td>9</td>\n",
       "      <td>3</td>\n",
       "    </tr>\n",
       "    <tr>\n",
       "      <th>129</th>\n",
       "      <td>3d7431322c06c2f0836a2432d477973f</td>\n",
       "      <td>44</td>\n",
       "      <td>14</td>\n",
       "      <td>12</td>\n",
       "      <td>18</td>\n",
       "      <td>1</td>\n",
       "      <td>61</td>\n",
       "      <td>11</td>\n",
       "      <td>0</td>\n",
       "      <td>1</td>\n",
       "      <td>0</td>\n",
       "      <td>1</td>\n",
       "      <td>0</td>\n",
       "      <td>0</td>\n",
       "      <td>La búsqueda no había resultado infrucuosa, el ...</td>\n",
       "      <td>0</td>\n",
       "      <td>0</td>\n",
       "      <td>51</td>\n",
       "      <td>3</td>\n",
       "      <td>['la', 'búsqueda', 'no', 'había', 'resultado',...</td>\n",
       "      <td>['búsqueda', 'resultado', 'infrucuosa', 'sonid...</td>\n",
       "      <td>['búsqueda', 'resultado', 'infrucuosa', 'sonid...</td>\n",
       "      <td>['busqued', 'result', 'infrucu', 'son', 'sensa...</td>\n",
       "      <td>[('la', 'DET'), ('búsqueda', 'NOUN'), ('no', '...</td>\n",
       "      <td>[('la', 'O'), ('búsqueda', 'O'), ('no', 'O'), ...</td>\n",
       "      <td>[[(('resultado', 'VERB'), 'nsubj', ('búsqueda'...</td>\n",
       "      <td>la búsqueda no había resultado infrucuosa , el...</td>\n",
       "      <td>['el', 'búsqueda', 'no', 'había', 'resultar', ...</td>\n",
       "      <td>256</td>\n",
       "      <td>5.019608</td>\n",
       "      <td>17.0</td>\n",
       "      <td>4</td>\n",
       "      <td>26</td>\n",
       "      <td>['La', 'búsqueda', 'no', 'había', 'resultado',...</td>\n",
       "      <td>2</td>\n",
       "      <td>2</td>\n",
       "      <td>3</td>\n",
       "      <td>8</td>\n",
       "      <td>5</td>\n",
       "      <td>8</td>\n",
       "      <td>...</td>\n",
       "      <td>0.5</td>\n",
       "      <td>1.0</td>\n",
       "      <td>0.0</td>\n",
       "      <td>1.0</td>\n",
       "      <td>0.0</td>\n",
       "      <td>0.0</td>\n",
       "      <td>0.0</td>\n",
       "      <td>0.0</td>\n",
       "      <td>1.0</td>\n",
       "      <td>1.0</td>\n",
       "      <td>0.0</td>\n",
       "      <td>1.0</td>\n",
       "      <td>1.0</td>\n",
       "      <td>1.0</td>\n",
       "      <td>1.0</td>\n",
       "      <td>0.0</td>\n",
       "      <td>0.0</td>\n",
       "      <td>0.0</td>\n",
       "      <td>0.5</td>\n",
       "      <td>0.0</td>\n",
       "      <td>0.0</td>\n",
       "      <td>1.0</td>\n",
       "      <td>1.0</td>\n",
       "      <td>1.0</td>\n",
       "      <td>0.0</td>\n",
       "      <td>0.0</td>\n",
       "      <td>-0.200000</td>\n",
       "      <td>-0.320000</td>\n",
       "      <td>0</td>\n",
       "      <td>-2</td>\n",
       "      <td>2.0</td>\n",
       "      <td>6.0</td>\n",
       "      <td>2</td>\n",
       "      <td>7</td>\n",
       "      <td>0.403927</td>\n",
       "      <td>búsqueda resultado infrucuosa sonido sensación...</td>\n",
       "      <td>0.557478</td>\n",
       "      <td>6.673361</td>\n",
       "      <td>1</td>\n",
       "      <td>1</td>\n",
       "    </tr>\n",
       "  </tbody>\n",
       "</table>\n",
       "<p>2 rows × 189 columns</p>\n",
       "</div>"
      ],
      "text/plain": [
       "                                 Code  TAS20  ...  LDA10_Topic  LDA4_Topic\n",
       "92   65e24a82d12f4a91135102a8a7eaab06     39  ...            9           3\n",
       "129  3d7431322c06c2f0836a2432d477973f     44  ...            1           1\n",
       "\n",
       "[2 rows x 189 columns]"
      ]
     },
     "execution_count": 32,
     "metadata": {
      "tags": []
     },
     "output_type": "execute_result"
    }
   ],
   "source": [
    "alex_df.sample(2)"
   ]
  },
  {
   "cell_type": "code",
   "execution_count": 32,
   "metadata": {
    "id": "0Calcrc3Vv3s"
   },
   "outputs": [],
   "source": []
  },
  {
   "cell_type": "markdown",
   "metadata": {
    "id": "9WRNl8YVJEQD"
   },
   "source": [
    "## Load Pre-trained Word Vectors"
   ]
  },
  {
   "cell_type": "code",
   "execution_count": 14,
   "metadata": {
    "id": "XeisMYUJJHWk"
   },
   "outputs": [],
   "source": [
    "from gensim.models import KeyedVectors\n",
    "import pyemd"
   ]
  },
  {
   "cell_type": "code",
   "execution_count": 15,
   "metadata": {
    "id": "ofupbM5oJpa0"
   },
   "outputs": [],
   "source": [
    "# Dimensionality of vectors\n",
    "NUM_DIM = 400"
   ]
  },
  {
   "cell_type": "code",
   "execution_count": 16,
   "metadata": {
    "colab": {
     "base_uri": "https://localhost:8080/",
     "height": 73,
     "resources": {
      "http://localhost:8080/nbextensions/google.colab/files.js": {
       "data": "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",
       "headers": [
        [
         "content-type",
         "application/javascript"
        ]
       ],
       "ok": true,
       "status": 200,
       "status_text": ""
      }
     }
    },
    "id": "umFlefYMJvNf",
    "outputId": "bc71aaeb-5513-4ca4-eea6-789a0d17f1b3"
   },
   "outputs": [
    {
     "data": {
      "text/html": [
       "\n",
       "     <input type=\"file\" id=\"files-b6318da6-4ac9-4b81-aa6f-29e1d7194d7c\" name=\"files[]\" multiple disabled\n",
       "        style=\"border:none\" />\n",
       "     <output id=\"result-b6318da6-4ac9-4b81-aa6f-29e1d7194d7c\">\n",
       "      Upload widget is only available when the cell has been executed in the\n",
       "      current browser session. Please rerun this cell to enable.\n",
       "      </output>\n",
       "      <script src=\"/nbextensions/google.colab/files.js\"></script> "
      ],
      "text/plain": [
       "<IPython.core.display.HTML object>"
      ]
     },
     "metadata": {
      "tags": []
     },
     "output_type": "display_data"
    },
    {
     "name": "stdout",
     "output_type": "stream",
     "text": [
      "Saving Prolexitim_v2_MyWord2Vec.csv to Prolexitim_v2_MyWord2Vec.csv\n"
     ]
    }
   ],
   "source": [
    "from google.colab import files\n",
    "uploaded = files.upload()"
   ]
  },
  {
   "cell_type": "code",
   "execution_count": 17,
   "metadata": {
    "id": "ON7RQmFJJI14"
   },
   "outputs": [],
   "source": [
    "# 20 MB file with pre-trained word vectors (instead of the full 3GB Word2Vec file)\n",
    "my_vectors = pd.read_csv('Prolexitim_v2_MyWord2Vec.csv', header=0, delimiter=\";\")"
   ]
  },
  {
   "cell_type": "code",
   "execution_count": 18,
   "metadata": {
    "colab": {
     "base_uri": "https://localhost:8080/",
     "height": 166
    },
    "id": "BhxVNOEIbJc1",
    "outputId": "1146adc3-d1ad-4690-f486-c28a3fa31713"
   },
   "outputs": [
    {
     "data": {
      "text/html": [
       "<div>\n",
       "<style scoped>\n",
       "    .dataframe tbody tr th:only-of-type {\n",
       "        vertical-align: middle;\n",
       "    }\n",
       "\n",
       "    .dataframe tbody tr th {\n",
       "        vertical-align: top;\n",
       "    }\n",
       "\n",
       "    .dataframe thead th {\n",
       "        text-align: right;\n",
       "    }\n",
       "</style>\n",
       "<table border=\"1\" class=\"dataframe\">\n",
       "  <thead>\n",
       "    <tr style=\"text-align: right;\">\n",
       "      <th></th>\n",
       "      <th>word</th>\n",
       "      <th>vector</th>\n",
       "    </tr>\n",
       "  </thead>\n",
       "  <tbody>\n",
       "    <tr>\n",
       "      <th>251</th>\n",
       "      <td>punto</td>\n",
       "      <td>[-2.4219071865081787, -1.0893985033035278, 3.5...</td>\n",
       "    </tr>\n",
       "    <tr>\n",
       "      <th>107</th>\n",
       "      <td>mañanas</td>\n",
       "      <td>[-2.4971823692321777, 3.2532529830932617, -3.0...</td>\n",
       "    </tr>\n",
       "    <tr>\n",
       "      <th>2476</th>\n",
       "      <td>atacarles</td>\n",
       "      <td>[-0.4898538589477539, -1.8385465145111084, 0.7...</td>\n",
       "    </tr>\n",
       "    <tr>\n",
       "      <th>2299</th>\n",
       "      <td>jaime</td>\n",
       "      <td>[-1.9655661582946777, 0.9163540601730347, -0.7...</td>\n",
       "    </tr>\n",
       "  </tbody>\n",
       "</table>\n",
       "</div>"
      ],
      "text/plain": [
       "           word                                             vector\n",
       "251       punto  [-2.4219071865081787, -1.0893985033035278, 3.5...\n",
       "107     mañanas  [-2.4971823692321777, 3.2532529830932617, -3.0...\n",
       "2476  atacarles  [-0.4898538589477539, -1.8385465145111084, 0.7...\n",
       "2299      jaime  [-1.9655661582946777, 0.9163540601730347, -0.7..."
      ]
     },
     "execution_count": 18,
     "metadata": {
      "tags": []
     },
     "output_type": "execute_result"
    }
   ],
   "source": [
    "my_vectors.sample(4)"
   ]
  },
  {
   "cell_type": "code",
   "execution_count": 19,
   "metadata": {
    "colab": {
     "base_uri": "https://localhost:8080/"
    },
    "id": "OEFp18U8HeA8",
    "outputId": "ffe45e6c-9021-4c95-abc2-61315fb652ef"
   },
   "outputs": [
    {
     "data": {
      "text/plain": [
       "2169    [-3.240154266357422, -1.7901349067687988, 3.35...\n",
       "Name: vector, dtype: object"
      ]
     },
     "execution_count": 19,
     "metadata": {
      "tags": []
     },
     "output_type": "execute_result"
    }
   ],
   "source": [
    "my_vectors[my_vectors['word'] == 'decidió']['vector']"
   ]
  },
  {
   "cell_type": "code",
   "execution_count": 20,
   "metadata": {
    "colab": {
     "base_uri": "https://localhost:8080/"
    },
    "id": "8Nt98XMoKc11",
    "outputId": "ee7301ab-08ee-4950-ffb2-b9fd26bb21ab"
   },
   "outputs": [
    {
     "data": {
      "text/plain": [
       "array(['[-3.240154266357422, -1.7901349067687988, 3.353377103805542, 1.6399216651916504, -0.9851885437965393, -0.7573761343955994, -0.1319102644920349, -2.604383707046509, -0.7085506916046143, 0.33221518993377686, -1.1286180019378662, 1.4342106580734253, 0.17469240725040436, -0.7540820240974426, -1.433244228363037, 0.007204042281955481, -0.05140113830566406, 1.6604589223861694, -0.5412502288818359, 0.11355430632829666, -2.1695127487182617, -0.3570452928543091, -1.8473812341690063, -0.30507487058639526, 0.9077266454696655, 0.07965555042028427, 2.2751524448394775, 0.24414795637130737, -1.8510997295379639, 0.8496582508087158, -0.023393386974930763, -0.7376925349235535, -0.5438008308410645, -0.10880938917398453, -2.2760491371154785, 2.5668444633483887, 0.884616494178772, -2.2656702995300293, 0.9524273872375488, 1.6825034618377686, 2.092249870300293, 1.125827431678772, 0.7442363500595093, -1.6205689907073975, 1.8329616785049438, -0.7965370416641235, 0.8949437141418457, 1.498968482017517, -2.474830150604248, -4.623486042022705, -0.019180363044142723, 2.792567491531372, -0.053044211119413376, -2.4274723529815674, 1.6922829151153564, 2.642050266265869, -1.3788453340530396, 0.7388187646865845, -0.4673714339733124, -0.33908307552337646, 0.004131624009460211, -0.975831925868988, 1.4488515853881836, -1.128027081489563, 2.503964900970459, -0.6724559664726257, -0.2124859094619751, 1.3024667501449585, 1.3495351076126099, 1.6801809072494507, -2.6906473636627197, -0.9041491746902466, 0.27199965715408325, 0.3313358724117279, 0.6577691435813904, -0.12243474274873734, 1.458162546157837, -0.19356466829776764, -1.0805195569992065, -1.39597487449646, -1.820816993713379, 0.1536201685667038, -2.9527742862701416, -0.03201359882950783, -0.9558589458465576, 0.5683044791221619, 2.036608934402466, -0.17295417189598083, -3.969514846801758, -0.7987433075904846, 0.697384238243103, -0.6203130483627319, -0.2767440974712372, 0.562425434589386, -0.024417471140623093, 1.902055025100708, 1.5343879461288452, -1.539247989654541, 0.9971412420272827, -1.4937695264816284, 1.4851410388946533, 0.3530588746070862, 1.7037804126739502, -0.06721723824739456, 4.14509391784668, 0.07076764851808548, -1.128055214881897, -1.5535978078842163, -3.4105098247528076, -0.0747344046831131, -1.579715609550476, -0.20818831026554108, -0.07053253799676895, 0.3630724251270294, 0.42674505710601807, 1.5416529178619385, -1.688287377357483, -1.1853400468826294, -3.3452162742614746, -3.1369543075561523, -0.7962462902069092, 4.136933326721191, 0.4422745108604431, 1.0663548707962036, 3.7413673400878906, 1.305171012878418, -2.8959238529205322, -0.6897799372673035, -0.8075172901153564, 2.8608896732330322, 0.5144648551940918, 2.117788553237915, 1.8238400220870972, -2.4076318740844727, -0.18754622340202332, -3.5405113697052, 0.0369894914329052, -0.6590296626091003, -2.610617160797119, -0.7726998329162598, 1.0922824144363403, -2.251913070678711, -2.629080057144165, -2.0982766151428223, 0.5558094382286072, 1.6574817895889282, -0.36571118235588074, 0.4892411530017853, -2.398153066635132, 0.77849280834198, 3.2760708332061768, 0.6896001100540161, -1.5671958923339844, 0.13542789220809937, -2.377831220626831, -1.17050302028656, 0.43307599425315857, 1.2751678228378296, -5.2500715255737305, 3.4014322757720947, 3.2127482891082764, 1.1011015176773071, 2.777960777282715, -1.8444336652755737, 1.9697037935256958, 0.6283795237541199, -0.719691276550293, 0.13806229829788208, -1.2138420343399048, 0.040035415440797806, 1.0067929029464722, 1.067173957824707, -0.15955747663974762, -2.1554059982299805, 0.45128753781318665, -1.475347876548767, 0.4797367751598358, 0.3234160542488098, -3.016848564147949, -2.804818868637085, -1.5284678936004639, -1.1566693782806396, -2.5293474197387695, 2.4156532287597656, -2.7484354972839355, 0.9075257182121277, 2.6897366046905518, -0.1777065545320511, -2.845301628112793, -0.5588756799697876, -0.4979843199253082, 0.8815902471542358, -2.2850418090820312, -1.3992986679077148, -2.188798666000366, -0.06228048354387283, 0.7359619736671448, 0.7462316155433655, 1.5476840734481812, 1.5065715312957764, 2.4672670364379883, -0.818880021572113, -0.6039557456970215, -1.9975299835205078, 0.6198369860649109, 1.6715115308761597, -2.783266544342041, 2.381659984588623, 2.5656583309173584, 0.32383671402931213, -0.6245878338813782, 1.815224528312683, 0.2927815616130829, 1.1373777389526367, -0.5290440917015076, -1.5319442749023438, -1.4347635507583618, -0.33876895904541016, -4.694091320037842, -0.6584513187408447, -0.08390863984823227, -1.8946287631988525, -0.06779495626688004, 0.3356505036354065, 0.5507941246032715, 2.705735921859741, 2.133359432220459, 0.5158275365829468, -1.4554171562194824, 2.9928295612335205, -0.29787296056747437, 0.09846450388431549, -3.172997236251831, 1.076366662979126, 0.09522742033004761, -3.7215726375579834, -1.9971923828125, -1.029173493385315, -0.08286352455615997, -0.7525222897529602, -3.687802314758301, -0.38800087571144104, 0.39471933245658875, 2.104921817779541, 2.446207046508789, -1.1351808309555054, -2.8527917861938477, -2.1548349857330322, -0.16810721158981323, -2.5622811317443848, -1.396514892578125, 1.0360805988311768, 1.3192228078842163, 2.936260223388672, -0.3921848237514496, 3.074235439300537, -1.88999605178833, -0.02384263463318348, 0.605379045009613, -2.9549505710601807, 4.295738220214844, 0.3767772912979126, -3.1651065349578857, 0.7766920924186707, -0.3881221115589142, 0.034592319279909134, 0.18887777626514435, -0.05235322564840317, 0.47575345635414124, -1.336199164390564, -0.8143196702003479, 4.070886611938477, 1.065765619277954, 1.5863900184631348, 2.6330363750457764, 0.7239750623703003, 0.777023196220398, 1.3236969709396362, -2.4854016304016113, -0.9247934222221375, 1.5113495588302612, -0.5759423971176147, -3.608677387237549, 0.8160404562950134, -2.0441079139709473, -1.1060776710510254, -1.8228867053985596, 2.8501152992248535, 2.145024061203003, 1.311250925064087, 0.6092371940612793, -2.131479024887085, -3.177250385284424, -0.8665143847465515, -0.6808657050132751, -2.6325793266296387, 0.14952072501182556, 2.279162645339966, -0.9994222521781921, -0.001669651479460299, 1.3659075498580933, 0.11386044323444366, -3.896928548812866, 1.533339023590088, -1.6150401830673218, -2.1375980377197266, 0.7657092213630676, 3.0592761039733887, 0.18410560488700867, -0.16337566077709198, 4.454188346862793, 0.2788943350315094, -2.106875419616699, 2.127671718597412, -0.4198894798755646, 1.289440393447876, 3.0420830249786377, 3.4871275424957275, 2.411224842071533, -4.007058143615723, 2.6805813312530518, -3.180673599243164, 1.6014827489852905, -2.280904769897461, -0.5098078846931458, 0.026147989556193352, 3.7888386249542236, -0.1089303195476532, -0.22777722775936127, 0.20205827057361603, 0.49876484274864197, -1.1185927391052246, 3.397357702255249, -1.9902211427688599, 2.248788595199585, 0.3733155131340027, 2.368849515914917, 0.2533934414386749, -0.6504275798797607, 2.9970645904541016, -2.0645453929901123, -0.25287559628486633, 1.008057713508606, -4.412606716156006, -2.3394811153411865, 0.7349706292152405, 0.04492036625742912, 2.652021884918213, 1.8327746391296387, -0.13585053384304047, 0.8128634095191956, 0.3154350519180298, 2.709472417831421, -0.5741574764251709, -1.5663363933563232, -2.2471492290496826, 1.7935110330581665, 0.5899208784103394, 0.24272620677947998, -1.233161449432373, -0.40039297938346863, -0.9724829792976379, -0.07067017257213593, -0.9779163599014282, 0.4661056399345398, -0.5144612789154053, -0.2291879802942276, 2.4688010215759277, -2.6582255363464355, -1.7340140342712402, -1.483088493347168, -1.8242790699005127, 0.6344385743141174, -2.2757182121276855, 0.004796069115400314, -3.057203531265259, 0.3352627456188202, 0.997938871383667, 1.5289617776870728, -3.753722667694092, 1.0021042823791504, -0.06864038854837418, -2.3694424629211426, 3.4489409923553467, -3.483569622039795, -0.36103081703186035, 0.07933409512042999, -0.05795300751924515, -1.3680754899978638, -1.8588300943374634, 2.6404123306274414, -0.6225232481956482, -1.8374260663986206, -0.2911108136177063, 0.5341801047325134, 2.2385313510894775, 0.1778220236301422, -2.041100025177002, -1.4844684600830078, 2.0472443103790283]'],\n",
       "      dtype=object)"
      ]
     },
     "execution_count": 20,
     "metadata": {
      "tags": []
     },
     "output_type": "execute_result"
    }
   ],
   "source": [
    "my_vectors[my_vectors['word'] == 'decidió']['vector'].values"
   ]
  },
  {
   "cell_type": "code",
   "execution_count": 21,
   "metadata": {
    "id": "zBziBmbdbMgL"
   },
   "outputs": [],
   "source": [
    "# Obtain the vector corresponding to a specific word\n",
    "# Returns a vector of zeroes if the word is not in my_vectors\n",
    "def get_my_Word2Vec( word ):\n",
    "  data = my_vectors[my_vectors['word'] == word]['vector'].values\n",
    "  if data is not None:\n",
    "    if len(data) > 0 :\n",
    "      return ast.literal_eval(data[0])\n",
    "    else:\n",
    "      return np.zeros(NUM_DIM)  \n",
    "  else: \n",
    "    return np.zeros(NUM_DIM)"
   ]
  },
  {
   "cell_type": "code",
   "execution_count": 22,
   "metadata": {
    "colab": {
     "base_uri": "https://localhost:8080/"
    },
    "id": "xWneCVM1SIWU",
    "outputId": "0b3de939-2715-4766-d29d-4412ba919881"
   },
   "outputs": [
    {
     "data": {
      "text/plain": [
       "400"
      ]
     },
     "execution_count": 22,
     "metadata": {
      "tags": []
     },
     "output_type": "execute_result"
    }
   ],
   "source": [
    "len(get_my_Word2Vec('decidió'))"
   ]
  },
  {
   "cell_type": "code",
   "execution_count": 23,
   "metadata": {
    "colab": {
     "base_uri": "https://localhost:8080/"
    },
    "id": "6GmsSc2Rj2-a",
    "outputId": "45dc48b1-fca7-412b-ff7a-7b759d5dd31e"
   },
   "outputs": [
    {
     "data": {
      "text/plain": [
       "[-3.240154266357422,\n",
       " -1.7901349067687988,\n",
       " 3.353377103805542,\n",
       " 1.6399216651916504,\n",
       " -0.9851885437965393,\n",
       " -0.7573761343955994,\n",
       " -0.1319102644920349,\n",
       " -2.604383707046509,\n",
       " -0.7085506916046143,\n",
       " 0.33221518993377686]"
      ]
     },
     "execution_count": 23,
     "metadata": {
      "tags": []
     },
     "output_type": "execute_result"
    }
   ],
   "source": [
    "get_my_Word2Vec('decidió')[0:10]"
   ]
  },
  {
   "cell_type": "code",
   "execution_count": 24,
   "metadata": {
    "colab": {
     "base_uri": "https://localhost:8080/"
    },
    "id": "ZOnwgunbLSab",
    "outputId": "facc5144-56e0-4acb-cf3e-81f5e36a4142"
   },
   "outputs": [
    {
     "data": {
      "text/plain": [
       "400"
      ]
     },
     "execution_count": 24,
     "metadata": {
      "tags": []
     },
     "output_type": "execute_result"
    }
   ],
   "source": [
    "len(get_my_Word2Vec('2387dh12390hd0'))"
   ]
  },
  {
   "cell_type": "code",
   "execution_count": 25,
   "metadata": {
    "colab": {
     "base_uri": "https://localhost:8080/"
    },
    "id": "ulCAMsOaX7WL",
    "outputId": "a7df8e33-15ae-4d89-eb13-737476d0043e"
   },
   "outputs": [
    {
     "data": {
      "text/plain": [
       "array([0., 0., 0., 0., 0., 0., 0., 0., 0., 0.])"
      ]
     },
     "execution_count": 25,
     "metadata": {
      "tags": []
     },
     "output_type": "execute_result"
    }
   ],
   "source": [
    "get_my_Word2Vec('2387dh12390hd0')[0:10]"
   ]
  },
  {
   "cell_type": "markdown",
   "metadata": {
    "id": "ZkdlHCKRb4PM"
   },
   "source": [
    "## Dataset Train/Test Split"
   ]
  },
  {
   "cell_type": "code",
   "execution_count": 26,
   "metadata": {
    "id": "JtuXRg9Hb8Uk"
   },
   "outputs": [],
   "source": [
    "from sklearn.model_selection import train_test_split"
   ]
  },
  {
   "cell_type": "code",
   "execution_count": 33,
   "metadata": {
    "id": "j0mPw44YdMEn"
   },
   "outputs": [],
   "source": [
    "# X is texts and y is alexithymia class\n",
    "\n",
    "X = list(alex_df['Tokens_Stop'].apply(lambda x: ast.literal_eval(x))) # Docs as list of clean tokens\n",
    "y = alex_df['Alex_A'].values"
   ]
  },
  {
   "cell_type": "code",
   "execution_count": 34,
   "metadata": {
    "colab": {
     "base_uri": "https://localhost:8080/",
     "height": 35
    },
    "id": "hpeQlAqbjBjp",
    "outputId": "dc16c22a-8e34-43f7-c8c9-47cfd6f59b79"
   },
   "outputs": [
    {
     "data": {
      "application/vnd.google.colaboratory.intrinsic+json": {
       "type": "string"
      },
      "text/plain": [
       "'es un niño pensando en cual es la respuesta de sus deberes porque no la sabe.'"
      ]
     },
     "execution_count": 34,
     "metadata": {
      "tags": []
     },
     "output_type": "execute_result"
    }
   ],
   "source": [
    "alex_df['Text'][0]"
   ]
  },
  {
   "cell_type": "code",
   "execution_count": 35,
   "metadata": {
    "colab": {
     "base_uri": "https://localhost:8080/"
    },
    "id": "OkovGrOidmmF",
    "outputId": "18b0b759-cce4-4864-c6d8-9adea090bdd7"
   },
   "outputs": [
    {
     "data": {
      "text/plain": [
       "[['niño', 'pensando', 'respuesta', 'deberes', 'sabe'],\n",
       " ['hombre', 'llorando', 'mujer', 'muerto']]"
      ]
     },
     "execution_count": 35,
     "metadata": {
      "tags": []
     },
     "output_type": "execute_result"
    }
   ],
   "source": [
    "X[0:2]"
   ]
  },
  {
   "cell_type": "code",
   "execution_count": 36,
   "metadata": {
    "colab": {
     "base_uri": "https://localhost:8080/"
    },
    "id": "vY3pNp0peTzc",
    "outputId": "2cc901d8-d699-4422-f8c6-3f2b641f3e55"
   },
   "outputs": [
    {
     "data": {
      "text/plain": [
       "array([0, 0])"
      ]
     },
     "execution_count": 36,
     "metadata": {
      "tags": []
     },
     "output_type": "execute_result"
    }
   ],
   "source": [
    "y[0:2]"
   ]
  },
  {
   "cell_type": "code",
   "execution_count": 37,
   "metadata": {
    "colab": {
     "base_uri": "https://localhost:8080/"
    },
    "id": "YUjzz6W2eYbt",
    "outputId": "22faf91f-7176-4948-ed67-4ec1a85de538"
   },
   "outputs": [
    {
     "data": {
      "text/plain": [
       "True"
      ]
     },
     "execution_count": 37,
     "metadata": {
      "tags": []
     },
     "output_type": "execute_result"
    }
   ],
   "source": [
    "len(X) == len(y)"
   ]
  },
  {
   "cell_type": "code",
   "execution_count": 38,
   "metadata": {
    "id": "ta1pHWh0fhVO"
   },
   "outputs": [],
   "source": [
    " # Stratify y to keep same proportion of positives in both splits\n",
    " X_train, X_test, y_train, y_test = train_test_split(X, y, \n",
    "                                                     test_size=0.2, \n",
    "                                                     random_state=0, \n",
    "                                                     stratify=y) "
   ]
  },
  {
   "cell_type": "code",
   "execution_count": 96,
   "metadata": {
    "colab": {
     "base_uri": "https://localhost:8080/"
    },
    "id": "ShowRoa2Zt6q",
    "outputId": "171f14c9-60cc-4a27-9ce1-3fa8d9d307c6"
   },
   "outputs": [
    {
     "data": {
      "text/plain": [
       "['hombre', 'despues', 'matar', 'mujer', 'ahogada', 'llora', 'hecho']"
      ]
     },
     "execution_count": 96,
     "metadata": {
      "tags": []
     },
     "output_type": "execute_result"
    }
   ],
   "source": [
    "X_train[0]"
   ]
  },
  {
   "cell_type": "code",
   "execution_count": 39,
   "metadata": {
    "colab": {
     "base_uri": "https://localhost:8080/"
    },
    "id": "hYxL44uSiAEe",
    "outputId": "6d534d8c-0fe2-4604-9122-516a57e73efd"
   },
   "outputs": [
    {
     "data": {
      "text/plain": [
       "270"
      ]
     },
     "execution_count": 39,
     "metadata": {
      "tags": []
     },
     "output_type": "execute_result"
    }
   ],
   "source": [
    "len(X_train)"
   ]
  },
  {
   "cell_type": "code",
   "execution_count": 40,
   "metadata": {
    "colab": {
     "base_uri": "https://localhost:8080/"
    },
    "id": "DW0aOoK1iG88",
    "outputId": "af4aa797-53e1-45e0-db97-a773d5b6ed9f"
   },
   "outputs": [
    {
     "data": {
      "text/plain": [
       "68"
      ]
     },
     "execution_count": 40,
     "metadata": {
      "tags": []
     },
     "output_type": "execute_result"
    }
   ],
   "source": [
    "len(y_test)"
   ]
  },
  {
   "cell_type": "code",
   "execution_count": 41,
   "metadata": {
    "colab": {
     "base_uri": "https://localhost:8080/"
    },
    "id": "ZIxzWCQWiKcE",
    "outputId": "421c49f6-56a4-47f6-89ac-487e528e4eec"
   },
   "outputs": [
    {
     "data": {
      "text/plain": [
       "array([0, 1, 1, 0, 1, 0, 0, 0, 0, 1, 0, 0, 0, 0, 0, 1, 0, 0, 0, 0, 0, 0,\n",
       "       0, 0, 0, 0, 0, 0, 0, 1, 1, 0, 0, 0, 0, 0, 0, 1, 1, 0, 0, 0, 0, 0,\n",
       "       1, 0, 0, 0, 1, 0, 0, 0, 0, 0, 1, 0, 0, 0, 0, 0, 0, 1, 1, 0, 1, 0,\n",
       "       0, 0])"
      ]
     },
     "execution_count": 41,
     "metadata": {
      "tags": []
     },
     "output_type": "execute_result"
    }
   ],
   "source": [
    "y_test"
   ]
  },
  {
   "cell_type": "code",
   "execution_count": 42,
   "metadata": {
    "colab": {
     "base_uri": "https://localhost:8080/"
    },
    "id": "tE90brRYZIEc",
    "outputId": "eea62eb5-e1f9-4e1b-d147-a77e520f0a15"
   },
   "outputs": [
    {
     "name": "stdout",
     "output_type": "stream",
     "text": [
      "Positives ratio in test set: 0.22\n"
     ]
    }
   ],
   "source": [
    "print(\"Positives ratio in test set: %.2f\" % (sum(y_test)/len(y_test)))"
   ]
  },
  {
   "cell_type": "code",
   "execution_count": 43,
   "metadata": {
    "colab": {
     "base_uri": "https://localhost:8080/"
    },
    "id": "FQzxf7KMiOW8",
    "outputId": "4e14ede8-9e12-43e0-d1ab-a04a489d3d35"
   },
   "outputs": [
    {
     "data": {
      "text/plain": [
       "array([1, 1, 0, 0, 0, 0, 1, 1, 1, 0, 0, 0, 0, 0, 0, 1, 0, 0, 0, 0, 0, 0,\n",
       "       0, 1, 1, 0, 0, 0, 1, 0, 0, 0, 0, 0, 0, 1, 0, 0, 1, 0, 0, 0, 0, 0,\n",
       "       0, 0, 0, 0, 0, 0, 0, 0, 0, 0, 0, 1, 0, 0, 0, 0, 1, 1, 0, 0, 0, 0,\n",
       "       0, 0, 0, 0, 0, 0, 0, 0, 0, 1, 0, 0, 0, 0, 1, 1, 0, 0, 0, 0, 0, 0,\n",
       "       0, 1, 0, 0, 0, 0, 0, 1, 0, 0, 0, 0, 0, 1, 1, 0, 0, 0, 0, 1, 0, 0,\n",
       "       0, 0, 0, 0, 0, 0, 0, 1, 1, 0, 0, 0, 0, 1, 0, 0, 0, 1, 1, 0, 0, 0,\n",
       "       0, 0, 0, 0, 0, 0, 0, 0, 1, 0, 0, 1, 0, 1, 0, 0, 0, 1, 0, 0, 0, 0,\n",
       "       0, 0, 0, 0, 0, 0, 0, 0, 0, 0, 0, 1, 0, 0, 1, 1, 0, 0, 1, 0, 0, 0,\n",
       "       1, 0, 0, 0, 0, 1, 0, 0, 0, 0, 0, 0, 1, 0, 0, 1, 0, 0, 0, 0, 0, 0,\n",
       "       0, 0, 0, 0, 1, 1, 1, 1, 1, 0, 1, 0, 1, 0, 0, 0, 1, 1, 0, 0, 0, 0,\n",
       "       0, 0, 0, 0, 0, 0, 1, 1, 1, 0, 0, 0, 1, 0, 1, 0, 0, 0, 0, 1, 0, 1,\n",
       "       0, 1, 0, 0, 0, 0, 0, 0, 0, 0, 0, 1, 0, 0, 1, 0, 0, 0, 0, 0, 1, 0,\n",
       "       1, 0, 0, 0, 0, 0])"
      ]
     },
     "execution_count": 43,
     "metadata": {
      "tags": []
     },
     "output_type": "execute_result"
    }
   ],
   "source": [
    "y_train"
   ]
  },
  {
   "cell_type": "code",
   "execution_count": 44,
   "metadata": {
    "colab": {
     "base_uri": "https://localhost:8080/"
    },
    "id": "2wGLCoIfZhKE",
    "outputId": "c9e990a7-382e-4526-af3b-2f70eddfed8a"
   },
   "outputs": [
    {
     "name": "stdout",
     "output_type": "stream",
     "text": [
      "Positives ratio in train set: 0.22\n"
     ]
    }
   ],
   "source": [
    "print(\"Positives ratio in train set: %.2f\" % (sum(y_train)/len(y_train)))"
   ]
  },
  {
   "cell_type": "markdown",
   "metadata": {
    "id": "MikX5ZKWXKfm"
   },
   "source": [
    "## Keras Text Preprocessing (Feature Vectors)"
   ]
  },
  {
   "cell_type": "code",
   "execution_count": 45,
   "metadata": {
    "id": "3jFjDFdRXOU1"
   },
   "outputs": [],
   "source": [
    "# Keras tokenizer\n",
    "tokenizer = kprocessing.text.Tokenizer(lower=True, split=' ', \n",
    "                     oov_token=\"NaN\", \n",
    "                     filters='!\"#$%&()*+,-./:;<=>?@[\\\\]^_`{|}~\\t\\n')"
   ]
  },
  {
   "cell_type": "code",
   "execution_count": 46,
   "metadata": {
    "id": "ml9hLQusXdPq"
   },
   "outputs": [],
   "source": [
    "# Apply the tokenizer\n",
    "tokenizer.fit_on_texts(X)"
   ]
  },
  {
   "cell_type": "code",
   "execution_count": 47,
   "metadata": {
    "id": "YWH1cbc7aBVM"
   },
   "outputs": [],
   "source": [
    "# We have an id per word\n",
    "dic_vocabulary = tokenizer.word_index"
   ]
  },
  {
   "cell_type": "code",
   "execution_count": 48,
   "metadata": {
    "colab": {
     "base_uri": "https://localhost:8080/"
    },
    "id": "HOv1aCYOaDQs",
    "outputId": "b408e5fb-b6e4-449b-a0eb-30c6047f6683"
   },
   "outputs": [
    {
     "data": {
      "text/plain": [
       "2"
      ]
     },
     "execution_count": 48,
     "metadata": {
      "tags": []
     },
     "output_type": "execute_result"
    }
   ],
   "source": [
    "dic_vocabulary['violín']"
   ]
  },
  {
   "cell_type": "code",
   "execution_count": 49,
   "metadata": {
    "id": "kbe5jLbbaL-k"
   },
   "outputs": [],
   "source": [
    "# Convert each doc into a sequence of word ids\n",
    "text_seqs = tokenizer.texts_to_sequences(X_train)"
   ]
  },
  {
   "cell_type": "code",
   "execution_count": 50,
   "metadata": {
    "colab": {
     "base_uri": "https://localhost:8080/"
    },
    "id": "AsbOuNYwbGyE",
    "outputId": "40953297-de6d-457e-f56a-bbbb2eadc74a"
   },
   "outputs": [
    {
     "data": {
      "text/plain": [
       "[2544, 5, 161, 2545, 24, 425, 162]"
      ]
     },
     "execution_count": 50,
     "metadata": {
      "tags": []
     },
     "output_type": "execute_result"
    }
   ],
   "source": [
    "text_seqs[1]"
   ]
  },
  {
   "cell_type": "code",
   "execution_count": 51,
   "metadata": {
    "id": "II5ffsKjDeNA"
   },
   "outputs": [],
   "source": [
    "# Sequence lengths\n",
    "lengths = [len(text_seqs[i]) for i in range(0,len(text_seqs))]"
   ]
  },
  {
   "cell_type": "code",
   "execution_count": 52,
   "metadata": {
    "colab": {
     "base_uri": "https://localhost:8080/"
    },
    "id": "yok0hlNLEA9R",
    "outputId": "948cc2e2-7c39-4434-caf9-4f4ac9a3244b"
   },
   "outputs": [
    {
     "name": "stdout",
     "output_type": "stream",
     "text": [
      "Max: 75\n",
      "Min: 2\n",
      "Mean: 16.68148148148148\n",
      "Median: 12.5\n",
      "Stdev: 12.57784757647605\n"
     ]
    }
   ],
   "source": [
    "print(\"Max: \" + str(np.max(lengths)))\n",
    "print(\"Min: \" + str(np.min(lengths)))\n",
    "print(\"Mean: \" + str(np.mean(lengths)))\n",
    "print(\"Median: \" + str(np.median(lengths)))\n",
    "print(\"Stdev: \" + str(np.std(lengths)))"
   ]
  },
  {
   "cell_type": "code",
   "execution_count": 53,
   "metadata": {
    "colab": {
     "base_uri": "https://localhost:8080/",
     "height": 281
    },
    "id": "XkUXg-DwEe0R",
    "outputId": "c68c16a0-f9e2-45d5-da0a-a9b08edacef2"
   },
   "outputs": [
    {
     "data": {
      "text/plain": [
       "<matplotlib.axes._subplots.AxesSubplot at 0x7f2d0efdb6a0>"
      ]
     },
     "execution_count": 53,
     "metadata": {
      "tags": []
     },
     "output_type": "execute_result"
    },
    {
     "data": {
      "image/png": "[encoded data removed]",
      "text/plain": [
       "<Figure size 432x288 with 1 Axes>"
      ]
     },
     "metadata": {
      "needs_background": "light",
      "tags": []
     },
     "output_type": "display_data"
    }
   ],
   "source": [
    "sns.histplot(lengths)"
   ]
  },
  {
   "cell_type": "code",
   "execution_count": 54,
   "metadata": {
    "id": "wEUC33hLE4J_"
   },
   "outputs": [],
   "source": [
    "# Padding max length\n",
    "MAX_LEN = 20"
   ]
  },
  {
   "cell_type": "code",
   "execution_count": 55,
   "metadata": {
    "id": "6fliQZd5bKIk"
   },
   "outputs": [],
   "source": [
    "## padding sequence (paddind and truncating POST instead of PRE)\n",
    "X_train_padded = kprocessing.sequence.pad_sequences(text_seqs, \n",
    "                    maxlen=MAX_LEN, padding=\"post\", truncating=\"post\")"
   ]
  },
  {
   "cell_type": "code",
   "execution_count": 56,
   "metadata": {
    "colab": {
     "base_uri": "https://localhost:8080/"
    },
    "id": "1gDsNa3kFlAH",
    "outputId": "c3e893a9-602f-4db0-dd0c-d8816c5b3fdb"
   },
   "outputs": [
    {
     "data": {
      "text/plain": [
       "array([[   4,  177,  277,    7, 2554,  245,  157,    0,    0,    0,    0,\n",
       "           0,    0,    0,    0,    0,    0,    0,    0,    0],\n",
       "       [2544,    5,  161, 2545,   24,  425,  162,    0,    0,    0,    0,\n",
       "           0,    0,    0,    0,    0,    0,    0,    0,    0],\n",
       "       [1597,    8,  753,   53,   10,  342,  138,   93,   27,    0,    0,\n",
       "           0,    0,    0,    0,    0,    0,    0,    0,    0]],\n",
       "      dtype=int32)"
      ]
     },
     "execution_count": 56,
     "metadata": {
      "tags": []
     },
     "output_type": "execute_result"
    }
   ],
   "source": [
    "X_train_padded[0:3]"
   ]
  },
  {
   "cell_type": "code",
   "execution_count": 57,
   "metadata": {
    "colab": {
     "base_uri": "https://localhost:8080/",
     "height": 269
    },
    "id": "lLHfOtx3FmGW",
    "outputId": "b0557e90-c2f0-454c-f431-d768ec94105e"
   },
   "outputs": [
    {
     "data": {
      "image/png": "[encoded data removed]",
      "text/plain": [
       "<Figure size 432x288 with 1 Axes>"
      ]
     },
     "metadata": {
      "needs_background": "light",
      "tags": []
     },
     "output_type": "display_data"
    }
   ],
   "source": [
    "sns.heatmap(X_train_padded==0, vmin=0, vmax=1, cbar=False)\n",
    "plt.show()"
   ]
  },
  {
   "cell_type": "code",
   "execution_count": 58,
   "metadata": {
    "id": "DoJyCcDhFxnV"
   },
   "outputs": [],
   "source": [
    "# Same preprocessing for test set: \n",
    "text_seqs_test = tokenizer.texts_to_sequences(X_test)\n",
    "X_test_padded = kprocessing.sequence.pad_sequences(text_seqs_test, \n",
    "                    maxlen=MAX_LEN, padding=\"post\", truncating=\"post\")"
   ]
  },
  {
   "cell_type": "code",
   "execution_count": 59,
   "metadata": {
    "colab": {
     "base_uri": "https://localhost:8080/"
    },
    "id": "L8ylnP_MGwMd",
    "outputId": "6e481b9b-7a07-48cc-8b4b-ece38a14ab6b"
   },
   "outputs": [
    {
     "data": {
      "text/plain": [
       "array([[1211, 1212, 1213, ...,    0,    0,    0],\n",
       "       [ 779,  244,   13, ...,    0,    0,    0],\n",
       "       [  28,  825,  109, ...,    0,    0,    0],\n",
       "       ...,\n",
       "       [1603, 1604,  362, ...,    0,    0,    0],\n",
       "       [   5,  233, 2246, ..., 2251,   24,  843],\n",
       "       [   4,  117,    7, ...,    0,    0,    0]], dtype=int32)"
      ]
     },
     "execution_count": 59,
     "metadata": {
      "tags": []
     },
     "output_type": "execute_result"
    }
   ],
   "source": [
    "X_test_padded"
   ]
  },
  {
   "cell_type": "markdown",
   "metadata": {
    "id": "7cO_n7uNTbxr"
   },
   "source": [
    "## Building biLSTM model"
   ]
  },
  {
   "cell_type": "code",
   "execution_count": 60,
   "metadata": {
    "id": "0SAIakszGxNt"
   },
   "outputs": [],
   "source": [
    "# Create the matrix with word vectors:\n",
    "embeddings = np.zeros((len(dic_vocabulary)+1, 400))\n",
    "\n",
    "for word,idx in dic_vocabulary.items():\n",
    "    ## update the row with vector\n",
    "    embeddings[idx] = get_my_Word2Vec(word)"
   ]
  },
  {
   "cell_type": "code",
   "execution_count": 61,
   "metadata": {
    "colab": {
     "base_uri": "https://localhost:8080/"
    },
    "id": "HKxh5BtDOZVz",
    "outputId": "03c91c69-1d2b-4b60-b16a-fadd48bd7cf1"
   },
   "outputs": [
    {
     "data": {
      "text/plain": [
       "(2558, 400)"
      ]
     },
     "execution_count": 61,
     "metadata": {
      "tags": []
     },
     "output_type": "execute_result"
    }
   ],
   "source": [
    "# 2.5K words x 400 dimensions\n",
    "embeddings.shape"
   ]
  },
  {
   "cell_type": "code",
   "execution_count": 62,
   "metadata": {
    "colab": {
     "base_uri": "https://localhost:8080/"
    },
    "id": "R4Bk3ypAOpLq",
    "outputId": "e622c52e-724e-4323-d006-7956ed0bb601"
   },
   "outputs": [
    {
     "data": {
      "text/plain": [
       "79"
      ]
     },
     "execution_count": 62,
     "metadata": {
      "tags": []
     },
     "output_type": "execute_result"
    }
   ],
   "source": [
    "dic_vocabulary['muerta']"
   ]
  },
  {
   "cell_type": "code",
   "execution_count": 63,
   "metadata": {
    "colab": {
     "base_uri": "https://localhost:8080/"
    },
    "id": "0DyltJtZOyNZ",
    "outputId": "01574261-a07f-40f8-c585-78b7e5e52c84"
   },
   "outputs": [
    {
     "data": {
      "text/plain": [
       "True"
      ]
     },
     "execution_count": 63,
     "metadata": {
      "tags": []
     },
     "output_type": "execute_result"
    }
   ],
   "source": [
    "sum(embeddings[79] == get_my_Word2Vec('muerta')) == NUM_DIM"
   ]
  },
  {
   "cell_type": "code",
   "execution_count": 64,
   "metadata": {
    "id": "jLYCr6_DQc-B"
   },
   "outputs": [],
   "source": [
    "# 1. NEURAL NETWORK INPUT LAYER\n",
    "# My NN input layer will be of sequences of MAX_LEN words\n",
    "\n",
    "x_in = layers.Input(shape=(MAX_LEN,))\n"
   ]
  },
  {
   "cell_type": "code",
   "execution_count": 65,
   "metadata": {
    "colab": {
     "base_uri": "https://localhost:8080/"
    },
    "id": "F9fCELp3SH_c",
    "outputId": "ce1d4087-9957-46fe-d0a6-068282aeb712"
   },
   "outputs": [
    {
     "data": {
      "text/plain": [
       "TensorShape([None, 20])"
      ]
     },
     "execution_count": 65,
     "metadata": {
      "tags": []
     },
     "output_type": "execute_result"
    }
   ],
   "source": [
    "# Input to my NN will be a sequence of MAX_LEN integers (word ids)\n",
    "x_in.shape"
   ]
  },
  {
   "cell_type": "code",
   "execution_count": 66,
   "metadata": {
    "id": "7GKmVb6dQyjS"
   },
   "outputs": [],
   "source": [
    "# 2. NEURAL NETWORK EMBEDDING LAYER\n",
    "# The embedding layer takes a sequence of word vectors (up to MAX_LEN) representing each word in the document\n",
    "\n",
    "x_layer = layers.Embedding(input_dim=embeddings.shape[0],  # Size of the vocabulary\n",
    "                     output_dim=embeddings.shape[1],  # Dimension of the embeeding\n",
    "                     weights=[embeddings],\n",
    "                     input_length=MAX_LEN,  # Length of the sequences\n",
    "                     trainable=False)(x_in)"
   ]
  },
  {
   "cell_type": "code",
   "execution_count": 67,
   "metadata": {
    "colab": {
     "base_uri": "https://localhost:8080/"
    },
    "id": "OgOFfCugSWFY",
    "outputId": "a3040da9-3fc5-4b2a-cd1a-9bbfe035c123"
   },
   "outputs": [
    {
     "data": {
      "text/plain": [
       "TensorShape([None, 20, 400])"
      ]
     },
     "execution_count": 67,
     "metadata": {
      "tags": []
     },
     "output_type": "execute_result"
    }
   ],
   "source": [
    "# Embedding layer will be a sequence of MAX_LEN words (padded) represented by 400 (latent space) dimensions\n",
    "x_layer.shape"
   ]
  },
  {
   "cell_type": "code",
   "execution_count": 68,
   "metadata": {
    "id": "J9wjJdmNPvoj"
   },
   "outputs": [],
   "source": [
    "# 3. NEURAL NETWORK ATTENTION LAYER\n",
    "# See https://arxiv.org/abs/1409.0473 \n",
    "# The attention layer focuses on what parts of a long text are more relevant\n",
    "\n",
    "## code attention layer\n",
    "def attention_layer(inputs, neurons):\n",
    "    x_layer = layers.Permute((2,1))(inputs)\n",
    "    x_layer = layers.Dense(neurons, activation=\"softmax\")(x_layer)\n",
    "    x_layer = layers.Permute((2,1), name=\"attention\")(x_layer)\n",
    "    x_layer = layers.multiply([inputs, x_layer])\n",
    "    return x_layer\n",
    "\n",
    "## apply attention\n",
    "x_layer = attention_layer(x_layer, neurons=MAX_LEN)"
   ]
  },
  {
   "cell_type": "code",
   "execution_count": 69,
   "metadata": {
    "id": "YMGpE-UKTfb7"
   },
   "outputs": [],
   "source": [
    "# 4. NEURAL NETWORK BI-LSTM LAYERS\n",
    "# 2 layers of bidirectional LSTM\n",
    "\n",
    "x_layer = layers.Bidirectional(layers.LSTM(units=MAX_LEN, dropout=0.2, \n",
    "                                                return_sequences=True))(x_layer)\n",
    "x_layer = layers.Bidirectional(layers.LSTM(units=MAX_LEN, dropout=0.2))(x_layer)"
   ]
  },
  {
   "cell_type": "code",
   "execution_count": 70,
   "metadata": {
    "id": "XOugV5mCTpWy"
   },
   "outputs": [],
   "source": [
    "# 5. NEURAL NETWORK FULLY-CONNECTED LAYERS\n",
    "# 2 dense layers acting as a multilayer perceptron\n",
    "\n",
    "x_layer = layers.Dense(64, activation='relu')(x_layer)\n",
    "y_out = layers.Dense(2, activation='softmax')(x_layer)\n"
   ]
  },
  {
   "cell_type": "code",
   "execution_count": 71,
   "metadata": {
    "colab": {
     "base_uri": "https://localhost:8080/"
    },
    "id": "8ym7lW7GWCRi",
    "outputId": "ea11a5b2-5542-4e96-a21d-0e037b3c1c07"
   },
   "outputs": [
    {
     "data": {
      "text/plain": [
       "TensorShape([None, 2])"
      ]
     },
     "execution_count": 71,
     "metadata": {
      "tags": []
     },
     "output_type": "execute_result"
    }
   ],
   "source": [
    "# The output for our two classes\n",
    "y_out.shape"
   ]
  },
  {
   "cell_type": "code",
   "execution_count": 72,
   "metadata": {
    "colab": {
     "base_uri": "https://localhost:8080/"
    },
    "id": "VSoVVqOhU9HP",
    "outputId": "f9fabed7-11fb-4cd8-a9af-f4bbd100df9c"
   },
   "outputs": [
    {
     "name": "stdout",
     "output_type": "stream",
     "text": [
      "Model: \"functional_1\"\n",
      "__________________________________________________________________________________________________\n",
      "Layer (type)                    Output Shape         Param #     Connected to                     \n",
      "==================================================================================================\n",
      "input_1 (InputLayer)            [(None, 20)]         0                                            \n",
      "__________________________________________________________________________________________________\n",
      "embedding (Embedding)           (None, 20, 400)      1023200     input_1[0][0]                    \n",
      "__________________________________________________________________________________________________\n",
      "permute (Permute)               (None, 400, 20)      0           embedding[0][0]                  \n",
      "__________________________________________________________________________________________________\n",
      "dense (Dense)                   (None, 400, 20)      420         permute[0][0]                    \n",
      "__________________________________________________________________________________________________\n",
      "attention (Permute)             (None, 20, 400)      0           dense[0][0]                      \n",
      "__________________________________________________________________________________________________\n",
      "multiply (Multiply)             (None, 20, 400)      0           embedding[0][0]                  \n",
      "                                                                 attention[0][0]                  \n",
      "__________________________________________________________________________________________________\n",
      "bidirectional (Bidirectional)   (None, 20, 40)       67360       multiply[0][0]                   \n",
      "__________________________________________________________________________________________________\n",
      "bidirectional_1 (Bidirectional) (None, 40)           9760        bidirectional[0][0]              \n",
      "__________________________________________________________________________________________________\n",
      "dense_1 (Dense)                 (None, 64)           2624        bidirectional_1[0][0]            \n",
      "__________________________________________________________________________________________________\n",
      "dense_2 (Dense)                 (None, 2)            130         dense_1[0][0]                    \n",
      "==================================================================================================\n",
      "Total params: 1,103,494\n",
      "Trainable params: 80,294\n",
      "Non-trainable params: 1,023,200\n",
      "__________________________________________________________________________________________________\n"
     ]
    }
   ],
   "source": [
    "# Assemble the model and compile: \n",
    "\n",
    "model = models.Model(x_in, y_out)\n",
    "model.compile(loss='sparse_categorical_crossentropy',\n",
    "              optimizer='adam', metrics=['accuracy'])\n",
    "\n",
    "model.summary()"
   ]
  },
  {
   "cell_type": "markdown",
   "metadata": {
    "id": "CQ3pRjRyWfo5"
   },
   "source": [
    "## Train the biLSTM model"
   ]
  },
  {
   "cell_type": "code",
   "execution_count": 73,
   "metadata": {
    "colab": {
     "base_uri": "https://localhost:8080/"
    },
    "id": "kHrs0rZaaffa",
    "outputId": "384870b5-91db-4aba-d150-27ecd59509e3"
   },
   "outputs": [
    {
     "data": {
      "text/plain": [
       "array([[   4,  177,  277, ...,    0,    0,    0],\n",
       "       [2544,    5,  161, ...,    0,    0,    0],\n",
       "       [1597,    8,  753, ...,    0,    0,    0],\n",
       "       ...,\n",
       "       [ 253,   47,  106, ...,    0,    0,    0],\n",
       "       [  17,  342,  532, ..., 1019, 1020, 1021],\n",
       "       [   4,  871,  249, ...,    0,    0,    0]], dtype=int32)"
      ]
     },
     "execution_count": 73,
     "metadata": {
      "tags": []
     },
     "output_type": "execute_result"
    }
   ],
   "source": [
    "# This is the training set\n",
    "X_train_padded"
   ]
  },
  {
   "cell_type": "code",
   "execution_count": 74,
   "metadata": {
    "colab": {
     "base_uri": "https://localhost:8080/"
    },
    "id": "RjOBCKeWa2z6",
    "outputId": "035affa2-ed30-432a-f2be-64e6dd15ac85"
   },
   "outputs": [
    {
     "data": {
      "text/plain": [
       "array([1, 1, 0, 0, 0, 0, 1, 1, 1, 0, 0, 0, 0, 0, 0, 1, 0, 0, 0, 0, 0, 0,\n",
       "       0, 1, 1, 0, 0, 0, 1, 0, 0, 0, 0, 0, 0, 1, 0, 0, 1, 0, 0, 0, 0, 0,\n",
       "       0, 0, 0, 0, 0, 0, 0, 0, 0, 0, 0, 1, 0, 0, 0, 0, 1, 1, 0, 0, 0, 0,\n",
       "       0, 0, 0, 0, 0, 0, 0, 0, 0, 1, 0, 0, 0, 0, 1, 1, 0, 0, 0, 0, 0, 0,\n",
       "       0, 1, 0, 0, 0, 0, 0, 1, 0, 0, 0, 0, 0, 1, 1, 0, 0, 0, 0, 1, 0, 0,\n",
       "       0, 0, 0, 0, 0, 0, 0, 1, 1, 0, 0, 0, 0, 1, 0, 0, 0, 1, 1, 0, 0, 0,\n",
       "       0, 0, 0, 0, 0, 0, 0, 0, 1, 0, 0, 1, 0, 1, 0, 0, 0, 1, 0, 0, 0, 0,\n",
       "       0, 0, 0, 0, 0, 0, 0, 0, 0, 0, 0, 1, 0, 0, 1, 1, 0, 0, 1, 0, 0, 0,\n",
       "       1, 0, 0, 0, 0, 1, 0, 0, 0, 0, 0, 0, 1, 0, 0, 1, 0, 0, 0, 0, 0, 0,\n",
       "       0, 0, 0, 0, 1, 1, 1, 1, 1, 0, 1, 0, 1, 0, 0, 0, 1, 1, 0, 0, 0, 0,\n",
       "       0, 0, 0, 0, 0, 0, 1, 1, 1, 0, 0, 0, 1, 0, 1, 0, 0, 0, 0, 1, 0, 1,\n",
       "       0, 1, 0, 0, 0, 0, 0, 0, 0, 0, 0, 1, 0, 0, 1, 0, 0, 0, 0, 0, 1, 0,\n",
       "       1, 0, 0, 0, 0, 0])"
      ]
     },
     "execution_count": 74,
     "metadata": {
      "tags": []
     },
     "output_type": "execute_result"
    }
   ],
   "source": [
    "y_train"
   ]
  },
  {
   "cell_type": "code",
   "execution_count": 75,
   "metadata": {
    "colab": {
     "base_uri": "https://localhost:8080/"
    },
    "id": "5WjiB4NAbQgV",
    "outputId": "4502c0d0-f7a2-43b1-f4b9-75868459ccd4"
   },
   "outputs": [
    {
     "data": {
      "text/plain": [
       "270"
      ]
     },
     "execution_count": 75,
     "metadata": {
      "tags": []
     },
     "output_type": "execute_result"
    }
   ],
   "source": [
    "len(y_train)"
   ]
  },
  {
   "cell_type": "code",
   "execution_count": 76,
   "metadata": {
    "id": "EYNhU9FqYxnm"
   },
   "outputs": [],
   "source": [
    "# Train for 20 epochs\n",
    "training = model.fit(x=X_train_padded, y=y_train, batch_size=64, \n",
    "                     epochs=20, shuffle=True, verbose=0, \n",
    "                     validation_split=0.2)"
   ]
  },
  {
   "cell_type": "code",
   "execution_count": 77,
   "metadata": {
    "id": "qU-dbTBlaTlu"
   },
   "outputs": [],
   "source": [
    "# Training metrics\n",
    "my_metrics = [k for k in training.history.keys() if (\"loss\" not in k) and (\"val\" not in k)]"
   ]
  },
  {
   "cell_type": "code",
   "execution_count": 78,
   "metadata": {
    "colab": {
     "base_uri": "https://localhost:8080/"
    },
    "id": "IzsFQfGQcI-k",
    "outputId": "3ef26550-847e-4f2b-fb6c-91c10e7ec266"
   },
   "outputs": [
    {
     "data": {
      "text/plain": [
       "['accuracy']"
      ]
     },
     "execution_count": 78,
     "metadata": {
      "tags": []
     },
     "output_type": "execute_result"
    }
   ],
   "source": [
    "my_metrics"
   ]
  },
  {
   "cell_type": "code",
   "execution_count": 79,
   "metadata": {
    "colab": {
     "base_uri": "https://localhost:8080/",
     "height": 404
    },
    "id": "UN3vwmNtcOv1",
    "outputId": "8e856325-36fa-47e4-8d3e-0665ac26dfac"
   },
   "outputs": [
    {
     "data": {
      "image/png": "[encoded data removed]",
      "text/plain": [
       "<Figure size 864x432 with 4 Axes>"
      ]
     },
     "metadata": {
      "needs_background": "light",
      "tags": []
     },
     "output_type": "display_data"
    }
   ],
   "source": [
    "fig, ax = plt.subplots(nrows=1, ncols=2, sharey=True)\n",
    "fig.set_size_inches(12,6)\n",
    "ax[0].set(title=\"Training\")\n",
    "ax11 = ax[0].twinx()\n",
    "ax[0].plot(training.history['loss'], color='black')\n",
    "ax[0].set_xlabel('Epochs')\n",
    "ax[0].set_ylabel('Loss', color='black')\n",
    "for metric in my_metrics:\n",
    "    ax11.plot(training.history[metric], label=metric)\n",
    "ax11.set_ylabel(\"Score\", color='steelblue')\n",
    "ax11.legend()\n",
    "ax[1].set(title=\"Validation\")\n",
    "ax22 = ax[1].twinx()\n",
    "ax[1].plot(training.history['val_loss'], color='black')\n",
    "ax[1].set_xlabel('Epochs')\n",
    "ax[1].set_ylabel('Loss', color='black')\n",
    "for metric in my_metrics:\n",
    "     ax22.plot(training.history['val_'+metric], label=metric)\n",
    "ax22.set_ylabel(\"Score\", color=\"steelblue\")\n",
    "plt.show()"
   ]
  },
  {
   "cell_type": "code",
   "execution_count": null,
   "metadata": {
    "id": "N5Gy95_NkurT"
   },
   "outputs": [],
   "source": [
    "# save trained model\n",
    "model.save('biLSTM_modelv1.h5')"
   ]
  },
  {
   "cell_type": "code",
   "execution_count": null,
   "metadata": {
    "colab": {
     "base_uri": "https://localhost:8080/",
     "height": 17
    },
    "id": "ZeeJ0-zmlZxy",
    "outputId": "325e04f0-af96-4915-8967-9b4eebea732f"
   },
   "outputs": [
    {
     "data": {
      "application/javascript": [
       "\n",
       "    async function download(id, filename, size) {\n",
       "      if (!google.colab.kernel.accessAllowed) {\n",
       "        return;\n",
       "      }\n",
       "      const div = document.createElement('div');\n",
       "      const label = document.createElement('label');\n",
       "      label.textContent = `Downloading \"${filename}\": `;\n",
       "      div.appendChild(label);\n",
       "      const progress = document.createElement('progress');\n",
       "      progress.max = size;\n",
       "      div.appendChild(progress);\n",
       "      document.body.appendChild(div);\n",
       "\n",
       "      const buffers = [];\n",
       "      let downloaded = 0;\n",
       "\n",
       "      const channel = await google.colab.kernel.comms.open(id);\n",
       "      // Send a message to notify the kernel that we're ready.\n",
       "      channel.send({})\n",
       "\n",
       "      for await (const message of channel.messages) {\n",
       "        // Send a message to notify the kernel that we're ready.\n",
       "        channel.send({})\n",
       "        if (message.buffers) {\n",
       "          for (const buffer of message.buffers) {\n",
       "            buffers.push(buffer);\n",
       "            downloaded += buffer.byteLength;\n",
       "            progress.value = downloaded;\n",
       "          }\n",
       "        }\n",
       "      }\n",
       "      const blob = new Blob(buffers, {type: 'application/binary'});\n",
       "      const a = document.createElement('a');\n",
       "      a.href = window.URL.createObjectURL(blob);\n",
       "      a.download = filename;\n",
       "      div.appendChild(a);\n",
       "      a.click();\n",
       "      div.remove();\n",
       "    }\n",
       "  "
      ],
      "text/plain": [
       "<IPython.core.display.Javascript object>"
      ]
     },
     "metadata": {
      "tags": []
     },
     "output_type": "display_data"
    },
    {
     "data": {
      "application/javascript": [
       "download(\"download_94704666-af2b-4a18-8e35-80db96e66e7c\", \"biLSTM_modelv1.h5\", 5147360)"
      ],
      "text/plain": [
       "<IPython.core.display.Javascript object>"
      ]
     },
     "metadata": {
      "tags": []
     },
     "output_type": "display_data"
    }
   ],
   "source": [
    "files.download('biLSTM_modelv1.h5')"
   ]
  },
  {
   "cell_type": "markdown",
   "metadata": {
    "id": "BfggF3KOYLvD"
   },
   "source": [
    "## Test the biLSTM Model"
   ]
  },
  {
   "cell_type": "code",
   "execution_count": 80,
   "metadata": {
    "id": "JIB4ORSscn2d"
   },
   "outputs": [],
   "source": [
    "# y-predicted probas\n",
    "predicted_prob = model.predict(X_test_padded)"
   ]
  },
  {
   "cell_type": "code",
   "execution_count": 81,
   "metadata": {
    "colab": {
     "base_uri": "https://localhost:8080/"
    },
    "id": "oBHs6qHoYihi",
    "outputId": "52c8f823-0894-492a-e860-b89af7509385"
   },
   "outputs": [
    {
     "data": {
      "text/plain": [
       "array([[9.9998105e-01, 1.8984692e-05],\n",
       "       [9.4608110e-01, 5.3918876e-02],\n",
       "       [5.5053729e-01, 4.4946277e-01],\n",
       "       [9.9999619e-01, 3.8318963e-06],\n",
       "       [9.9998426e-01, 1.5758786e-05],\n",
       "       [9.9999285e-01, 7.1598975e-06]], dtype=float32)"
      ]
     },
     "execution_count": 81,
     "metadata": {
      "tags": []
     },
     "output_type": "execute_result"
    }
   ],
   "source": [
    "predicted_prob[0:6]"
   ]
  },
  {
   "cell_type": "code",
   "execution_count": 82,
   "metadata": {
    "colab": {
     "base_uri": "https://localhost:8080/"
    },
    "id": "O4ptGP2kYqba",
    "outputId": "254484f4-0df2-4109-9953-59c96dfc237c"
   },
   "outputs": [
    {
     "data": {
      "text/plain": [
       "{0: 0, 1: 1}"
      ]
     },
     "execution_count": 82,
     "metadata": {
      "tags": []
     },
     "output_type": "execute_result"
    }
   ],
   "source": [
    "dic_y_mapping = {n:label for n,label in enumerate(np.unique(y_train))}\n",
    "dic_y_mapping"
   ]
  },
  {
   "cell_type": "code",
   "execution_count": 83,
   "metadata": {
    "colab": {
     "base_uri": "https://localhost:8080/"
    },
    "id": "84CAdcKvYhdc",
    "outputId": "3b79f5d4-6d09-484a-9529-33c4c7963ee1"
   },
   "outputs": [
    {
     "data": {
      "text/plain": [
       "[0, 0, 0, 0, 0, 0]"
      ]
     },
     "execution_count": 83,
     "metadata": {
      "tags": []
     },
     "output_type": "execute_result"
    }
   ],
   "source": [
    "predicted = [dic_y_mapping[np.argmax(pred)] for pred in predicted_prob]\n",
    "predicted[0:6]"
   ]
  },
  {
   "cell_type": "code",
   "execution_count": 85,
   "metadata": {
    "id": "4-gH1exFb4PY"
   },
   "outputs": [],
   "source": [
    "# Evaluation\n",
    "classes = np.unique(y_test)\n",
    "y_test_array = pd.get_dummies(y_test, drop_first=False).values"
   ]
  },
  {
   "cell_type": "code",
   "execution_count": 86,
   "metadata": {
    "colab": {
     "base_uri": "https://localhost:8080/"
    },
    "id": "R3R0rl_mcMTH",
    "outputId": "f9d4f522-e144-46b3-c97c-b3f18cc51885"
   },
   "outputs": [
    {
     "data": {
      "text/plain": [
       "array([0, 1])"
      ]
     },
     "execution_count": 86,
     "metadata": {
      "tags": []
     },
     "output_type": "execute_result"
    }
   ],
   "source": [
    "# Our two classes\n",
    "classes"
   ]
  },
  {
   "cell_type": "code",
   "execution_count": 87,
   "metadata": {
    "colab": {
     "base_uri": "https://localhost:8080/"
    },
    "id": "jd8DeU1ncSqX",
    "outputId": "1f8c2a70-4b0b-40aa-faf1-f7aba299ef01"
   },
   "outputs": [
    {
     "data": {
      "text/plain": [
       "array([[1, 0],\n",
       "       [0, 1],\n",
       "       [0, 1],\n",
       "       [1, 0],\n",
       "       [0, 1],\n",
       "       [1, 0]], dtype=uint8)"
      ]
     },
     "execution_count": 87,
     "metadata": {
      "tags": []
     },
     "output_type": "execute_result"
    }
   ],
   "source": [
    "y_test_array[0:6]"
   ]
  },
  {
   "cell_type": "code",
   "execution_count": 88,
   "metadata": {
    "colab": {
     "base_uri": "https://localhost:8080/"
    },
    "id": "7R3aPNqJdVG9",
    "outputId": "0c8b1846-25bb-42a8-f894-0c2b28fa916a"
   },
   "outputs": [
    {
     "data": {
      "text/plain": [
       "(68,)"
      ]
     },
     "execution_count": 88,
     "metadata": {
      "tags": []
     },
     "output_type": "execute_result"
    }
   ],
   "source": [
    "y_test.shape"
   ]
  },
  {
   "cell_type": "code",
   "execution_count": 89,
   "metadata": {
    "colab": {
     "base_uri": "https://localhost:8080/"
    },
    "id": "wm9YbUVPcUs-",
    "outputId": "c94b493e-e6b4-4e58-891d-00687239d7d7"
   },
   "outputs": [
    {
     "name": "stdout",
     "output_type": "stream",
     "text": [
      "Accuracy: 0.79\n",
      "Auc: 0.72\n",
      "Detail:\n",
      "              precision    recall  f1-score   support\n",
      "\n",
      "           0       0.83      0.92      0.88        53\n",
      "           1       0.56      0.33      0.42        15\n",
      "\n",
      "    accuracy                           0.79        68\n",
      "   macro avg       0.69      0.63      0.65        68\n",
      "weighted avg       0.77      0.79      0.77        68\n",
      "\n"
     ]
    }
   ],
   "source": [
    "# Accuracy, Precision, Recall\n",
    "accuracy = metrics.accuracy_score(y_test, predicted)\n",
    "auc = metrics.roc_auc_score(y_test, predicted_prob[:,1], multi_class=\"ovr\")\n",
    "\n",
    "print(\"Accuracy:\",  round(accuracy,2))\n",
    "print(\"Auc:\", round(auc,2))\n",
    "print(\"Detail:\")\n",
    "print(metrics.classification_report(y_test, predicted))"
   ]
  },
  {
   "cell_type": "code",
   "execution_count": 90,
   "metadata": {
    "colab": {
     "base_uri": "https://localhost:8080/",
     "height": 312
    },
    "id": "WJxVV_l3cioW",
    "outputId": "64c5ac8d-7c21-4f97-d3bd-884a9cc15beb"
   },
   "outputs": [
    {
     "data": {
      "text/plain": [
       "(array([0.5, 1.5]), <a list of 2 Text major ticklabel objects>)"
      ]
     },
     "execution_count": 90,
     "metadata": {
      "tags": []
     },
     "output_type": "execute_result"
    },
    {
     "data": {
      "image/png": "[encoded data removed]",
      "text/plain": [
       "<Figure size 432x288 with 1 Axes>"
      ]
     },
     "metadata": {
      "needs_background": "light",
      "tags": []
     },
     "output_type": "display_data"
    }
   ],
   "source": [
    "# Confusion matrix\n",
    "cm = metrics.confusion_matrix(y_test, predicted)\n",
    "fig, ax = plt.subplots()\n",
    "sns.heatmap(cm, annot=True, fmt='d', ax=ax, cmap=plt.cm.Blues, \n",
    "            cbar=False)\n",
    "ax.set(xlabel=\"Pred\", ylabel=\"True\", xticklabels=classes, \n",
    "       yticklabels=classes, title=\"Confusion matrix\")\n",
    "plt.yticks(rotation=0)"
   ]
  },
  {
   "cell_type": "code",
   "execution_count": 91,
   "metadata": {
    "colab": {
     "base_uri": "https://localhost:8080/",
     "height": 513
    },
    "id": "Ii-YgJhRghoG",
    "outputId": "ede172e7-2324-4ff7-be24-21474cb7b928"
   },
   "outputs": [
    {
     "data": {
      "image/png": "[encoded data removed]",
      "text/plain": [
       "<Figure size 1152x576 with 2 Axes>"
      ]
     },
     "metadata": {
      "needs_background": "light",
      "tags": []
     },
     "output_type": "display_data"
    }
   ],
   "source": [
    "# ROC \n",
    "\n",
    "fig, ax = plt.subplots(nrows=1, ncols=2)\n",
    "fig.set_size_inches(16,8)\n",
    "for i in range(len(classes)):\n",
    "    fpr, tpr, thresholds = metrics.roc_curve(y_test_array[:,i],  \n",
    "                           predicted_prob[:,i])\n",
    "    ax[0].plot(fpr, tpr, lw=3, \n",
    "              label='{0} (area={1:0.2f})'.format(classes[i], \n",
    "                              metrics.auc(fpr, tpr))\n",
    "               )\n",
    "ax[0].plot([0,1], [0,1], color='navy', lw=3, linestyle='--')\n",
    "ax[0].set(xlim=[-0.05,1.0], ylim=[0.0,1.05], \n",
    "          xlabel='False Positive Rate', \n",
    "          ylabel=\"True Positive Rate (Recall)\", \n",
    "          title=\"Receiver operating characteristic\")\n",
    "ax[0].legend(loc=\"lower right\")\n",
    "ax[0].grid(True)\n",
    "\n",
    "## Plot precision-recall curve\n",
    "for i in range(len(classes)):\n",
    "    precision, recall, thresholds = metrics.precision_recall_curve(\n",
    "                 y_test_array[:,i], predicted_prob[:,i])\n",
    "    ax[1].plot(recall, precision, lw=3, \n",
    "               label='{0} (area={1:0.2f})'.format(classes[i], \n",
    "                                  metrics.auc(recall, precision))\n",
    "              )\n",
    "ax[1].set(xlim=[0.0,1.05], ylim=[0.0,1.05], xlabel='Recall', \n",
    "          ylabel=\"Precision\", title=\"Precision-Recall curve\")\n",
    "ax[1].legend(loc=\"best\")\n",
    "ax[1].grid(True)\n",
    "plt.show()"
   ]
  },
  {
   "cell_type": "code",
   "execution_count": null,
   "metadata": {
    "id": "Phmmt7Aig0H2"
   },
   "outputs": [],
   "source": []
  },
  {
   "cell_type": "markdown",
   "metadata": {
    "id": "8iZ-kkuVc5iy"
   },
   "source": [
    "## Explainer \n",
    "### Attention Layer analysis for explanation\n",
    "Extract weights for each word at the attention layer to find out how much influences each word in the classification decision. "
   ]
  },
  {
   "cell_type": "code",
   "execution_count": 92,
   "metadata": {
    "colab": {
     "base_uri": "https://localhost:8080/",
     "height": 35
    },
    "id": "c28nohdec5LU",
    "outputId": "67af5418-405c-47d0-f375-318c842749a1"
   },
   "outputs": [
    {
     "data": {
      "application/vnd.google.colaboratory.intrinsic+json": {
       "type": "string"
      },
      "text/plain": [
       "'Un niño que quería aprender a tocar el Violín y estaba triste por no poder escuchar su sonido debido a su problema de audición, de ahí su tristeza.'"
      ]
     },
     "execution_count": 92,
     "metadata": {
      "tags": []
     },
     "output_type": "execute_result"
    }
   ],
   "source": [
    "# select observation to be explained\n",
    "i = 23\n",
    "txt_instance = alex_df[\"Text\"].iloc[i]\n",
    "txt_instance"
   ]
  },
  {
   "cell_type": "code",
   "execution_count": 94,
   "metadata": {
    "colab": {
     "base_uri": "https://localhost:8080/"
    },
    "id": "gbgHJj2cXxPQ",
    "outputId": "23fb676e-7520-483d-a73d-1f3471921305"
   },
   "outputs": [
    {
     "data": {
      "text/plain": [
       "['niño',\n",
       " 'quería',\n",
       " 'aprender',\n",
       " 'tocar',\n",
       " 'violín',\n",
       " 'triste',\n",
       " 'poder',\n",
       " 'escuchar',\n",
       " 'sonido',\n",
       " 'debido',\n",
       " 'problema',\n",
       " 'audición',\n",
       " 'ahí',\n",
       " 'tristeza']"
      ]
     },
     "execution_count": 94,
     "metadata": {
      "tags": []
     },
     "output_type": "execute_result"
    }
   ],
   "source": [
    "tokens_instance = ast.literal_eval(alex_df[\"Tokens_Stop\"].iloc[i])\n",
    "tokens_instance"
   ]
  },
  {
   "cell_type": "code",
   "execution_count": 95,
   "metadata": {
    "colab": {
     "base_uri": "https://localhost:8080/"
    },
    "id": "MBI17MMpdS49",
    "outputId": "1b17be31-a20d-4b30-8112-2ff33291b8dc"
   },
   "outputs": [
    {
     "name": "stdout",
     "output_type": "stream",
     "text": [
      "True: 0 --> Pred: 0 | Prob: 0.99\n"
     ]
    }
   ],
   "source": [
    "# Check true value and predicted value\n",
    "print(\"True:\", y_test[i], \"--> Pred:\", predicted[i], \"| Prob:\", round(np.max(predicted_prob[i]),2))"
   ]
  },
  {
   "cell_type": "code",
   "execution_count": 100,
   "metadata": {
    "id": "eAoaMokIf2MO"
   },
   "outputs": [],
   "source": [
    "# Preprocessing the instance: \n",
    "X_instance = kprocessing.sequence.pad_sequences(\n",
    "              tokenizer.texts_to_sequences([tokens_instance]), maxlen=MAX_LEN, \n",
    "              padding=\"post\", truncating=\"post\")"
   ]
  },
  {
   "cell_type": "code",
   "execution_count": 101,
   "metadata": {
    "colab": {
     "base_uri": "https://localhost:8080/"
    },
    "id": "E0nwWI2GZ12Z",
    "outputId": "bbbbe4d1-9284-40e8-f01d-074bf4c83363"
   },
   "outputs": [
    {
     "data": {
      "text/plain": [
       "array([[  3,  16,  41,   6,   2,  47,  33, 505, 331, 187, 506, 931,  72,\n",
       "        932,   0,   0,   0,   0,   0,   0]], dtype=int32)"
      ]
     },
     "execution_count": 101,
     "metadata": {
      "tags": []
     },
     "output_type": "execute_result"
    }
   ],
   "source": [
    "X_instance"
   ]
  },
  {
   "cell_type": "code",
   "execution_count": 105,
   "metadata": {
    "id": "kWqmkTJ_Z8jZ"
   },
   "outputs": [],
   "source": [
    "# Get attentions layers from the model: \n",
    "att_layer = [layer for layer in model.layers if \"attention\" in layer.name][0]"
   ]
  },
  {
   "cell_type": "code",
   "execution_count": 106,
   "metadata": {
    "id": "5LgTNfnPagox"
   },
   "outputs": [],
   "source": [
    "func = K.function([model.input], [att_layer.output])\n",
    "att_weights = func(X_instance)[0]"
   ]
  },
  {
   "cell_type": "code",
   "execution_count": 108,
   "metadata": {
    "colab": {
     "base_uri": "https://localhost:8080/"
    },
    "id": "sMk_bQeMbpfR",
    "outputId": "8277e2c4-e214-44d3-c2e8-5f9180b1a61f"
   },
   "outputs": [
    {
     "data": {
      "text/plain": [
       "(1, 20, 400)"
      ]
     },
     "execution_count": 108,
     "metadata": {
      "tags": []
     },
     "output_type": "execute_result"
    }
   ],
   "source": [
    "att_weights.shape"
   ]
  },
  {
   "cell_type": "code",
   "execution_count": 107,
   "metadata": {
    "colab": {
     "base_uri": "https://localhost:8080/"
    },
    "id": "Pv8L4M21bkFA",
    "outputId": "431e5456-b210-410e-a952-7a2f5d67702c"
   },
   "outputs": [
    {
     "data": {
      "text/plain": [
       "array([[[0.04239682, 0.0830788 , 0.00287998, ..., 0.01193997,\n",
       "         0.15438174, 0.07788416],\n",
       "        [0.01136319, 0.0453606 , 0.03605289, ..., 0.01060301,\n",
       "         0.02810443, 0.0076527 ],\n",
       "        [0.12244739, 0.03182303, 0.02611584, ..., 0.02091423,\n",
       "         0.00509572, 0.06181147],\n",
       "        ...,\n",
       "        [0.09093815, 0.03777584, 0.05424997, ..., 0.02915298,\n",
       "         0.01175642, 0.02856686],\n",
       "        [0.04633953, 0.01571235, 0.01918392, ..., 0.08483262,\n",
       "         0.024366  , 0.02827669],\n",
       "        [0.02230701, 0.00939755, 0.10111002, ..., 0.03286755,\n",
       "         0.01055648, 0.01339688]]], dtype=float32)"
      ]
     },
     "execution_count": 107,
     "metadata": {
      "tags": []
     },
     "output_type": "execute_result"
    }
   ],
   "source": [
    "att_weights"
   ]
  },
  {
   "cell_type": "code",
   "execution_count": 109,
   "metadata": {
    "id": "pSckJFDGahwp"
   },
   "outputs": [],
   "source": [
    "# Average weight per sequence position\n",
    "att_weights = np.mean(att_weights, axis=2).flatten()"
   ]
  },
  {
   "cell_type": "code",
   "execution_count": 110,
   "metadata": {
    "colab": {
     "base_uri": "https://localhost:8080/"
    },
    "id": "B3Ii-tarcPVO",
    "outputId": "fb4cc475-fd1f-4bd7-9ed9-18527178bd7e"
   },
   "outputs": [
    {
     "data": {
      "text/plain": [
       "(20,)"
      ]
     },
     "execution_count": 110,
     "metadata": {
      "tags": []
     },
     "output_type": "execute_result"
    }
   ],
   "source": [
    "att_weights.shape"
   ]
  },
  {
   "cell_type": "code",
   "execution_count": 111,
   "metadata": {
    "colab": {
     "base_uri": "https://localhost:8080/"
    },
    "id": "IhPFminYcbYe",
    "outputId": "5dc42aa8-46e0-400f-d04b-6e0821901696"
   },
   "outputs": [
    {
     "data": {
      "text/plain": [
       "array([0.03913404, 0.06626764, 0.05002942, 0.05556699, 0.04290662,\n",
       "       0.05284418, 0.06566373, 0.07198596, 0.06573653, 0.04409574,\n",
       "       0.050504  , 0.05599001, 0.03792918, 0.04053557, 0.05549785,\n",
       "       0.05718025, 0.0405158 , 0.0344428 , 0.03764611, 0.03552755],\n",
       "      dtype=float32)"
      ]
     },
     "execution_count": 111,
     "metadata": {
      "tags": []
     },
     "output_type": "execute_result"
    }
   ],
   "source": [
    "att_weights"
   ]
  },
  {
   "cell_type": "code",
   "execution_count": 113,
   "metadata": {
    "id": "dN1-pMeGcL5W"
   },
   "outputs": [],
   "source": [
    "# Rescale weights:\n",
    "from sklearn import preprocessing\n",
    "att_weights = preprocessing.MinMaxScaler(feature_range=(0,1)).fit_transform(np.array(att_weights).reshape(-1,1)).reshape(-1)"
   ]
  },
  {
   "cell_type": "code",
   "execution_count": 114,
   "metadata": {
    "colab": {
     "base_uri": "https://localhost:8080/"
    },
    "id": "WJvlxilzc66u",
    "outputId": "b99004bd-3257-429a-c1f2-66388e802188"
   },
   "outputs": [
    {
     "data": {
      "text/plain": [
       "array([0.12495595, 0.8476868 , 0.41516536, 0.5626642 , 0.22544259,\n",
       "       0.49013942, 0.83160096, 1.        , 0.83354026, 0.25711602,\n",
       "       0.42780632, 0.57393175, 0.0928635 , 0.16228718, 0.56082267,\n",
       "       0.6056351 , 0.16176063, 0.        , 0.08532351, 0.02889347],\n",
       "      dtype=float32)"
      ]
     },
     "execution_count": 114,
     "metadata": {
      "tags": []
     },
     "output_type": "execute_result"
    }
   ],
   "source": [
    "att_weights"
   ]
  },
  {
   "cell_type": "code",
   "execution_count": 117,
   "metadata": {
    "id": "GG3Rc7tsciyO"
   },
   "outputs": [],
   "source": [
    "# Remove weights of null vectors (sequence padding)\n",
    "att_weights = [att_weights[n] for n,idx in enumerate(X_instance[0]) if idx != 0]"
   ]
  },
  {
   "cell_type": "code",
   "execution_count": 119,
   "metadata": {
    "colab": {
     "base_uri": "https://localhost:8080/"
    },
    "id": "pZ_XTvIFda1u",
    "outputId": "b9dab998-120e-425f-f4a1-9ecdcca6e50b"
   },
   "outputs": [
    {
     "data": {
      "text/plain": [
       "14"
      ]
     },
     "execution_count": 119,
     "metadata": {
      "tags": []
     },
     "output_type": "execute_result"
    }
   ],
   "source": [
    "len(att_weights)"
   ]
  },
  {
   "cell_type": "code",
   "execution_count": 120,
   "metadata": {
    "id": "nyrhcznPci02"
   },
   "outputs": [],
   "source": [
    "# Mapping words with weigths\n",
    "dic_word_weigth = {word:att_weights[n] for n,word in \n",
    "                   enumerate(tokens_instance) if word in \n",
    "                   tokenizer.word_index.keys()}"
   ]
  },
  {
   "cell_type": "code",
   "execution_count": 121,
   "metadata": {
    "colab": {
     "base_uri": "https://localhost:8080/"
    },
    "id": "BiCrNnZjci7X",
    "outputId": "ceab1493-046d-470a-8907-d3559f27bb8e"
   },
   "outputs": [
    {
     "data": {
      "text/plain": [
       "{'ahí': 0.0928635,\n",
       " 'aprender': 0.41516536,\n",
       " 'audición': 0.57393175,\n",
       " 'debido': 0.25711602,\n",
       " 'escuchar': 1.0,\n",
       " 'niño': 0.12495595,\n",
       " 'poder': 0.83160096,\n",
       " 'problema': 0.42780632,\n",
       " 'quería': 0.8476868,\n",
       " 'sonido': 0.83354026,\n",
       " 'tocar': 0.5626642,\n",
       " 'triste': 0.49013942,\n",
       " 'tristeza': 0.16228718,\n",
       " 'violín': 0.22544259}"
      ]
     },
     "execution_count": 121,
     "metadata": {
      "tags": []
     },
     "output_type": "execute_result"
    }
   ],
   "source": [
    "dic_word_weigth"
   ]
  },
  {
   "cell_type": "code",
   "execution_count": 126,
   "metadata": {
    "colab": {
     "base_uri": "https://localhost:8080/",
     "height": 265
    },
    "id": "SB0l4oYud9OL",
    "outputId": "39141c57-b0ba-483b-8b42-3a6e5a012c11"
   },
   "outputs": [
    {
     "data": {
      "image/png": "[encoded data removed]",
      "text/plain": [
       "<Figure size 432x288 with 1 Axes>"
      ]
     },
     "metadata": {
      "needs_background": "light",
      "tags": []
     },
     "output_type": "display_data"
    }
   ],
   "source": [
    "# See that in a barplot\n",
    "top_N = 10\n",
    "if len(dic_word_weigth) > 0:\n",
    "   dtf = pd.DataFrame.from_dict(dic_word_weigth, orient='index', \n",
    "                                columns=[\"score\"])\n",
    "   dtf.sort_values(by=\"score\", \n",
    "           ascending=True).tail(top_N).plot(kind=\"barh\", \n",
    "           legend=False).grid(axis='x')\n",
    "   plt.show()\n",
    "else:\n",
    "   print(\"--- No word recognized ---\")"
   ]
  },
  {
   "cell_type": "code",
   "execution_count": 127,
   "metadata": {
    "id": "MhpogSl4eUF5"
   },
   "outputs": [],
   "source": [
    "# Enriched text (HTML) visualization\n",
    "text = []\n",
    "for word in tokens_instance:\n",
    "    weight = dic_word_weigth.get(word)\n",
    "    if weight is not None:\n",
    "         text.append('<b><span style=\"background-color:rgba(100,149,237,' + str(weight) + ');\">' + word + '</span></b>')\n",
    "    else:\n",
    "         text.append(word)\n",
    "text = ' '.join(text)"
   ]
  },
  {
   "cell_type": "code",
   "execution_count": 130,
   "metadata": {
    "colab": {
     "base_uri": "https://localhost:8080/",
     "height": 50
    },
    "id": "lxImmZUwfn5x",
    "outputId": "5d5520bc-0485-4af0-c515-828b29f81d4b"
   },
   "outputs": [
    {
     "name": "stdout",
     "output_type": "stream",
     "text": [
      "Text with highlighted words by importance (attention):\n"
     ]
    },
    {
     "data": {
      "text/html": [
       "<b><span style=\"background-color:rgba(100,149,237,0.12495595);\">niño</span></b> <b><span style=\"background-color:rgba(100,149,237,0.8476868);\">quería</span></b> <b><span style=\"background-color:rgba(100,149,237,0.41516536);\">aprender</span></b> <b><span style=\"background-color:rgba(100,149,237,0.5626642);\">tocar</span></b> <b><span style=\"background-color:rgba(100,149,237,0.22544259);\">violín</span></b> <b><span style=\"background-color:rgba(100,149,237,0.49013942);\">triste</span></b> <b><span style=\"background-color:rgba(100,149,237,0.83160096);\">poder</span></b> <b><span style=\"background-color:rgba(100,149,237,1.0);\">escuchar</span></b> <b><span style=\"background-color:rgba(100,149,237,0.83354026);\">sonido</span></b> <b><span style=\"background-color:rgba(100,149,237,0.25711602);\">debido</span></b> <b><span style=\"background-color:rgba(100,149,237,0.42780632);\">problema</span></b> <b><span style=\"background-color:rgba(100,149,237,0.57393175);\">audición</span></b> <b><span style=\"background-color:rgba(100,149,237,0.0928635);\">ahí</span></b> <b><span style=\"background-color:rgba(100,149,237,0.16228718);\">tristeza</span></b>"
      ],
      "text/plain": [
       "<IPython.core.display.HTML object>"
      ]
     },
     "metadata": {
      "tags": []
     },
     "output_type": "display_data"
    }
   ],
   "source": [
    "print(\"Text with highlighted words by importance (attention):\")\n",
    "from IPython.core.display import display, HTML\n",
    "display(HTML(text))"
   ]
  },
  {
   "cell_type": "code",
   "execution_count": null,
   "metadata": {
    "id": "HnWTNro_furJ"
   },
   "outputs": [],
   "source": []
  }
 ],
 "metadata": {
  "accelerator": "GPU",
  "colab": {
   "name": "11b_BiLSTM_Attention.ipynb",
   "provenance": []
  },
  "kernelspec": {
   "display_name": "Python 3",
   "language": "python",
   "name": "python3"
  },
  "language_info": {
   "codemirror_mode": {
    "name": "ipython",
    "version": 3
   },
   "file_extension": ".py",
   "mimetype": "text/x-python",
   "name": "python",
   "nbconvert_exporter": "python",
   "pygments_lexer": "ipython3",
   "version": "3.7.3"
  }
 },
 "nbformat": 4,
 "nbformat_minor": 1
}
