{
 "cells": [
  {
   "cell_type": "markdown",
   "metadata": {},
   "source": [
    "## Language Analysis of Alexithymic Discourse\n",
    "\n",
    "<hr>\n",
    "\n",
    "Alexithymic Language Project / raul@psicobotica.com / V2 release (sept 2020)\n",
    "\n",
    "<hr>\n",
    "\n",
    "### Dataset preprocessing\n",
    "\n",
    "- Dataset load / cleansing. \n",
    "- Apply participant inclusion/exclusion criteria. \n",
    "- Descriptive analysis.\n",
    "- Dichotomous / class variable calculation (pos/neg alexithymia). \n",
    "- Text Processing: Tokenization. \n",
    "- Text Processing: Stop words. \n",
    "- Text Processing: Stemming. \n",
    "- Text Processing: POS Tagging. \n",
    "- Text Processing: NER Tagging. \n",
    "- Text Processing: Lexical Parsing.\n",
    "- Text Processing: Dependency Parsing.\n"
   ]
  },
  {
   "cell_type": "markdown",
   "metadata": {},
   "source": [
    "### Dataset load"
   ]
  },
  {
   "cell_type": "code",
   "execution_count": 1,
   "metadata": {},
   "outputs": [],
   "source": [
    "import pandas as pd \n",
    "import numpy as np\n",
    "from scipy import stats\n",
    "\n",
    "from sklearn.metrics import cohen_kappa_score\n",
    "\n",
    "%matplotlib inline\n",
    "import matplotlib.pyplot as plt "
   ]
  },
  {
   "cell_type": "code",
   "execution_count": 2,
   "metadata": {},
   "outputs": [],
   "source": [
    "prolexitim_dataset_path = \"https://raw.githubusercontent.com/raul-arrabales/alexithymic-lang/master/data/Prolexitim_v2_tagged.csv\"\n",
    "\n",
    "alex_df = pd.read_csv(prolexitim_dataset_path, header=0, delimiter=\";\")"
   ]
  },
  {
   "cell_type": "code",
   "execution_count": 3,
   "metadata": {},
   "outputs": [],
   "source": [
    "# Keep only adults\n",
    "alex_df = alex_df.drop(alex_df[alex_df.Age < 18].index) \n",
    "alex_df = alex_df.drop(alex_df[alex_df.Age > 65].index) "
   ]
  },
  {
   "cell_type": "code",
   "execution_count": 4,
   "metadata": {},
   "outputs": [
    {
     "data": {
      "text/html": [
       "<div>\n",
       "<style scoped>\n",
       "    .dataframe tbody tr th:only-of-type {\n",
       "        vertical-align: middle;\n",
       "    }\n",
       "\n",
       "    .dataframe tbody tr th {\n",
       "        vertical-align: top;\n",
       "    }\n",
       "\n",
       "    .dataframe thead th {\n",
       "        text-align: right;\n",
       "    }\n",
       "</style>\n",
       "<table border=\"1\" class=\"dataframe\">\n",
       "  <thead>\n",
       "    <tr style=\"text-align: right;\">\n",
       "      <th></th>\n",
       "      <th>Code</th>\n",
       "      <th>TAS20</th>\n",
       "      <th>F1</th>\n",
       "      <th>F2</th>\n",
       "      <th>F3</th>\n",
       "      <th>Gender</th>\n",
       "      <th>Age</th>\n",
       "      <th>Card</th>\n",
       "      <th>T_Metaphors</th>\n",
       "      <th>T_ToM</th>\n",
       "      <th>T_FP</th>\n",
       "      <th>T_Interpret</th>\n",
       "      <th>T_Desc</th>\n",
       "      <th>T_Confussion</th>\n",
       "      <th>Text</th>\n",
       "    </tr>\n",
       "  </thead>\n",
       "  <tbody>\n",
       "    <tr>\n",
       "      <th>0</th>\n",
       "      <td>bc39e22ca5dba59fbd97c27987878f56</td>\n",
       "      <td>40</td>\n",
       "      <td>16</td>\n",
       "      <td>9</td>\n",
       "      <td>15</td>\n",
       "      <td>2</td>\n",
       "      <td>22</td>\n",
       "      <td>1</td>\n",
       "      <td>0</td>\n",
       "      <td>1</td>\n",
       "      <td>0</td>\n",
       "      <td>1</td>\n",
       "      <td>0</td>\n",
       "      <td>0</td>\n",
       "      <td>es un niño pensando en cual es la respuesta de...</td>\n",
       "    </tr>\n",
       "    <tr>\n",
       "      <th>1</th>\n",
       "      <td>bc39e22ca5dba59fbd97c27987878f56</td>\n",
       "      <td>40</td>\n",
       "      <td>16</td>\n",
       "      <td>9</td>\n",
       "      <td>15</td>\n",
       "      <td>2</td>\n",
       "      <td>22</td>\n",
       "      <td>9VH</td>\n",
       "      <td>0</td>\n",
       "      <td>0</td>\n",
       "      <td>0</td>\n",
       "      <td>1</td>\n",
       "      <td>0</td>\n",
       "      <td>0</td>\n",
       "      <td>soldados descansando.</td>\n",
       "    </tr>\n",
       "    <tr>\n",
       "      <th>2</th>\n",
       "      <td>bc39e22ca5dba59fbd97c27987878f56</td>\n",
       "      <td>40</td>\n",
       "      <td>16</td>\n",
       "      <td>9</td>\n",
       "      <td>15</td>\n",
       "      <td>2</td>\n",
       "      <td>22</td>\n",
       "      <td>11</td>\n",
       "      <td>0</td>\n",
       "      <td>0</td>\n",
       "      <td>0</td>\n",
       "      <td>0</td>\n",
       "      <td>1</td>\n",
       "      <td>0</td>\n",
       "      <td>Una cascada.</td>\n",
       "    </tr>\n",
       "    <tr>\n",
       "      <th>3</th>\n",
       "      <td>bc39e22ca5dba59fbd97c27987878f56</td>\n",
       "      <td>40</td>\n",
       "      <td>16</td>\n",
       "      <td>9</td>\n",
       "      <td>15</td>\n",
       "      <td>2</td>\n",
       "      <td>22</td>\n",
       "      <td>13HM</td>\n",
       "      <td>0</td>\n",
       "      <td>1</td>\n",
       "      <td>0</td>\n",
       "      <td>0</td>\n",
       "      <td>0</td>\n",
       "      <td>0</td>\n",
       "      <td>hombre llorando porque su mujer ha muerto.</td>\n",
       "    </tr>\n",
       "    <tr>\n",
       "      <th>4</th>\n",
       "      <td>20cd825cadb95a71763bad06e142c148</td>\n",
       "      <td>40</td>\n",
       "      <td>12</td>\n",
       "      <td>10</td>\n",
       "      <td>18</td>\n",
       "      <td>2</td>\n",
       "      <td>22</td>\n",
       "      <td>1</td>\n",
       "      <td>0</td>\n",
       "      <td>1</td>\n",
       "      <td>0</td>\n",
       "      <td>0</td>\n",
       "      <td>0</td>\n",
       "      <td>0</td>\n",
       "      <td>un Niño cansado de estudiar y presionado por s...</td>\n",
       "    </tr>\n",
       "  </tbody>\n",
       "</table>\n",
       "</div>"
      ],
      "text/plain": [
       "                               Code  TAS20  F1  F2  F3  Gender  Age  Card  \\\n",
       "0  bc39e22ca5dba59fbd97c27987878f56     40  16   9  15       2   22     1   \n",
       "1  bc39e22ca5dba59fbd97c27987878f56     40  16   9  15       2   22   9VH   \n",
       "2  bc39e22ca5dba59fbd97c27987878f56     40  16   9  15       2   22    11   \n",
       "3  bc39e22ca5dba59fbd97c27987878f56     40  16   9  15       2   22  13HM   \n",
       "4  20cd825cadb95a71763bad06e142c148     40  12  10  18       2   22     1   \n",
       "\n",
       "   T_Metaphors  T_ToM  T_FP  T_Interpret  T_Desc  T_Confussion  \\\n",
       "0            0      1     0            1       0             0   \n",
       "1            0      0     0            1       0             0   \n",
       "2            0      0     0            0       1             0   \n",
       "3            0      1     0            0       0             0   \n",
       "4            0      1     0            0       0             0   \n",
       "\n",
       "                                                Text  \n",
       "0  es un niño pensando en cual es la respuesta de...  \n",
       "1                              soldados descansando.  \n",
       "2                                       Una cascada.  \n",
       "3         hombre llorando porque su mujer ha muerto.  \n",
       "4  un Niño cansado de estudiar y presionado por s...  "
      ]
     },
     "execution_count": 4,
     "metadata": {},
     "output_type": "execute_result"
    }
   ],
   "source": [
    "alex_df.head()"
   ]
  },
  {
   "cell_type": "code",
   "execution_count": 5,
   "metadata": {},
   "outputs": [
    {
     "data": {
      "text/plain": [
       "Code            396\n",
       "TAS20           396\n",
       "F1              396\n",
       "F2              396\n",
       "F3              396\n",
       "Gender          396\n",
       "Age             396\n",
       "Card            396\n",
       "T_Metaphors     396\n",
       "T_ToM           396\n",
       "T_FP            396\n",
       "T_Interpret     396\n",
       "T_Desc          396\n",
       "T_Confussion    396\n",
       "Text            396\n",
       "dtype: int64"
      ]
     },
     "execution_count": 5,
     "metadata": {},
     "output_type": "execute_result"
    }
   ],
   "source": [
    "alex_df.count()"
   ]
  },
  {
   "cell_type": "code",
   "execution_count": 6,
   "metadata": {},
   "outputs": [
    {
     "data": {
      "text/plain": [
       "False"
      ]
     },
     "execution_count": 6,
     "metadata": {},
     "output_type": "execute_result"
    }
   ],
   "source": [
    "alex_df.isnull().values.any()"
   ]
  },
  {
   "cell_type": "code",
   "execution_count": 7,
   "metadata": {},
   "outputs": [
    {
     "data": {
      "text/html": [
       "<div>\n",
       "<style scoped>\n",
       "    .dataframe tbody tr th:only-of-type {\n",
       "        vertical-align: middle;\n",
       "    }\n",
       "\n",
       "    .dataframe tbody tr th {\n",
       "        vertical-align: top;\n",
       "    }\n",
       "\n",
       "    .dataframe thead th {\n",
       "        text-align: right;\n",
       "    }\n",
       "</style>\n",
       "<table border=\"1\" class=\"dataframe\">\n",
       "  <thead>\n",
       "    <tr style=\"text-align: right;\">\n",
       "      <th></th>\n",
       "      <th>Code</th>\n",
       "      <th>TAS20</th>\n",
       "      <th>F1</th>\n",
       "      <th>F2</th>\n",
       "      <th>F3</th>\n",
       "      <th>Gender</th>\n",
       "      <th>Age</th>\n",
       "      <th>Card</th>\n",
       "      <th>T_Metaphors</th>\n",
       "      <th>T_ToM</th>\n",
       "      <th>T_FP</th>\n",
       "      <th>T_Interpret</th>\n",
       "      <th>T_Desc</th>\n",
       "      <th>T_Confussion</th>\n",
       "      <th>Text</th>\n",
       "    </tr>\n",
       "  </thead>\n",
       "  <tbody>\n",
       "  </tbody>\n",
       "</table>\n",
       "</div>"
      ],
      "text/plain": [
       "Empty DataFrame\n",
       "Columns: [Code, TAS20, F1, F2, F3, Gender, Age, Card, T_Metaphors, T_ToM, T_FP, T_Interpret, T_Desc, T_Confussion, Text]\n",
       "Index: []"
      ]
     },
     "execution_count": 7,
     "metadata": {},
     "output_type": "execute_result"
    }
   ],
   "source": [
    "df_na = alex_df[alex_df.isna().any(axis=1)]\n",
    "df_null = alex_df[alex_df.isnull().any(axis=1)]\n",
    "df_na"
   ]
  },
  {
   "cell_type": "markdown",
   "metadata": {},
   "source": [
    "### Gender and Age stats"
   ]
  },
  {
   "cell_type": "code",
   "execution_count": 8,
   "metadata": {},
   "outputs": [
    {
     "data": {
      "text/plain": [
       "count    396.000000\n",
       "mean      34.664141\n",
       "std       12.310367\n",
       "min       18.000000\n",
       "25%       24.000000\n",
       "50%       35.500000\n",
       "75%       43.000000\n",
       "max       61.000000\n",
       "Name: Age, dtype: float64"
      ]
     },
     "execution_count": 8,
     "metadata": {},
     "output_type": "execute_result"
    }
   ],
   "source": [
    "alex_df.Age.describe()"
   ]
  },
  {
   "cell_type": "code",
   "execution_count": 9,
   "metadata": {},
   "outputs": [],
   "source": [
    "# alex_df.Age.plot.hist(by=None, bins=20)"
   ]
  },
  {
   "cell_type": "code",
   "execution_count": 10,
   "metadata": {},
   "outputs": [
    {
     "data": {
      "text/plain": [
       "2    254\n",
       "1    142\n",
       "Name: Gender, dtype: int64"
      ]
     },
     "execution_count": 10,
     "metadata": {},
     "output_type": "execute_result"
    }
   ],
   "source": [
    "alex_df.Gender.value_counts()"
   ]
  },
  {
   "cell_type": "markdown",
   "metadata": {},
   "source": [
    "### Build categorical TAS-20 variables\n",
    "\n",
    "**Cutoff scoring - Criterion A** (column Alex-A):\n",
    "\n",
    "Bagby, R. M., Parker, J. D. A. & Taylor, G. J. (1994). The twenty-item Toronto Alexithymia Scale-I. Item selection and cross-validation of the factor structure. Journal of Psychosomatic Research, 38, 23-32.\n",
    "\n",
    "- Equal to or less than 51 = non-alexithymia.\n",
    "- Scores of 52 to 60 = possible alexithymia.\n",
    "- Equal to or greater than 61 = alexithymia.\n",
    "\n",
    "Expressed into a dichotomous variable: \n",
    "- Positive (TAS-20 >= 61)\n",
    "- Negative (TAS-20 < 61)\n",
    "\n",
    "\n",
    "**Cutoff scoring - Criterion B** (column Alex-B):\n",
    "\n",
    "Loas, G., Otmani, O., Fremaux, D., Lecercle, C., Duflot, M., & Delahousse, J. (1996). External validity, reliability and basic score determination of the Toronto Alexithymia Scales (TAS and TAS-20) in a group of alcoholic patients. L'Encephale, 22(1), 35-40.\n",
    "\n",
    "- Score less that 44 for non-alexithymia has been also considered.\n",
    "- Scores of 45 to 55 = possible alexithymia.\n",
    "- Equal to or greater than 56 = alexithymia.\n",
    "\n",
    "Expressed into a dichotomous variable: \n",
    "- Positive (TAS-20 >= 56)\n",
    "- Negative (TAS-20 < 56)"
   ]
  },
  {
   "cell_type": "code",
   "execution_count": 11,
   "metadata": {},
   "outputs": [],
   "source": [
    "alex_df['Alex_A'] = np.where(alex_df['TAS20']>=61, 1, 0)\n",
    "alex_df['Alex_B'] = np.where(alex_df['TAS20']>=56, 1, 0)"
   ]
  },
  {
   "cell_type": "code",
   "execution_count": 12,
   "metadata": {},
   "outputs": [
    {
     "data": {
      "text/plain": [
       "PointbiserialrResult(correlation=0.8714893406611904, pvalue=5.561988739894539e-124)"
      ]
     },
     "execution_count": 12,
     "metadata": {},
     "output_type": "execute_result"
    }
   ],
   "source": [
    "# How much the two criteria differ? \n",
    "\n",
    "# Point biserial correlation\n",
    "stats.pointbiserialr( alex_df.Alex_A, alex_df.Alex_B )"
   ]
  },
  {
   "cell_type": "code",
   "execution_count": 13,
   "metadata": {},
   "outputs": [],
   "source": [
    "# alex_df[['Alex_A', 'Alex_B']].corr()"
   ]
  },
  {
   "cell_type": "code",
   "execution_count": 14,
   "metadata": {},
   "outputs": [
    {
     "data": {
      "text/plain": [
       "0.8633093525179856"
      ]
     },
     "execution_count": 14,
     "metadata": {},
     "output_type": "execute_result"
    }
   ],
   "source": [
    "# Inter-rater reliability\n",
    "cohen_kappa_score( alex_df.Alex_A, alex_df.Alex_B )"
   ]
  },
  {
   "cell_type": "code",
   "execution_count": 15,
   "metadata": {},
   "outputs": [
    {
     "data": {
      "text/plain": [
       "0    316\n",
       "1     80\n",
       "Name: Alex_A, dtype: int64"
      ]
     },
     "execution_count": 15,
     "metadata": {},
     "output_type": "execute_result"
    }
   ],
   "source": [
    "alex_df.Alex_A.value_counts()"
   ]
  },
  {
   "cell_type": "code",
   "execution_count": 16,
   "metadata": {},
   "outputs": [
    {
     "data": {
      "text/plain": [
       "0    297\n",
       "1     99\n",
       "Name: Alex_B, dtype: int64"
      ]
     },
     "execution_count": 16,
     "metadata": {},
     "output_type": "execute_result"
    }
   ],
   "source": [
    "alex_df.Alex_B.value_counts()"
   ]
  },
  {
   "cell_type": "markdown",
   "metadata": {},
   "source": [
    "### Document features"
   ]
  },
  {
   "cell_type": "code",
   "execution_count": 17,
   "metadata": {},
   "outputs": [],
   "source": [
    "# Add text length in words\n",
    "alex_df['Words'] = alex_df.apply(lambda row: len(row.Text.split()), axis=1)"
   ]
  },
  {
   "cell_type": "code",
   "execution_count": 18,
   "metadata": {},
   "outputs": [
    {
     "data": {
      "text/plain": [
       "<matplotlib.axes._subplots.AxesSubplot at 0x1571fe75a20>"
      ]
     },
     "execution_count": 18,
     "metadata": {},
     "output_type": "execute_result"
    },
    {
     "data": {
      "image/png": "[encoded data removed]",
      "text/plain": [
       "<Figure size 432x288 with 1 Axes>"
      ]
     },
     "metadata": {
      "needs_background": "light"
     },
     "output_type": "display_data"
    }
   ],
   "source": [
    "alex_df.Words.plot.hist(by=None, bins=20)"
   ]
  },
  {
   "cell_type": "code",
   "execution_count": 19,
   "metadata": {},
   "outputs": [
    {
     "data": {
      "text/plain": [
       "count    396.000000\n",
       "mean      35.575758\n",
       "std       35.013586\n",
       "min        1.000000\n",
       "25%       16.000000\n",
       "50%       28.000000\n",
       "75%       45.250000\n",
       "max      468.000000\n",
       "Name: Words, dtype: float64"
      ]
     },
     "execution_count": 19,
     "metadata": {},
     "output_type": "execute_result"
    }
   ],
   "source": [
    "alex_df.Words.describe()"
   ]
  },
  {
   "cell_type": "code",
   "execution_count": 20,
   "metadata": {},
   "outputs": [],
   "source": [
    "# Add text length in sentences\n",
    "alex_df['Sentences'] = alex_df.apply(lambda row: len(row.Text.split('.')), axis=1)"
   ]
  },
  {
   "cell_type": "code",
   "execution_count": 21,
   "metadata": {},
   "outputs": [
    {
     "data": {
      "text/plain": [
       "<matplotlib.axes._subplots.AxesSubplot at 0x1572019aa90>"
      ]
     },
     "execution_count": 21,
     "metadata": {},
     "output_type": "execute_result"
    },
    {
     "data": {
      "image/png": "[encoded data removed]",
      "text/plain": [
       "<Figure size 432x288 with 1 Axes>"
      ]
     },
     "metadata": {
      "needs_background": "light"
     },
     "output_type": "display_data"
    }
   ],
   "source": [
    "alex_df.Sentences.plot.hist(by=None, bins=20)"
   ]
  },
  {
   "cell_type": "code",
   "execution_count": 22,
   "metadata": {},
   "outputs": [
    {
     "data": {
      "text/plain": [
       "count    396.000000\n",
       "mean       3.063131\n",
       "std        1.915574\n",
       "min        1.000000\n",
       "25%        2.000000\n",
       "50%        2.000000\n",
       "75%        3.000000\n",
       "max       19.000000\n",
       "Name: Sentences, dtype: float64"
      ]
     },
     "execution_count": 22,
     "metadata": {},
     "output_type": "execute_result"
    }
   ],
   "source": [
    "alex_df.Sentences.describe()"
   ]
  },
  {
   "cell_type": "markdown",
   "metadata": {},
   "source": [
    "## Text Processing"
   ]
  },
  {
   "cell_type": "code",
   "execution_count": 36,
   "metadata": {},
   "outputs": [],
   "source": [
    "# Using nltk for text processing\n",
    "import nltk\n",
    "from nltk.tokenize import RegexpTokenizer \n",
    "from nltk.corpus import stopwords\n",
    "from nltk.stem.porter import PorterStemmer\n",
    "from nltk.tag.stanford import StanfordPOSTagger\n",
    "from nltk.parse import CoreNLPParser"
   ]
  },
  {
   "cell_type": "markdown",
   "metadata": {},
   "source": [
    "### Tokenization"
   ]
  },
  {
   "cell_type": "code",
   "execution_count": 24,
   "metadata": {},
   "outputs": [],
   "source": [
    "# Reg Exp Tokenizer\n",
    "tokenizer = RegexpTokenizer(r'\\w+')"
   ]
  },
  {
   "cell_type": "code",
   "execution_count": 25,
   "metadata": {},
   "outputs": [],
   "source": [
    "# Add column with list of tokens for each document\n",
    "alex_df['Tokens'] = alex_df.apply(lambda row: tokenizer.tokenize(row.Text.lower()), axis=1) "
   ]
  },
  {
   "cell_type": "markdown",
   "metadata": {},
   "source": [
    "### Stop words"
   ]
  },
  {
   "cell_type": "code",
   "execution_count": 26,
   "metadata": {},
   "outputs": [],
   "source": [
    "# Stop words in Spanish \n",
    "es_stop = set(stopwords.words('spanish'))"
   ]
  },
  {
   "cell_type": "code",
   "execution_count": 27,
   "metadata": {},
   "outputs": [],
   "source": [
    "# Add column with list of stopped tokens for each document\n",
    "alex_df['Tokens_Stop'] = alex_df.apply(lambda row: [i for i in row.Tokens if not i in es_stop], axis=1) "
   ]
  },
  {
   "cell_type": "markdown",
   "metadata": {},
   "source": [
    "### Stemming"
   ]
  },
  {
   "cell_type": "code",
   "execution_count": 28,
   "metadata": {},
   "outputs": [],
   "source": [
    "# Porter stemmer\n",
    "p_stemmer = PorterStemmer() "
   ]
  },
  {
   "cell_type": "code",
   "execution_count": 29,
   "metadata": {},
   "outputs": [],
   "source": [
    "# Add column with list of stemmed tokens for each document\n",
    "alex_df['Tokens_Stem'] = alex_df.apply(lambda row: [p_stemmer.stem(i) for i in row.Tokens_Stop], axis=1) "
   ]
  },
  {
   "cell_type": "markdown",
   "metadata": {},
   "source": [
    "### POS Tagging"
   ]
  },
  {
   "cell_type": "code",
   "execution_count": 30,
   "metadata": {},
   "outputs": [],
   "source": [
    "# POS Tagging load (prep)\n",
    "# Stanford POS tagger is a JAVA class invoked by nltk\n",
    "import os\n",
    "java_path = \"C:\\Program Files (x86)\\Common Files\\Oracle\\Java\\javapath\"\n",
    "os.environ['JAVAHOME'] = java_path"
   ]
  },
  {
   "cell_type": "code",
   "execution_count": 31,
   "metadata": {
    "scrolled": true
   },
   "outputs": [],
   "source": [
    "# POS Tagging load \n",
    "\n",
    "spanish_postagger = StanfordPOSTagger('models/spanish.tagger', 'stanford-postagger.jar')"
   ]
  },
  {
   "cell_type": "code",
   "execution_count": 32,
   "metadata": {},
   "outputs": [
    {
     "data": {
      "text/plain": [
       "[('Esta', 'PRON'),\n",
       " ('es', 'AUX'),\n",
       " ('la', 'DET'),\n",
       " ('frase', 'NOUN'),\n",
       " ('más', 'ADV'),\n",
       " ('complicada', 'ADJ'),\n",
       " ('del', 'ADP'),\n",
       " ('mundo.', 'PROPN')]"
      ]
     },
     "execution_count": 32,
     "metadata": {},
     "output_type": "execute_result"
    }
   ],
   "source": [
    "spanish_postagger.tag('Esta es la frase más complicada del mundo.'.split())"
   ]
  },
  {
   "cell_type": "code",
   "execution_count": 33,
   "metadata": {},
   "outputs": [],
   "source": [
    "# Add column with POS Tagging\n",
    "# alex_df['POS'] = alex_df.apply(lambda row: spanish_postagger.tag(row.Text.lower().split()), axis=1) "
   ]
  },
  {
   "cell_type": "code",
   "execution_count": 34,
   "metadata": {},
   "outputs": [],
   "source": [
    "# alex_df"
   ]
  },
  {
   "cell_type": "code",
   "execution_count": 37,
   "metadata": {},
   "outputs": [],
   "source": [
    "# Perform pos tagging with the server\n",
    "pos_tagger_srv = CoreNLPParser(url='http://localhost:9000', tagtype='pos')"
   ]
  },
  {
   "cell_type": "code",
   "execution_count": 38,
   "metadata": {},
   "outputs": [],
   "source": [
    "# Add column with POS Tagging (server)\n",
    "alex_df['POS'] = alex_df.apply(lambda row: pos_tagger_srv.tag(row.Text.lower().split()), axis=1) "
   ]
  },
  {
   "cell_type": "code",
   "execution_count": 39,
   "metadata": {},
   "outputs": [],
   "source": [
    "# alex_df"
   ]
  },
  {
   "cell_type": "markdown",
   "metadata": {},
   "source": [
    "### Named Entity Recognition (NER)"
   ]
  },
  {
   "cell_type": "code",
   "execution_count": 40,
   "metadata": {},
   "outputs": [],
   "source": [
    "from nltk.tag.stanford import StanfordNERTagger"
   ]
  },
  {
   "cell_type": "code",
   "execution_count": 41,
   "metadata": {},
   "outputs": [],
   "source": [
    "# spanish_ner_tagger = StanfordNERTagger('models/spanish.ancora.distsim.s512.crf.ser.gz', 'stanford-ner.jar', encoding='utf8')\n",
    "\n",
    "spanish_ner_tagger = StanfordNERTagger('models/spanish.kbp.ancora.distsim.s512.crf.ser.gz', 'stanford-ner.jar', encoding='utf8') "
   ]
  },
  {
   "cell_type": "code",
   "execution_count": 42,
   "metadata": {},
   "outputs": [
    {
     "data": {
      "text/plain": [
       "[('Jorge', 'PERSON'),\n",
       " ('Perez', 'PERSON'),\n",
       " ('era', 'O'),\n",
       " ('amigo', 'O'),\n",
       " ('de', 'O'),\n",
       " ('Bill', 'PERSON'),\n",
       " ('Gates,', 'PERSON'),\n",
       " ('pero', 'O'),\n",
       " ('luego', 'O'),\n",
       " ('se', 'O'),\n",
       " ('fue', 'O'),\n",
       " ('a', 'O'),\n",
       " ('Croacia,', 'O'),\n",
       " ('que', 'O'),\n",
       " ('es', 'O'),\n",
       " ('parte', 'O'),\n",
       " ('de', 'O'),\n",
       " ('la', 'O'),\n",
       " ('Unión', 'ORGANIZATION'),\n",
       " ('Europea', 'ORGANIZATION')]"
      ]
     },
     "execution_count": 42,
     "metadata": {},
     "output_type": "execute_result"
    }
   ],
   "source": [
    "spanish_ner_tagger.tag('Jorge Perez era amigo de Bill Gates, pero luego se fue a Croacia, que es parte de la Unión Europea'.split())"
   ]
  },
  {
   "cell_type": "code",
   "execution_count": 43,
   "metadata": {},
   "outputs": [],
   "source": [
    "# Add column with NER Tagging\n",
    "# alex_df['NER'] = alex_df.apply(lambda row: spanish_ner_tagger.tag(row.Text.lower().split()), axis=1) "
   ]
  },
  {
   "cell_type": "code",
   "execution_count": 45,
   "metadata": {},
   "outputs": [
    {
     "data": {
      "text/plain": [
       "'\\nwc = 0\\nfor i in alex_df.NER:\\n    for j in i:\\n        wc += 1\\n        if j[1] != \\'O\\':\\n            print(\\'Word: \\' + j[0] + \", Entity: \" + j[1])\\nprint(\\'%d words processed\\' % wc)\\n'"
      ]
     },
     "execution_count": 45,
     "metadata": {},
     "output_type": "execute_result"
    }
   ],
   "source": [
    "\"\"\"\n",
    "wc = 0\n",
    "for i in alex_df.NER:\n",
    "    for j in i:\n",
    "        wc += 1\n",
    "        if j[1] != 'O':\n",
    "            print('Word: ' + j[0] + \", Entity: \" + j[1])\n",
    "print('%d words processed' % wc)\n",
    "\"\"\""
   ]
  },
  {
   "cell_type": "code",
   "execution_count": 46,
   "metadata": {},
   "outputs": [],
   "source": [
    "# Same net tagging, now via server (just checking performance)\n",
    "ner_tagger_srv = CoreNLPParser(url='http://localhost:9000', tagtype='ner') "
   ]
  },
  {
   "cell_type": "code",
   "execution_count": 47,
   "metadata": {},
   "outputs": [
    {
     "data": {
      "text/plain": [
       "[('Jorge', 'PERSON'),\n",
       " ('Perez', 'PERSON'),\n",
       " ('era', 'O'),\n",
       " ('amigo', 'O'),\n",
       " ('de', 'O'),\n",
       " ('Bill', 'PERSON'),\n",
       " ('Gates', 'PERSON'),\n",
       " (',', 'O'),\n",
       " ('pero', 'O'),\n",
       " ('luego', 'O'),\n",
       " ('se', 'O'),\n",
       " ('fue', 'O'),\n",
       " ('a', 'O'),\n",
       " ('Croacia', 'COUNTRY'),\n",
       " (',', 'O'),\n",
       " ('que', 'O'),\n",
       " ('es', 'O'),\n",
       " ('parte', 'O'),\n",
       " ('de', 'O'),\n",
       " ('la', 'O'),\n",
       " ('Unión', 'ORGANIZATION'),\n",
       " ('Europea', 'ORGANIZATION')]"
      ]
     },
     "execution_count": 47,
     "metadata": {},
     "output_type": "execute_result"
    }
   ],
   "source": [
    "list(ner_tagger_srv.tag('Jorge Perez era amigo de Bill Gates, pero luego se fue a Croacia, que es parte de la Unión Europea'.split()))"
   ]
  },
  {
   "cell_type": "code",
   "execution_count": 48,
   "metadata": {},
   "outputs": [],
   "source": [
    "# Add column with NER Tagging (from server)\n",
    "alex_df['NER'] = alex_df.apply(lambda row: ner_tagger_srv.tag(row.Text.lower().split()), axis=1) "
   ]
  },
  {
   "cell_type": "code",
   "execution_count": 49,
   "metadata": {},
   "outputs": [
    {
     "name": "stdout",
     "output_type": "stream",
     "text": [
      "Word: 10, Entity: NUMBER\n",
      "Word: profesor, Entity: TITLE\n",
      "Word: profesor, Entity: TITLE\n",
      "Word: mañana, Entity: DATE\n",
      "Word: dos, Entity: NUMBER\n",
      "Word: mañana, Entity: DATE\n",
      "Word: 15, Entity: NUMBER\n",
      "Word: mañana, Entity: DATE\n",
      "Word: cáncer, Entity: CAUSE_OF_DEATH\n",
      "Word: río, Entity: TITLE\n",
      "Word: mañana, Entity: DATE\n",
      "Word: dos, Entity: NUMBER\n",
      "Word: batería, Entity: TITLE\n",
      "Word: río, Entity: TITLE\n",
      "Word: mañana, Entity: DATE\n",
      "Word: cuatro, Entity: NUMBER\n",
      "Word: profesor, Entity: TITLE\n",
      "Word: profesor, Entity: TITLE\n",
      "Word: cuatro, Entity: NUMBER\n",
      "Word: dos, Entity: NUMBER\n",
      "Word: tren, Entity: CRIMINAL_CHARGE\n",
      "Word: dos, Entity: NUMBER\n",
      "Word: dibujante, Entity: TITLE\n",
      "Word: mañana, Entity: DATE\n",
      "Word: asesino, Entity: CRIMINAL_CHARGE\n",
      "Word: en, Entity: CRIMINAL_CHARGE\n",
      "Word: serie, Entity: CRIMINAL_CHARGE\n",
      "Word: 4, Entity: NUMBER\n",
      "Word: domingo, Entity: DATE\n",
      "Word: río, Entity: TITLE\n",
      "Word: río, Entity: TITLE\n",
      "Word: río, Entity: TITLE\n",
      "Word: tortura, Entity: CRIMINAL_CHARGE\n",
      "Word: soldado, Entity: TITLE\n",
      "Word: dos, Entity: NUMBER\n",
      "Word: empresario, Entity: TITLE\n",
      "Word: violinista, Entity: TITLE\n",
      "Word: músico, Entity: TITLE\n",
      "Word: mañana, Entity: DATE\n",
      "Word: dos, Entity: NUMBER\n",
      "Word: mañana, Entity: DATE\n",
      "Word: río, Entity: TITLE\n",
      "Word: dos, Entity: NUMBER\n",
      "Word: músico, Entity: TITLE\n",
      "Word: violinista, Entity: TITLE\n",
      "Word: suicidio, Entity: CAUSE_OF_DEATH\n",
      "Word: músico, Entity: TITLE\n",
      "Word: músico, Entity: TITLE\n",
      "Word: delito, Entity: CRIMINAL_CHARGE\n",
      "Word: guardia, Entity: TITLE\n",
      "Word: asalto, Entity: CRIMINAL_CHARGE\n",
      "Word: 20, Entity: NUMBER\n",
      "Word: pescador, Entity: TITLE\n",
      "Word: compañero, Entity: TITLE\n",
      "Word: suicidio, Entity: CAUSE_OF_DEATH\n",
      "Word: policía, Entity: TITLE\n",
      "Word: policía, Entity: TITLE\n",
      "Word: 3, Entity: NUMBER\n",
      "Word: doctor, Entity: TITLE\n",
      "Word: mañana, Entity: DATE\n",
      "Word: doctor, Entity: TITLE\n",
      "Word: luci, Entity: PERSON\n",
      "Word: último, Entity: TITLE\n",
      "Word: pirata, Entity: TITLE\n",
      "Word: capitán, Entity: TITLE\n",
      "Word: dos, Entity: NUMBER\n",
      "Word: comerciante, Entity: TITLE\n",
      "Word: violinista, Entity: TITLE\n",
      "Word: doctor, Entity: TITLE\n",
      "Word: enfermedad, Entity: CAUSE_OF_DEATH\n",
      "Word: más, Entity: TITLE\n",
      "Word: alto, Entity: TITLE\n",
      "Word: tren, Entity: CRIMINAL_CHARGE\n",
      "Word: ataque, Entity: CAUSE_OF_DEATH\n",
      "Word: al, Entity: CAUSE_OF_DEATH\n",
      "Word: corazón, Entity: CAUSE_OF_DEATH\n",
      "Word: violinista, Entity: TITLE\n",
      "Word: hoy, Entity: DATE\n",
      "Word: hoy, Entity: DATE\n",
      "Word: manuel, Entity: PERSON\n",
      "Word: hotelero, Entity: TITLE\n",
      "Word: principal, Entity: TITLE\n",
      "Word: mañana, Entity: DATE\n",
      "Word: mañana, Entity: DATE\n",
      "Word: ten, Entity: NUMBER\n",
      "Word: artista, Entity: TITLE\n",
      "Word: cuatro, Entity: NUMBER\n",
      "Word: rey, Entity: TITLE\n",
      "Word: mañana, Entity: DATE\n",
      "Word: 5, Entity: NUMBER\n",
      "Word: profesor, Entity: TITLE\n",
      "Word: último, Entity: TITLE\n",
      "Word: compositor, Entity: TITLE\n",
      "Word: cuatro, Entity: NUMBER\n",
      "Word: compañero, Entity: TITLE\n",
      "Word: complicaciones, Entity: CAUSE_OF_DEATH\n",
      "Word: enfermedad, Entity: CAUSE_OF_DEATH\n",
      "Word: 2.0, Entity: NUMBER\n",
      "Word: soldado, Entity: TITLE\n",
      "Word: campesino, Entity: TITLE\n",
      "Word: río, Entity: TITLE\n",
      "Word: mark, Entity: PERSON\n",
      "Word: twain, Entity: PERSON\n",
      "Word: último, Entity: TITLE\n",
      "Word: septiembre, Entity: DATE\n",
      "Word: raquel, Entity: PERSON\n",
      "Word: jorge, Entity: PERSON\n",
      "Word: 10, Entity: NUMBER\n",
      "Word: 4, Entity: NUMBER\n",
      "Word: 3, Entity: NUMBER\n",
      "Word: 2, Entity: NUMBER\n",
      "Word: doctor, Entity: TITLE\n",
      "Word: doctor, Entity: TITLE\n",
      "Word: 7, Entity: NUMBER\n",
      "Word: 80, Entity: NUMBER\n",
      "Word: policía, Entity: TITLE\n",
      "Word: último, Entity: TITLE\n",
      "Word: violinista, Entity: TITLE\n",
      "Word: violinista, Entity: TITLE\n",
      "Word: policía, Entity: TITLE\n",
      "Word: drogas, Entity: CRIMINAL_CHARGE\n",
      "Word: arizona, Entity: STATE_OR_PROVINCE\n",
      "Word: estudiante, Entity: TITLE\n",
      "Word: músico, Entity: TITLE\n",
      "Word: lunes, Entity: DATE\n",
      "Word: viernes, Entity: DATE\n",
      "Word: el, Entity: DATE\n",
      "Word: miércoles, Entity: DATE\n",
      "Word: el, Entity: DATE\n",
      "Word: jueves, Entity: DATE\n",
      "Word: hoy, Entity: DATE\n",
      "Word: investigador, Entity: TITLE\n",
      "Word: 10, Entity: DATE\n",
      "Word: de, Entity: DATE\n",
      "Word: agosto, Entity: DATE\n",
      "Word: agosto, Entity: DATE\n",
      "Word: tormenta, Entity: CAUSE_OF_DEATH\n",
      "Word: 800, Entity: NUMBER\n",
      "Word: ministro, Entity: TITLE\n",
      "Word: ministro, Entity: TITLE\n",
      "Word: nueve, Entity: NUMBER\n",
      "Word: compañero, Entity: TITLE\n",
      "Word: doctor, Entity: TITLE\n",
      "Word: cuatro, Entity: NUMBER\n",
      "Word: mañana, Entity: DATE\n",
      "Word: profesor, Entity: TITLE\n",
      "Word: profesor, Entity: TITLE\n",
      "Word: violinista, Entity: TITLE\n",
      "Word: dos, Entity: NUMBER\n",
      "Word: guerra, Entity: CAUSE_OF_DEATH\n",
      "15527 words processed\n"
     ]
    }
   ],
   "source": [
    "wc = 0\n",
    "for i in alex_df.NER:\n",
    "    for j in i:\n",
    "        wc += 1\n",
    "        if j[1] != 'O':\n",
    "            print('Word: ' + j[0] + \", Entity: \" + j[1])\n",
    "print('%d words processed' % wc)"
   ]
  },
  {
   "cell_type": "markdown",
   "metadata": {},
   "source": [
    "### Lexical Parsing"
   ]
  },
  {
   "cell_type": "code",
   "execution_count": 50,
   "metadata": {},
   "outputs": [],
   "source": [
    "# Running the Stanford CoreNLP server in localhost:\n",
    "# With Spanish models\n",
    "# java -mx6g -cp \"*\" edu.stanford.nlp.pipeline.StanfordCoreNLPServer \n",
    "#    -serverProperties StanfordCoreNLP-spanish.properties \n",
    "#    -port 9000 \n",
    "#    -timeout 15000"
   ]
  },
  {
   "cell_type": "code",
   "execution_count": 51,
   "metadata": {},
   "outputs": [],
   "source": [
    "from nltk.parse import CoreNLPParser"
   ]
  },
  {
   "cell_type": "code",
   "execution_count": 52,
   "metadata": {},
   "outputs": [],
   "source": [
    "# Lexical Parser\n",
    "spanish_parser = CoreNLPParser(url='http://localhost:9000')"
   ]
  },
  {
   "cell_type": "code",
   "execution_count": 54,
   "metadata": {},
   "outputs": [
    {
     "data": {
      "text/plain": [
       "[Tree('ROOT', [Tree('sentence', [Tree('sn', [Tree('grup.nom', [Tree('PRON', ['Esta'])])]), Tree('grup.verb', [Tree('AUX', ['es'])]), Tree('sn', [Tree('spec', [Tree('DET', ['la'])]), Tree('grup.nom', [Tree('NOUN', ['frase']), Tree('s.a', [Tree('s.a', [Tree('spec', [Tree('ADV', ['más'])]), Tree('grup.a', [Tree('ADJ', ['complicada'])])]), Tree('sp', [Tree('prep', [Tree('ADP', ['del'])]), Tree('sn', [Tree('grup.nom', [Tree('NOUN', ['mundo'])])])])])])]), Tree('PUNCT', ['.'])])])]"
      ]
     },
     "execution_count": 54,
     "metadata": {},
     "output_type": "execute_result"
    }
   ],
   "source": [
    "list(spanish_parser.raw_parse('Esta es la frase más complicada del mundo.'))"
   ]
  },
  {
   "cell_type": "code",
   "execution_count": null,
   "metadata": {},
   "outputs": [],
   "source": [
    "# In principle, we don't need the lexical tree as part of the dataset"
   ]
  },
  {
   "cell_type": "markdown",
   "metadata": {},
   "source": [
    "### Dependency Parsing"
   ]
  },
  {
   "cell_type": "code",
   "execution_count": 55,
   "metadata": {},
   "outputs": [],
   "source": [
    "# Neural Dependency Parser\n",
    "from nltk.parse.corenlp import CoreNLPDependencyParser\n",
    "\n",
    "dep_parser = CoreNLPDependencyParser(url='http://localhost:9000')"
   ]
  },
  {
   "cell_type": "code",
   "execution_count": 56,
   "metadata": {},
   "outputs": [
    {
     "data": {
      "text/plain": [
       "[[(('frase', 'NOUN'), 'nsubj', ('Esta', 'PRON')),\n",
       "  (('frase', 'NOUN'), 'cop', ('es', 'AUX')),\n",
       "  (('frase', 'NOUN'), 'det', ('la', 'DET')),\n",
       "  (('frase', 'NOUN'), 'amod', ('complicada', 'ADJ')),\n",
       "  (('complicada', 'ADJ'), 'advmod', ('más', 'ADV')),\n",
       "  (('frase', 'NOUN'), 'nmod', ('mundo', 'NOUN')),\n",
       "  (('mundo', 'NOUN'), 'case', ('del', 'ADP')),\n",
       "  (('frase', 'NOUN'), 'punct', ('.', 'PUNCT'))]]"
      ]
     },
     "execution_count": 56,
     "metadata": {},
     "output_type": "execute_result"
    }
   ],
   "source": [
    "parses = dep_parser.parse('Esta es la frase más complicada del mundo.'.split())\n",
    "[[(governor, dep, dependent) for governor, dep, dependent in parse.triples()] for parse in parses]"
   ]
  },
  {
   "cell_type": "code",
   "execution_count": 57,
   "metadata": {},
   "outputs": [],
   "source": [
    "def getDepList(tokens):\n",
    "    parses = dep_parser.parse(tokens)\n",
    "    return [[(governor, dep, dependent) for governor, dep, dependent in parse.triples()] for parse in parses]"
   ]
  },
  {
   "cell_type": "code",
   "execution_count": 58,
   "metadata": {},
   "outputs": [],
   "source": [
    "# Add column with Dependency Parsing\n",
    "alex_df['DEP'] = alex_df.apply(lambda row: getDepList(row.Text.lower().split()), axis=1) "
   ]
  },
  {
   "cell_type": "code",
   "execution_count": 59,
   "metadata": {
    "scrolled": true
   },
   "outputs": [
    {
     "data": {
      "text/html": [
       "<div>\n",
       "<style scoped>\n",
       "    .dataframe tbody tr th:only-of-type {\n",
       "        vertical-align: middle;\n",
       "    }\n",
       "\n",
       "    .dataframe tbody tr th {\n",
       "        vertical-align: top;\n",
       "    }\n",
       "\n",
       "    .dataframe thead th {\n",
       "        text-align: right;\n",
       "    }\n",
       "</style>\n",
       "<table border=\"1\" class=\"dataframe\">\n",
       "  <thead>\n",
       "    <tr style=\"text-align: right;\">\n",
       "      <th></th>\n",
       "      <th>Code</th>\n",
       "      <th>TAS20</th>\n",
       "      <th>F1</th>\n",
       "      <th>F2</th>\n",
       "      <th>F3</th>\n",
       "      <th>Gender</th>\n",
       "      <th>Age</th>\n",
       "      <th>Card</th>\n",
       "      <th>T_Metaphors</th>\n",
       "      <th>T_ToM</th>\n",
       "      <th>...</th>\n",
       "      <th>Alex_A</th>\n",
       "      <th>Alex_B</th>\n",
       "      <th>Words</th>\n",
       "      <th>Sentences</th>\n",
       "      <th>Tokens</th>\n",
       "      <th>Tokens_Stop</th>\n",
       "      <th>Tokens_Stem</th>\n",
       "      <th>POS</th>\n",
       "      <th>NER</th>\n",
       "      <th>DEP</th>\n",
       "    </tr>\n",
       "  </thead>\n",
       "  <tbody>\n",
       "    <tr>\n",
       "      <th>0</th>\n",
       "      <td>bc39e22ca5dba59fbd97c27987878f56</td>\n",
       "      <td>40</td>\n",
       "      <td>16</td>\n",
       "      <td>9</td>\n",
       "      <td>15</td>\n",
       "      <td>2</td>\n",
       "      <td>22</td>\n",
       "      <td>1</td>\n",
       "      <td>0</td>\n",
       "      <td>1</td>\n",
       "      <td>...</td>\n",
       "      <td>0</td>\n",
       "      <td>0</td>\n",
       "      <td>16</td>\n",
       "      <td>2</td>\n",
       "      <td>[es, un, niño, pensando, en, cual, es, la, res...</td>\n",
       "      <td>[niño, pensando, respuesta, deberes, sabe]</td>\n",
       "      <td>[niño, pensando, respuesta, deber, sabe]</td>\n",
       "      <td>[(es, AUX), (un, DET), (niño, NOUN), (pensando...</td>\n",
       "      <td>[(es, O), (un, O), (niño, O), (pensando, O), (...</td>\n",
       "      <td>[[(('niño', 'NOUN'), cop, ('es', 'AUX')), (('n...</td>\n",
       "    </tr>\n",
       "    <tr>\n",
       "      <th>1</th>\n",
       "      <td>bc39e22ca5dba59fbd97c27987878f56</td>\n",
       "      <td>40</td>\n",
       "      <td>16</td>\n",
       "      <td>9</td>\n",
       "      <td>15</td>\n",
       "      <td>2</td>\n",
       "      <td>22</td>\n",
       "      <td>9VH</td>\n",
       "      <td>0</td>\n",
       "      <td>0</td>\n",
       "      <td>...</td>\n",
       "      <td>0</td>\n",
       "      <td>0</td>\n",
       "      <td>2</td>\n",
       "      <td>2</td>\n",
       "      <td>[soldados, descansando]</td>\n",
       "      <td>[soldados, descansando]</td>\n",
       "      <td>[soldado, descansando]</td>\n",
       "      <td>[(soldados, NOUN), (descansando, VERB), (., PU...</td>\n",
       "      <td>[(soldados, O), (descansando, O), (., O)]</td>\n",
       "      <td>[[(('descansando', 'VERB'), nsubj, ('soldados'...</td>\n",
       "    </tr>\n",
       "    <tr>\n",
       "      <th>2</th>\n",
       "      <td>bc39e22ca5dba59fbd97c27987878f56</td>\n",
       "      <td>40</td>\n",
       "      <td>16</td>\n",
       "      <td>9</td>\n",
       "      <td>15</td>\n",
       "      <td>2</td>\n",
       "      <td>22</td>\n",
       "      <td>11</td>\n",
       "      <td>0</td>\n",
       "      <td>0</td>\n",
       "      <td>...</td>\n",
       "      <td>0</td>\n",
       "      <td>0</td>\n",
       "      <td>2</td>\n",
       "      <td>2</td>\n",
       "      <td>[una, cascada]</td>\n",
       "      <td>[cascada]</td>\n",
       "      <td>[cascada]</td>\n",
       "      <td>[(una, DET), (cascada, NOUN), (., PUNCT)]</td>\n",
       "      <td>[(una, O), (cascada, O), (., O)]</td>\n",
       "      <td>[[(('cascada', 'NOUN'), det, ('una', 'DET')), ...</td>\n",
       "    </tr>\n",
       "    <tr>\n",
       "      <th>3</th>\n",
       "      <td>bc39e22ca5dba59fbd97c27987878f56</td>\n",
       "      <td>40</td>\n",
       "      <td>16</td>\n",
       "      <td>9</td>\n",
       "      <td>15</td>\n",
       "      <td>2</td>\n",
       "      <td>22</td>\n",
       "      <td>13HM</td>\n",
       "      <td>0</td>\n",
       "      <td>1</td>\n",
       "      <td>...</td>\n",
       "      <td>0</td>\n",
       "      <td>0</td>\n",
       "      <td>7</td>\n",
       "      <td>2</td>\n",
       "      <td>[hombre, llorando, porque, su, mujer, ha, muerto]</td>\n",
       "      <td>[hombre, llorando, mujer, muerto]</td>\n",
       "      <td>[hombr, llorando, mujer, muerto]</td>\n",
       "      <td>[(hombre, NOUN), (llorando, VERB), (porque, SC...</td>\n",
       "      <td>[(hombre, O), (llorando, O), (porque, O), (su,...</td>\n",
       "      <td>[[(('llorando', 'VERB'), nsubj, ('hombre', 'NO...</td>\n",
       "    </tr>\n",
       "    <tr>\n",
       "      <th>4</th>\n",
       "      <td>20cd825cadb95a71763bad06e142c148</td>\n",
       "      <td>40</td>\n",
       "      <td>12</td>\n",
       "      <td>10</td>\n",
       "      <td>18</td>\n",
       "      <td>2</td>\n",
       "      <td>22</td>\n",
       "      <td>1</td>\n",
       "      <td>0</td>\n",
       "      <td>1</td>\n",
       "      <td>...</td>\n",
       "      <td>0</td>\n",
       "      <td>0</td>\n",
       "      <td>29</td>\n",
       "      <td>4</td>\n",
       "      <td>[un, niño, cansado, de, estudiar, y, presionad...</td>\n",
       "      <td>[niño, cansado, estudiar, presionado, padres, ...</td>\n",
       "      <td>[niño, cansado, estudiar, presionado, padr, tr...</td>\n",
       "      <td>[(un, DET), (niño, NOUN), (cansado, ADJ), (de,...</td>\n",
       "      <td>[(un, O), (niño, O), (cansado, O), (de, O), (e...</td>\n",
       "      <td>[[(('niño', 'NOUN'), det, ('un', 'DET')), (('n...</td>\n",
       "    </tr>\n",
       "  </tbody>\n",
       "</table>\n",
       "<p>5 rows × 25 columns</p>\n",
       "</div>"
      ],
      "text/plain": [
       "                               Code  TAS20  F1  F2  F3  Gender  Age  Card  \\\n",
       "0  bc39e22ca5dba59fbd97c27987878f56     40  16   9  15       2   22     1   \n",
       "1  bc39e22ca5dba59fbd97c27987878f56     40  16   9  15       2   22   9VH   \n",
       "2  bc39e22ca5dba59fbd97c27987878f56     40  16   9  15       2   22    11   \n",
       "3  bc39e22ca5dba59fbd97c27987878f56     40  16   9  15       2   22  13HM   \n",
       "4  20cd825cadb95a71763bad06e142c148     40  12  10  18       2   22     1   \n",
       "\n",
       "   T_Metaphors  T_ToM  ...  Alex_A  Alex_B  Words  Sentences  \\\n",
       "0            0      1  ...       0       0     16          2   \n",
       "1            0      0  ...       0       0      2          2   \n",
       "2            0      0  ...       0       0      2          2   \n",
       "3            0      1  ...       0       0      7          2   \n",
       "4            0      1  ...       0       0     29          4   \n",
       "\n",
       "                                              Tokens  \\\n",
       "0  [es, un, niño, pensando, en, cual, es, la, res...   \n",
       "1                            [soldados, descansando]   \n",
       "2                                     [una, cascada]   \n",
       "3  [hombre, llorando, porque, su, mujer, ha, muerto]   \n",
       "4  [un, niño, cansado, de, estudiar, y, presionad...   \n",
       "\n",
       "                                         Tokens_Stop  \\\n",
       "0         [niño, pensando, respuesta, deberes, sabe]   \n",
       "1                            [soldados, descansando]   \n",
       "2                                          [cascada]   \n",
       "3                  [hombre, llorando, mujer, muerto]   \n",
       "4  [niño, cansado, estudiar, presionado, padres, ...   \n",
       "\n",
       "                                         Tokens_Stem  \\\n",
       "0           [niño, pensando, respuesta, deber, sabe]   \n",
       "1                             [soldado, descansando]   \n",
       "2                                          [cascada]   \n",
       "3                   [hombr, llorando, mujer, muerto]   \n",
       "4  [niño, cansado, estudiar, presionado, padr, tr...   \n",
       "\n",
       "                                                 POS  \\\n",
       "0  [(es, AUX), (un, DET), (niño, NOUN), (pensando...   \n",
       "1  [(soldados, NOUN), (descansando, VERB), (., PU...   \n",
       "2          [(una, DET), (cascada, NOUN), (., PUNCT)]   \n",
       "3  [(hombre, NOUN), (llorando, VERB), (porque, SC...   \n",
       "4  [(un, DET), (niño, NOUN), (cansado, ADJ), (de,...   \n",
       "\n",
       "                                                 NER  \\\n",
       "0  [(es, O), (un, O), (niño, O), (pensando, O), (...   \n",
       "1          [(soldados, O), (descansando, O), (., O)]   \n",
       "2                   [(una, O), (cascada, O), (., O)]   \n",
       "3  [(hombre, O), (llorando, O), (porque, O), (su,...   \n",
       "4  [(un, O), (niño, O), (cansado, O), (de, O), (e...   \n",
       "\n",
       "                                                 DEP  \n",
       "0  [[(('niño', 'NOUN'), cop, ('es', 'AUX')), (('n...  \n",
       "1  [[(('descansando', 'VERB'), nsubj, ('soldados'...  \n",
       "2  [[(('cascada', 'NOUN'), det, ('una', 'DET')), ...  \n",
       "3  [[(('llorando', 'VERB'), nsubj, ('hombre', 'NO...  \n",
       "4  [[(('niño', 'NOUN'), det, ('un', 'DET')), (('n...  \n",
       "\n",
       "[5 rows x 25 columns]"
      ]
     },
     "execution_count": 59,
     "metadata": {},
     "output_type": "execute_result"
    }
   ],
   "source": [
    "alex_df.head()"
   ]
  },
  {
   "cell_type": "markdown",
   "metadata": {},
   "source": [
    "### Dependency graph visualization"
   ]
  },
  {
   "cell_type": "code",
   "execution_count": 79,
   "metadata": {},
   "outputs": [],
   "source": [
    "# ! pip install Graphviz\n",
    "# ! pip install pydot\n",
    "os.environ[\"PATH\"] += ';C:\\\\Program Files (x86)\\\\Graphviz 2.44.1\\\\bin'\n",
    "\n",
    "from graphviz import Digraph\n",
    "from IPython.display import Image\n",
    "# import pydot\n",
    "import pydotplus"
   ]
  },
  {
   "cell_type": "code",
   "execution_count": 61,
   "metadata": {},
   "outputs": [],
   "source": [
    "# dot = Digraph()\n",
    "# dot.node('1')\n",
    "# dot.node('2')\n",
    "# dot.edges(['12'])\n",
    "# dot"
   ]
  },
  {
   "cell_type": "code",
   "execution_count": 62,
   "metadata": {},
   "outputs": [
    {
     "data": {
      "image/svg+xml": [
       "<?xml version=\"1.0\" encoding=\"UTF-8\" standalone=\"no\"?>\n",
       "<!DOCTYPE svg PUBLIC \"-//W3C//DTD SVG 1.1//EN\"\n",
       " \"http://www.w3.org/Graphics/SVG/1.1/DTD/svg11.dtd\">\n",
       "<!-- Generated by graphviz version 2.44.1 (20200629.0846)\n",
       " -->\n",
       "<!-- Title: G Pages: 1 -->\n",
       "<svg width=\"81pt\" height=\"131pt\"\n",
       " viewBox=\"0.00 0.00 81.00 131.00\" xmlns=\"http://www.w3.org/2000/svg\" xmlns:xlink=\"http://www.w3.org/1999/xlink\">\n",
       "<g id=\"graph0\" class=\"graph\" transform=\"scale(1 1) rotate(0) translate(4 127)\">\n",
       "<title>G</title>\n",
       "<polygon fill=\"white\" stroke=\"transparent\" points=\"-4,4 -4,-127 77,-127 77,4 -4,4\"/>\n",
       "<!-- 0 -->\n",
       "<g id=\"node1\" class=\"node\">\n",
       "<title>0</title>\n",
       "<text text-anchor=\"middle\" x=\"33\" y=\"-101.3\" font-family=\"Times New Roman,serif\" font-size=\"14.00\">0 (None)</text>\n",
       "</g>\n",
       "<!-- 1 -->\n",
       "<g id=\"node2\" class=\"node\">\n",
       "<title>1</title>\n",
       "<text text-anchor=\"middle\" x=\"33\" y=\"-14.3\" font-family=\"Times New Roman,serif\" font-size=\"14.00\">1 (Hola)</text>\n",
       "</g>\n",
       "<!-- 0&#45;&gt;1 -->\n",
       "<g id=\"edge1\" class=\"edge\">\n",
       "<title>0&#45;&gt;1</title>\n",
       "<path fill=\"none\" stroke=\"black\" d=\"M33,-86.8C33,-75.16 33,-59.55 33,-46.24\"/>\n",
       "<polygon fill=\"black\" stroke=\"black\" points=\"36.5,-46.18 33,-36.18 29.5,-46.18 36.5,-46.18\"/>\n",
       "<text text-anchor=\"middle\" x=\"53\" y=\"-57.8\" font-family=\"Times New Roman,serif\" font-size=\"14.00\">ROOT</text>\n",
       "</g>\n",
       "</g>\n",
       "</svg>\n"
      ],
      "text/plain": [
       "<DependencyGraph with 2 nodes>"
      ]
     },
     "execution_count": 62,
     "metadata": {},
     "output_type": "execute_result"
    }
   ],
   "source": [
    "parse = next(dep_parser.raw_parse(\"Hola\"))\n",
    "parse"
   ]
  },
  {
   "cell_type": "code",
   "execution_count": 63,
   "metadata": {},
   "outputs": [
    {
     "data": {
      "text/plain": [
       "[(('frase', 'NOUN'), 'nsubj', ('Esta', 'PRON')),\n",
       " (('frase', 'NOUN'), 'cop', ('es', 'AUX')),\n",
       " (('frase', 'NOUN'), 'det', ('una', 'DET')),\n",
       " (('frase', 'NOUN'), 'amod', ('complicada', 'ADJ')),\n",
       " (('complicada', 'ADJ'), 'advmod', ('poco', 'ADV')),\n",
       " (('poco', 'ADV'), 'advmod', ('muy', 'ADV')),\n",
       " (('frase', 'NOUN'), 'punct', ('.', 'PUNCT'))]"
      ]
     },
     "execution_count": 63,
     "metadata": {},
     "output_type": "execute_result"
    }
   ],
   "source": [
    "dep = next(dep_parser.raw_parse(\"Esta es una frase muy poco complicada.\"))\n",
    "list(dep.triples())"
   ]
  },
  {
   "cell_type": "code",
   "execution_count": 64,
   "metadata": {},
   "outputs": [],
   "source": [
    "dep.tree().draw()"
   ]
  },
  {
   "cell_type": "code",
   "execution_count": 65,
   "metadata": {},
   "outputs": [
    {
     "data": {
      "text/plain": [
       "'digraph G{\\nedge [dir=forward]\\nnode [shape=plaintext]\\n\\n0 [label=\"0 (None)\"]\\n0 -> 4 [label=\"ROOT\"]\\n1 [label=\"1 (Esta)\"]\\n2 [label=\"2 (es)\"]\\n3 [label=\"3 (una)\"]\\n4 [label=\"4 (frase)\"]\\n4 -> 1 [label=\"nsubj\"]\\n4 -> 2 [label=\"cop\"]\\n4 -> 3 [label=\"det\"]\\n4 -> 7 [label=\"amod\"]\\n4 -> 8 [label=\"punct\"]\\n5 [label=\"5 (muy)\"]\\n6 [label=\"6 (poco)\"]\\n6 -> 5 [label=\"advmod\"]\\n7 [label=\"7 (complicada)\"]\\n7 -> 6 [label=\"advmod\"]\\n8 [label=\"8 (.)\"]\\n}'"
      ]
     },
     "execution_count": 65,
     "metadata": {},
     "output_type": "execute_result"
    }
   ],
   "source": [
    "dep.to_dot()"
   ]
  },
  {
   "cell_type": "code",
   "execution_count": 81,
   "metadata": {},
   "outputs": [
    {
     "data": {
      "image/png": "[encoded data removed]",
      "text/plain": [
       "<IPython.core.display.Image object>"
      ]
     },
     "execution_count": 81,
     "metadata": {},
     "output_type": "execute_result"
    }
   ],
   "source": [
    "graph = pydotplus.graph_from_dot_data(dep.to_dot())\n",
    "Image(graph.create_png())"
   ]
  },
  {
   "cell_type": "code",
   "execution_count": 82,
   "metadata": {},
   "outputs": [
    {
     "data": {
      "image/png": "[encoded data removed]",
      "text/plain": [
       "<IPython.core.display.Image object>"
      ]
     },
     "execution_count": 82,
     "metadata": {},
     "output_type": "execute_result"
    }
   ],
   "source": [
    "dep = next(dep_parser.raw_parse(\"Y si fuera, que no voy, iría.\"))\n",
    "graph = pydotplus.graph_from_dot_data(dep.to_dot())\n",
    "Image(graph.create_png())"
   ]
  },
  {
   "cell_type": "markdown",
   "metadata": {},
   "source": [
    "### Exlusion criteria (word count)"
   ]
  },
  {
   "cell_type": "code",
   "execution_count": null,
   "metadata": {},
   "outputs": [],
   "source": [
    "# Exclusion criteria: get rid of too short and too long narratives. \n",
    "\n",
    "wc_lowerLimit = 5\n",
    "wc_upperLimit = alex_df.Words.mean() + 4 * alex_df.Words.std() # around 175\n",
    "\n",
    "selected_df = alex_df[(alex_df.Words > wc_lowerLimit) & (alex_df.Words < wc_upperLimit)]"
   ]
  },
  {
   "cell_type": "code",
   "execution_count": null,
   "metadata": {},
   "outputs": [],
   "source": [
    "print('%d rows deleted. %d remaining.' % (alex_df.Code.count() - selected_df.Code.count(), selected_df.Code.count()))"
   ]
  },
  {
   "cell_type": "markdown",
   "metadata": {},
   "source": [
    "### Save processed dataset"
   ]
  },
  {
   "cell_type": "code",
   "execution_count": null,
   "metadata": {},
   "outputs": [],
   "source": [
    "# Dataset with classification, tags, text features, etc. \n",
    "\n",
    "alex_class_dataset_path = \"D:\\\\Dropbox-Array2001\\\\Dropbox\\\\DataSets\\\\Prolexitim-Dataset\\\\Prolexitim_v2_processed_dep.csv\"\n",
    "selected_df.to_csv(alex_class_dataset_path, sep=';', encoding='utf-8', index=False)"
   ]
  },
  {
   "cell_type": "code",
   "execution_count": null,
   "metadata": {},
   "outputs": [],
   "source": []
  }
 ],
 "metadata": {
  "kernelspec": {
   "display_name": "Python 3",
   "language": "python",
   "name": "python3"
  },
  "language_info": {
   "codemirror_mode": {
    "name": "ipython",
    "version": 3
   },
   "file_extension": ".py",
   "mimetype": "text/x-python",
   "name": "python",
   "nbconvert_exporter": "python",
   "pygments_lexer": "ipython3",
   "version": "3.7.3"
  }
 },
 "nbformat": 4,
 "nbformat_minor": 2
}
