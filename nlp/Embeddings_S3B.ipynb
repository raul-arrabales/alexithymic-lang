{
 "cells": [
  {
   "cell_type": "markdown",
   "metadata": {},
   "source": [
    "## Language Analysis of Alexithymic Discourse\n",
    "\n",
    "<hr>\n",
    "\n",
    "Alexithymic Language Project / raul@psicobotica.com / V2 release (sept 2020)\n",
    "\n",
    "<hr>\n",
    "\n",
    "## Latent Space Feature Engineering (embeddings)\n",
    "### Using Spanish 3 billion Word2Vex\n",
    "\n",
    "- Pre-trained model: https://github.com/aitoralmeida/spanish_word2vec "
   ]
  },
  {
   "cell_type": "markdown",
   "metadata": {},
   "source": [
    "## Data set load "
   ]
  },
  {
   "cell_type": "code",
   "execution_count": 2,
   "metadata": {},
   "outputs": [],
   "source": [
    "import pandas as pd "
   ]
  },
  {
   "cell_type": "code",
   "execution_count": 3,
   "metadata": {},
   "outputs": [],
   "source": [
    "embeds_dataset_path = \"https://raw.githubusercontent.com/raul-arrabales/alexithymic-lang/master/data/Prolexitim_v2_features-embed-usem.csv\"\n",
    "\n",
    "alex_df = pd.read_csv(embeds_dataset_path, header=0, delimiter=\";\")"
   ]
  },
  {
   "cell_type": "code",
   "execution_count": 4,
   "metadata": {},
   "outputs": [
    {
     "data": {
      "text/plain": [
       "Index(['Code', 'TAS20', 'F1', 'F2', 'F3', 'Gender', 'Age', 'Card',\n",
       "       'T_Metaphors', 'T_ToM', 'T_FP', 'T_Interpret', 'T_Desc', 'T_Confussion',\n",
       "       'Text', 'Alex_A', 'Alex_B', 'Words', 'Sentences', 'Tokens',\n",
       "       'Tokens_Stop', 'Tokens_Stem', 'POS', 'NER', 'DEP', 'Chars', 'avgWL',\n",
       "       'avgSL', 'Pun_Count', 'Stop_Count', 'RawTokens', 'Title_Count',\n",
       "       'Upper_Count', 'VERB_Count', 'NOUN_Count', 'SYM_Count', 'ADV_Count',\n",
       "       'PUNCT_Count', 'INTJ_Count', 'CCONJ_Count', 'ADJ_Count', 'AUX_Count',\n",
       "       'DET_Count', 'SCONJ_Count', 'PRON_Count', 'NUM_Count', 'PROPN_Count',\n",
       "       'ADP_Count', 'VERB_Ratio', 'NOUN_Ratio', 'SYM_Ratio', 'ADV_Ratio',\n",
       "       'PUNCT_Ratio', 'INTJ_Ratio', 'CCONJ_Ratio', 'ADJ_Ratio', 'AUX_Ratio',\n",
       "       'DET_Ratio', 'SCONJ_Ratio', 'PRON_Ratio', 'NUM_Ratio', 'PROPN_Ratio',\n",
       "       'ADP_Ratio', 'TTR', 'HTR', 'Embed_USEM'],\n",
       "      dtype='object')"
      ]
     },
     "execution_count": 4,
     "metadata": {},
     "output_type": "execute_result"
    }
   ],
   "source": [
    "alex_df.columns"
   ]
  },
  {
   "cell_type": "code",
   "execution_count": 5,
   "metadata": {},
   "outputs": [
    {
     "data": {
      "text/html": [
       "<div>\n",
       "<style scoped>\n",
       "    .dataframe tbody tr th:only-of-type {\n",
       "        vertical-align: middle;\n",
       "    }\n",
       "\n",
       "    .dataframe tbody tr th {\n",
       "        vertical-align: top;\n",
       "    }\n",
       "\n",
       "    .dataframe thead th {\n",
       "        text-align: right;\n",
       "    }\n",
       "</style>\n",
       "<table border=\"1\" class=\"dataframe\">\n",
       "  <thead>\n",
       "    <tr style=\"text-align: right;\">\n",
       "      <th></th>\n",
       "      <th>Code</th>\n",
       "      <th>TAS20</th>\n",
       "      <th>F1</th>\n",
       "      <th>F2</th>\n",
       "      <th>F3</th>\n",
       "      <th>Gender</th>\n",
       "      <th>Age</th>\n",
       "      <th>Card</th>\n",
       "      <th>T_Metaphors</th>\n",
       "      <th>T_ToM</th>\n",
       "      <th>...</th>\n",
       "      <th>AUX_Ratio</th>\n",
       "      <th>DET_Ratio</th>\n",
       "      <th>SCONJ_Ratio</th>\n",
       "      <th>PRON_Ratio</th>\n",
       "      <th>NUM_Ratio</th>\n",
       "      <th>PROPN_Ratio</th>\n",
       "      <th>ADP_Ratio</th>\n",
       "      <th>TTR</th>\n",
       "      <th>HTR</th>\n",
       "      <th>Embed_USEM</th>\n",
       "    </tr>\n",
       "  </thead>\n",
       "  <tbody>\n",
       "    <tr>\n",
       "      <th>0</th>\n",
       "      <td>bc39e22ca5dba59fbd97c27987878f56</td>\n",
       "      <td>40</td>\n",
       "      <td>16</td>\n",
       "      <td>9</td>\n",
       "      <td>15</td>\n",
       "      <td>2</td>\n",
       "      <td>22</td>\n",
       "      <td>1</td>\n",
       "      <td>0</td>\n",
       "      <td>1</td>\n",
       "      <td>...</td>\n",
       "      <td>0.125000</td>\n",
       "      <td>0.187500</td>\n",
       "      <td>0.062500</td>\n",
       "      <td>0.125000</td>\n",
       "      <td>0.0</td>\n",
       "      <td>0.0</td>\n",
       "      <td>0.125000</td>\n",
       "      <td>0.562500</td>\n",
       "      <td>0.875000</td>\n",
       "      <td>[-7.31239393e-02  8.52924492e-03  5.43712601e-...</td>\n",
       "    </tr>\n",
       "    <tr>\n",
       "      <th>1</th>\n",
       "      <td>bc39e22ca5dba59fbd97c27987878f56</td>\n",
       "      <td>40</td>\n",
       "      <td>16</td>\n",
       "      <td>9</td>\n",
       "      <td>15</td>\n",
       "      <td>2</td>\n",
       "      <td>22</td>\n",
       "      <td>13HM</td>\n",
       "      <td>0</td>\n",
       "      <td>1</td>\n",
       "      <td>...</td>\n",
       "      <td>0.142857</td>\n",
       "      <td>0.142857</td>\n",
       "      <td>0.142857</td>\n",
       "      <td>0.000000</td>\n",
       "      <td>0.0</td>\n",
       "      <td>0.0</td>\n",
       "      <td>0.000000</td>\n",
       "      <td>0.857143</td>\n",
       "      <td>1.000000</td>\n",
       "      <td>[-4.18877453e-02  5.60541414e-02  9.09477472e-...</td>\n",
       "    </tr>\n",
       "    <tr>\n",
       "      <th>2</th>\n",
       "      <td>20cd825cadb95a71763bad06e142c148</td>\n",
       "      <td>40</td>\n",
       "      <td>12</td>\n",
       "      <td>10</td>\n",
       "      <td>18</td>\n",
       "      <td>2</td>\n",
       "      <td>22</td>\n",
       "      <td>1</td>\n",
       "      <td>0</td>\n",
       "      <td>1</td>\n",
       "      <td>...</td>\n",
       "      <td>0.034483</td>\n",
       "      <td>0.103448</td>\n",
       "      <td>0.103448</td>\n",
       "      <td>0.172414</td>\n",
       "      <td>0.0</td>\n",
       "      <td>0.0</td>\n",
       "      <td>0.103448</td>\n",
       "      <td>0.344828</td>\n",
       "      <td>0.793103</td>\n",
       "      <td>[-0.04114395 -0.01856564  0.04856339  0.032358...</td>\n",
       "    </tr>\n",
       "    <tr>\n",
       "      <th>3</th>\n",
       "      <td>20cd825cadb95a71763bad06e142c148</td>\n",
       "      <td>40</td>\n",
       "      <td>12</td>\n",
       "      <td>10</td>\n",
       "      <td>18</td>\n",
       "      <td>2</td>\n",
       "      <td>22</td>\n",
       "      <td>9VH</td>\n",
       "      <td>0</td>\n",
       "      <td>1</td>\n",
       "      <td>...</td>\n",
       "      <td>0.125000</td>\n",
       "      <td>0.083333</td>\n",
       "      <td>0.041667</td>\n",
       "      <td>0.125000</td>\n",
       "      <td>0.0</td>\n",
       "      <td>0.0</td>\n",
       "      <td>0.208333</td>\n",
       "      <td>0.458333</td>\n",
       "      <td>0.875000</td>\n",
       "      <td>[-0.03877169 -0.00012742  0.06037965  0.035413...</td>\n",
       "    </tr>\n",
       "    <tr>\n",
       "      <th>4</th>\n",
       "      <td>20cd825cadb95a71763bad06e142c148</td>\n",
       "      <td>40</td>\n",
       "      <td>12</td>\n",
       "      <td>10</td>\n",
       "      <td>18</td>\n",
       "      <td>2</td>\n",
       "      <td>22</td>\n",
       "      <td>13HM</td>\n",
       "      <td>0</td>\n",
       "      <td>1</td>\n",
       "      <td>...</td>\n",
       "      <td>0.100000</td>\n",
       "      <td>0.100000</td>\n",
       "      <td>0.100000</td>\n",
       "      <td>0.100000</td>\n",
       "      <td>0.0</td>\n",
       "      <td>0.0</td>\n",
       "      <td>0.100000</td>\n",
       "      <td>0.900000</td>\n",
       "      <td>1.000000</td>\n",
       "      <td>[-0.04557237 -0.01713993  0.04308525 -0.027140...</td>\n",
       "    </tr>\n",
       "  </tbody>\n",
       "</table>\n",
       "<p>5 rows × 66 columns</p>\n",
       "</div>"
      ],
      "text/plain": [
       "                               Code  TAS20  F1  F2  F3  Gender  Age  Card  \\\n",
       "0  bc39e22ca5dba59fbd97c27987878f56     40  16   9  15       2   22     1   \n",
       "1  bc39e22ca5dba59fbd97c27987878f56     40  16   9  15       2   22  13HM   \n",
       "2  20cd825cadb95a71763bad06e142c148     40  12  10  18       2   22     1   \n",
       "3  20cd825cadb95a71763bad06e142c148     40  12  10  18       2   22   9VH   \n",
       "4  20cd825cadb95a71763bad06e142c148     40  12  10  18       2   22  13HM   \n",
       "\n",
       "   T_Metaphors  T_ToM  ...  AUX_Ratio  DET_Ratio  SCONJ_Ratio  PRON_Ratio  \\\n",
       "0            0      1  ...   0.125000   0.187500     0.062500    0.125000   \n",
       "1            0      1  ...   0.142857   0.142857     0.142857    0.000000   \n",
       "2            0      1  ...   0.034483   0.103448     0.103448    0.172414   \n",
       "3            0      1  ...   0.125000   0.083333     0.041667    0.125000   \n",
       "4            0      1  ...   0.100000   0.100000     0.100000    0.100000   \n",
       "\n",
       "  NUM_Ratio  PROPN_Ratio  ADP_Ratio       TTR       HTR  \\\n",
       "0       0.0          0.0   0.125000  0.562500  0.875000   \n",
       "1       0.0          0.0   0.000000  0.857143  1.000000   \n",
       "2       0.0          0.0   0.103448  0.344828  0.793103   \n",
       "3       0.0          0.0   0.208333  0.458333  0.875000   \n",
       "4       0.0          0.0   0.100000  0.900000  1.000000   \n",
       "\n",
       "                                          Embed_USEM  \n",
       "0  [-7.31239393e-02  8.52924492e-03  5.43712601e-...  \n",
       "1  [-4.18877453e-02  5.60541414e-02  9.09477472e-...  \n",
       "2  [-0.04114395 -0.01856564  0.04856339  0.032358...  \n",
       "3  [-0.03877169 -0.00012742  0.06037965  0.035413...  \n",
       "4  [-0.04557237 -0.01713993  0.04308525 -0.027140...  \n",
       "\n",
       "[5 rows x 66 columns]"
      ]
     },
     "execution_count": 5,
     "metadata": {},
     "output_type": "execute_result"
    }
   ],
   "source": [
    "alex_df.head()"
   ]
  },
  {
   "cell_type": "markdown",
   "metadata": {},
   "source": [
    "## Load the word vectors"
   ]
  },
  {
   "cell_type": "code",
   "execution_count": 6,
   "metadata": {},
   "outputs": [],
   "source": [
    "from gensim.models import KeyedVectors"
   ]
  },
  {
   "cell_type": "code",
   "execution_count": 7,
   "metadata": {},
   "outputs": [],
   "source": [
    "# My copy of Spanish 3 Billion Word2Vec\n",
    "word_vectors = KeyedVectors.load('D:\\Dropbox-Array2001\\Dropbox\\DataSets\\Spanish Word2Vec\\complete.kv', mmap='r')"
   ]
  },
  {
   "cell_type": "code",
   "execution_count": 8,
   "metadata": {},
   "outputs": [
    {
     "data": {
      "text/plain": [
       "[('chiquillo', 0.863490104675293),\n",
       " ('bebé', 0.85056471824646),\n",
       " ('crío', 0.842483401298523),\n",
       " ('muchacho', 0.7765985727310181),\n",
       " ('niñito', 0.7588649988174438),\n",
       " ('chico', 0.75837242603302),\n",
       " ('cachorro', 0.7369438409805298),\n",
       " ('muchachito', 0.7227176427841187),\n",
       " ('gatito', 0.6718686819076538),\n",
       " ('hombre', 0.6658662557601929)]"
      ]
     },
     "execution_count": 8,
     "metadata": {},
     "output_type": "execute_result"
    }
   ],
   "source": [
    "# Testing Word Vectors \n",
    "word_vectors.most_similar(\"niño\")"
   ]
  },
  {
   "cell_type": "code",
   "execution_count": 49,
   "metadata": {},
   "outputs": [
    {
     "data": {
      "text/plain": [
       "memmap([-0.98019737,  0.37916845, -1.6284896 ,  0.74026036,  0.67275375,\n",
       "        -1.6113833 , -1.4873409 ,  1.6933979 ,  0.30024448,  0.6112603 ],\n",
       "       dtype=float32)"
      ]
     },
     "execution_count": 49,
     "metadata": {},
     "output_type": "execute_result"
    }
   ],
   "source": [
    "# Example of one 400 dim vector\n",
    "word_vectors.get_vector(\"niño\")[0:10]"
   ]
  },
  {
   "cell_type": "code",
   "execution_count": 10,
   "metadata": {},
   "outputs": [
    {
     "data": {
      "text/plain": [
       "[('reina', 0.7074883580207825),\n",
       " ('princesa', 0.6571577787399292),\n",
       " ('emperatriz', 0.6183611750602722),\n",
       " ('esposa', 0.5992065072059631),\n",
       " ('doncella', 0.5958696603775024),\n",
       " ('dama', 0.5885563492774963),\n",
       " ('infanta', 0.5775144696235657),\n",
       " ('mujer', 0.5741763114929199),\n",
       " ('concubina', 0.5553327202796936),\n",
       " ('hija', 0.5514962673187256)]"
      ]
     },
     "execution_count": 10,
     "metadata": {},
     "output_type": "execute_result"
    }
   ],
   "source": [
    "word_vectors.similar_by_vector(\n",
    "    word_vectors.get_vector(\"rey\") - \n",
    "    word_vectors.get_vector(\"hombre\") + \n",
    "    word_vectors.get_vector(\"mujer\"))"
   ]
  },
  {
   "cell_type": "code",
   "execution_count": 11,
   "metadata": {},
   "outputs": [
    {
     "data": {
      "text/plain": [
       "[('enfermero', 0.7018126845359802),\n",
       " ('hombre', 0.6676745414733887),\n",
       " ('individuo', 0.6419544219970703),\n",
       " ('celador', 0.6333192586898804),\n",
       " ('cirujano', 0.6183052062988281),\n",
       " ('médico', 0.6180358529090881),\n",
       " ('camillero', 0.6082327365875244),\n",
       " ('muchacho', 0.6047707200050354),\n",
       " ('chico', 0.6040195226669312),\n",
       " ('hombrecillo', 0.5817158222198486)]"
      ]
     },
     "execution_count": 11,
     "metadata": {},
     "output_type": "execute_result"
    }
   ],
   "source": [
    "word_vectors.similar_by_vector(\n",
    "    word_vectors.get_vector(\"enfermera\") - \n",
    "    word_vectors.get_vector(\"mujer\") + \n",
    "    word_vectors.get_vector(\"hombre\"))"
   ]
  },
  {
   "cell_type": "code",
   "execution_count": 50,
   "metadata": {},
   "outputs": [
    {
     "data": {
      "text/plain": [
       "'\\nword_vectors.similar_by_vector(\\n    word_vectors.get_vector(\"euros\") - \\n    word_vectors.get_vector(\"españa\") + \\n    word_vectors.get_vector(\"canadá\"))\\n    '"
      ]
     },
     "execution_count": 50,
     "metadata": {},
     "output_type": "execute_result"
    }
   ],
   "source": [
    "'''\n",
    "word_vectors.similar_by_vector(\n",
    "    word_vectors.get_vector(\"euros\") - \n",
    "    word_vectors.get_vector(\"españa\") + \n",
    "    word_vectors.get_vector(\"canadá\"))\n",
    "    '''"
   ]
  },
  {
   "cell_type": "code",
   "execution_count": 51,
   "metadata": {},
   "outputs": [
    {
     "data": {
      "text/plain": [
       "'\\nword_vectors.similar_by_vector(\\n    word_vectors.get_vector(\"vehículo\") - \\n    word_vectors.get_vector(\"ruedas\"))\\n    '"
      ]
     },
     "execution_count": 51,
     "metadata": {},
     "output_type": "execute_result"
    }
   ],
   "source": [
    "'''\n",
    "word_vectors.similar_by_vector(\n",
    "    word_vectors.get_vector(\"vehículo\") - \n",
    "    word_vectors.get_vector(\"ruedas\"))\n",
    "    '''"
   ]
  },
  {
   "cell_type": "code",
   "execution_count": 53,
   "metadata": {},
   "outputs": [
    {
     "data": {
      "text/plain": [
       "'\\nword_vectors.similar_by_vector(\\n    word_vectors.get_vector(\"persona\") + \\n    word_vectors.get_vector(\"amor\"))\\n    '"
      ]
     },
     "execution_count": 53,
     "metadata": {},
     "output_type": "execute_result"
    }
   ],
   "source": [
    "'''\n",
    "word_vectors.similar_by_vector(\n",
    "    word_vectors.get_vector(\"persona\") + \n",
    "    word_vectors.get_vector(\"amor\"))\n",
    "    '''"
   ]
  },
  {
   "cell_type": "code",
   "execution_count": 54,
   "metadata": {},
   "outputs": [
    {
     "data": {
      "text/plain": [
       "'\\nword_vectors.similar_by_vector(\\n    word_vectors.get_vector(\"hombre\") - \\n    word_vectors.get_vector(\"amor\") -\\n    word_vectors.get_vector(\"feliz\"))\\n    '"
      ]
     },
     "execution_count": 54,
     "metadata": {},
     "output_type": "execute_result"
    }
   ],
   "source": [
    "'''\n",
    "word_vectors.similar_by_vector(\n",
    "    word_vectors.get_vector(\"hombre\") - \n",
    "    word_vectors.get_vector(\"amor\") -\n",
    "    word_vectors.get_vector(\"feliz\"))\n",
    "    '''"
   ]
  },
  {
   "cell_type": "markdown",
   "metadata": {},
   "source": [
    "## Build sentence vector from word vectors"
   ]
  },
  {
   "cell_type": "code",
   "execution_count": 55,
   "metadata": {},
   "outputs": [],
   "source": [
    "import numpy as np"
   ]
  },
  {
   "cell_type": "markdown",
   "metadata": {},
   "source": [
    "### Sentence vector as the mean of word vectors"
   ]
  },
  {
   "cell_type": "code",
   "execution_count": 56,
   "metadata": {},
   "outputs": [],
   "source": [
    "# Calculates the mean word vector of a list of words using the indicated word2vec model\n",
    "def get_mean_vector(word2vec_model, words):\n",
    "    # remove out-of-vocabulary words\n",
    "    words = [word for word in words if word in word2vec_model.vocab]\n",
    "    if len(words) >= 1:\n",
    "        return np.mean(word2vec_model[words], axis=0)\n",
    "    else:\n",
    "        return []"
   ]
  },
  {
   "cell_type": "code",
   "execution_count": 57,
   "metadata": {},
   "outputs": [
    {
     "data": {
      "text/plain": [
       "\"['hombre', 'desolado', 'porque', 'se', 'ha', 'encontrado', 'a', 'su', 'mujer', 'fallecida']\""
      ]
     },
     "execution_count": 57,
     "metadata": {},
     "output_type": "execute_result"
    }
   ],
   "source": [
    "# Test item\n",
    "test_words = alex_df.Tokens.iloc[4]\n",
    "test_words"
   ]
  },
  {
   "cell_type": "code",
   "execution_count": 61,
   "metadata": {},
   "outputs": [
    {
     "data": {
      "text/plain": [
       "array([ 0.2878785 ,  0.2457171 ,  0.2132683 , -0.6135208 ,  1.3157121 ,\n",
       "       -0.7953963 ,  0.28311563, -0.8507003 ,  0.7568729 , -0.8901831 ],\n",
       "      dtype=float32)"
      ]
     },
     "execution_count": 61,
     "metadata": {},
     "output_type": "execute_result"
    }
   ],
   "source": [
    "test_vec = get_mean_vector(word_vectors, test_words)\n",
    "test_vec[0:10]"
   ]
  },
  {
   "cell_type": "code",
   "execution_count": 62,
   "metadata": {},
   "outputs": [],
   "source": [
    "alex_df['Embed_3B_Mean'] = alex_df['Tokens'].apply(lambda x: get_mean_vector(word_vectors, x))"
   ]
  },
  {
   "cell_type": "code",
   "execution_count": 63,
   "metadata": {},
   "outputs": [
    {
     "data": {
      "text/html": [
       "<div>\n",
       "<style scoped>\n",
       "    .dataframe tbody tr th:only-of-type {\n",
       "        vertical-align: middle;\n",
       "    }\n",
       "\n",
       "    .dataframe tbody tr th {\n",
       "        vertical-align: top;\n",
       "    }\n",
       "\n",
       "    .dataframe thead th {\n",
       "        text-align: right;\n",
       "    }\n",
       "</style>\n",
       "<table border=\"1\" class=\"dataframe\">\n",
       "  <thead>\n",
       "    <tr style=\"text-align: right;\">\n",
       "      <th></th>\n",
       "      <th>Code</th>\n",
       "      <th>TAS20</th>\n",
       "      <th>F1</th>\n",
       "      <th>F2</th>\n",
       "      <th>F3</th>\n",
       "      <th>Gender</th>\n",
       "      <th>Age</th>\n",
       "      <th>Card</th>\n",
       "      <th>T_Metaphors</th>\n",
       "      <th>T_ToM</th>\n",
       "      <th>...</th>\n",
       "      <th>DET_Ratio</th>\n",
       "      <th>SCONJ_Ratio</th>\n",
       "      <th>PRON_Ratio</th>\n",
       "      <th>NUM_Ratio</th>\n",
       "      <th>PROPN_Ratio</th>\n",
       "      <th>ADP_Ratio</th>\n",
       "      <th>TTR</th>\n",
       "      <th>HTR</th>\n",
       "      <th>Embed_USEM</th>\n",
       "      <th>Embed_3B_Mean</th>\n",
       "    </tr>\n",
       "  </thead>\n",
       "  <tbody>\n",
       "    <tr>\n",
       "      <th>0</th>\n",
       "      <td>bc39e22ca5dba59fbd97c27987878f56</td>\n",
       "      <td>40</td>\n",
       "      <td>16</td>\n",
       "      <td>9</td>\n",
       "      <td>15</td>\n",
       "      <td>2</td>\n",
       "      <td>22</td>\n",
       "      <td>1</td>\n",
       "      <td>0</td>\n",
       "      <td>1</td>\n",
       "      <td>...</td>\n",
       "      <td>0.187500</td>\n",
       "      <td>0.062500</td>\n",
       "      <td>0.125000</td>\n",
       "      <td>0.0</td>\n",
       "      <td>0.0</td>\n",
       "      <td>0.125000</td>\n",
       "      <td>0.562500</td>\n",
       "      <td>0.875000</td>\n",
       "      <td>[-7.31239393e-02  8.52924492e-03  5.43712601e-...</td>\n",
       "      <td>[0.7490059, 0.43533283, 0.38320902, -0.7258389...</td>\n",
       "    </tr>\n",
       "    <tr>\n",
       "      <th>1</th>\n",
       "      <td>bc39e22ca5dba59fbd97c27987878f56</td>\n",
       "      <td>40</td>\n",
       "      <td>16</td>\n",
       "      <td>9</td>\n",
       "      <td>15</td>\n",
       "      <td>2</td>\n",
       "      <td>22</td>\n",
       "      <td>13HM</td>\n",
       "      <td>0</td>\n",
       "      <td>1</td>\n",
       "      <td>...</td>\n",
       "      <td>0.142857</td>\n",
       "      <td>0.142857</td>\n",
       "      <td>0.000000</td>\n",
       "      <td>0.0</td>\n",
       "      <td>0.0</td>\n",
       "      <td>0.000000</td>\n",
       "      <td>0.857143</td>\n",
       "      <td>1.000000</td>\n",
       "      <td>[-4.18877453e-02  5.60541414e-02  9.09477472e-...</td>\n",
       "      <td>[0.24148928, 0.1480174, 0.47298616, -0.5232566...</td>\n",
       "    </tr>\n",
       "    <tr>\n",
       "      <th>2</th>\n",
       "      <td>20cd825cadb95a71763bad06e142c148</td>\n",
       "      <td>40</td>\n",
       "      <td>12</td>\n",
       "      <td>10</td>\n",
       "      <td>18</td>\n",
       "      <td>2</td>\n",
       "      <td>22</td>\n",
       "      <td>1</td>\n",
       "      <td>0</td>\n",
       "      <td>1</td>\n",
       "      <td>...</td>\n",
       "      <td>0.103448</td>\n",
       "      <td>0.103448</td>\n",
       "      <td>0.172414</td>\n",
       "      <td>0.0</td>\n",
       "      <td>0.0</td>\n",
       "      <td>0.103448</td>\n",
       "      <td>0.344828</td>\n",
       "      <td>0.793103</td>\n",
       "      <td>[-0.04114395 -0.01856564  0.04856339  0.032358...</td>\n",
       "      <td>[0.6218276, 0.28139102, 0.2586725, -0.7076428,...</td>\n",
       "    </tr>\n",
       "    <tr>\n",
       "      <th>3</th>\n",
       "      <td>20cd825cadb95a71763bad06e142c148</td>\n",
       "      <td>40</td>\n",
       "      <td>12</td>\n",
       "      <td>10</td>\n",
       "      <td>18</td>\n",
       "      <td>2</td>\n",
       "      <td>22</td>\n",
       "      <td>9VH</td>\n",
       "      <td>0</td>\n",
       "      <td>1</td>\n",
       "      <td>...</td>\n",
       "      <td>0.083333</td>\n",
       "      <td>0.041667</td>\n",
       "      <td>0.125000</td>\n",
       "      <td>0.0</td>\n",
       "      <td>0.0</td>\n",
       "      <td>0.208333</td>\n",
       "      <td>0.458333</td>\n",
       "      <td>0.875000</td>\n",
       "      <td>[-0.03877169 -0.00012742  0.06037965  0.035413...</td>\n",
       "      <td>[0.46048477, 0.19402103, 0.18872687, -0.681791...</td>\n",
       "    </tr>\n",
       "    <tr>\n",
       "      <th>4</th>\n",
       "      <td>20cd825cadb95a71763bad06e142c148</td>\n",
       "      <td>40</td>\n",
       "      <td>12</td>\n",
       "      <td>10</td>\n",
       "      <td>18</td>\n",
       "      <td>2</td>\n",
       "      <td>22</td>\n",
       "      <td>13HM</td>\n",
       "      <td>0</td>\n",
       "      <td>1</td>\n",
       "      <td>...</td>\n",
       "      <td>0.100000</td>\n",
       "      <td>0.100000</td>\n",
       "      <td>0.100000</td>\n",
       "      <td>0.0</td>\n",
       "      <td>0.0</td>\n",
       "      <td>0.100000</td>\n",
       "      <td>0.900000</td>\n",
       "      <td>1.000000</td>\n",
       "      <td>[-0.04557237 -0.01713993  0.04308525 -0.027140...</td>\n",
       "      <td>[0.2878785, 0.2457171, 0.2132683, -0.6135208, ...</td>\n",
       "    </tr>\n",
       "  </tbody>\n",
       "</table>\n",
       "<p>5 rows × 67 columns</p>\n",
       "</div>"
      ],
      "text/plain": [
       "                               Code  TAS20  F1  F2  F3  Gender  Age  Card  \\\n",
       "0  bc39e22ca5dba59fbd97c27987878f56     40  16   9  15       2   22     1   \n",
       "1  bc39e22ca5dba59fbd97c27987878f56     40  16   9  15       2   22  13HM   \n",
       "2  20cd825cadb95a71763bad06e142c148     40  12  10  18       2   22     1   \n",
       "3  20cd825cadb95a71763bad06e142c148     40  12  10  18       2   22   9VH   \n",
       "4  20cd825cadb95a71763bad06e142c148     40  12  10  18       2   22  13HM   \n",
       "\n",
       "   T_Metaphors  T_ToM  ...  DET_Ratio  SCONJ_Ratio  PRON_Ratio  NUM_Ratio  \\\n",
       "0            0      1  ...   0.187500     0.062500    0.125000        0.0   \n",
       "1            0      1  ...   0.142857     0.142857    0.000000        0.0   \n",
       "2            0      1  ...   0.103448     0.103448    0.172414        0.0   \n",
       "3            0      1  ...   0.083333     0.041667    0.125000        0.0   \n",
       "4            0      1  ...   0.100000     0.100000    0.100000        0.0   \n",
       "\n",
       "  PROPN_Ratio  ADP_Ratio       TTR       HTR  \\\n",
       "0         0.0   0.125000  0.562500  0.875000   \n",
       "1         0.0   0.000000  0.857143  1.000000   \n",
       "2         0.0   0.103448  0.344828  0.793103   \n",
       "3         0.0   0.208333  0.458333  0.875000   \n",
       "4         0.0   0.100000  0.900000  1.000000   \n",
       "\n",
       "                                          Embed_USEM  \\\n",
       "0  [-7.31239393e-02  8.52924492e-03  5.43712601e-...   \n",
       "1  [-4.18877453e-02  5.60541414e-02  9.09477472e-...   \n",
       "2  [-0.04114395 -0.01856564  0.04856339  0.032358...   \n",
       "3  [-0.03877169 -0.00012742  0.06037965  0.035413...   \n",
       "4  [-0.04557237 -0.01713993  0.04308525 -0.027140...   \n",
       "\n",
       "                                       Embed_3B_Mean  \n",
       "0  [0.7490059, 0.43533283, 0.38320902, -0.7258389...  \n",
       "1  [0.24148928, 0.1480174, 0.47298616, -0.5232566...  \n",
       "2  [0.6218276, 0.28139102, 0.2586725, -0.7076428,...  \n",
       "3  [0.46048477, 0.19402103, 0.18872687, -0.681791...  \n",
       "4  [0.2878785, 0.2457171, 0.2132683, -0.6135208, ...  \n",
       "\n",
       "[5 rows x 67 columns]"
      ]
     },
     "execution_count": 63,
     "metadata": {},
     "output_type": "execute_result"
    }
   ],
   "source": [
    "alex_df.head()"
   ]
  },
  {
   "cell_type": "code",
   "execution_count": null,
   "metadata": {},
   "outputs": [],
   "source": []
  },
  {
   "cell_type": "markdown",
   "metadata": {},
   "source": [
    "## Save embeddings"
   ]
  },
  {
   "cell_type": "code",
   "execution_count": 65,
   "metadata": {},
   "outputs": [],
   "source": [
    "embed_dataset_path = \"D:\\\\Dropbox-Array2001\\\\Dropbox\\\\DataSets\\\\Prolexitim-Dataset\\\\Prolexitim_v2_features-embed-3B.csv\"\n",
    "alex_df.to_csv(embed_dataset_path, sep=';', encoding='utf-8', index=False)"
   ]
  },
  {
   "cell_type": "code",
   "execution_count": null,
   "metadata": {},
   "outputs": [],
   "source": []
  }
 ],
 "metadata": {
  "kernelspec": {
   "display_name": "Python 3",
   "language": "python",
   "name": "python3"
  },
  "language_info": {
   "codemirror_mode": {
    "name": "ipython",
    "version": 3
   },
   "file_extension": ".py",
   "mimetype": "text/x-python",
   "name": "python",
   "nbconvert_exporter": "python",
   "pygments_lexer": "ipython3",
   "version": "3.7.3"
  }
 },
 "nbformat": 4,
 "nbformat_minor": 2
}
