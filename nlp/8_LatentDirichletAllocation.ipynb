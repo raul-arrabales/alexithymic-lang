{
 "cells": [
  {
   "cell_type": "markdown",
   "metadata": {},
   "source": [
    "## Language Analysis of Alexithymic Discourse\n",
    "\n",
    "<hr>\n",
    "\n",
    "Alexithymic Language Project / raul@psicobotica.com / V2 release (sept 2020)\n",
    "\n",
    "<hr>\n",
    "\n",
    "### Latent Dirichlet Allocation (LDA)\n",
    "\n",
    "LDA is used here to estimate the relevance of documents to various topics. \n",
    "\n",
    "- Topic modeling (using gensim LDA model). \n",
    "\n",
    "<hr>\n",
    "\n",
    "[More about Latent Dirichlet Allocation](https://en.wikipedia.org/wiki/Latent_Dirichlet_allocation)\n",
    "\n",
    "[LDA Topic Modelling with Gensim](https://radimrehurek.com/gensim/models/ldamodel.html)\n",
    "\n"
   ]
  },
  {
   "cell_type": "code",
   "execution_count": 1,
   "metadata": {},
   "outputs": [],
   "source": [
    "import pandas as pd \n",
    "import numpy as np\n",
    "import ast"
   ]
  },
  {
   "cell_type": "markdown",
   "metadata": {},
   "source": [
    "## Load features dataset\n",
    "- Data is already pre-processed (1-Preprocessing). \n",
    "- Basic NLP features are already calculated (2-Features). \n",
    "- Some additional BoW features have been added (3-BoW).\n",
    "- Some additional TF/IDF features have been added (3-TFIDF).\n",
    "- N-Gram models have been generated (3-N-Grams). \n",
    "- PoS lists for each document identified (4-Lexicosemantics). \n",
    "- Writer's personality variables inferred (5-Personality).\n",
    "- Sentiment analysis (6-Sentiment). \n",
    "- Topic modeling with LSA (7-LatentSemantic). "
   ]
  },
  {
   "cell_type": "code",
   "execution_count": 2,
   "metadata": {},
   "outputs": [],
   "source": [
    "feats_dataset_path = \"https://raw.githubusercontent.com/raul-arrabales/alexithymic-lang/master/data/Prolexitim_v2_features_7.csv\"\n",
    "alex_df = pd.read_csv(feats_dataset_path, header=0, delimiter=\";\")"
   ]
  },
  {
   "cell_type": "code",
   "execution_count": 3,
   "metadata": {},
   "outputs": [
    {
     "data": {
      "text/html": [
       "<div>\n",
       "<style scoped>\n",
       "    .dataframe tbody tr th:only-of-type {\n",
       "        vertical-align: middle;\n",
       "    }\n",
       "\n",
       "    .dataframe tbody tr th {\n",
       "        vertical-align: top;\n",
       "    }\n",
       "\n",
       "    .dataframe thead th {\n",
       "        text-align: right;\n",
       "    }\n",
       "</style>\n",
       "<table border=\"1\" class=\"dataframe\">\n",
       "  <thead>\n",
       "    <tr style=\"text-align: right;\">\n",
       "      <th></th>\n",
       "      <th>Code</th>\n",
       "      <th>TAS20</th>\n",
       "      <th>F1</th>\n",
       "      <th>F2</th>\n",
       "      <th>F3</th>\n",
       "      <th>Gender</th>\n",
       "      <th>Age</th>\n",
       "      <th>Card</th>\n",
       "      <th>T_Metaphors</th>\n",
       "      <th>T_ToM</th>\n",
       "      <th>...</th>\n",
       "      <th>AFINN_Words_Pol</th>\n",
       "      <th>AFINN_Stems_Pol</th>\n",
       "      <th>AFINN_Words_Int</th>\n",
       "      <th>AFINN_Stems_Int</th>\n",
       "      <th>AFINN_Words_Max</th>\n",
       "      <th>AFINN_Stems_Max</th>\n",
       "      <th>Watson_Sent</th>\n",
       "      <th>Clean_Text</th>\n",
       "      <th>LDA4_Umap2_0</th>\n",
       "      <th>LDA4_Umap2_1</th>\n",
       "    </tr>\n",
       "  </thead>\n",
       "  <tbody>\n",
       "    <tr>\n",
       "      <th>333</th>\n",
       "      <td>f0d1b10c588c9b3a3d5e4921a26043f6</td>\n",
       "      <td>70</td>\n",
       "      <td>22</td>\n",
       "      <td>20</td>\n",
       "      <td>28</td>\n",
       "      <td>2</td>\n",
       "      <td>43</td>\n",
       "      <td>11</td>\n",
       "      <td>0</td>\n",
       "      <td>0</td>\n",
       "      <td>...</td>\n",
       "      <td>-1</td>\n",
       "      <td>0</td>\n",
       "      <td>0.5</td>\n",
       "      <td>0.0</td>\n",
       "      <td>1</td>\n",
       "      <td>0</td>\n",
       "      <td>-0.868954</td>\n",
       "      <td>alguien escapando llegando cruzar rio</td>\n",
       "      <td>-0.563637</td>\n",
       "      <td>6.554140</td>\n",
       "    </tr>\n",
       "    <tr>\n",
       "      <th>72</th>\n",
       "      <td>11234a3a0859093a668ef4669db3f148</td>\n",
       "      <td>69</td>\n",
       "      <td>22</td>\n",
       "      <td>20</td>\n",
       "      <td>27</td>\n",
       "      <td>1</td>\n",
       "      <td>43</td>\n",
       "      <td>11</td>\n",
       "      <td>0</td>\n",
       "      <td>0</td>\n",
       "      <td>...</td>\n",
       "      <td>0</td>\n",
       "      <td>4</td>\n",
       "      <td>0.0</td>\n",
       "      <td>2.0</td>\n",
       "      <td>0</td>\n",
       "      <td>4</td>\n",
       "      <td>0.679537</td>\n",
       "      <td>frondoso mágico bosque lleno animales fantásti...</td>\n",
       "      <td>1.245992</td>\n",
       "      <td>3.226087</td>\n",
       "    </tr>\n",
       "  </tbody>\n",
       "</table>\n",
       "<p>2 rows × 187 columns</p>\n",
       "</div>"
      ],
      "text/plain": [
       "                                 Code  TAS20  F1  F2  F3  Gender  Age Card  \\\n",
       "333  f0d1b10c588c9b3a3d5e4921a26043f6     70  22  20  28       2   43   11   \n",
       "72   11234a3a0859093a668ef4669db3f148     69  22  20  27       1   43   11   \n",
       "\n",
       "     T_Metaphors  T_ToM  ...  AFINN_Words_Pol  AFINN_Stems_Pol  \\\n",
       "333            0      0  ...               -1                0   \n",
       "72             0      0  ...                0                4   \n",
       "\n",
       "     AFINN_Words_Int  AFINN_Stems_Int AFINN_Words_Max  AFINN_Stems_Max  \\\n",
       "333              0.5              0.0               1                0   \n",
       "72               0.0              2.0               0                4   \n",
       "\n",
       "     Watson_Sent                                         Clean_Text  \\\n",
       "333    -0.868954              alguien escapando llegando cruzar rio   \n",
       "72      0.679537  frondoso mágico bosque lleno animales fantásti...   \n",
       "\n",
       "     LDA4_Umap2_0 LDA4_Umap2_1  \n",
       "333     -0.563637     6.554140  \n",
       "72       1.245992     3.226087  \n",
       "\n",
       "[2 rows x 187 columns]"
      ]
     },
     "execution_count": 3,
     "metadata": {},
     "output_type": "execute_result"
    }
   ],
   "source": [
    "alex_df.sample(2)"
   ]
  },
  {
   "cell_type": "code",
   "execution_count": 4,
   "metadata": {},
   "outputs": [
    {
     "data": {
      "text/plain": [
       "9VH     89\n",
       "1       85\n",
       "11      83\n",
       "13HM    81\n",
       "Name: Card, dtype: int64"
      ]
     },
     "execution_count": 4,
     "metadata": {},
     "output_type": "execute_result"
    }
   ],
   "source": [
    "alex_df.Card.value_counts()"
   ]
  },
  {
   "cell_type": "markdown",
   "metadata": {},
   "source": [
    "## LDA Analysis"
   ]
  },
  {
   "cell_type": "code",
   "execution_count": 5,
   "metadata": {},
   "outputs": [],
   "source": [
    "import gensim\n",
    "from gensim import corpora"
   ]
  },
  {
   "cell_type": "code",
   "execution_count": 43,
   "metadata": {},
   "outputs": [],
   "source": [
    "# We're using the list of stopped tokens as corpus, we could also use lemmas, and remove punctuation.\n",
    "corpus = [ast.literal_eval(doc) for doc in alex_df.Tokens_Stop]"
   ]
  },
  {
   "cell_type": "code",
   "execution_count": 44,
   "metadata": {},
   "outputs": [],
   "source": [
    "# Getting the dictionary (lexicon) of the corpus\n",
    "dictionary = corpora.Dictionary(corpus)"
   ]
  },
  {
   "cell_type": "code",
   "execution_count": 45,
   "metadata": {},
   "outputs": [
    {
     "data": {
      "text/plain": [
       "'triste'"
      ]
     },
     "execution_count": 45,
     "metadata": {},
     "output_type": "execute_result"
    }
   ],
   "source": [
    "dictionary.get(17)"
   ]
  },
  {
   "cell_type": "code",
   "execution_count": 46,
   "metadata": {},
   "outputs": [
    {
     "data": {
      "text/plain": [
       "[(5, 1)]"
      ]
     },
     "execution_count": 46,
     "metadata": {},
     "output_type": "execute_result"
    }
   ],
   "source": [
    "dictionary.doc2bow([\"hombre\"])"
   ]
  },
  {
   "cell_type": "code",
   "execution_count": 47,
   "metadata": {},
   "outputs": [],
   "source": [
    "# Document-Term matrix\n",
    "doc_term_matrix = [dictionary.doc2bow(doc) for doc in corpus]"
   ]
  },
  {
   "cell_type": "code",
   "execution_count": 48,
   "metadata": {},
   "outputs": [],
   "source": [
    "# Gensim LDA model object\n",
    "LDA = gensim.models.ldamodel.LdaModel"
   ]
  },
  {
   "cell_type": "code",
   "execution_count": 49,
   "metadata": {},
   "outputs": [],
   "source": [
    "# Running and Trainign LDA model on the document term matrix with 4 topics\n",
    "LDA_model = LDA(doc_term_matrix, num_topics=4, id2word = dictionary, passes=50)"
   ]
  },
  {
   "cell_type": "code",
   "execution_count": 50,
   "metadata": {},
   "outputs": [
    {
     "data": {
      "text/plain": [
       "[(0,\n",
       "  '0.033*\"violín\" + 0.029*\"niño\" + 0.020*\"tocar\" + 0.009*\"música\" + 0.008*\"padres\" + 0.007*\"quería\" + 0.007*\"clases\" + 0.006*\"aprender\" + 0.005*\"gustaba\" + 0.005*\"pensando\"'),\n",
       " (1,\n",
       "  '0.007*\"día\" + 0.005*\"hombre\" + 0.005*\"dragón\" + 0.005*\"cascada\" + 0.005*\"montaña\" + 0.004*\"bosque\" + 0.004*\"tesoro\" + 0.004*\"tras\" + 0.004*\"mañana\" + 0.004*\"descansando\"'),\n",
       " (2,\n",
       "  '0.014*\"hombre\" + 0.013*\"mujer\" + 0.005*\"vida\" + 0.004*\"personas\" + 0.004*\"si\" + 0.004*\"ser\" + 0.004*\"cascada\" + 0.004*\"día\" + 0.004*\"tiempo\" + 0.004*\"encontró\"'),\n",
       " (3,\n",
       "  '0.013*\"día\" + 0.007*\"trabajar\" + 0.006*\"grupo\" + 0.006*\"siesta\" + 0.006*\"después\" + 0.005*\"trabajo\" + 0.005*\"hombre\" + 0.005*\"campo\" + 0.005*\"hacer\" + 0.005*\"hombres\"')]"
      ]
     },
     "execution_count": 50,
     "metadata": {},
     "output_type": "execute_result"
    }
   ],
   "source": [
    "LDA_model.print_topics()"
   ]
  },
  {
   "cell_type": "code",
   "execution_count": 59,
   "metadata": {},
   "outputs": [
    {
     "data": {
      "text/plain": [
       "[('día', 0.012806963),\n",
       " ('trabajar', 0.006809864),\n",
       " ('grupo', 0.0064238124),\n",
       " ('siesta', 0.0063998112),\n",
       " ('después', 0.0057050227),\n",
       " ('trabajo', 0.00534794),\n",
       " ('hombre', 0.0051363),\n",
       " ('campo', 0.00503226),\n",
       " ('hacer', 0.0048243674),\n",
       " ('hombres', 0.0047728457)]"
      ]
     },
     "execution_count": 59,
     "metadata": {},
     "output_type": "execute_result"
    }
   ],
   "source": [
    "LDA_model.show_topic(3)"
   ]
  },
  {
   "cell_type": "code",
   "execution_count": 75,
   "metadata": {},
   "outputs": [],
   "source": [
    "# Get the topic probas for a new doc:\n",
    "topic_vector = LDA_model.get_document_topics(dictionary.doc2bow([\"hombre\",\"que\",\"fuma\"]))"
   ]
  },
  {
   "cell_type": "code",
   "execution_count": 76,
   "metadata": {},
   "outputs": [
    {
     "data": {
      "text/plain": [
       "[(0, 0.12741445), (1, 0.12890203), (2, 0.61502707), (3, 0.12865643)]"
      ]
     },
     "execution_count": 76,
     "metadata": {},
     "output_type": "execute_result"
    }
   ],
   "source": [
    "topic_vector"
   ]
  },
  {
   "cell_type": "code",
   "execution_count": 80,
   "metadata": {},
   "outputs": [],
   "source": [
    "def get_MostProbTopic(topicvec):\n",
    "    maxProb = 0\n",
    "    maxTuple = (0,0)\n",
    "    for tuple in topicvec:\n",
    "        if (tuple[1] > maxProb):\n",
    "            maxProb = tuple[1]\n",
    "            maxTuple = tuple\n",
    "    return maxTuple[0]"
   ]
  },
  {
   "cell_type": "code",
   "execution_count": 81,
   "metadata": {},
   "outputs": [
    {
     "data": {
      "text/plain": [
       "2"
      ]
     },
     "execution_count": 81,
     "metadata": {},
     "output_type": "execute_result"
    }
   ],
   "source": [
    "get_MostProbTopic(topic_vector)"
   ]
  },
  {
   "cell_type": "markdown",
   "metadata": {},
   "source": [
    "### LDA Model evaluation\n",
    "- See [Coherence measure](https://radimrehurek.com/gensim/models/coherencemodel.html)"
   ]
  },
  {
   "cell_type": "code",
   "execution_count": 53,
   "metadata": {},
   "outputs": [
    {
     "name": "stdout",
     "output_type": "stream",
     "text": [
      "Perplexity:  -7.812170350539269\n"
     ]
    }
   ],
   "source": [
    "# Compute Perplexity\n",
    "# a measure of how good the model is. lower the better.\n",
    "print('Perplexity: ', LDA_model.log_perplexity(doc_term_matrix)) "
   ]
  },
  {
   "cell_type": "code",
   "execution_count": 55,
   "metadata": {},
   "outputs": [
    {
     "name": "stdout",
     "output_type": "stream",
     "text": [
      "Coherence Score:  0.4086385172371717\n"
     ]
    }
   ],
   "source": [
    "from gensim.models import CoherenceModel\n",
    "# Compute Coherence Score\n",
    "coherence_model_lda = CoherenceModel(model=LDA_model, texts=corpus, dictionary=dictionary, coherence='c_v')\n",
    "coherence_lda = coherence_model_lda.get_coherence()\n",
    "print('Coherence Score: ', coherence_lda)"
   ]
  },
  {
   "cell_type": "markdown",
   "metadata": {},
   "source": [
    "### Search for the best LDA model (higher coherence)"
   ]
  },
  {
   "cell_type": "code",
   "execution_count": 84,
   "metadata": {},
   "outputs": [
    {
     "name": "stdout",
     "output_type": "stream",
     "text": [
      "Num.Topics: 2 --> Coherence: 0.324575\n",
      "Num.Topics: 3 --> Coherence: 0.437372\n",
      "Num.Topics: 4 --> Coherence: 0.419226\n",
      "Num.Topics: 5 --> Coherence: 0.361943\n",
      "Num.Topics: 6 --> Coherence: 0.359344\n",
      "Num.Topics: 7 --> Coherence: 0.397478\n",
      "Num.Topics: 8 --> Coherence: 0.407949\n",
      "Num.Topics: 9 --> Coherence: 0.408794\n",
      "Num.Topics: 10 --> Coherence: 0.433290\n",
      "Num.Topics: 11 --> Coherence: 0.400449\n"
     ]
    }
   ],
   "source": [
    "topic_nums = []\n",
    "coherence_values = []\n",
    "for Num_Topics in range(2,12):\n",
    "    topic_nums.append(Num_Topics)\n",
    "    LDA_model = LDA(doc_term_matrix, num_topics=Num_Topics, id2word = dictionary, passes=50)\n",
    "    coherence_model_lda = CoherenceModel(model=LDA_model, texts=corpus, dictionary=dictionary, coherence='c_v')\n",
    "    coherence_lda = coherence_model_lda.get_coherence()\n",
    "    coherence_values.append(coherence_lda)\n",
    "    print(\"Num.Topics: %d --> Coherence: %f\" % (Num_Topics,coherence_lda))"
   ]
  },
  {
   "cell_type": "code",
   "execution_count": 87,
   "metadata": {},
   "outputs": [
    {
     "data": {
      "image/png": "[encoded data removed]",
      "text/plain": [
       "<Figure size 432x288 with 1 Axes>"
      ]
     },
     "metadata": {
      "needs_background": "light"
     },
     "output_type": "display_data"
    }
   ],
   "source": [
    "import matplotlib.pyplot as plt\n",
    "plt.plot(topic_nums, coherence_values)\n",
    "plt.xlabel(\"Num. Topics\")\n",
    "plt.ylabel(\"Coherence score\")\n",
    "plt.legend((\"coherence_values\"), loc='best')\n",
    "plt.show()"
   ]
  },
  {
   "cell_type": "markdown",
   "metadata": {},
   "source": [
    "### Will LDA with 10 topics be usefull for alexithymia classification?"
   ]
  },
  {
   "cell_type": "code",
   "execution_count": 89,
   "metadata": {},
   "outputs": [],
   "source": [
    "# let's use the 10 topics model\n",
    "LDA_model = LDA(doc_term_matrix, num_topics=10, id2word = dictionary, passes=50)"
   ]
  },
  {
   "cell_type": "code",
   "execution_count": 90,
   "metadata": {},
   "outputs": [],
   "source": [
    "def calculateTopic(token_list_str):\n",
    "    token_list = ast.literal_eval(token_list_str)\n",
    "    topic_vector = LDA_model.get_document_topics(dictionary.doc2bow(token_list))\n",
    "    return get_MostProbTopic(topic_vector)"
   ]
  },
  {
   "cell_type": "code",
   "execution_count": 98,
   "metadata": {},
   "outputs": [],
   "source": [
    "# alex_df.drop(['LDA_Topic'], axis='columns', inplace=True)"
   ]
  },
  {
   "cell_type": "code",
   "execution_count": 100,
   "metadata": {},
   "outputs": [],
   "source": [
    "alex_df['LDA10_Topic'] = alex_df.Tokens_Stop.apply(lambda x: calculateTopic(x))"
   ]
  },
  {
   "cell_type": "code",
   "execution_count": 101,
   "metadata": {},
   "outputs": [
    {
     "data": {
      "text/plain": [
       "count    338.000000\n",
       "mean       4.979290\n",
       "std        3.116366\n",
       "min        0.000000\n",
       "25%        2.000000\n",
       "50%        6.000000\n",
       "75%        8.000000\n",
       "max        9.000000\n",
       "Name: LDA10_Topic, dtype: float64"
      ]
     },
     "execution_count": 101,
     "metadata": {},
     "output_type": "execute_result"
    }
   ],
   "source": [
    "alex_df['LDA10_Topic'].describe()"
   ]
  },
  {
   "cell_type": "code",
   "execution_count": 105,
   "metadata": {},
   "outputs": [
    {
     "data": {
      "text/html": [
       "<div>\n",
       "<style scoped>\n",
       "    .dataframe tbody tr th:only-of-type {\n",
       "        vertical-align: middle;\n",
       "    }\n",
       "\n",
       "    .dataframe tbody tr th {\n",
       "        vertical-align: top;\n",
       "    }\n",
       "\n",
       "    .dataframe thead th {\n",
       "        text-align: right;\n",
       "    }\n",
       "</style>\n",
       "<table border=\"1\" class=\"dataframe\">\n",
       "  <thead>\n",
       "    <tr style=\"text-align: right;\">\n",
       "      <th></th>\n",
       "      <th>Alex_A</th>\n",
       "      <th>LDA10_Topic</th>\n",
       "    </tr>\n",
       "  </thead>\n",
       "  <tbody>\n",
       "    <tr>\n",
       "      <th>Alex_A</th>\n",
       "      <td>1.000000</td>\n",
       "      <td>0.026436</td>\n",
       "    </tr>\n",
       "    <tr>\n",
       "      <th>LDA10_Topic</th>\n",
       "      <td>0.026436</td>\n",
       "      <td>1.000000</td>\n",
       "    </tr>\n",
       "  </tbody>\n",
       "</table>\n",
       "</div>"
      ],
      "text/plain": [
       "               Alex_A  LDA10_Topic\n",
       "Alex_A       1.000000     0.026436\n",
       "LDA10_Topic  0.026436     1.000000"
      ]
     },
     "execution_count": 105,
     "metadata": {},
     "output_type": "execute_result"
    }
   ],
   "source": [
    "alex_df[['Alex_A','LDA10_Topic']].corr()"
   ]
  },
  {
   "cell_type": "markdown",
   "metadata": {},
   "source": [
    "### Calculate the topic for 4 topics "
   ]
  },
  {
   "cell_type": "code",
   "execution_count": 102,
   "metadata": {},
   "outputs": [],
   "source": [
    "LDA_model = LDA(doc_term_matrix, num_topics=4, id2word = dictionary, passes=50)"
   ]
  },
  {
   "cell_type": "code",
   "execution_count": 103,
   "metadata": {},
   "outputs": [],
   "source": [
    "alex_df['LDA4_Topic'] = alex_df.Tokens_Stop.apply(lambda x: calculateTopic(x))"
   ]
  },
  {
   "cell_type": "code",
   "execution_count": 106,
   "metadata": {},
   "outputs": [
    {
     "data": {
      "text/plain": [
       "count    338.000000\n",
       "mean       1.245562\n",
       "std        1.025807\n",
       "min        0.000000\n",
       "25%        0.000000\n",
       "50%        1.000000\n",
       "75%        2.000000\n",
       "max        3.000000\n",
       "Name: LDA4_Topic, dtype: float64"
      ]
     },
     "execution_count": 106,
     "metadata": {},
     "output_type": "execute_result"
    }
   ],
   "source": [
    "alex_df['LDA4_Topic'].describe()"
   ]
  },
  {
   "cell_type": "code",
   "execution_count": 104,
   "metadata": {},
   "outputs": [
    {
     "data": {
      "text/html": [
       "<div>\n",
       "<style scoped>\n",
       "    .dataframe tbody tr th:only-of-type {\n",
       "        vertical-align: middle;\n",
       "    }\n",
       "\n",
       "    .dataframe tbody tr th {\n",
       "        vertical-align: top;\n",
       "    }\n",
       "\n",
       "    .dataframe thead th {\n",
       "        text-align: right;\n",
       "    }\n",
       "</style>\n",
       "<table border=\"1\" class=\"dataframe\">\n",
       "  <thead>\n",
       "    <tr style=\"text-align: right;\">\n",
       "      <th></th>\n",
       "      <th>Alex_A</th>\n",
       "      <th>LDA4_Topic</th>\n",
       "    </tr>\n",
       "  </thead>\n",
       "  <tbody>\n",
       "    <tr>\n",
       "      <th>Alex_A</th>\n",
       "      <td>1.00000</td>\n",
       "      <td>0.10137</td>\n",
       "    </tr>\n",
       "    <tr>\n",
       "      <th>LDA4_Topic</th>\n",
       "      <td>0.10137</td>\n",
       "      <td>1.00000</td>\n",
       "    </tr>\n",
       "  </tbody>\n",
       "</table>\n",
       "</div>"
      ],
      "text/plain": [
       "             Alex_A  LDA4_Topic\n",
       "Alex_A      1.00000     0.10137\n",
       "LDA4_Topic  0.10137     1.00000"
      ]
     },
     "execution_count": 104,
     "metadata": {},
     "output_type": "execute_result"
    }
   ],
   "source": [
    "alex_df[['Alex_A','LDA4_Topic']].corr()"
   ]
  },
  {
   "cell_type": "markdown",
   "metadata": {},
   "source": [
    "### Topic visualization"
   ]
  },
  {
   "cell_type": "code",
   "execution_count": 67,
   "metadata": {},
   "outputs": [],
   "source": [
    "# ! pip install pyldavis"
   ]
  },
  {
   "cell_type": "code",
   "execution_count": 70,
   "metadata": {},
   "outputs": [],
   "source": [
    "import pyLDAvis.gensim \n",
    "import pyLDAvis"
   ]
  },
  {
   "cell_type": "code",
   "execution_count": 107,
   "metadata": {},
   "outputs": [
    {
     "name": "stderr",
     "output_type": "stream",
     "text": [
      "C:\\Users\\array\\Anaconda3\\lib\\site-packages\\pyLDAvis\\_prepare.py:257: FutureWarning: Sorting because non-concatenation axis is not aligned. A future version\n",
      "of pandas will change to not sort by default.\n",
      "\n",
      "To accept the future behavior, pass 'sort=False'.\n",
      "\n",
      "To retain the current behavior and silence the warning, pass 'sort=True'.\n",
      "\n",
      "  return pd.concat([default_term_info] + list(topic_dfs))\n"
     ]
    },
    {
     "data": {
      "text/html": [
       "\n",
       "<link rel=\"stylesheet\" type=\"text/css\" href=\"https://cdn.rawgit.com/bmabey/pyLDAvis/files/ldavis.v1.0.0.css\">\n",
       "\n",
       "\n",
       "<div id=\"ldavis_el853215508554227444650525130\"></div>\n",
       "<script type=\"text/javascript\">\n",
       "\n",
       "var ldavis_el853215508554227444650525130_data = {\"mdsDat\": {\"x\": [0.13681614774924195, -0.07376237486368915, -0.06025383963688807, -0.0027999332486645973], \"y\": [-0.0028312638800124437, 0.08117768212028446, -0.10714426367297034, 0.028797845432698307], \"topics\": [1, 2, 3, 4], \"cluster\": [1, 1, 1, 1], \"Freq\": [30.57255744934082, 29.2855224609375, 23.706024169921875, 16.43589210510254]}, \"tinfo\": {\"Category\": [\"Default\", \"Default\", \"Default\", \"Default\", \"Default\", \"Default\", \"Default\", \"Default\", \"Default\", \"Default\", \"Default\", \"Default\", \"Default\", \"Default\", \"Default\", \"Default\", \"Default\", \"Default\", \"Default\", \"Default\", \"Default\", \"Default\", \"Default\", \"Default\", \"Default\", \"Default\", \"Default\", \"Default\", \"Default\", \"Default\", \"Topic1\", \"Topic1\", \"Topic1\", \"Topic1\", \"Topic1\", \"Topic1\", \"Topic1\", \"Topic1\", \"Topic1\", \"Topic1\", \"Topic1\", \"Topic1\", \"Topic1\", \"Topic1\", \"Topic1\", \"Topic1\", \"Topic1\", \"Topic1\", \"Topic1\", \"Topic1\", \"Topic1\", \"Topic1\", \"Topic1\", \"Topic1\", \"Topic1\", \"Topic1\", \"Topic1\", \"Topic1\", \"Topic1\", \"Topic1\", \"Topic1\", \"Topic1\", \"Topic1\", \"Topic1\", \"Topic1\", \"Topic1\", \"Topic1\", \"Topic1\", \"Topic1\", \"Topic1\", \"Topic1\", \"Topic1\", \"Topic1\", \"Topic1\", \"Topic1\", \"Topic1\", \"Topic1\", \"Topic1\", \"Topic1\", \"Topic1\", \"Topic1\", \"Topic1\", \"Topic2\", \"Topic2\", \"Topic2\", \"Topic2\", \"Topic2\", \"Topic2\", \"Topic2\", \"Topic2\", \"Topic2\", \"Topic2\", \"Topic2\", \"Topic2\", \"Topic2\", \"Topic2\", \"Topic2\", \"Topic2\", \"Topic2\", \"Topic2\", \"Topic2\", \"Topic2\", \"Topic2\", \"Topic2\", \"Topic2\", \"Topic2\", \"Topic2\", \"Topic2\", \"Topic2\", \"Topic2\", \"Topic2\", \"Topic2\", \"Topic2\", \"Topic2\", \"Topic2\", \"Topic2\", \"Topic2\", \"Topic2\", \"Topic2\", \"Topic2\", \"Topic2\", \"Topic2\", \"Topic2\", \"Topic2\", \"Topic2\", \"Topic2\", \"Topic2\", \"Topic2\", \"Topic2\", \"Topic2\", \"Topic2\", \"Topic2\", \"Topic2\", \"Topic2\", \"Topic2\", \"Topic2\", \"Topic2\", \"Topic2\", \"Topic2\", \"Topic2\", \"Topic2\", \"Topic2\", \"Topic2\", \"Topic2\", \"Topic2\", \"Topic3\", \"Topic3\", \"Topic3\", \"Topic3\", \"Topic3\", \"Topic3\", \"Topic3\", \"Topic3\", \"Topic3\", \"Topic3\", \"Topic3\", \"Topic3\", \"Topic3\", \"Topic3\", \"Topic3\", \"Topic3\", \"Topic3\", \"Topic3\", \"Topic3\", \"Topic3\", \"Topic3\", \"Topic3\", \"Topic3\", \"Topic3\", \"Topic3\", \"Topic3\", \"Topic3\", \"Topic3\", \"Topic3\", \"Topic3\", \"Topic3\", \"Topic3\", \"Topic3\", \"Topic3\", \"Topic3\", \"Topic3\", \"Topic3\", \"Topic3\", \"Topic3\", \"Topic3\", \"Topic3\", \"Topic3\", \"Topic3\", \"Topic3\", \"Topic3\", \"Topic3\", \"Topic3\", \"Topic3\", \"Topic3\", \"Topic3\", \"Topic3\", \"Topic3\", \"Topic3\", \"Topic3\", \"Topic3\", \"Topic3\", \"Topic3\", \"Topic3\", \"Topic3\", \"Topic3\", \"Topic3\", \"Topic3\", \"Topic3\", \"Topic4\", \"Topic4\", \"Topic4\", \"Topic4\", \"Topic4\", \"Topic4\", \"Topic4\", \"Topic4\", \"Topic4\", \"Topic4\", \"Topic4\", \"Topic4\", \"Topic4\", \"Topic4\", \"Topic4\", \"Topic4\", \"Topic4\", \"Topic4\", \"Topic4\", \"Topic4\", \"Topic4\", \"Topic4\", \"Topic4\", \"Topic4\", \"Topic4\", \"Topic4\", \"Topic4\", \"Topic4\", \"Topic4\", \"Topic4\", \"Topic4\", \"Topic4\", \"Topic4\", \"Topic4\", \"Topic4\", \"Topic4\", \"Topic4\", \"Topic4\", \"Topic4\", \"Topic4\", \"Topic4\", \"Topic4\", \"Topic4\", \"Topic4\", \"Topic4\", \"Topic4\", \"Topic4\", \"Topic4\", \"Topic4\", \"Topic4\", \"Topic4\", \"Topic4\", \"Topic4\", \"Topic4\", \"Topic4\", \"Topic4\", \"Topic4\", \"Topic4\", \"Topic4\", \"Topic4\", \"Topic4\", \"Topic4\", \"Topic4\", \"Topic4\"], \"Freq\": [61.0, 38.0, 53.0, 40.0, 11.0, 12.0, 17.0, 11.0, 28.0, 19.0, 11.0, 16.0, 8.0, 8.0, 9.0, 12.0, 9.0, 14.0, 7.0, 11.0, 8.0, 9.0, 7.0, 5.0, 11.0, 8.0, 9.0, 16.0, 4.0, 18.0, 37.74977493286133, 11.148191452026367, 11.47629165649414, 5.329673767089844, 54.58616256713867, 3.8593645095825195, 7.685335159301758, 10.150808334350586, 8.252344131469727, 6.926258563995361, 8.236641883850098, 3.124129295349121, 3.123037099838257, 3.1213700771331787, 3.1172964572906494, 7.329758167266846, 44.88199234008789, 2.3890628814697266, 2.389059066772461, 2.3890562057495117, 2.3890528678894043, 2.388657331466675, 2.386443614959717, 2.3827507495880127, 2.372826337814331, 2.301774024963379, 9.11151123046875, 3.861750364303589, 14.780952453613281, 1.653884768486023, 12.532805442810059, 5.721187591552734, 7.553896427154541, 7.777490615844727, 5.080862522125244, 9.649149894714355, 4.583160400390625, 7.28772497177124, 3.619039297103882, 3.6072232723236084, 7.999779224395752, 4.166093826293945, 5.3351569175720215, 6.59944486618042, 7.381503582000732, 6.233761310577393, 5.567782402038574, 8.258389472961426, 7.301673889160156, 5.914891719818115, 5.535511493682861, 5.405115604400635, 5.24098539352417, 10.330622673034668, 3.7951390743255615, 3.072200298309326, 3.068654775619507, 2.349290609359741, 2.3492860794067383, 2.349273920059204, 2.3492605686187744, 2.3492562770843506, 2.349242925643921, 2.3492376804351807, 2.3480658531188965, 2.3461713790893555, 2.346158266067505, 2.3447952270507812, 2.3409950733184814, 2.3215041160583496, 4.515475749969482, 9.394186973571777, 1.6263540983200073, 1.626353144645691, 1.6263501644134521, 1.6263490915298462, 1.626348853111267, 1.626348853111267, 1.626346468925476, 1.626344919204712, 1.6263434886932373, 1.6263427734375, 5.965970516204834, 10.317718505859375, 5.211185455322266, 6.690277576446533, 4.69816780090332, 3.0731422901153564, 8.141045570373535, 3.0815677642822266, 3.0716257095336914, 3.0711700916290283, 11.177538871765137, 8.15958309173584, 11.167655944824219, 9.280742645263672, 6.267513275146484, 4.966270446777344, 11.007014274597168, 5.247255802154541, 6.685923099517822, 7.210024833679199, 5.162907600402832, 13.857965469360352, 3.064758062362671, 3.6467645168304443, 12.311929702758789, 5.9657392501831055, 5.970263957977295, 7.641707897186279, 5.793305397033691, 4.929628849029541, 5.958662986755371, 4.544278621673584, 4.521825313568115, 4.237185478210449, 2.884593963623047, 2.8845808506011963, 2.8845746517181396, 2.8844990730285645, 2.883228063583374, 6.835626602172852, 2.2058072090148926, 2.2058072090148926, 2.2057814598083496, 2.205721378326416, 2.1979572772979736, 6.958007335662842, 1.527040958404541, 1.52703857421875, 1.5270382165908813, 1.5270354747772217, 1.5270344018936157, 1.5270347595214844, 1.527033805847168, 1.5270330905914307, 1.527034044265747, 1.5270311832427979, 1.5270311832427979, 1.5270308256149292, 1.527028203010559, 1.527026891708374, 1.5270252227783203, 1.5270252227783203, 1.5270252227783203, 1.5270252227783203, 4.174749851226807, 11.02711296081543, 2.8868608474731445, 2.8896944522857666, 2.8599958419799805, 15.813742637634277, 5.603841781616211, 20.625823974609375, 3.2138214111328125, 3.8399462699890137, 5.999752044677734, 6.029128551483154, 8.185492515563965, 4.252054214477539, 4.251395225524902, 4.241492748260498, 3.562309980392456, 10.632872581481934, 5.835453510284424, 3.483332633972168, 4.249481201171875, 3.5073869228363037, 4.057526588439941, 4.920699596405029, 5.210452079772949, 4.239534378051758, 3.955573320388794, 3.509803056716919, 3.498687267303467, 3.1929092407226562, 3.414632797241211, 3.413083553314209, 1.9750418663024902, 1.9742532968521118, 1.9735618829727173, 1.9699923992156982, 1.3672940731048584, 1.3672935962677002, 1.3672934770584106, 1.3672932386398315, 1.3672932386398315, 1.3672925233840942, 1.367290735244751, 1.3672903776168823, 1.3672903776168823, 1.3672897815704346, 1.367281198501587, 1.36728036403656, 1.3672785758972168, 1.3672780990600586, 1.3672747611999512, 1.367255687713623, 1.3672542572021484, 1.3672528266906738, 1.3664789199829102, 1.3647031784057617, 1.359494924545288, 1.3587982654571533, 1.3587902784347534, 1.325805425643921, 3.57926869392395, 1.978040099143982, 3.723296880722046, 2.584686279296875, 1.9766610860824585, 3.2074995040893555, 4.242529392242432, 4.16931676864624, 2.6007161140441895, 7.251492977142334, 3.2017416954040527, 1.9758235216140747, 1.9741368293762207, 1.9762370586395264, 2.5933191776275635, 3.2003774642944336, 3.469792366027832, 2.8822338581085205, 1.7127387523651123, 3.1932709217071533, 5.251108646392822, 3.1931560039520264, 2.5194191932678223, 1.978987693786621, 2.5922324657440186, 1.9789870977401733, 4.115422248840332, 2.5861146450042725, 2.588017702102661, 2.5014617443084717, 2.4160594940185547, 2.082298517227173, 1.9821776151657104, 1.981043815612793, 1.9791334867477417, 1.9781190156936646], \"Term\": [\"viol\\u00edn\", \"tocar\", \"ni\\u00f1o\", \"hombre\", \"aprender\", \"clases\", \"cascada\", \"descansando\", \"mujer\", \"padres\", \"pensando\", \"m\\u00fasica\", \"cansado\", \"tesoro\", \"instrumento\", \"hombres\", \"a\\u00f1os\", \"sol\", \"sabe\", \"gustaba\", \"obligaban\", \"drag\\u00f3n\", \"sab\\u00eda\", \"parec\\u00eda\", \"trabajar\", \"violin\", \"durmiendo\", \"ser\", \"p\\u00e1jaros\", \"despu\\u00e9s\", \"tocar\", \"aprender\", \"clases\", \"frustrado\", \"viol\\u00edn\", \"gusta\", \"obligaban\", \"pensando\", \"instrumento\", \"sab\\u00eda\", \"a\\u00f1os\", \"guitarra\", \"fuerzas\", \"piano\", \"partitura\", \"violin\", \"ni\\u00f1o\", \"cuerdas\", \"puntos\", \"cari\\u00f1o\", \"carlitos\", \"aqu\\u00ed\", \"pensativo\", \"antonio\", \"miraba\", \"hacerlo\", \"gustaba\", \"regalo\", \"padres\", \"dar\", \"m\\u00fasica\", \"abuelo\", \"triste\", \"c\\u00f3mo\", \"padre\", \"quer\\u00eda\", \"estudiar\", \"poder\", \"aquel\", \"seguir\", \"si\", \"realmente\", \"q\", \"hacer\", \"tras\", \"vida\", \"ahora\", \"d\\u00eda\", \"mujer\", \"despu\\u00e9s\", \"grupo\", \"hombre\", \"descanso\", \"descansando\", \"segando\", \"uvas\", \"lilo\", \"\\u00faltima\", \"golpe\", \"cercano\", \"quiso\", \"pueden\", \"suicidado\", \"tomando\", \"dorm\\u00eda\", \"despertar\", \"casi\", \"prado\", \"dinero\", \"sue\\u00f1os\", \"habitaci\\u00f3n\", \"hombres\", \"prefer\\u00eda\", \"recuerdos\", \"00\", \"nave\", \"isla\", \"fama\", \"har\\u00eda\", \"despedirse\", \"nueva\", \"dormidos\", \"personas\", \"sol\", \"compa\\u00f1eros\", \"durmiendo\", \"pareja\", \"sombra\", \"trabajar\", \"aire\", \"dia\", \"escondida\", \"despu\\u00e9s\", \"campo\", \"trabajo\", \"mientras\", \"momento\", \"trabajadores\", \"tras\", \"ah\\u00ed\", \"tiempo\", \"siesta\", \"siempre\", \"d\\u00eda\", \"deb\\u00eda\", \"puente\", \"hombre\", \"as\\u00ed\", \"camino\", \"grupo\", \"vida\", \"descansar\", \"cascada\", \"monta\\u00f1a\", \"gran\", \"p\\u00e1jaros\", \"marco\", \"ana\", \"naturaleza\", \"fallecida\", \"llevaba\", \"cansado\", \"recorr\\u00eda\", \"est\\u00f3mago\", \"llevado\", \"p\\u00e9rdida\", \"tocando\", \"tesoro\", \"sigui\\u00f3\", \"especies\", \"virus\", \"noches\", \"ruta\", \"habitantes\", \"exist\\u00eda\", \"depues\", \"intentaron\", \"altos\", \"aventureros\", \"chimp\\u00f3n\", \"luchado\", \"detr\\u00e1s\", \"volviendo\", \"ejercito\", \"combate\", \"ciudadela\", \"encontrar\", \"cascada\", \"imagen\", \"castillo\", \"enferma\", \"mujer\", \"drag\\u00f3n\", \"hombre\", \"hecho\", \"aburrido\", \"ver\", \"viaje\", \"ser\", \"esposa\", \"all\\u00ed\", \"dormir\", \"parece\", \"d\\u00eda\", \"casa\", \"decidi\\u00f3\", \"agua\", \"d\\u00edas\", \"bosque\", \"amigos\", \"grupo\", \"noche\", \"cama\", \"pasar\", \"mundo\", \"mejor\", \"pod\\u00eda\", \"ni\\u00f1o\", \"lila\", \"viv\\u00eda\", \"hormiga\", \"anterior\", \"rajaba\", \"agosto\", \"rubius\", \"ron\", \"anoche\", \"minutos\", \"sofia\", \"abandonar\", \"l\\u00edo\", \"ministro\", \"van\", \"crecida\", \"quedado\", \"vacas\", \"puedo\", \"asesino\", \"destino\", \"grandes\", \"amaba\", \"puso\", \"practicaba\", \"cuanto\", \"dir\\u00eda\", \"incluso\", \"parec\\u00eda\", \"importante\", \"sabe\", \"estudios\", \"sent\\u00eda\", \"ojos\", \"noche\", \"tan\", \"piedras\", \"d\\u00eda\", \"mundo\", \"buscar\", \"verano\", \"mesa\", \"muerta\", \"camino\", \"quer\\u00eda\", \"lugar\", \"solitario\", \"vida\", \"ni\\u00f1o\", \"hacer\", \"q\", \"lleg\\u00f3\", \"ahora\", \"encontr\\u00f3\", \"viol\\u00edn\", \"amigos\", \"tras\", \"padres\", \"trabajo\", \"si\", \"cama\", \"siempre\", \"solo\", \"trabajar\"], \"Total\": [61.0, 38.0, 53.0, 40.0, 11.0, 12.0, 17.0, 11.0, 28.0, 19.0, 11.0, 16.0, 8.0, 8.0, 9.0, 12.0, 9.0, 14.0, 7.0, 11.0, 8.0, 9.0, 7.0, 5.0, 11.0, 8.0, 9.0, 16.0, 4.0, 18.0, 38.80757522583008, 11.704249382019043, 12.43124008178711, 5.832125663757324, 61.49000549316406, 4.361784934997559, 8.712105751037598, 11.530420303344727, 9.378225326538086, 7.932526111602783, 9.445466995239258, 3.626598596572876, 3.6265721321105957, 3.6261017322540283, 3.625723361968994, 8.682954788208008, 53.74943542480469, 2.891444206237793, 2.8914434909820557, 2.8914425373077393, 2.8914413452148438, 2.891423463821411, 2.8913419246673584, 2.8908803462982178, 2.8901896476745605, 2.8846187591552734, 11.663158416748047, 4.970410346984863, 19.203723907470703, 2.1562628746032715, 16.47176170349121, 7.837303638458252, 10.722936630249023, 11.593167304992676, 7.164167881011963, 16.06548309326172, 6.458972930908203, 12.187443733215332, 4.999289512634277, 5.020757675170898, 15.529498100280762, 6.246309757232666, 10.306962966918945, 15.931591033935547, 21.977399826049805, 15.391368865966797, 12.514744758605957, 40.0007209777832, 28.55533790588379, 18.695383071899414, 19.738487243652344, 40.305450439453125, 5.746460914611816, 11.541230201721191, 4.300597667694092, 3.57766056060791, 3.5776610374450684, 2.8547303676605225, 2.854729175567627, 2.8547260761260986, 2.8547229766845703, 2.8547210693359375, 2.8547186851501465, 2.854717493057251, 2.8547210693359375, 2.854724407196045, 2.8547182083129883, 2.8539538383483887, 2.854739189147949, 2.8551127910614014, 5.631246566772461, 12.02255630493164, 2.1317903995513916, 2.1317901611328125, 2.131789207458496, 2.131788730621338, 2.131788730621338, 2.131788730621338, 2.1317882537841797, 2.1317882537841797, 2.1317875385284424, 2.1317873001098633, 7.9394659996032715, 14.059257507324219, 7.089479446411133, 9.22881031036377, 6.489095211029053, 4.185408592224121, 11.818886756896973, 4.25718879699707, 4.256182670593262, 4.256147384643555, 18.695383071899414, 13.417027473449707, 19.763992309570312, 16.30946922302246, 10.128689765930176, 7.64471435546875, 21.977399826049805, 8.249016761779785, 12.145790100097656, 14.05544662475586, 8.984241485595703, 40.0007209777832, 4.25816535949707, 5.5889058113098145, 40.305450439453125, 12.590277671813965, 12.96276569366455, 19.738487243652344, 15.391368865966797, 10.78581428527832, 17.93644142150879, 9.740406036376953, 11.072562217712402, 4.758042335510254, 3.401069402694702, 3.401066780090332, 3.4010651111602783, 3.4010486602783203, 3.4011213779449463, 8.21867561340332, 2.7222909927368164, 2.722294807434082, 2.7222864627838135, 2.7222721576690674, 2.722792863845825, 8.919309616088867, 2.0435142517089844, 2.043513298034668, 2.043513298034668, 2.043513059616089, 2.0435123443603516, 2.0435128211975098, 2.0435128211975098, 2.0435123443603516, 2.0435144901275635, 2.0435121059417725, 2.0435147285461426, 2.0435149669647217, 2.043511390686035, 2.043511152267456, 2.043510675430298, 2.043510675430298, 2.043510675430298, 2.043510675430298, 6.081503868103027, 17.93644142150879, 4.123562335968018, 4.135476112365723, 4.125709533691406, 28.55533790588379, 9.007399559020996, 40.305450439453125, 4.788601398468018, 6.17991828918457, 11.08202075958252, 11.201109886169434, 16.85813331604004, 7.545745372772217, 7.546874523162842, 7.534969806671143, 6.2484660148620605, 40.0007209777832, 15.221774101257324, 6.288852691650391, 9.72484016418457, 7.00024938583374, 9.627897262573242, 15.153358459472656, 19.738487243652344, 12.68301773071289, 10.976510047912598, 7.720653057098389, 10.02743148803711, 6.924018859863281, 11.78567886352539, 53.74943542480469, 2.5092735290527344, 2.5094194412231445, 2.5093994140625, 2.5102248191833496, 1.9015214443206787, 1.9015214443206787, 1.9015213251113892, 1.9015212059020996, 1.9015212059020996, 1.9015215635299683, 1.9015209674835205, 1.9015213251113892, 1.9015216827392578, 1.9015218019485474, 1.9015202522277832, 1.9015204906463623, 1.9015204906463623, 1.901520013809204, 1.9015192985534668, 1.9015183448791504, 1.9015177488327026, 1.9015169143676758, 1.9015934467315674, 1.9019981622695923, 1.902982473373413, 1.9031316041946411, 1.9031312465667725, 1.9062232971191406, 5.842883110046387, 3.231372833251953, 7.288469314575195, 4.562290668487549, 3.231638193130493, 7.315606594085693, 12.68301773071289, 13.563148498535156, 6.028975963592529, 40.0007209777832, 10.02743148803711, 3.9546146392822266, 3.9561076164245605, 3.9791226387023926, 7.275737762451172, 12.96276569366455, 16.06548309326172, 10.880766868591309, 3.2186341285705566, 15.391368865966797, 53.74943542480469, 15.931591033935547, 10.306962966918945, 5.436468124389648, 12.514744758605957, 5.946061611175537, 61.49000549316406, 15.153358459472656, 21.977399826049805, 19.203723907470703, 19.763992309570312, 15.529498100280762, 10.976510047912598, 8.984241485595703, 8.999407768249512, 11.818886756896973], \"loglift\": [30.0, 29.0, 28.0, 27.0, 26.0, 25.0, 24.0, 23.0, 22.0, 21.0, 20.0, 19.0, 18.0, 17.0, 16.0, 15.0, 14.0, 13.0, 12.0, 11.0, 10.0, 9.0, 8.0, 7.0, 6.0, 5.0, 4.0, 3.0, 2.0, 1.0, 1.1574000120162964, 1.1363999843597412, 1.1051000356674194, 1.0950000286102295, 1.065999984741211, 1.0627000331878662, 1.0597000122070312, 1.0576000213623047, 1.0571999549865723, 1.049399971961975, 1.0480999946594238, 1.0358999967575073, 1.035599946975708, 1.0351999998092651, 1.034000039100647, 1.0155999660491943, 1.0047999620437622, 0.9941999912261963, 0.9941999912261963, 0.9941999912261963, 0.9941999912261963, 0.9940000176429749, 0.9932000041007996, 0.9918000102043152, 0.9878000020980835, 0.9593999981880188, 0.9381999969482422, 0.932699978351593, 0.92330002784729, 0.9197999835014343, 0.9118000268936157, 0.8702999949455261, 0.8346999883651733, 0.7858999967575073, 0.8414999842643738, 0.6753000020980835, 0.8420000076293945, 0.6708999872207642, 0.8619999885559082, 0.8543999791145325, 0.5217000246047974, 0.7800999879837036, 0.5266000032424927, 0.3037000000476837, 0.09399999678134918, 0.28119999170303345, 0.3752000033855438, -0.39259999990463257, -0.17870000004768372, 0.034299999475479126, -0.08630000054836273, -0.8241000175476074, 1.1360000371932983, 1.117300033569336, 1.1030000448226929, 1.0757999420166016, 1.0745999813079834, 1.0332000255584717, 1.0332000255584717, 1.0332000255584717, 1.0332000255584717, 1.0332000255584717, 1.0332000255584717, 1.0332000255584717, 1.0326999425888062, 1.0319000482559204, 1.0319000482559204, 1.031599998474121, 1.0297000408172607, 1.0211999416351318, 1.0073000192642212, 0.9814000129699707, 0.9574999809265137, 0.9574999809265137, 0.9574999809265137, 0.9574999809265137, 0.9574999809265137, 0.9574999809265137, 0.9574999809265137, 0.9574999809265137, 0.9574999809265137, 0.9574000239372253, 0.942300021648407, 0.9186999797821045, 0.9203000068664551, 0.9064000248908997, 0.9050999879837036, 0.9192000031471252, 0.8553000092506409, 0.9049000144004822, 0.9018999934196472, 0.9017999768257141, 0.713699996471405, 0.7307000160217285, 0.6571999788284302, 0.6643000245094299, 0.7480999827384949, 0.7967000007629395, 0.5365999937057495, 0.7756999731063843, 0.6310999989509583, 0.5605000257492065, 0.6740999817848206, 0.1679999977350235, 0.8992000222206116, 0.8011000156402588, 0.0421999990940094, 0.4812000095844269, 0.4528000056743622, 0.2791000008583069, 0.25099998712539673, 0.44510000944137573, 0.12610000371932983, 0.4657000005245209, 0.33250001072883606, 1.3235000371932983, 1.2747000455856323, 1.2747000455856323, 1.2747000455856323, 1.2747000455856323, 1.2741999626159668, 1.2552000284194946, 1.229099988937378, 1.229099988937378, 1.229099988937378, 1.2289999723434448, 1.2252999544143677, 1.191100001335144, 1.1481000185012817, 1.1481000185012817, 1.1481000185012817, 1.1481000185012817, 1.1481000185012817, 1.1481000185012817, 1.1481000185012817, 1.1481000185012817, 1.1481000185012817, 1.1481000185012817, 1.1481000185012817, 1.1481000185012817, 1.1481000185012817, 1.1481000185012817, 1.1481000185012817, 1.1481000185012817, 1.1481000185012817, 1.1481000185012817, 1.0631999969482422, 0.953000009059906, 1.082900047302246, 1.0809999704360962, 1.0729999542236328, 0.8485000133514404, 0.9648000001907349, 0.7695000171661377, 1.0406999588012695, 0.9635999798774719, 0.8258000016212463, 0.8199999928474426, 0.7170000076293945, 0.8658999800682068, 0.8655999898910522, 0.864799976348877, 0.8774999976158142, 0.1145000010728836, 0.48069998621940613, 0.8486999869346619, 0.6115999817848206, 0.7483999729156494, 0.5752999782562256, 0.31470000743865967, 0.10750000178813934, 0.34360000491142273, 0.4187999963760376, 0.6510999798774719, 0.3865000009536743, 0.6654000282287598, 0.20059999823570251, -1.3172999620437622, 1.5663000345230103, 1.5657999515533447, 1.565500020980835, 1.5634000301361084, 1.4759000539779663, 1.4759000539779663, 1.4759000539779663, 1.4759000539779663, 1.4759000539779663, 1.4759000539779663, 1.4759000539779663, 1.4759000539779663, 1.4759000539779663, 1.4759000539779663, 1.4759000539779663, 1.4759000539779663, 1.4759000539779663, 1.4759000539779663, 1.4759000539779663, 1.4759000539779663, 1.4759000539779663, 1.4759000539779663, 1.4752000570297241, 1.4737000465393066, 1.4694000482559204, 1.4687999486923218, 1.4687999486923218, 1.4426000118255615, 1.315600037574768, 1.3149000406265259, 1.1339999437332153, 1.2374999523162842, 1.3141000270843506, 0.9811999797821045, 0.7106000185012817, 0.6261000037193298, 0.964900016784668, 0.09799999743700027, 0.6640999913215637, 1.111799955368042, 1.1105999946594238, 1.1058000326156616, 0.7741000056266785, 0.40689998865127563, 0.27309998869895935, 0.4772999882698059, 1.1748000383377075, 0.2328999936580658, -0.5202000141143799, 0.19840000569820404, 0.3968999981880188, 0.795199990272522, 0.2312999963760376, 0.7056000232696533, -0.8984000086784363, 0.03759999945759773, -0.33340001106262207, -0.23250000178813934, -0.29600000381469727, -0.20360000431537628, 0.0940999984741211, 0.2939000129699707, 0.29120001196861267, 0.018200000748038292], \"logprob\": [30.0, 29.0, 28.0, 27.0, 26.0, 25.0, 24.0, 23.0, 22.0, 21.0, 20.0, 19.0, 18.0, 17.0, 16.0, 15.0, 14.0, 13.0, 12.0, 11.0, 10.0, 9.0, 8.0, 7.0, 6.0, 5.0, 4.0, 3.0, 2.0, 1.0, -3.8492000102996826, -5.068900108337402, -5.039899826049805, -5.8069000244140625, -3.4804000854492188, -6.129700183868408, -5.440899848937988, -5.162600040435791, -5.369699954986572, -5.544899940490723, -5.371600151062012, -6.341000080108643, -6.341400146484375, -6.341899871826172, -6.343200206756592, -5.48829984664917, -3.6761999130249023, -6.609300136566162, -6.609300136566162, -6.609300136566162, -6.609300136566162, -6.609499931335449, -6.610400199890137, -6.6118998527526855, -6.616099834442139, -6.646500110626221, -5.270699977874756, -6.1290998458862305, -4.786900043487549, -6.977099895477295, -4.951900005340576, -5.736000061035156, -5.458099842071533, -5.428999900817871, -5.854700088500977, -5.2133002281188965, -5.957799911499023, -5.49399995803833, -6.193999767303467, -6.197299957275391, -5.4008002281188965, -6.053199768066406, -5.8059000968933105, -5.593200206756592, -5.481200218200684, -5.650199890136719, -5.763199806213379, -5.36899995803833, -5.492099761962891, -5.702700138092041, -5.769000053405762, -5.792900085449219, -5.780700206756592, -5.102099895477295, -6.103499889373779, -6.314799785614014, -6.315999984741211, -6.583099842071533, -6.583099842071533, -6.583099842071533, -6.583099842071533, -6.583099842071533, -6.583099842071533, -6.583099842071533, -6.583600044250488, -6.584400177001953, -6.584400177001953, -6.585000038146973, -6.586599826812744, -6.59499979019165, -5.929699897766113, -5.1971001625061035, -6.950900077819824, -6.950900077819824, -6.950900077819824, -6.950900077819824, -6.950900077819824, -6.950900077819824, -6.950900077819824, -6.950900077819824, -6.950900077819824, -6.950900077819824, -5.651100158691406, -5.103300094604492, -5.786399841308594, -5.536499977111816, -5.889999866485596, -6.314499855041504, -5.3403000831604, -6.311800003051758, -6.315000057220459, -6.315100193023682, -5.0233001708984375, -5.3379998207092285, -5.024199962615967, -5.209199905395508, -5.601799964904785, -5.834499835968018, -5.038700103759766, -5.7795000076293945, -5.537199974060059, -5.461699962615967, -5.7957000732421875, -4.808300018310547, -6.317200183868408, -6.143400192260742, -4.926599979400635, -5.651199817657471, -5.650400161743164, -5.403600215911865, -5.680500030517578, -5.841899871826172, -5.652299880981445, -5.923299789428711, -5.928299903869629, -5.781899929046631, -6.166399955749512, -6.166399955749512, -6.166399955749512, -6.166500091552734, -6.166900157928467, -5.303699970245361, -6.434700012207031, -6.434700012207031, -6.434700012207031, -6.434800148010254, -6.438300132751465, -5.285900115966797, -6.802499771118164, -6.802499771118164, -6.802499771118164, -6.802499771118164, -6.802499771118164, -6.802499771118164, -6.802499771118164, -6.802499771118164, -6.802499771118164, -6.802499771118164, -6.802499771118164, -6.802499771118164, -6.802499771118164, -6.802499771118164, -6.802499771118164, -6.802499771118164, -6.802499771118164, -6.802499771118164, -5.796800136566162, -4.825500011444092, -6.1656999588012695, -6.164700031280518, -6.175000190734863, -4.464900016784668, -5.502399921417236, -4.1992998123168945, -6.0584001541137695, -5.88040018081665, -5.434100151062012, -5.429200172424316, -5.123499870300293, -5.77839994430542, -5.778600215911865, -5.780900001525879, -5.955399990081787, -4.8618998527526855, -5.461900234222412, -5.977799892425537, -5.7789998054504395, -5.9710001945495605, -5.825300216674805, -5.632400035858154, -5.575200080871582, -5.781400203704834, -5.8506999015808105, -5.970300197601318, -5.973400115966797, -6.064899921417236, -5.997799873352051, -5.998199939727783, -6.178999900817871, -6.1793999671936035, -6.179699897766113, -6.18149995803833, -6.5467000007629395, -6.5467000007629395, -6.5467000007629395, -6.5467000007629395, -6.5467000007629395, -6.5467000007629395, -6.5467000007629395, -6.5467000007629395, -6.5467000007629395, -6.5467000007629395, -6.5467000007629395, -6.5467000007629395, -6.5467000007629395, -6.5467000007629395, -6.5467000007629395, -6.546800136566162, -6.546800136566162, -6.546800136566162, -6.547299861907959, -6.548600196838379, -6.552499771118164, -6.552999973297119, -6.552999973297119, -6.577499866485596, -5.584400177001953, -6.177499771118164, -5.545000076293945, -5.909999847412109, -6.178199768066406, -5.6940999031066895, -5.414400100708008, -5.43179988861084, -5.903800010681152, -4.878399848937988, -5.695899963378906, -6.178599834442139, -6.1793999671936035, -6.178400039672852, -5.906599998474121, -5.696300029754639, -5.615499973297119, -5.801000118255615, -6.321499824523926, -5.698500156402588, -5.201099872589111, -5.698599815368652, -5.935500144958496, -6.177000045776367, -5.9070000648498535, -6.177000045776367, -5.444799900054932, -5.90939998626709, -5.908699989318848, -5.942699909210205, -5.977399826049805, -6.126100063323975, -6.1753997802734375, -6.175899982452393, -6.1768999099731445, -6.1774001121521]}, \"token.table\": {\"Topic\": [2, 4, 1, 2, 4, 1, 2, 3, 4, 4, 1, 2, 3, 4, 1, 2, 3, 4, 2, 3, 4, 2, 3, 1, 2, 3, 4, 3, 4, 1, 2, 3, 4, 3, 4, 4, 1, 1, 1, 3, 1, 4, 1, 2, 3, 4, 3, 1, 3, 1, 2, 3, 4, 2, 4, 1, 2, 3, 4, 1, 2, 3, 4, 1, 2, 3, 4, 1, 3, 1, 1, 1, 2, 3, 4, 2, 3, 4, 2, 1, 3, 2, 3, 3, 1, 2, 3, 1, 2, 4, 4, 4, 1, 1, 2, 3, 1, 2, 3, 1, 3, 3, 1, 2, 1, 2, 3, 2, 2, 2, 1, 2, 3, 4, 4, 3, 2, 3, 2, 4, 2, 2, 3, 4, 2, 2, 3, 2, 3, 1, 2, 3, 4, 1, 2, 3, 3, 2, 3, 4, 2, 3, 4, 2, 3, 2, 3, 3, 1, 2, 3, 4, 1, 3, 2, 4, 3, 3, 3, 2, 1, 1, 2, 1, 2, 3, 4, 4, 1, 2, 3, 4, 1, 1, 1, 2, 2, 4, 3, 1, 2, 3, 4, 1, 2, 1, 3, 1, 2, 3, 4, 1, 2, 4, 4, 2, 3, 2, 4, 4, 1, 4, 3, 2, 4, 2, 1, 2, 4, 3, 3, 3, 1, 2, 3, 4, 4, 3, 1, 3, 4, 1, 4, 1, 2, 3, 4, 4, 4, 1, 1, 2, 1, 2, 3, 4, 2, 3, 4, 1, 2, 3, 4, 1, 2, 3, 4, 1, 2, 4, 3, 2, 1, 3, 4, 1, 2, 3, 4, 3, 2, 1, 3, 1, 2, 3, 4, 1, 2, 4, 1, 2, 3, 4, 2, 3, 1, 4, 1, 2, 1, 1, 2, 3, 1, 4, 1, 1, 2, 1, 1, 2, 4, 1, 2, 3, 1, 2, 3, 4, 4, 2, 2, 2, 4, 2, 3, 4, 1, 4, 3, 3, 1, 3, 4, 4, 1, 2, 3, 4, 2, 4, 1, 4, 3, 2, 1, 4, 4, 4, 3, 1, 4, 1, 4, 2, 1, 3, 2, 4, 1, 2, 3, 1, 2, 3, 4, 1, 2, 3, 4, 1, 2, 3, 4, 3, 4, 2, 3, 4, 3, 4, 1, 2, 3, 4, 2, 4, 2, 2, 1, 2, 3, 4, 2, 3, 1, 2, 3, 4, 3, 1, 4, 2, 2, 3, 4, 2, 3, 4, 1, 2, 3, 4, 1, 2, 3, 4, 1, 3, 2, 4, 4, 1, 2, 3, 4, 2, 4, 1, 2, 3, 1, 2, 4, 1, 3, 1, 2, 3, 4, 3, 4, 3, 2], \"Freq\": [0.938179075717926, 0.5258947014808655, 0.7655694484710693, 0.12759490311145782, 0.12759490311145782, 0.16181443631649017, 0.16181443631649017, 0.6472577452659607, 0.16181443631649017, 0.5258947014808655, 0.2056589126586914, 0.3084883689880371, 0.4113178253173828, 0.1028294563293457, 0.47943446040153503, 0.23971723020076752, 0.15981149673461914, 0.23971723020076752, 0.6061328649520874, 0.12122657150030136, 0.24245314300060272, 0.7046903967857361, 0.23489679396152496, 0.13250517845153809, 0.26501035690307617, 0.5300207138061523, 0.13250517845153809, 0.9787071943283081, 0.5258747339248657, 0.2639678716659546, 0.2639678716659546, 0.3299598693847656, 0.19797591865062714, 0.8820762038230896, 0.5258947610855103, 0.7967413663864136, 0.6918307542800903, 0.9398295879364014, 0.8001136779785156, 0.2000284194946289, 0.69170081615448, 0.5258955359458923, 0.23827910423278809, 0.47655820846557617, 0.1588527262210846, 0.1588527262210846, 0.9787059426307678, 0.8469671010971069, 0.10587088763713837, 0.20772968232631683, 0.20772968232631683, 0.41545936465263367, 0.10386484116315842, 0.5057382583618164, 0.5057382583618164, 0.27331089973449707, 0.18220727145671844, 0.3644145429134369, 0.18220727145671844, 0.07714403420686722, 0.4628641903400421, 0.23143209517002106, 0.23143209517002106, 0.1490643173456192, 0.5962572693824768, 0.1490643173456192, 0.0745321586728096, 0.12167410552501678, 0.8517187237739563, 0.691696286201477, 0.6916965246200562, 0.2627814710140228, 0.2627814710140228, 0.39417219161987305, 0.1313907355070114, 0.3345145285129547, 0.6132766008377075, 0.05575241893529892, 0.7005945444107056, 0.2418101280927658, 0.7254303693771362, 0.7005926370620728, 0.9787058234214783, 0.9787078499794006, 0.8848674893379211, 0.08044249564409256, 0.9787078499794006, 0.14105407893657684, 0.7052704095840454, 0.14105407893657684, 0.5258949398994446, 0.5254497528076172, 0.6916958689689636, 0.690061628818512, 0.2587731182575226, 0.086257703602314, 0.9275307059288025, 0.7045287489891052, 0.2348429262638092, 0.31802302598953247, 0.4770345389842987, 0.9787070751190186, 0.08664587885141373, 0.8664587736129761, 0.37085747718811035, 0.46357184648513794, 0.18542873859405518, 0.870100736618042, 0.9381794929504395, 0.7005929946899414, 0.32093486189842224, 0.5883805751800537, 0.053489141166210175, 0.053489141166210175, 0.5258957147598267, 0.9787076711654663, 0.7048569917678833, 0.23495231568813324, 0.7005894184112549, 0.525449812412262, 0.9381799101829529, 0.2654290795326233, 0.5308581590652466, 0.13271453976631165, 0.7005938291549683, 0.33305948972702026, 0.6661189794540405, 0.7584943175315857, 0.21671265363693237, 0.19999639689922333, 0.3499937057495117, 0.27499502897262573, 0.17499685287475586, 0.285704106092453, 0.285704106092453, 0.571408212184906, 0.9787078499794006, 0.16443301737308502, 0.6577320694923401, 0.16443301737308502, 0.16817854344844818, 0.5045356154441833, 0.33635708689689636, 0.24238255620002747, 0.72714763879776, 0.7048628330230713, 0.23495426774024963, 0.9787065982818604, 0.1325250118970871, 0.2650500237941742, 0.5301000475883484, 0.1325250118970871, 0.7741168737411499, 0.15482337772846222, 0.4383762776851654, 0.6575644016265869, 0.7346742749214172, 0.9787068367004395, 0.8820808529853821, 0.9381792545318604, 0.8573203682899475, 0.8272274732589722, 0.7005918622016907, 0.18062666058540344, 0.4515666663646698, 0.27094000577926636, 0.18062666058540344, 0.5258959531784058, 0.3039746582508087, 0.4052995443344116, 0.25331223011016846, 0.05066244304180145, 0.8272213935852051, 0.9170557856559753, 0.7716606259346008, 0.17148013412952423, 0.8879028558731079, 0.1775805801153183, 0.9787068367004395, 0.4393785893917084, 0.1883051097393036, 0.1883051097393036, 0.1883051097393036, 0.6933324933052063, 0.9381794929504395, 0.20882923901081085, 0.6264877319335938, 0.12405270338058472, 0.29772648215293884, 0.5210213661193848, 0.04962107911705971, 0.08317698538303375, 0.7485928535461426, 0.08317698538303375, 0.797003448009491, 0.24250876903533936, 0.7275263071060181, 0.30946600437164307, 0.6189320087432861, 0.5245975255966187, 0.8530398607254028, 0.10662998259067535, 0.9787060618400574, 0.9381792545318604, 0.7970434427261353, 0.8385366797447205, 0.36788591742515564, 0.18394295871257782, 0.36788591742515564, 0.8820620179176331, 0.7346765398979187, 0.9787075519561768, 0.18381057679653168, 0.36762115359306335, 0.2757158577442169, 0.2757158577442169, 0.5258945822715759, 0.8820754885673523, 0.43327438831329346, 0.43327438831329346, 0.14442479610443115, 0.5026233792304993, 0.5026233792304993, 0.18394222855567932, 0.5518266558647156, 0.18394222855567932, 0.06131407245993614, 0.5258945822715759, 0.5258946418762207, 0.6919960975646973, 0.2961883544921875, 0.592376708984375, 0.2053302526473999, 0.5133256316184998, 0.10266512632369995, 0.2053302526473999, 0.27488622069358826, 0.4123293161392212, 0.4123293161392212, 0.2451380491256714, 0.17509861290454865, 0.5603155493736267, 0.03501972183585167, 0.09972643852233887, 0.19945287704467773, 0.2991793155670166, 0.2991793155670166, 0.7892295122146606, 0.12141992151737213, 0.12141992151737213, 0.882076621055603, 0.9381792545318604, 0.8372181057929993, 0.05581453815102577, 0.09302423149347305, 0.15769118070602417, 0.23653677105903625, 0.31538236141204834, 0.31538236141204834, 0.9787067174911499, 0.9381797909736633, 0.9182624816894531, 0.11478281021118164, 0.2733881175518036, 0.2733881175518036, 0.1366940587759018, 0.4100821912288666, 0.6979177594184875, 0.139583557844162, 0.139583557844162, 0.781098484992981, 0.05207323282957077, 0.05207323282957077, 0.1562197059392929, 0.3200785517692566, 0.6401571035385132, 0.3422967791557312, 0.6845935583114624, 0.15410469472408295, 0.7705234289169312, 0.8274210691452026, 0.25904545187950134, 0.25904545187950134, 0.5180909037590027, 0.8672710657119751, 0.08672710508108139, 0.6917203068733215, 0.2519060969352722, 0.7557183504104614, 0.8273347616195679, 0.33173128962516785, 0.33173128962516785, 0.49759694933891296, 0.5743616223335266, 0.16410331428050995, 0.24615497887134552, 0.3393949568271637, 0.16969747841358185, 0.25454622507095337, 0.16969747841358185, 0.525490939617157, 0.7007821798324585, 0.938178539276123, 0.7005938291549683, 0.5258952379226685, 0.7157036066055298, 0.17892590165138245, 0.17892590165138245, 0.691696047782898, 0.5257628560066223, 0.8406819105148315, 0.7346804141998291, 0.4851089417934418, 0.1940435767173767, 0.29106536507606506, 0.5258949398994446, 0.6224524974822998, 0.12449049949645996, 0.06224524974822998, 0.18673574924468994, 0.7005933523178101, 0.5258947014808655, 0.6403781175613403, 0.32018905878067017, 0.7346752882003784, 0.9381786584854126, 0.8047625422477722, 0.20119063556194305, 0.5258947610855103, 0.5258947014808655, 0.9787070751190186, 0.41160905361175537, 0.5488120913505554, 0.8824427127838135, 0.1260632425546646, 0.9301033020019531, 0.7966924905776978, 0.19917312264442444, 0.30944058299064636, 0.6188811659812927, 0.2372741997241974, 0.2372741997241974, 0.4745483994483948, 0.5151486396789551, 0.25757431983947754, 0.12878715991973877, 0.12878715991973877, 0.11130600422620773, 0.5565299987792969, 0.11130600422620773, 0.22261200845241547, 0.21344038844108582, 0.4980275630950928, 0.21344038844108582, 0.07114679366350174, 0.9787061810493469, 0.525894820690155, 0.7112751007080078, 0.1422550231218338, 0.0711275115609169, 0.3106907904148102, 0.6213815808296204, 0.5555921196937561, 0.11111842095851898, 0.22223684191703796, 0.22223684191703796, 0.7167758941650391, 0.2389252930879593, 0.7004977464675903, 0.700594425201416, 0.22118757665157318, 0.22118757665157318, 0.14745838940143585, 0.2949167788028717, 0.22423259913921356, 0.7848141193389893, 0.32933223247528076, 0.576331377029419, 0.08233305811882019, 0.08233305811882019, 0.7345399260520935, 0.9791902899742126, 0.025768164545297623, 0.7005947232246399, 0.6540466547012329, 0.13080933690071106, 0.13080933690071106, 0.6768826842308044, 0.1692206710577011, 0.1692206710577011, 0.2529853284358978, 0.5565677285194397, 0.050597064197063446, 0.10119412839412689, 0.3185090124607086, 0.5005141496658325, 0.045501288026571274, 0.13650386035442352, 0.746064305305481, 0.27977409958839417, 0.83853679895401, 0.5258950591087341, 0.5258949995040894, 0.27070873975753784, 0.09023625403642654, 0.5414174795150757, 0.09023625403642654, 0.5055474042892456, 0.5055474042892456, 0.26783061027526855, 0.1785537302494049, 0.5356612205505371, 0.3898288607597351, 0.3898288607597351, 0.19491443037986755, 0.8061771988868713, 0.11516816914081573, 0.894454300403595, 0.016262805089354515, 0.016262805089354515, 0.06505122035741806, 0.9787065982818604, 0.7969970703125, 0.9787078499794006, 0.7005915641784668], \"Term\": [\"00\", \"abandonar\", \"abuelo\", \"abuelo\", \"abuelo\", \"aburrido\", \"aburrido\", \"aburrido\", \"aburrido\", \"agosto\", \"agua\", \"agua\", \"agua\", \"agua\", \"ahora\", \"ahora\", \"ahora\", \"ahora\", \"ah\\u00ed\", \"ah\\u00ed\", \"ah\\u00ed\", \"aire\", \"aire\", \"all\\u00ed\", \"all\\u00ed\", \"all\\u00ed\", \"all\\u00ed\", \"altos\", \"amaba\", \"amigos\", \"amigos\", \"amigos\", \"amigos\", \"ana\", \"anoche\", \"anterior\", \"antonio\", \"aprender\", \"aquel\", \"aquel\", \"aqu\\u00ed\", \"asesino\", \"as\\u00ed\", \"as\\u00ed\", \"as\\u00ed\", \"as\\u00ed\", \"aventureros\", \"a\\u00f1os\", \"a\\u00f1os\", \"bosque\", \"bosque\", \"bosque\", \"bosque\", \"buscar\", \"buscar\", \"cama\", \"cama\", \"cama\", \"cama\", \"camino\", \"camino\", \"camino\", \"camino\", \"campo\", \"campo\", \"campo\", \"campo\", \"cansado\", \"cansado\", \"cari\\u00f1o\", \"carlitos\", \"casa\", \"casa\", \"casa\", \"casa\", \"cascada\", \"cascada\", \"cascada\", \"casi\", \"castillo\", \"castillo\", \"cercano\", \"chimp\\u00f3n\", \"ciudadela\", \"clases\", \"clases\", \"combate\", \"compa\\u00f1eros\", \"compa\\u00f1eros\", \"compa\\u00f1eros\", \"crecida\", \"cuanto\", \"cuerdas\", \"c\\u00f3mo\", \"c\\u00f3mo\", \"c\\u00f3mo\", \"dar\", \"deb\\u00eda\", \"deb\\u00eda\", \"decidi\\u00f3\", \"decidi\\u00f3\", \"depues\", \"descansando\", \"descansando\", \"descansar\", \"descansar\", \"descansar\", \"descanso\", \"despedirse\", \"despertar\", \"despu\\u00e9s\", \"despu\\u00e9s\", \"despu\\u00e9s\", \"despu\\u00e9s\", \"destino\", \"detr\\u00e1s\", \"dia\", \"dia\", \"dinero\", \"dir\\u00eda\", \"dormidos\", \"dormir\", \"dormir\", \"dormir\", \"dorm\\u00eda\", \"drag\\u00f3n\", \"drag\\u00f3n\", \"durmiendo\", \"durmiendo\", \"d\\u00eda\", \"d\\u00eda\", \"d\\u00eda\", \"d\\u00eda\", \"d\\u00edas\", \"d\\u00edas\", \"d\\u00edas\", \"ejercito\", \"encontrar\", \"encontrar\", \"encontrar\", \"encontr\\u00f3\", \"encontr\\u00f3\", \"encontr\\u00f3\", \"enferma\", \"enferma\", \"escondida\", \"escondida\", \"especies\", \"esposa\", \"esposa\", \"esposa\", \"esposa\", \"estudiar\", \"estudiar\", \"estudios\", \"estudios\", \"est\\u00f3mago\", \"exist\\u00eda\", \"fallecida\", \"fama\", \"frustrado\", \"fuerzas\", \"golpe\", \"gran\", \"gran\", \"gran\", \"gran\", \"grandes\", \"grupo\", \"grupo\", \"grupo\", \"grupo\", \"guitarra\", \"gusta\", \"gustaba\", \"gustaba\", \"habitaci\\u00f3n\", \"habitaci\\u00f3n\", \"habitantes\", \"hacer\", \"hacer\", \"hacer\", \"hacer\", \"hacerlo\", \"har\\u00eda\", \"hecho\", \"hecho\", \"hombre\", \"hombre\", \"hombre\", \"hombre\", \"hombres\", \"hombres\", \"hombres\", \"hormiga\", \"imagen\", \"imagen\", \"importante\", \"importante\", \"incluso\", \"instrumento\", \"instrumento\", \"intentaron\", \"isla\", \"lila\", \"lilo\", \"lleg\\u00f3\", \"lleg\\u00f3\", \"lleg\\u00f3\", \"llevaba\", \"llevado\", \"luchado\", \"lugar\", \"lugar\", \"lugar\", \"lugar\", \"l\\u00edo\", \"marco\", \"mejor\", \"mejor\", \"mejor\", \"mesa\", \"mesa\", \"mientras\", \"mientras\", \"mientras\", \"mientras\", \"ministro\", \"minutos\", \"miraba\", \"momento\", \"momento\", \"monta\\u00f1a\", \"monta\\u00f1a\", \"monta\\u00f1a\", \"monta\\u00f1a\", \"muerta\", \"muerta\", \"muerta\", \"mujer\", \"mujer\", \"mujer\", \"mujer\", \"mundo\", \"mundo\", \"mundo\", \"mundo\", \"m\\u00fasica\", \"m\\u00fasica\", \"m\\u00fasica\", \"naturaleza\", \"nave\", \"ni\\u00f1o\", \"ni\\u00f1o\", \"ni\\u00f1o\", \"noche\", \"noche\", \"noche\", \"noche\", \"noches\", \"nueva\", \"obligaban\", \"obligaban\", \"ojos\", \"ojos\", \"ojos\", \"ojos\", \"padre\", \"padre\", \"padre\", \"padres\", \"padres\", \"padres\", \"padres\", \"parece\", \"parece\", \"parec\\u00eda\", \"parec\\u00eda\", \"pareja\", \"pareja\", \"partitura\", \"pasar\", \"pasar\", \"pasar\", \"pensando\", \"pensando\", \"pensativo\", \"personas\", \"personas\", \"piano\", \"piedras\", \"piedras\", \"piedras\", \"poder\", \"poder\", \"poder\", \"pod\\u00eda\", \"pod\\u00eda\", \"pod\\u00eda\", \"pod\\u00eda\", \"practicaba\", \"prado\", \"prefer\\u00eda\", \"pueden\", \"puedo\", \"puente\", \"puente\", \"puente\", \"puntos\", \"puso\", \"p\\u00e1jaros\", \"p\\u00e9rdida\", \"q\", \"q\", \"q\", \"quedado\", \"quer\\u00eda\", \"quer\\u00eda\", \"quer\\u00eda\", \"quer\\u00eda\", \"quiso\", \"rajaba\", \"realmente\", \"realmente\", \"recorr\\u00eda\", \"recuerdos\", \"regalo\", \"regalo\", \"ron\", \"rubius\", \"ruta\", \"sabe\", \"sabe\", \"sab\\u00eda\", \"sab\\u00eda\", \"segando\", \"seguir\", \"seguir\", \"sent\\u00eda\", \"sent\\u00eda\", \"ser\", \"ser\", \"ser\", \"si\", \"si\", \"si\", \"si\", \"siempre\", \"siempre\", \"siempre\", \"siempre\", \"siesta\", \"siesta\", \"siesta\", \"siesta\", \"sigui\\u00f3\", \"sofia\", \"sol\", \"sol\", \"sol\", \"solitario\", \"solitario\", \"solo\", \"solo\", \"solo\", \"solo\", \"sombra\", \"sombra\", \"sue\\u00f1os\", \"suicidado\", \"tan\", \"tan\", \"tan\", \"tan\", \"tesoro\", \"tesoro\", \"tiempo\", \"tiempo\", \"tiempo\", \"tiempo\", \"tocando\", \"tocar\", \"tocar\", \"tomando\", \"trabajadores\", \"trabajadores\", \"trabajadores\", \"trabajar\", \"trabajar\", \"trabajar\", \"trabajo\", \"trabajo\", \"trabajo\", \"trabajo\", \"tras\", \"tras\", \"tras\", \"tras\", \"triste\", \"triste\", \"uvas\", \"vacas\", \"van\", \"ver\", \"ver\", \"ver\", \"ver\", \"verano\", \"verano\", \"viaje\", \"viaje\", \"viaje\", \"vida\", \"vida\", \"vida\", \"violin\", \"violin\", \"viol\\u00edn\", \"viol\\u00edn\", \"viol\\u00edn\", \"viol\\u00edn\", \"virus\", \"viv\\u00eda\", \"volviendo\", \"\\u00faltima\"]}, \"R\": 30, \"lambda.step\": 0.01, \"plot.opts\": {\"xlab\": \"PC1\", \"ylab\": \"PC2\"}, \"topic.order\": [1, 2, 3, 4]};\n",
       "\n",
       "function LDAvis_load_lib(url, callback){\n",
       "  var s = document.createElement('script');\n",
       "  s.src = url;\n",
       "  s.async = true;\n",
       "  s.onreadystatechange = s.onload = callback;\n",
       "  s.onerror = function(){console.warn(\"failed to load library \" + url);};\n",
       "  document.getElementsByTagName(\"head\")[0].appendChild(s);\n",
       "}\n",
       "\n",
       "if(typeof(LDAvis) !== \"undefined\"){\n",
       "   // already loaded: just create the visualization\n",
       "   !function(LDAvis){\n",
       "       new LDAvis(\"#\" + \"ldavis_el853215508554227444650525130\", ldavis_el853215508554227444650525130_data);\n",
       "   }(LDAvis);\n",
       "}else if(typeof define === \"function\" && define.amd){\n",
       "   // require.js is available: use it to load d3/LDAvis\n",
       "   require.config({paths: {d3: \"https://cdnjs.cloudflare.com/ajax/libs/d3/3.5.5/d3.min\"}});\n",
       "   require([\"d3\"], function(d3){\n",
       "      window.d3 = d3;\n",
       "      LDAvis_load_lib(\"https://cdn.rawgit.com/bmabey/pyLDAvis/files/ldavis.v1.0.0.js\", function(){\n",
       "        new LDAvis(\"#\" + \"ldavis_el853215508554227444650525130\", ldavis_el853215508554227444650525130_data);\n",
       "      });\n",
       "    });\n",
       "}else{\n",
       "    // require.js not available: dynamically load d3 & LDAvis\n",
       "    LDAvis_load_lib(\"https://cdnjs.cloudflare.com/ajax/libs/d3/3.5.5/d3.min.js\", function(){\n",
       "         LDAvis_load_lib(\"https://cdn.rawgit.com/bmabey/pyLDAvis/files/ldavis.v1.0.0.js\", function(){\n",
       "                 new LDAvis(\"#\" + \"ldavis_el853215508554227444650525130\", ldavis_el853215508554227444650525130_data);\n",
       "            })\n",
       "         });\n",
       "}\n",
       "</script>"
      ],
      "text/plain": [
       "PreparedData(topic_coordinates=              x         y  topics  cluster       Freq\n",
       "topic                                                \n",
       "0      0.136816 -0.002831       1        1  30.572557\n",
       "1     -0.073762  0.081178       2        1  29.285522\n",
       "2     -0.060254 -0.107144       3        1  23.706024\n",
       "3     -0.002800  0.028798       4        1  16.435892, topic_info=     Category       Freq         Term      Total  loglift  logprob\n",
       "32    Default  61.000000       violín  61.000000  30.0000  30.0000\n",
       "31    Default  38.000000        tocar  38.000000  29.0000  29.0000\n",
       "1     Default  53.000000         niño  53.000000  28.0000  28.0000\n",
       "5     Default  40.000000       hombre  40.000000  27.0000  27.0000\n",
       "202   Default  11.000000     aprender  11.000000  26.0000  26.0000\n",
       "61    Default  12.000000       clases  12.000000  25.0000  25.0000\n",
       "46    Default  17.000000      cascada  17.000000  24.0000  24.0000\n",
       "171   Default  11.000000  descansando  11.000000  23.0000  23.0000\n",
       "8     Default  28.000000        mujer  28.000000  22.0000  22.0000\n",
       "15    Default  19.000000       padres  19.000000  21.0000  21.0000\n",
       "2     Default  11.000000     pensando  11.000000  20.0000  20.0000\n",
       "549   Default  16.000000       música  16.000000  19.0000  19.0000\n",
       "9     Default   8.000000      cansado   8.000000  18.0000  18.0000\n",
       "987   Default   8.000000       tesoro   8.000000  17.0000  17.0000\n",
       "198   Default   9.000000  instrumento   9.000000  16.0000  16.0000\n",
       "36    Default  12.000000      hombres  12.000000  15.0000  15.0000\n",
       "57    Default   9.000000         años   9.000000  14.0000  14.0000\n",
       "41    Default  14.000000          sol  14.000000  13.0000  13.0000\n",
       "4     Default   7.000000         sabe   7.000000  12.0000  12.0000\n",
       "422   Default  11.000000      gustaba  11.000000  11.0000  11.0000\n",
       "149   Default   8.000000    obligaban   8.000000  10.0000  10.0000\n",
       "411   Default   9.000000       dragón   9.000000   9.0000   9.0000\n",
       "462   Default   7.000000        sabía   7.000000   8.0000   8.0000\n",
       "1450  Default   5.000000      parecía   5.000000   7.0000   7.0000\n",
       "397   Default  11.000000     trabajar  11.000000   6.0000   6.0000\n",
       "170   Default   8.000000       violin   8.000000   5.0000   5.0000\n",
       "155   Default   9.000000    durmiendo   9.000000   4.0000   4.0000\n",
       "298   Default  16.000000          ser  16.000000   3.0000   3.0000\n",
       "117   Default   4.000000      pájaros   4.000000   2.0000   2.0000\n",
       "22    Default  18.000000      después  18.000000   1.0000   1.0000\n",
       "...       ...        ...          ...        ...      ...      ...\n",
       "25     Topic4   4.242529        noche  12.683018   0.7106  -5.4144\n",
       "367    Topic4   4.169317          tan  13.563148   0.6261  -5.4318\n",
       "190    Topic4   2.600716      piedras   6.028976   0.9649  -5.9038\n",
       "50     Topic4   7.251493          día  40.000721   0.0980  -4.8784\n",
       "188    Topic4   3.201742        mundo  10.027431   0.6641  -5.6959\n",
       "977    Topic4   1.975824       buscar   3.954615   1.1118  -6.1786\n",
       "914    Topic4   1.974137       verano   3.956108   1.1106  -6.1794\n",
       "482    Topic4   1.976237         mesa   3.979123   1.1058  -6.1784\n",
       "227    Topic4   2.593319       muerta   7.275738   0.7741  -5.9066\n",
       "409    Topic4   3.200377       camino  12.962766   0.4069  -5.6963\n",
       "151    Topic4   3.469792       quería  16.065483   0.2731  -5.6155\n",
       "222    Topic4   2.882234        lugar  10.880767   0.4773  -5.8010\n",
       "2168   Topic4   1.712739    solitario   3.218634   1.1748  -6.3215\n",
       "255    Topic4   3.193271         vida  15.391369   0.2329  -5.6985\n",
       "1      Topic4   5.251109         niño  53.749435  -0.5202  -5.2011\n",
       "64     Topic4   3.193156        hacer  15.931591   0.1984  -5.6986\n",
       "816    Topic4   2.519419            q  10.306963   0.3969  -5.9355\n",
       "1473   Topic4   1.978988        llegó   5.436468   0.7952  -6.1770\n",
       "56     Topic4   2.592232        ahora  12.514745   0.2313  -5.9070\n",
       "1047   Topic4   1.978987     encontró   5.946062   0.7056  -6.1770\n",
       "32     Topic4   4.115422       violín  61.490005  -0.8984  -5.4448\n",
       "19     Topic4   2.586115       amigos  15.153358   0.0376  -5.9094\n",
       "97     Topic4   2.588018         tras  21.977400  -0.3334  -5.9087\n",
       "15     Topic4   2.501462       padres  19.203724  -0.2325  -5.9427\n",
       "43     Topic4   2.416059      trabajo  19.763992  -0.2960  -5.9774\n",
       "71     Topic4   2.082299           si  15.529498  -0.2036  -6.1261\n",
       "175    Topic4   1.982178         cama  10.976510   0.0941  -6.1754\n",
       "72     Topic4   1.981044      siempre   8.984241   0.2939  -6.1759\n",
       "613    Topic4   1.979133         solo   8.999408   0.2912  -6.1769\n",
       "397    Topic4   1.978119     trabajar  11.818887   0.0182  -6.1774\n",
       "\n",
       "[272 rows x 6 columns], token_table=      Topic      Freq       Term\n",
       "term                            \n",
       "370       2  0.938179         00\n",
       "1071      4  0.525895  abandonar\n",
       "75        1  0.765569     abuelo\n",
       "75        2  0.127595     abuelo\n",
       "75        4  0.127595     abuelo\n",
       "30        1  0.161814   aburrido\n",
       "30        2  0.161814   aburrido\n",
       "30        3  0.647258   aburrido\n",
       "30        4  0.161814   aburrido\n",
       "2218      4  0.525895     agosto\n",
       "1020      1  0.205659       agua\n",
       "1020      2  0.308488       agua\n",
       "1020      3  0.411318       agua\n",
       "1020      4  0.102829       agua\n",
       "56        1  0.479434      ahora\n",
       "56        2  0.239717      ahora\n",
       "56        3  0.159811      ahora\n",
       "56        4  0.239717      ahora\n",
       "201       2  0.606133        ahí\n",
       "201       3  0.121227        ahí\n",
       "201       4  0.242453        ahí\n",
       "804       2  0.704690       aire\n",
       "804       3  0.234897       aire\n",
       "787       1  0.132505       allí\n",
       "787       2  0.265010       allí\n",
       "787       3  0.530021       allí\n",
       "787       4  0.132505       allí\n",
       "499       3  0.978707      altos\n",
       "820       4  0.525875      amaba\n",
       "19        1  0.263968     amigos\n",
       "...     ...       ...        ...\n",
       "97        2  0.500514       tras\n",
       "97        3  0.045501       tras\n",
       "97        4  0.136504       tras\n",
       "17        1  0.746064     triste\n",
       "17        3  0.279774     triste\n",
       "1108      2  0.838537       uvas\n",
       "993       4  0.525895      vacas\n",
       "1155      4  0.525895        van\n",
       "368       1  0.270709        ver\n",
       "368       2  0.090236        ver\n",
       "368       3  0.541417        ver\n",
       "368       4  0.090236        ver\n",
       "914       2  0.505547     verano\n",
       "914       4  0.505547     verano\n",
       "786       1  0.267831      viaje\n",
       "786       2  0.178554      viaje\n",
       "786       3  0.535661      viaje\n",
       "255       1  0.389829       vida\n",
       "255       2  0.389829       vida\n",
       "255       4  0.194914       vida\n",
       "170       1  0.806177     violin\n",
       "170       3  0.115168     violin\n",
       "32        1  0.894454     violín\n",
       "32        2  0.016263     violín\n",
       "32        3  0.016263     violín\n",
       "32        4  0.065051     violín\n",
       "1966      3  0.978707      virus\n",
       "2216      4  0.796997      vivía\n",
       "974       3  0.978708  volviendo\n",
       "770       2  0.700592     última\n",
       "\n",
       "[425 rows x 3 columns], R=30, lambda_step=0.01, plot_opts={'xlab': 'PC1', 'ylab': 'PC2'}, topic_order=[1, 2, 3, 4])"
      ]
     },
     "execution_count": 107,
     "metadata": {},
     "output_type": "execute_result"
    }
   ],
   "source": [
    "pyLDAvis.enable_notebook()\n",
    "vis = pyLDAvis.gensim.prepare(LDA_model, doc_term_matrix, dictionary)\n",
    "vis"
   ]
  },
  {
   "cell_type": "markdown",
   "metadata": {},
   "source": [
    "## Persist the new features"
   ]
  },
  {
   "cell_type": "code",
   "execution_count": 108,
   "metadata": {},
   "outputs": [
    {
     "data": {
      "text/plain": [
       "Index(['LDA10_Topic', 'LDA4_Topic'], dtype='object')"
      ]
     },
     "execution_count": 108,
     "metadata": {},
     "output_type": "execute_result"
    }
   ],
   "source": [
    "alex_df.columns[len(alex_df.columns)-2:len(alex_df.columns)]"
   ]
  },
  {
   "cell_type": "code",
   "execution_count": 109,
   "metadata": {},
   "outputs": [],
   "source": [
    "# Save Updated features dataset\n",
    "Feats_8_path = \"D:\\\\Dropbox-Array2001\\\\Dropbox\\\\DataSets\\\\Prolexitim-Dataset\\\\Prolexitim_v2_features_8.csv\"\n",
    "alex_df.to_csv(Feats_8_path, sep=';', encoding='utf-8', index=False)"
   ]
  },
  {
   "cell_type": "code",
   "execution_count": null,
   "metadata": {},
   "outputs": [],
   "source": []
  }
 ],
 "metadata": {
  "kernelspec": {
   "display_name": "Python 3",
   "language": "python",
   "name": "python3"
  },
  "language_info": {
   "codemirror_mode": {
    "name": "ipython",
    "version": 3
   },
   "file_extension": ".py",
   "mimetype": "text/x-python",
   "name": "python",
   "nbconvert_exporter": "python",
   "pygments_lexer": "ipython3",
   "version": "3.7.3"
  }
 },
 "nbformat": 4,
 "nbformat_minor": 2
}
