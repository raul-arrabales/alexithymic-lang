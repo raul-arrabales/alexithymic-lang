{
 "cells": [
  {
   "cell_type": "markdown",
   "metadata": {},
   "source": [
    "## Language Analysis of Alexithymic Discourse\n",
    "\n",
    "<hr>\n",
    "\n",
    "Alexithymic Language Project / raul@psicobotica.com / V2 release (sept 2020)\n",
    "\n",
    "<hr>\n",
    "\n",
    "### Dataset preprocessing\n",
    "\n",
    "- Dataset load / cleansing. \n",
    "- Apply participant inclusion/exclusion criteria. \n",
    "- Descriptive analysis.\n",
    "- Dichotomous / class variable calculation (pos/neg alexithymia). \n",
    "- Text Processing: Tokenization. \n",
    "- Text Processing: Stop words. \n",
    "- Text Processing: Stemming. \n",
    "- Text Processing: POS Tagging. \n",
    "- Text Processing: NER Tagging. \n",
    "- Text Processing: Lexical Parsing.\n",
    "- Text Processing: Dependency Parsing.\n"
   ]
  },
  {
   "cell_type": "markdown",
   "metadata": {},
   "source": [
    "### Dataset load"
   ]
  },
  {
   "cell_type": "code",
   "execution_count": 119,
   "metadata": {},
   "outputs": [],
   "source": [
    "import pandas as pd \n",
    "import numpy as np\n",
    "from scipy import stats\n",
    "\n",
    "from sklearn.metrics import cohen_kappa_score\n",
    "\n",
    "%matplotlib inline\n",
    "import matplotlib.pyplot as plt "
   ]
  },
  {
   "cell_type": "code",
   "execution_count": 120,
   "metadata": {},
   "outputs": [],
   "source": [
    "prolexitim_dataset_path = \"https://raw.githubusercontent.com/raul-arrabales/alexithymic-lang/master/data/Prolexitim_v2_tagged.csv\"\n",
    "\n",
    "alex_df = pd.read_csv(prolexitim_dataset_path, header=0, delimiter=\";\")"
   ]
  },
  {
   "cell_type": "code",
   "execution_count": 121,
   "metadata": {},
   "outputs": [],
   "source": [
    "# Keep only adults\n",
    "alex_df = alex_df.drop(alex_df[alex_df.Age < 18].index) \n",
    "alex_df = alex_df.drop(alex_df[alex_df.Age > 65].index) "
   ]
  },
  {
   "cell_type": "code",
   "execution_count": 122,
   "metadata": {},
   "outputs": [
    {
     "data": {
      "text/html": [
       "<div>\n",
       "<style scoped>\n",
       "    .dataframe tbody tr th:only-of-type {\n",
       "        vertical-align: middle;\n",
       "    }\n",
       "\n",
       "    .dataframe tbody tr th {\n",
       "        vertical-align: top;\n",
       "    }\n",
       "\n",
       "    .dataframe thead th {\n",
       "        text-align: right;\n",
       "    }\n",
       "</style>\n",
       "<table border=\"1\" class=\"dataframe\">\n",
       "  <thead>\n",
       "    <tr style=\"text-align: right;\">\n",
       "      <th></th>\n",
       "      <th>Code</th>\n",
       "      <th>TAS20</th>\n",
       "      <th>F1</th>\n",
       "      <th>F2</th>\n",
       "      <th>F3</th>\n",
       "      <th>Gender</th>\n",
       "      <th>Age</th>\n",
       "      <th>Card</th>\n",
       "      <th>T_Metaphors</th>\n",
       "      <th>T_ToM</th>\n",
       "      <th>T_FP</th>\n",
       "      <th>T_Interpret</th>\n",
       "      <th>T_Desc</th>\n",
       "      <th>T_Confussion</th>\n",
       "      <th>Text</th>\n",
       "    </tr>\n",
       "  </thead>\n",
       "  <tbody>\n",
       "    <tr>\n",
       "      <th>0</th>\n",
       "      <td>bc39e22ca5dba59fbd97c27987878f56</td>\n",
       "      <td>40</td>\n",
       "      <td>16</td>\n",
       "      <td>9</td>\n",
       "      <td>15</td>\n",
       "      <td>2</td>\n",
       "      <td>22</td>\n",
       "      <td>1</td>\n",
       "      <td>0</td>\n",
       "      <td>1</td>\n",
       "      <td>0</td>\n",
       "      <td>1</td>\n",
       "      <td>0</td>\n",
       "      <td>0</td>\n",
       "      <td>es un niño pensando en cual es la respuesta de...</td>\n",
       "    </tr>\n",
       "    <tr>\n",
       "      <th>1</th>\n",
       "      <td>bc39e22ca5dba59fbd97c27987878f56</td>\n",
       "      <td>40</td>\n",
       "      <td>16</td>\n",
       "      <td>9</td>\n",
       "      <td>15</td>\n",
       "      <td>2</td>\n",
       "      <td>22</td>\n",
       "      <td>9VH</td>\n",
       "      <td>0</td>\n",
       "      <td>0</td>\n",
       "      <td>0</td>\n",
       "      <td>1</td>\n",
       "      <td>0</td>\n",
       "      <td>0</td>\n",
       "      <td>soldados descansando.</td>\n",
       "    </tr>\n",
       "    <tr>\n",
       "      <th>2</th>\n",
       "      <td>bc39e22ca5dba59fbd97c27987878f56</td>\n",
       "      <td>40</td>\n",
       "      <td>16</td>\n",
       "      <td>9</td>\n",
       "      <td>15</td>\n",
       "      <td>2</td>\n",
       "      <td>22</td>\n",
       "      <td>11</td>\n",
       "      <td>0</td>\n",
       "      <td>0</td>\n",
       "      <td>0</td>\n",
       "      <td>0</td>\n",
       "      <td>1</td>\n",
       "      <td>0</td>\n",
       "      <td>Una cascada.</td>\n",
       "    </tr>\n",
       "    <tr>\n",
       "      <th>3</th>\n",
       "      <td>bc39e22ca5dba59fbd97c27987878f56</td>\n",
       "      <td>40</td>\n",
       "      <td>16</td>\n",
       "      <td>9</td>\n",
       "      <td>15</td>\n",
       "      <td>2</td>\n",
       "      <td>22</td>\n",
       "      <td>13HM</td>\n",
       "      <td>0</td>\n",
       "      <td>1</td>\n",
       "      <td>0</td>\n",
       "      <td>0</td>\n",
       "      <td>0</td>\n",
       "      <td>0</td>\n",
       "      <td>hombre llorando porque su mujer ha muerto.</td>\n",
       "    </tr>\n",
       "    <tr>\n",
       "      <th>4</th>\n",
       "      <td>20cd825cadb95a71763bad06e142c148</td>\n",
       "      <td>40</td>\n",
       "      <td>12</td>\n",
       "      <td>10</td>\n",
       "      <td>18</td>\n",
       "      <td>2</td>\n",
       "      <td>22</td>\n",
       "      <td>1</td>\n",
       "      <td>0</td>\n",
       "      <td>1</td>\n",
       "      <td>0</td>\n",
       "      <td>0</td>\n",
       "      <td>0</td>\n",
       "      <td>0</td>\n",
       "      <td>un Niño cansado de estudiar y presionado por s...</td>\n",
       "    </tr>\n",
       "  </tbody>\n",
       "</table>\n",
       "</div>"
      ],
      "text/plain": [
       "                               Code  TAS20  F1  F2  F3  Gender  Age  Card  \\\n",
       "0  bc39e22ca5dba59fbd97c27987878f56     40  16   9  15       2   22     1   \n",
       "1  bc39e22ca5dba59fbd97c27987878f56     40  16   9  15       2   22   9VH   \n",
       "2  bc39e22ca5dba59fbd97c27987878f56     40  16   9  15       2   22    11   \n",
       "3  bc39e22ca5dba59fbd97c27987878f56     40  16   9  15       2   22  13HM   \n",
       "4  20cd825cadb95a71763bad06e142c148     40  12  10  18       2   22     1   \n",
       "\n",
       "   T_Metaphors  T_ToM  T_FP  T_Interpret  T_Desc  T_Confussion  \\\n",
       "0            0      1     0            1       0             0   \n",
       "1            0      0     0            1       0             0   \n",
       "2            0      0     0            0       1             0   \n",
       "3            0      1     0            0       0             0   \n",
       "4            0      1     0            0       0             0   \n",
       "\n",
       "                                                Text  \n",
       "0  es un niño pensando en cual es la respuesta de...  \n",
       "1                              soldados descansando.  \n",
       "2                                       Una cascada.  \n",
       "3         hombre llorando porque su mujer ha muerto.  \n",
       "4  un Niño cansado de estudiar y presionado por s...  "
      ]
     },
     "execution_count": 122,
     "metadata": {},
     "output_type": "execute_result"
    }
   ],
   "source": [
    "alex_df.head()"
   ]
  },
  {
   "cell_type": "code",
   "execution_count": 123,
   "metadata": {},
   "outputs": [
    {
     "data": {
      "text/plain": [
       "Code            396\n",
       "TAS20           396\n",
       "F1              396\n",
       "F2              396\n",
       "F3              396\n",
       "Gender          396\n",
       "Age             396\n",
       "Card            396\n",
       "T_Metaphors     396\n",
       "T_ToM           396\n",
       "T_FP            396\n",
       "T_Interpret     396\n",
       "T_Desc          396\n",
       "T_Confussion    396\n",
       "Text            396\n",
       "dtype: int64"
      ]
     },
     "execution_count": 123,
     "metadata": {},
     "output_type": "execute_result"
    }
   ],
   "source": [
    "alex_df.count()"
   ]
  },
  {
   "cell_type": "code",
   "execution_count": 124,
   "metadata": {},
   "outputs": [
    {
     "data": {
      "text/plain": [
       "False"
      ]
     },
     "execution_count": 124,
     "metadata": {},
     "output_type": "execute_result"
    }
   ],
   "source": [
    "alex_df.isnull().values.any()"
   ]
  },
  {
   "cell_type": "code",
   "execution_count": 125,
   "metadata": {},
   "outputs": [
    {
     "data": {
      "text/html": [
       "<div>\n",
       "<style scoped>\n",
       "    .dataframe tbody tr th:only-of-type {\n",
       "        vertical-align: middle;\n",
       "    }\n",
       "\n",
       "    .dataframe tbody tr th {\n",
       "        vertical-align: top;\n",
       "    }\n",
       "\n",
       "    .dataframe thead th {\n",
       "        text-align: right;\n",
       "    }\n",
       "</style>\n",
       "<table border=\"1\" class=\"dataframe\">\n",
       "  <thead>\n",
       "    <tr style=\"text-align: right;\">\n",
       "      <th></th>\n",
       "      <th>Code</th>\n",
       "      <th>TAS20</th>\n",
       "      <th>F1</th>\n",
       "      <th>F2</th>\n",
       "      <th>F3</th>\n",
       "      <th>Gender</th>\n",
       "      <th>Age</th>\n",
       "      <th>Card</th>\n",
       "      <th>T_Metaphors</th>\n",
       "      <th>T_ToM</th>\n",
       "      <th>T_FP</th>\n",
       "      <th>T_Interpret</th>\n",
       "      <th>T_Desc</th>\n",
       "      <th>T_Confussion</th>\n",
       "      <th>Text</th>\n",
       "    </tr>\n",
       "  </thead>\n",
       "  <tbody>\n",
       "  </tbody>\n",
       "</table>\n",
       "</div>"
      ],
      "text/plain": [
       "Empty DataFrame\n",
       "Columns: [Code, TAS20, F1, F2, F3, Gender, Age, Card, T_Metaphors, T_ToM, T_FP, T_Interpret, T_Desc, T_Confussion, Text]\n",
       "Index: []"
      ]
     },
     "execution_count": 125,
     "metadata": {},
     "output_type": "execute_result"
    }
   ],
   "source": [
    "df_na = alex_df[alex_df.isna().any(axis=1)]\n",
    "df_null = alex_df[alex_df.isnull().any(axis=1)]\n",
    "df_na"
   ]
  },
  {
   "cell_type": "markdown",
   "metadata": {},
   "source": [
    "### Gender and Age stats"
   ]
  },
  {
   "cell_type": "code",
   "execution_count": 126,
   "metadata": {},
   "outputs": [
    {
     "data": {
      "text/plain": [
       "count    396.000000\n",
       "mean      34.664141\n",
       "std       12.310367\n",
       "min       18.000000\n",
       "25%       24.000000\n",
       "50%       35.500000\n",
       "75%       43.000000\n",
       "max       61.000000\n",
       "Name: Age, dtype: float64"
      ]
     },
     "execution_count": 126,
     "metadata": {},
     "output_type": "execute_result"
    }
   ],
   "source": [
    "alex_df.Age.describe()"
   ]
  },
  {
   "cell_type": "code",
   "execution_count": 127,
   "metadata": {},
   "outputs": [],
   "source": [
    "# alex_df.Age.plot.hist(by=None, bins=20)"
   ]
  },
  {
   "cell_type": "code",
   "execution_count": 128,
   "metadata": {},
   "outputs": [
    {
     "data": {
      "text/plain": [
       "2    254\n",
       "1    142\n",
       "Name: Gender, dtype: int64"
      ]
     },
     "execution_count": 128,
     "metadata": {},
     "output_type": "execute_result"
    }
   ],
   "source": [
    "alex_df.Gender.value_counts()"
   ]
  },
  {
   "cell_type": "markdown",
   "metadata": {},
   "source": [
    "### Build categorical TAS-20 variables\n",
    "\n",
    "**Cutoff scoring - Criterion A** (column Alex-A):\n",
    "\n",
    "Bagby, R. M., Parker, J. D. A. & Taylor, G. J. (1994). The twenty-item Toronto Alexithymia Scale-I. Item selection and cross-validation of the factor structure. Journal of Psychosomatic Research, 38, 23-32.\n",
    "\n",
    "- Equal to or less than 51 = non-alexithymia.\n",
    "- Scores of 52 to 60 = possible alexithymia.\n",
    "- Equal to or greater than 61 = alexithymia.\n",
    "\n",
    "Expressed into a dichotomous variable: \n",
    "- Positive (TAS-20 >= 61)\n",
    "- Negative (TAS-20 < 61)\n",
    "\n",
    "\n",
    "**Cutoff scoring - Criterion B** (column Alex-B):\n",
    "\n",
    "Loas, G., Otmani, O., Fremaux, D., Lecercle, C., Duflot, M., & Delahousse, J. (1996). External validity, reliability and basic score determination of the Toronto Alexithymia Scales (TAS and TAS-20) in a group of alcoholic patients. L'Encephale, 22(1), 35-40.\n",
    "\n",
    "- Score less that 44 for non-alexithymia has been also considered.\n",
    "- Scores of 45 to 55 = possible alexithymia.\n",
    "- Equal to or greater than 56 = alexithymia.\n",
    "\n",
    "Expressed into a dichotomous variable: \n",
    "- Positive (TAS-20 >= 56)\n",
    "- Negative (TAS-20 < 56)"
   ]
  },
  {
   "cell_type": "code",
   "execution_count": 129,
   "metadata": {},
   "outputs": [],
   "source": [
    "alex_df['Alex_A'] = np.where(alex_df['TAS20']>=61, 1, 0)\n",
    "alex_df['Alex_B'] = np.where(alex_df['TAS20']>=56, 1, 0)"
   ]
  },
  {
   "cell_type": "code",
   "execution_count": 130,
   "metadata": {},
   "outputs": [
    {
     "data": {
      "text/plain": [
       "PointbiserialrResult(correlation=0.8714893406611904, pvalue=5.561988739894539e-124)"
      ]
     },
     "execution_count": 130,
     "metadata": {},
     "output_type": "execute_result"
    }
   ],
   "source": [
    "# How much the two criteria differ? \n",
    "\n",
    "# Point biserial correlation\n",
    "stats.pointbiserialr( alex_df.Alex_A, alex_df.Alex_B )"
   ]
  },
  {
   "cell_type": "code",
   "execution_count": 131,
   "metadata": {},
   "outputs": [],
   "source": [
    "# alex_df[['Alex_A', 'Alex_B']].corr()"
   ]
  },
  {
   "cell_type": "code",
   "execution_count": 132,
   "metadata": {},
   "outputs": [
    {
     "data": {
      "text/plain": [
       "0.8633093525179856"
      ]
     },
     "execution_count": 132,
     "metadata": {},
     "output_type": "execute_result"
    }
   ],
   "source": [
    "# Inter-rater reliability\n",
    "cohen_kappa_score( alex_df.Alex_A, alex_df.Alex_B )"
   ]
  },
  {
   "cell_type": "code",
   "execution_count": 133,
   "metadata": {},
   "outputs": [
    {
     "data": {
      "text/plain": [
       "0    316\n",
       "1     80\n",
       "Name: Alex_A, dtype: int64"
      ]
     },
     "execution_count": 133,
     "metadata": {},
     "output_type": "execute_result"
    }
   ],
   "source": [
    "alex_df.Alex_A.value_counts()"
   ]
  },
  {
   "cell_type": "code",
   "execution_count": 134,
   "metadata": {},
   "outputs": [
    {
     "data": {
      "text/plain": [
       "0    297\n",
       "1     99\n",
       "Name: Alex_B, dtype: int64"
      ]
     },
     "execution_count": 134,
     "metadata": {},
     "output_type": "execute_result"
    }
   ],
   "source": [
    "alex_df.Alex_B.value_counts()"
   ]
  },
  {
   "cell_type": "markdown",
   "metadata": {},
   "source": [
    "### Document features"
   ]
  },
  {
   "cell_type": "code",
   "execution_count": 135,
   "metadata": {},
   "outputs": [],
   "source": [
    "# Add text length in words\n",
    "alex_df['Words'] = alex_df.apply(lambda row: len(row.Text.split()), axis=1)"
   ]
  },
  {
   "cell_type": "code",
   "execution_count": 136,
   "metadata": {},
   "outputs": [
    {
     "data": {
      "text/plain": [
       "<matplotlib.axes._subplots.AxesSubplot at 0x2c9930f5128>"
      ]
     },
     "execution_count": 136,
     "metadata": {},
     "output_type": "execute_result"
    },
    {
     "data": {
      "image/png": "[encoded data removed]",
      "text/plain": [
       "<Figure size 432x288 with 1 Axes>"
      ]
     },
     "metadata": {
      "needs_background": "light"
     },
     "output_type": "display_data"
    }
   ],
   "source": [
    "alex_df.Words.plot.hist(by=None, bins=20)"
   ]
  },
  {
   "cell_type": "code",
   "execution_count": 137,
   "metadata": {},
   "outputs": [
    {
     "data": {
      "text/plain": [
       "count    396.000000\n",
       "mean      35.575758\n",
       "std       35.013586\n",
       "min        1.000000\n",
       "25%       16.000000\n",
       "50%       28.000000\n",
       "75%       45.250000\n",
       "max      468.000000\n",
       "Name: Words, dtype: float64"
      ]
     },
     "execution_count": 137,
     "metadata": {},
     "output_type": "execute_result"
    }
   ],
   "source": [
    "alex_df.Words.describe()"
   ]
  },
  {
   "cell_type": "code",
   "execution_count": 138,
   "metadata": {},
   "outputs": [],
   "source": [
    "# Add text length in sentences\n",
    "alex_df['Sentences'] = alex_df.apply(lambda row: len(row.Text.split('.')), axis=1)"
   ]
  },
  {
   "cell_type": "code",
   "execution_count": 139,
   "metadata": {},
   "outputs": [
    {
     "data": {
      "text/plain": [
       "<matplotlib.axes._subplots.AxesSubplot at 0x2c981fdada0>"
      ]
     },
     "execution_count": 139,
     "metadata": {},
     "output_type": "execute_result"
    },
    {
     "data": {
      "image/png": "[encoded data removed]",
      "text/plain": [
       "<Figure size 432x288 with 1 Axes>"
      ]
     },
     "metadata": {
      "needs_background": "light"
     },
     "output_type": "display_data"
    }
   ],
   "source": [
    "alex_df.Sentences.plot.hist(by=None, bins=20)"
   ]
  },
  {
   "cell_type": "code",
   "execution_count": 140,
   "metadata": {},
   "outputs": [
    {
     "data": {
      "text/plain": [
       "count    396.000000\n",
       "mean       3.063131\n",
       "std        1.915574\n",
       "min        1.000000\n",
       "25%        2.000000\n",
       "50%        2.000000\n",
       "75%        3.000000\n",
       "max       19.000000\n",
       "Name: Sentences, dtype: float64"
      ]
     },
     "execution_count": 140,
     "metadata": {},
     "output_type": "execute_result"
    }
   ],
   "source": [
    "alex_df.Sentences.describe()"
   ]
  },
  {
   "cell_type": "markdown",
   "metadata": {},
   "source": [
    "## Text Processing"
   ]
  },
  {
   "cell_type": "code",
   "execution_count": 141,
   "metadata": {},
   "outputs": [],
   "source": [
    "# Using nltk for text processing\n",
    "import nltk\n",
    "from nltk.tokenize import RegexpTokenizer \n",
    "from nltk.corpus import stopwords\n",
    "from nltk.stem.porter import PorterStemmer\n",
    "from nltk.stem import SnowballStemmer\n",
    "from nltk.tag.stanford import StanfordPOSTagger\n",
    "from nltk.parse import CoreNLPParser"
   ]
  },
  {
   "cell_type": "code",
   "execution_count": 142,
   "metadata": {},
   "outputs": [],
   "source": [
    "# CoreNLP API for NLTK does not seem to support lemmatization\n",
    "# ! pip install stanfordcorenlp"
   ]
  },
  {
   "cell_type": "code",
   "execution_count": 143,
   "metadata": {},
   "outputs": [],
   "source": [
    "from stanfordcorenlp import StanfordCoreNLP\n",
    "import json"
   ]
  },
  {
   "cell_type": "markdown",
   "metadata": {},
   "source": [
    "### Tokenization"
   ]
  },
  {
   "cell_type": "code",
   "execution_count": 144,
   "metadata": {},
   "outputs": [],
   "source": [
    "# Reg Exp Tokenizer\n",
    "tokenizer = RegexpTokenizer(r'\\w+')"
   ]
  },
  {
   "cell_type": "code",
   "execution_count": 145,
   "metadata": {},
   "outputs": [],
   "source": [
    "# Add column with list of tokens for each document\n",
    "alex_df['Tokens'] = alex_df.apply(lambda row: tokenizer.tokenize(row.Text.lower()), axis=1) "
   ]
  },
  {
   "cell_type": "markdown",
   "metadata": {},
   "source": [
    "### Stop words"
   ]
  },
  {
   "cell_type": "code",
   "execution_count": 146,
   "metadata": {},
   "outputs": [],
   "source": [
    "# Stop words in Spanish \n",
    "es_stop = set(stopwords.words('spanish'))"
   ]
  },
  {
   "cell_type": "code",
   "execution_count": 147,
   "metadata": {},
   "outputs": [],
   "source": [
    "# Add column with list of stopped tokens for each document\n",
    "alex_df['Tokens_Stop'] = alex_df.apply(lambda row: [i for i in row.Tokens if not i in es_stop], axis=1) "
   ]
  },
  {
   "cell_type": "markdown",
   "metadata": {},
   "source": [
    "### Stemming"
   ]
  },
  {
   "cell_type": "code",
   "execution_count": 148,
   "metadata": {},
   "outputs": [],
   "source": [
    "# Porter stemmer\n",
    "p_stemmer = PorterStemmer() "
   ]
  },
  {
   "cell_type": "code",
   "execution_count": 149,
   "metadata": {},
   "outputs": [],
   "source": [
    "# Add column with list of stemmed tokens for each document\n",
    "alex_df['Tokens_Stem_P'] = alex_df.apply(lambda row: [p_stemmer.stem(i) for i in row.Tokens_Stop], axis=1) "
   ]
  },
  {
   "cell_type": "code",
   "execution_count": 150,
   "metadata": {},
   "outputs": [],
   "source": [
    "# Snowball stemmer\n",
    "s_stemmer = SnowballStemmer('spanish')"
   ]
  },
  {
   "cell_type": "code",
   "execution_count": 151,
   "metadata": {},
   "outputs": [],
   "source": [
    "# Add column with list of stemmed tokens for each document\n",
    "alex_df['Tokens_Stem_S'] = alex_df.apply(lambda row: [s_stemmer.stem(i) for i in row.Tokens_Stop], axis=1) "
   ]
  },
  {
   "cell_type": "code",
   "execution_count": 152,
   "metadata": {},
   "outputs": [
    {
     "data": {
      "text/html": [
       "<div>\n",
       "<style scoped>\n",
       "    .dataframe tbody tr th:only-of-type {\n",
       "        vertical-align: middle;\n",
       "    }\n",
       "\n",
       "    .dataframe tbody tr th {\n",
       "        vertical-align: top;\n",
       "    }\n",
       "\n",
       "    .dataframe thead th {\n",
       "        text-align: right;\n",
       "    }\n",
       "</style>\n",
       "<table border=\"1\" class=\"dataframe\">\n",
       "  <thead>\n",
       "    <tr style=\"text-align: right;\">\n",
       "      <th></th>\n",
       "      <th>Tokens</th>\n",
       "      <th>Tokens_Stem_P</th>\n",
       "      <th>Tokens_Stem_S</th>\n",
       "    </tr>\n",
       "  </thead>\n",
       "  <tbody>\n",
       "    <tr>\n",
       "      <th>0</th>\n",
       "      <td>[es, un, niño, pensando, en, cual, es, la, res...</td>\n",
       "      <td>[niño, pensando, respuesta, deber, sabe]</td>\n",
       "      <td>[niñ, pens, respuest, deber, sab]</td>\n",
       "    </tr>\n",
       "    <tr>\n",
       "      <th>1</th>\n",
       "      <td>[soldados, descansando]</td>\n",
       "      <td>[soldado, descansando]</td>\n",
       "      <td>[sold, descans]</td>\n",
       "    </tr>\n",
       "    <tr>\n",
       "      <th>2</th>\n",
       "      <td>[una, cascada]</td>\n",
       "      <td>[cascada]</td>\n",
       "      <td>[casc]</td>\n",
       "    </tr>\n",
       "    <tr>\n",
       "      <th>3</th>\n",
       "      <td>[hombre, llorando, porque, su, mujer, ha, muerto]</td>\n",
       "      <td>[hombr, llorando, mujer, muerto]</td>\n",
       "      <td>[hombr, llor, muj, muert]</td>\n",
       "    </tr>\n",
       "    <tr>\n",
       "      <th>4</th>\n",
       "      <td>[un, niño, cansado, de, estudiar, y, presionad...</td>\n",
       "      <td>[niño, cansado, estudiar, presionado, padr, tr...</td>\n",
       "      <td>[niñ, cans, estudi, presion, padr, trist, inco...</td>\n",
       "    </tr>\n",
       "    <tr>\n",
       "      <th>5</th>\n",
       "      <td>[grupo, de, amigos, después, de, una, noche, d...</td>\n",
       "      <td>[grupo, amigo, despué, noch, diversión, cansad...</td>\n",
       "      <td>[grup, amig, despues, noch, diversion, cans, t...</td>\n",
       "    </tr>\n",
       "    <tr>\n",
       "      <th>6</th>\n",
       "      <td>[acantilado]</td>\n",
       "      <td>[acantilado]</td>\n",
       "      <td>[acantil]</td>\n",
       "    </tr>\n",
       "    <tr>\n",
       "      <th>7</th>\n",
       "      <td>[hombre, desolado, porque, se, ha, encontrado,...</td>\n",
       "      <td>[hombr, desolado, encontrado, mujer, fallecida]</td>\n",
       "      <td>[hombr, desol, encontr, muj, fallec]</td>\n",
       "    </tr>\n",
       "    <tr>\n",
       "      <th>8</th>\n",
       "      <td>[es, un, niño, que, está, aburrido, está, cans...</td>\n",
       "      <td>[niño, aburrido, cansado, tocar, violín]</td>\n",
       "      <td>[niñ, aburr, cans, toc, violin]</td>\n",
       "    </tr>\n",
       "    <tr>\n",
       "      <th>9</th>\n",
       "      <td>[esta, imagen, refleja, a, varios, hombres, en...</td>\n",
       "      <td>[imagen, refleja, vario, hombr, descanso, trab...</td>\n",
       "      <td>[imag, reflej, vari, hombr, descans, trabaj, e...</td>\n",
       "    </tr>\n",
       "    <tr>\n",
       "      <th>10</th>\n",
       "      <td>[en, esta, imagen, veo, una, cascada, con, roc...</td>\n",
       "      <td>[imagen, veo, cascada, roca, alrededor]</td>\n",
       "      <td>[imag, veo, casc, roc, alrededor]</td>\n",
       "    </tr>\n",
       "    <tr>\n",
       "      <th>11</th>\n",
       "      <td>[la, imagen, representa, a, una, mujer, enferm...</td>\n",
       "      <td>[imagen, representa, mujer, enferma, marido, c...</td>\n",
       "      <td>[imag, represent, muj, enferm, mar, cans, dia,...</td>\n",
       "    </tr>\n",
       "    <tr>\n",
       "      <th>12</th>\n",
       "      <td>[carlito, tiene, 10, años, y, toca, el, violín...</td>\n",
       "      <td>[carlito, 10, año, toca, violín, menudo, resul...</td>\n",
       "      <td>[carlit, 10, años, toc, violin, menud, result,...</td>\n",
       "    </tr>\n",
       "    <tr>\n",
       "      <th>13</th>\n",
       "      <td>[tras, varias, semanas, trabajando, sin, parar...</td>\n",
       "      <td>[tra, varia, semana, trabajando, parar, granja...</td>\n",
       "      <td>[tras, vari, seman, trabaj, par, granj, tio, a...</td>\n",
       "    </tr>\n",
       "    <tr>\n",
       "      <th>14</th>\n",
       "      <td>[dos, pájaros, amigos, deciden, ir, de, excurs...</td>\n",
       "      <td>[do, pájaro, amigo, deciden, ir, excursión, dí...</td>\n",
       "      <td>[dos, pajar, amig, decid, ir, excursion, dia, ...</td>\n",
       "    </tr>\n",
       "    <tr>\n",
       "      <th>15</th>\n",
       "      <td>[se, levantó, jaime, por, la, mañana, sin, pod...</td>\n",
       "      <td>[levantó, jaim, mañana, poder, creer, acaba, p...</td>\n",
       "      <td>[levant, jaim, mañan, pod, cre, acab, pas, muj...</td>\n",
       "    </tr>\n",
       "    <tr>\n",
       "      <th>16</th>\n",
       "      <td>[un, niño, al, que, sus, padres, obligaban, a,...</td>\n",
       "      <td>[niño, padr, obligaban, tocar, violín, harto, ...</td>\n",
       "      <td>[niñ, padr, oblig, toc, violin, hart, quer, ju...</td>\n",
       "    </tr>\n",
       "    <tr>\n",
       "      <th>17</th>\n",
       "      <td>[unos, señores, dueños, de, una, finca, en, la...</td>\n",
       "      <td>[señor, dueño, finca, esclavo, negro, foto, du...</td>\n",
       "      <td>[señor, dueñ, finc, esclav, negr, fot, durm, t...</td>\n",
       "    </tr>\n",
       "    <tr>\n",
       "      <th>18</th>\n",
       "      <td>[una, estampida, de, búfalos, que, están, apun...</td>\n",
       "      <td>[estampida, búfalo, apunto, caers, barranco]</td>\n",
       "      <td>[estamp, bufal, apunt, caers, barranc]</td>\n",
       "    </tr>\n",
       "    <tr>\n",
       "      <th>19</th>\n",
       "      <td>[un, marido, triste, que, acaba, de, perder, a...</td>\n",
       "      <td>[marido, trist, acaba, perder, mujer, enferma,...</td>\n",
       "      <td>[mar, trist, acab, perd, muj, enferm, canc]</td>\n",
       "    </tr>\n",
       "    <tr>\n",
       "      <th>20</th>\n",
       "      <td>[un, niño, al, que, sus, padres, le, han, obli...</td>\n",
       "      <td>[niño, padr, obligado, tocar, violin, gusta]</td>\n",
       "      <td>[niñ, padr, oblig, toc, violin, gust]</td>\n",
       "    </tr>\n",
       "    <tr>\n",
       "      <th>21</th>\n",
       "      <td>[unos, militares, descansando, tras, un, día, ...</td>\n",
       "      <td>[militar, descansando, tra, día, duro]</td>\n",
       "      <td>[militar, descans, tras, dia, dur]</td>\n",
       "    </tr>\n",
       "    <tr>\n",
       "      <th>22</th>\n",
       "      <td>[una, cascada, rodeada, de, árboles]</td>\n",
       "      <td>[cascada, rodeada, árbole]</td>\n",
       "      <td>[casc, rod, arbol]</td>\n",
       "    </tr>\n",
       "    <tr>\n",
       "      <th>23</th>\n",
       "      <td>[un, hombre, que, al, levantarse, se, arrepien...</td>\n",
       "      <td>[hombr, levantars, arrepient, haber, dormido, ...</td>\n",
       "      <td>[hombr, levant, arrepient, hab, dorm, muj, enc...</td>\n",
       "    </tr>\n",
       "    <tr>\n",
       "      <th>24</th>\n",
       "      <td>[yo, creo, que, un, hombre, solitario, se, fue...</td>\n",
       "      <td>[creo, hombr, solitario, dar, paseo, barca, rí...</td>\n",
       "      <td>[cre, hombr, solitari, dar, pase, barc, rio, a...</td>\n",
       "    </tr>\n",
       "    <tr>\n",
       "      <th>25</th>\n",
       "      <td>[es, una, mujer, que, se, despertó, por, la, m...</td>\n",
       "      <td>[mujer, despertó, mañana, trabajo, despidieron...</td>\n",
       "      <td>[muj, despert, mañan, trabaj, despid, lleg, ca...</td>\n",
       "    </tr>\n",
       "    <tr>\n",
       "      <th>26</th>\n",
       "      <td>[son, dos, abuelitos, que, se, quieren, mucho,...</td>\n",
       "      <td>[do, abuelito, quieren, llevan, toda, vida, ju...</td>\n",
       "      <td>[dos, abuelit, quier, llev, tod, vid, junt, di...</td>\n",
       "    </tr>\n",
       "    <tr>\n",
       "      <th>27</th>\n",
       "      <td>[alguien, que, está, triste, o, cansado, de, a...</td>\n",
       "      <td>[alguien, trist, cansado, decidiendo, vida, sé...</td>\n",
       "      <td>[algui, trist, cans, decid, vid, se, parec, aq...</td>\n",
       "    </tr>\n",
       "    <tr>\n",
       "      <th>28</th>\n",
       "      <td>[un, bosque, encantado, en, el, cual, no, habi...</td>\n",
       "      <td>[bosqu, encantado, habitaba, nadi, día, aparec...</td>\n",
       "      <td>[bosqu, encant, habit, nadi, dia, aparec, tor,...</td>\n",
       "    </tr>\n",
       "    <tr>\n",
       "      <th>29</th>\n",
       "      <td>[erase, una, vez, un, niño, que, le, gustaba, ...</td>\n",
       "      <td>[eras, vez, niño, gustaba, descubrir, cosa, de...</td>\n",
       "      <td>[eras, vez, niñ, gust, descubr, cos, decid, su...</td>\n",
       "    </tr>\n",
       "    <tr>\n",
       "      <th>...</th>\n",
       "      <td>...</td>\n",
       "      <td>...</td>\n",
       "      <td>...</td>\n",
       "    </tr>\n",
       "    <tr>\n",
       "      <th>376</th>\n",
       "      <td>[un, camino, muy, raro, con, piedras, grandes,...</td>\n",
       "      <td>[camino, raro, piedra, grand, espantosa]</td>\n",
       "      <td>[camin, rar, piedr, grand, espant]</td>\n",
       "    </tr>\n",
       "    <tr>\n",
       "      <th>377</th>\n",
       "      <td>[un, hombre, que, parece, haber, levantado, de...</td>\n",
       "      <td>[hombr, parec, haber, levantado, despu, tener,...</td>\n",
       "      <td>[hombr, parec, hab, levant, despu, ten, sex, muj]</td>\n",
       "    </tr>\n",
       "    <tr>\n",
       "      <th>378</th>\n",
       "      <td>[un, niño, al, que, sus, padres, obligaban, a,...</td>\n",
       "      <td>[niño, padr, obligaban, tocar, violín, aburría...</td>\n",
       "      <td>[niñ, padr, oblig, toc, violin, aburr, clas, l...</td>\n",
       "    </tr>\n",
       "    <tr>\n",
       "      <th>379</th>\n",
       "      <td>[unos, hombres, descansaban, tirados, en, el, ...</td>\n",
       "      <td>[hombr, descansaban, tirado, pasto, despué, ha...</td>\n",
       "      <td>[hombr, descans, tir, past, despues, hab, hor,...</td>\n",
       "    </tr>\n",
       "    <tr>\n",
       "      <th>380</th>\n",
       "      <td>[una, mujer, que, todos, los, días, se, acerca...</td>\n",
       "      <td>[mujer, día, acercaba, catarata, bañars, desnu...</td>\n",
       "      <td>[muj, dias, acerc, catarat, bañ, desnud, disfr...</td>\n",
       "    </tr>\n",
       "    <tr>\n",
       "      <th>381</th>\n",
       "      <td>[una, pareja, acaba, de, romper, ella, no, qui...</td>\n",
       "      <td>[pareja, acaba, romper, quier, seguir, relació...</td>\n",
       "      <td>[parej, acab, romp, quier, segu, relacion, llo...</td>\n",
       "    </tr>\n",
       "    <tr>\n",
       "      <th>382</th>\n",
       "      <td>[un, niño, solitario, que, vivía, a, las, afue...</td>\n",
       "      <td>[niño, solitario, vivía, afuera, ciudad, día, ...</td>\n",
       "      <td>[niñ, solitari, viv, afuer, ciud, dia, bas, ob...</td>\n",
       "    </tr>\n",
       "    <tr>\n",
       "      <th>383</th>\n",
       "      <td>[una, noche, de, campo, enrique, y, sus, amigo...</td>\n",
       "      <td>[noch, campo, enriqu, amigo, salieron, trotar,...</td>\n",
       "      <td>[noch, camp, enriqu, amig, sal, trot, tant, fa...</td>\n",
       "    </tr>\n",
       "    <tr>\n",
       "      <th>384</th>\n",
       "      <td>[en, un, oscuro, bosque, encantado, se, encont...</td>\n",
       "      <td>[oscuro, bosqu, encantado, encontraba, cascada...</td>\n",
       "      <td>[oscur, bosqu, encant, encontr, casc, pod, reg...</td>\n",
       "    </tr>\n",
       "    <tr>\n",
       "      <th>385</th>\n",
       "      <td>[la, pérdida, de, un, ser, amado]</td>\n",
       "      <td>[pérdida, ser, amado]</td>\n",
       "      <td>[perd, ser, amad]</td>\n",
       "    </tr>\n",
       "    <tr>\n",
       "      <th>386</th>\n",
       "      <td>[un, niño, triste, porque, una, cuerda, de, su...</td>\n",
       "      <td>[niño, trist, cuerda, violín, roto]</td>\n",
       "      <td>[niñ, trist, cuerd, violin, rot]</td>\n",
       "    </tr>\n",
       "    <tr>\n",
       "      <th>387</th>\n",
       "      <td>[tanta, confusión, que, cerrar, los, ojos, y, ...</td>\n",
       "      <td>[tanta, confusión, cerrar, ojo, descansar, ali...</td>\n",
       "      <td>[tant, confusion, cerr, ojos, descans, alivi, ...</td>\n",
       "    </tr>\n",
       "    <tr>\n",
       "      <th>388</th>\n",
       "      <td>[una, hormiga, en, la, inmensidad, de, la, mon...</td>\n",
       "      <td>[hormiga, inmensidad, montaña]</td>\n",
       "      <td>[hormig, inmens, montañ]</td>\n",
       "    </tr>\n",
       "    <tr>\n",
       "      <th>389</th>\n",
       "      <td>[una, pesadilla]</td>\n",
       "      <td>[pesadilla]</td>\n",
       "      <td>[pesadill]</td>\n",
       "    </tr>\n",
       "    <tr>\n",
       "      <th>390</th>\n",
       "      <td>[un, jóven, que, de, rrepente, al, ver, un, vi...</td>\n",
       "      <td>[jóven, rrepent, ver, violín, ocurrió, ser, vi...</td>\n",
       "      <td>[jov, rrepent, ver, violin, ocurr, ser, violin...</td>\n",
       "    </tr>\n",
       "    <tr>\n",
       "      <th>391</th>\n",
       "      <td>[el, grupo, de, cazadores, the, explorers, de,...</td>\n",
       "      <td>[grupo, cazador, the, explor, gran, fama, mund...</td>\n",
       "      <td>[grup, cazador, the, explorers, gran, fam, mun...</td>\n",
       "    </tr>\n",
       "    <tr>\n",
       "      <th>392</th>\n",
       "      <td>[el, cerro, de, la, fortuna, inalcanzable, lla...</td>\n",
       "      <td>[cerro, fortuna, inalcanz, llamado, así, posib...</td>\n",
       "      <td>[cerr, fortun, inalcanz, llam, asi, posibl, gr...</td>\n",
       "    </tr>\n",
       "    <tr>\n",
       "      <th>393</th>\n",
       "      <td>[el, hombre, quien, era, muy, timido, pero, le...</td>\n",
       "      <td>[hombr, timido, gustaba, bailar, asi, siempr, ...</td>\n",
       "      <td>[hombr, tim, gust, bail, asi, siempr, haci, mi...</td>\n",
       "    </tr>\n",
       "    <tr>\n",
       "      <th>394</th>\n",
       "      <td>[un, subalterno, ignorado, que, se, aburria, p...</td>\n",
       "      <td>[subalterno, ignorado, aburria, indiferencia, ...</td>\n",
       "      <td>[subaltern, ignor, aburri, indiferent, recibi]</td>\n",
       "    </tr>\n",
       "    <tr>\n",
       "      <th>395</th>\n",
       "      <td>[un, silencioso, día, para, disfrutar, los, an...</td>\n",
       "      <td>[silencioso, día, disfrutar, antidepresivo, so...</td>\n",
       "      <td>[silenci, dia, disfrut, antidepres, sol, cuest...</td>\n",
       "    </tr>\n",
       "    <tr>\n",
       "      <th>396</th>\n",
       "      <td>[de, la, montaña, se, callo, y, su, cabeza, se...</td>\n",
       "      <td>[montaña, callo, cabeza, quebro]</td>\n",
       "      <td>[montañ, call, cabez, quebr]</td>\n",
       "    </tr>\n",
       "    <tr>\n",
       "      <th>397</th>\n",
       "      <td>[un, tragica, historia, la, cual, el, no, quis...</td>\n",
       "      <td>[tragica, historia, quiso, ser, feliz, perderl...</td>\n",
       "      <td>[tragic, histori, quis, ser, feliz, perd, asi,...</td>\n",
       "    </tr>\n",
       "    <tr>\n",
       "      <th>398</th>\n",
       "      <td>[un, niño, aburrido, porque, le, obligaban, a,...</td>\n",
       "      <td>[niño, aburrido, obligaban, tocar, violin]</td>\n",
       "      <td>[niñ, aburr, oblig, toc, violin]</td>\n",
       "    </tr>\n",
       "    <tr>\n",
       "      <th>399</th>\n",
       "      <td>[un, padre, y, sus, hijos, deecansando, un, di...</td>\n",
       "      <td>[padr, hijo, deecansando, dia, fiesta, campo]</td>\n",
       "      <td>[padr, hij, deecans, dia, fiest, camp]</td>\n",
       "    </tr>\n",
       "    <tr>\n",
       "      <th>400</th>\n",
       "      <td>[alguien, escapando, y, llegando, a, cruzar, u...</td>\n",
       "      <td>[alguien, escapando, llegando, cruzar, rio]</td>\n",
       "      <td>[algui, escap, lleg, cruz, rio]</td>\n",
       "    </tr>\n",
       "    <tr>\n",
       "      <th>401</th>\n",
       "      <td>[un, hombre, que, despues, de, matar, a, su, m...</td>\n",
       "      <td>[hombr, despu, matar, mujer, ahogada, llora, h...</td>\n",
       "      <td>[hombr, despu, mat, muj, ahog, llor, hech]</td>\n",
       "    </tr>\n",
       "    <tr>\n",
       "      <th>402</th>\n",
       "      <td>[un, niño, aburrido, de, tocar, el, violín, un...</td>\n",
       "      <td>[niño, aburrido, tocar, violín, día, aguanto, ...</td>\n",
       "      <td>[niñ, aburr, toc, violin, dia, aguant, aburr, ...</td>\n",
       "    </tr>\n",
       "    <tr>\n",
       "      <th>403</th>\n",
       "      <td>[un, hombre, cansado, de, la, guerra, decidió,...</td>\n",
       "      <td>[hombr, cansado, guerra, decidió, descansar, r...</td>\n",
       "      <td>[hombr, cans, guerr, decid, descans, rat, amig]</td>\n",
       "    </tr>\n",
       "    <tr>\n",
       "      <th>404</th>\n",
       "      <td>[una, selva, con, una, hermosa, cascada]</td>\n",
       "      <td>[selva, hermosa, cascada]</td>\n",
       "      <td>[selv, hermos, casc]</td>\n",
       "    </tr>\n",
       "    <tr>\n",
       "      <th>405</th>\n",
       "      <td>[un, hombre, cansado, de, trabajar]</td>\n",
       "      <td>[hombr, cansado, trabajar]</td>\n",
       "      <td>[hombr, cans, trabaj]</td>\n",
       "    </tr>\n",
       "  </tbody>\n",
       "</table>\n",
       "<p>396 rows × 3 columns</p>\n",
       "</div>"
      ],
      "text/plain": [
       "                                                Tokens  \\\n",
       "0    [es, un, niño, pensando, en, cual, es, la, res...   \n",
       "1                              [soldados, descansando]   \n",
       "2                                       [una, cascada]   \n",
       "3    [hombre, llorando, porque, su, mujer, ha, muerto]   \n",
       "4    [un, niño, cansado, de, estudiar, y, presionad...   \n",
       "5    [grupo, de, amigos, después, de, una, noche, d...   \n",
       "6                                         [acantilado]   \n",
       "7    [hombre, desolado, porque, se, ha, encontrado,...   \n",
       "8    [es, un, niño, que, está, aburrido, está, cans...   \n",
       "9    [esta, imagen, refleja, a, varios, hombres, en...   \n",
       "10   [en, esta, imagen, veo, una, cascada, con, roc...   \n",
       "11   [la, imagen, representa, a, una, mujer, enferm...   \n",
       "12   [carlito, tiene, 10, años, y, toca, el, violín...   \n",
       "13   [tras, varias, semanas, trabajando, sin, parar...   \n",
       "14   [dos, pájaros, amigos, deciden, ir, de, excurs...   \n",
       "15   [se, levantó, jaime, por, la, mañana, sin, pod...   \n",
       "16   [un, niño, al, que, sus, padres, obligaban, a,...   \n",
       "17   [unos, señores, dueños, de, una, finca, en, la...   \n",
       "18   [una, estampida, de, búfalos, que, están, apun...   \n",
       "19   [un, marido, triste, que, acaba, de, perder, a...   \n",
       "20   [un, niño, al, que, sus, padres, le, han, obli...   \n",
       "21   [unos, militares, descansando, tras, un, día, ...   \n",
       "22                [una, cascada, rodeada, de, árboles]   \n",
       "23   [un, hombre, que, al, levantarse, se, arrepien...   \n",
       "24   [yo, creo, que, un, hombre, solitario, se, fue...   \n",
       "25   [es, una, mujer, que, se, despertó, por, la, m...   \n",
       "26   [son, dos, abuelitos, que, se, quieren, mucho,...   \n",
       "27   [alguien, que, está, triste, o, cansado, de, a...   \n",
       "28   [un, bosque, encantado, en, el, cual, no, habi...   \n",
       "29   [erase, una, vez, un, niño, que, le, gustaba, ...   \n",
       "..                                                 ...   \n",
       "376  [un, camino, muy, raro, con, piedras, grandes,...   \n",
       "377  [un, hombre, que, parece, haber, levantado, de...   \n",
       "378  [un, niño, al, que, sus, padres, obligaban, a,...   \n",
       "379  [unos, hombres, descansaban, tirados, en, el, ...   \n",
       "380  [una, mujer, que, todos, los, días, se, acerca...   \n",
       "381  [una, pareja, acaba, de, romper, ella, no, qui...   \n",
       "382  [un, niño, solitario, que, vivía, a, las, afue...   \n",
       "383  [una, noche, de, campo, enrique, y, sus, amigo...   \n",
       "384  [en, un, oscuro, bosque, encantado, se, encont...   \n",
       "385                  [la, pérdida, de, un, ser, amado]   \n",
       "386  [un, niño, triste, porque, una, cuerda, de, su...   \n",
       "387  [tanta, confusión, que, cerrar, los, ojos, y, ...   \n",
       "388  [una, hormiga, en, la, inmensidad, de, la, mon...   \n",
       "389                                   [una, pesadilla]   \n",
       "390  [un, jóven, que, de, rrepente, al, ver, un, vi...   \n",
       "391  [el, grupo, de, cazadores, the, explorers, de,...   \n",
       "392  [el, cerro, de, la, fortuna, inalcanzable, lla...   \n",
       "393  [el, hombre, quien, era, muy, timido, pero, le...   \n",
       "394  [un, subalterno, ignorado, que, se, aburria, p...   \n",
       "395  [un, silencioso, día, para, disfrutar, los, an...   \n",
       "396  [de, la, montaña, se, callo, y, su, cabeza, se...   \n",
       "397  [un, tragica, historia, la, cual, el, no, quis...   \n",
       "398  [un, niño, aburrido, porque, le, obligaban, a,...   \n",
       "399  [un, padre, y, sus, hijos, deecansando, un, di...   \n",
       "400  [alguien, escapando, y, llegando, a, cruzar, u...   \n",
       "401  [un, hombre, que, despues, de, matar, a, su, m...   \n",
       "402  [un, niño, aburrido, de, tocar, el, violín, un...   \n",
       "403  [un, hombre, cansado, de, la, guerra, decidió,...   \n",
       "404           [una, selva, con, una, hermosa, cascada]   \n",
       "405                [un, hombre, cansado, de, trabajar]   \n",
       "\n",
       "                                         Tokens_Stem_P  \\\n",
       "0             [niño, pensando, respuesta, deber, sabe]   \n",
       "1                               [soldado, descansando]   \n",
       "2                                            [cascada]   \n",
       "3                     [hombr, llorando, mujer, muerto]   \n",
       "4    [niño, cansado, estudiar, presionado, padr, tr...   \n",
       "5    [grupo, amigo, despué, noch, diversión, cansad...   \n",
       "6                                         [acantilado]   \n",
       "7      [hombr, desolado, encontrado, mujer, fallecida]   \n",
       "8             [niño, aburrido, cansado, tocar, violín]   \n",
       "9    [imagen, refleja, vario, hombr, descanso, trab...   \n",
       "10             [imagen, veo, cascada, roca, alrededor]   \n",
       "11   [imagen, representa, mujer, enferma, marido, c...   \n",
       "12   [carlito, 10, año, toca, violín, menudo, resul...   \n",
       "13   [tra, varia, semana, trabajando, parar, granja...   \n",
       "14   [do, pájaro, amigo, deciden, ir, excursión, dí...   \n",
       "15   [levantó, jaim, mañana, poder, creer, acaba, p...   \n",
       "16   [niño, padr, obligaban, tocar, violín, harto, ...   \n",
       "17   [señor, dueño, finca, esclavo, negro, foto, du...   \n",
       "18        [estampida, búfalo, apunto, caers, barranco]   \n",
       "19   [marido, trist, acaba, perder, mujer, enferma,...   \n",
       "20        [niño, padr, obligado, tocar, violin, gusta]   \n",
       "21              [militar, descansando, tra, día, duro]   \n",
       "22                          [cascada, rodeada, árbole]   \n",
       "23   [hombr, levantars, arrepient, haber, dormido, ...   \n",
       "24   [creo, hombr, solitario, dar, paseo, barca, rí...   \n",
       "25   [mujer, despertó, mañana, trabajo, despidieron...   \n",
       "26   [do, abuelito, quieren, llevan, toda, vida, ju...   \n",
       "27   [alguien, trist, cansado, decidiendo, vida, sé...   \n",
       "28   [bosqu, encantado, habitaba, nadi, día, aparec...   \n",
       "29   [eras, vez, niño, gustaba, descubrir, cosa, de...   \n",
       "..                                                 ...   \n",
       "376           [camino, raro, piedra, grand, espantosa]   \n",
       "377  [hombr, parec, haber, levantado, despu, tener,...   \n",
       "378  [niño, padr, obligaban, tocar, violín, aburría...   \n",
       "379  [hombr, descansaban, tirado, pasto, despué, ha...   \n",
       "380  [mujer, día, acercaba, catarata, bañars, desnu...   \n",
       "381  [pareja, acaba, romper, quier, seguir, relació...   \n",
       "382  [niño, solitario, vivía, afuera, ciudad, día, ...   \n",
       "383  [noch, campo, enriqu, amigo, salieron, trotar,...   \n",
       "384  [oscuro, bosqu, encantado, encontraba, cascada...   \n",
       "385                              [pérdida, ser, amado]   \n",
       "386                [niño, trist, cuerda, violín, roto]   \n",
       "387  [tanta, confusión, cerrar, ojo, descansar, ali...   \n",
       "388                     [hormiga, inmensidad, montaña]   \n",
       "389                                        [pesadilla]   \n",
       "390  [jóven, rrepent, ver, violín, ocurrió, ser, vi...   \n",
       "391  [grupo, cazador, the, explor, gran, fama, mund...   \n",
       "392  [cerro, fortuna, inalcanz, llamado, así, posib...   \n",
       "393  [hombr, timido, gustaba, bailar, asi, siempr, ...   \n",
       "394  [subalterno, ignorado, aburria, indiferencia, ...   \n",
       "395  [silencioso, día, disfrutar, antidepresivo, so...   \n",
       "396                   [montaña, callo, cabeza, quebro]   \n",
       "397  [tragica, historia, quiso, ser, feliz, perderl...   \n",
       "398         [niño, aburrido, obligaban, tocar, violin]   \n",
       "399      [padr, hijo, deecansando, dia, fiesta, campo]   \n",
       "400        [alguien, escapando, llegando, cruzar, rio]   \n",
       "401  [hombr, despu, matar, mujer, ahogada, llora, h...   \n",
       "402  [niño, aburrido, tocar, violín, día, aguanto, ...   \n",
       "403  [hombr, cansado, guerra, decidió, descansar, r...   \n",
       "404                          [selva, hermosa, cascada]   \n",
       "405                         [hombr, cansado, trabajar]   \n",
       "\n",
       "                                         Tokens_Stem_S  \n",
       "0                    [niñ, pens, respuest, deber, sab]  \n",
       "1                                      [sold, descans]  \n",
       "2                                               [casc]  \n",
       "3                            [hombr, llor, muj, muert]  \n",
       "4    [niñ, cans, estudi, presion, padr, trist, inco...  \n",
       "5    [grup, amig, despues, noch, diversion, cans, t...  \n",
       "6                                            [acantil]  \n",
       "7                 [hombr, desol, encontr, muj, fallec]  \n",
       "8                      [niñ, aburr, cans, toc, violin]  \n",
       "9    [imag, reflej, vari, hombr, descans, trabaj, e...  \n",
       "10                   [imag, veo, casc, roc, alrededor]  \n",
       "11   [imag, represent, muj, enferm, mar, cans, dia,...  \n",
       "12   [carlit, 10, años, toc, violin, menud, result,...  \n",
       "13   [tras, vari, seman, trabaj, par, granj, tio, a...  \n",
       "14   [dos, pajar, amig, decid, ir, excursion, dia, ...  \n",
       "15   [levant, jaim, mañan, pod, cre, acab, pas, muj...  \n",
       "16   [niñ, padr, oblig, toc, violin, hart, quer, ju...  \n",
       "17   [señor, dueñ, finc, esclav, negr, fot, durm, t...  \n",
       "18              [estamp, bufal, apunt, caers, barranc]  \n",
       "19         [mar, trist, acab, perd, muj, enferm, canc]  \n",
       "20               [niñ, padr, oblig, toc, violin, gust]  \n",
       "21                  [militar, descans, tras, dia, dur]  \n",
       "22                                  [casc, rod, arbol]  \n",
       "23   [hombr, levant, arrepient, hab, dorm, muj, enc...  \n",
       "24   [cre, hombr, solitari, dar, pase, barc, rio, a...  \n",
       "25   [muj, despert, mañan, trabaj, despid, lleg, ca...  \n",
       "26   [dos, abuelit, quier, llev, tod, vid, junt, di...  \n",
       "27   [algui, trist, cans, decid, vid, se, parec, aq...  \n",
       "28   [bosqu, encant, habit, nadi, dia, aparec, tor,...  \n",
       "29   [eras, vez, niñ, gust, descubr, cos, decid, su...  \n",
       "..                                                 ...  \n",
       "376                 [camin, rar, piedr, grand, espant]  \n",
       "377  [hombr, parec, hab, levant, despu, ten, sex, muj]  \n",
       "378  [niñ, padr, oblig, toc, violin, aburr, clas, l...  \n",
       "379  [hombr, descans, tir, past, despues, hab, hor,...  \n",
       "380  [muj, dias, acerc, catarat, bañ, desnud, disfr...  \n",
       "381  [parej, acab, romp, quier, segu, relacion, llo...  \n",
       "382  [niñ, solitari, viv, afuer, ciud, dia, bas, ob...  \n",
       "383  [noch, camp, enriqu, amig, sal, trot, tant, fa...  \n",
       "384  [oscur, bosqu, encant, encontr, casc, pod, reg...  \n",
       "385                                  [perd, ser, amad]  \n",
       "386                   [niñ, trist, cuerd, violin, rot]  \n",
       "387  [tant, confusion, cerr, ojos, descans, alivi, ...  \n",
       "388                           [hormig, inmens, montañ]  \n",
       "389                                         [pesadill]  \n",
       "390  [jov, rrepent, ver, violin, ocurr, ser, violin...  \n",
       "391  [grup, cazador, the, explorers, gran, fam, mun...  \n",
       "392  [cerr, fortun, inalcanz, llam, asi, posibl, gr...  \n",
       "393  [hombr, tim, gust, bail, asi, siempr, haci, mi...  \n",
       "394     [subaltern, ignor, aburri, indiferent, recibi]  \n",
       "395  [silenci, dia, disfrut, antidepres, sol, cuest...  \n",
       "396                       [montañ, call, cabez, quebr]  \n",
       "397  [tragic, histori, quis, ser, feliz, perd, asi,...  \n",
       "398                   [niñ, aburr, oblig, toc, violin]  \n",
       "399             [padr, hij, deecans, dia, fiest, camp]  \n",
       "400                    [algui, escap, lleg, cruz, rio]  \n",
       "401         [hombr, despu, mat, muj, ahog, llor, hech]  \n",
       "402  [niñ, aburr, toc, violin, dia, aguant, aburr, ...  \n",
       "403    [hombr, cans, guerr, decid, descans, rat, amig]  \n",
       "404                               [selv, hermos, casc]  \n",
       "405                              [hombr, cans, trabaj]  \n",
       "\n",
       "[396 rows x 3 columns]"
      ]
     },
     "execution_count": 152,
     "metadata": {},
     "output_type": "execute_result"
    }
   ],
   "source": [
    "alex_df[['Tokens','Tokens_Stem_P', 'Tokens_Stem_S']]"
   ]
  },
  {
   "cell_type": "markdown",
   "metadata": {},
   "source": [
    "### POS Tagging"
   ]
  },
  {
   "cell_type": "code",
   "execution_count": 153,
   "metadata": {},
   "outputs": [],
   "source": [
    "# POS Tagging load (prep)\n",
    "# Stanford POS tagger is a JAVA class invoked by nltk\n",
    "import os\n",
    "java_path = \"C:\\Program Files (x86)\\Common Files\\Oracle\\Java\\javapath\"\n",
    "os.environ['JAVAHOME'] = java_path"
   ]
  },
  {
   "cell_type": "code",
   "execution_count": 154,
   "metadata": {
    "scrolled": true
   },
   "outputs": [],
   "source": [
    "# POS Tagging load \n",
    "\n",
    "spanish_postagger = StanfordPOSTagger('models/spanish.tagger', 'stanford-postagger.jar')"
   ]
  },
  {
   "cell_type": "code",
   "execution_count": 155,
   "metadata": {},
   "outputs": [
    {
     "data": {
      "text/plain": [
       "[('Esta', 'PRON'),\n",
       " ('es', 'AUX'),\n",
       " ('la', 'DET'),\n",
       " ('frase', 'NOUN'),\n",
       " ('más', 'ADV'),\n",
       " ('complicada', 'ADJ'),\n",
       " ('del', 'ADP'),\n",
       " ('mundo.', 'PROPN')]"
      ]
     },
     "execution_count": 155,
     "metadata": {},
     "output_type": "execute_result"
    }
   ],
   "source": [
    "spanish_postagger.tag('Esta es la frase más complicada del mundo.'.split())"
   ]
  },
  {
   "cell_type": "code",
   "execution_count": 156,
   "metadata": {},
   "outputs": [],
   "source": [
    "# Add column with POS Tagging\n",
    "# alex_df['POS'] = alex_df.apply(lambda row: spanish_postagger.tag(row.Text.lower().split()), axis=1) "
   ]
  },
  {
   "cell_type": "code",
   "execution_count": 157,
   "metadata": {},
   "outputs": [],
   "source": [
    "# alex_df"
   ]
  },
  {
   "cell_type": "code",
   "execution_count": 158,
   "metadata": {},
   "outputs": [],
   "source": [
    "# Perform pos tagging with the server\n",
    "pos_tagger_srv = CoreNLPParser(url='http://localhost:9000', tagtype='pos')"
   ]
  },
  {
   "cell_type": "code",
   "execution_count": 159,
   "metadata": {},
   "outputs": [],
   "source": [
    "# Add column with POS Tagging (server)\n",
    "alex_df['POS'] = alex_df.apply(lambda row: pos_tagger_srv.tag(row.Text.lower().split()), axis=1) "
   ]
  },
  {
   "cell_type": "code",
   "execution_count": 160,
   "metadata": {},
   "outputs": [],
   "source": [
    "# alex_df"
   ]
  },
  {
   "cell_type": "markdown",
   "metadata": {},
   "source": [
    "### Named Entity Recognition (NER)"
   ]
  },
  {
   "cell_type": "code",
   "execution_count": 161,
   "metadata": {},
   "outputs": [],
   "source": [
    "from nltk.tag.stanford import StanfordNERTagger"
   ]
  },
  {
   "cell_type": "code",
   "execution_count": 162,
   "metadata": {},
   "outputs": [],
   "source": [
    "# spanish_ner_tagger = StanfordNERTagger('models/spanish.ancora.distsim.s512.crf.ser.gz', 'stanford-ner.jar', encoding='utf8')\n",
    "\n",
    "spanish_ner_tagger = StanfordNERTagger('models/spanish.kbp.ancora.distsim.s512.crf.ser.gz', 'stanford-ner.jar', encoding='utf8') "
   ]
  },
  {
   "cell_type": "code",
   "execution_count": 163,
   "metadata": {},
   "outputs": [
    {
     "data": {
      "text/plain": [
       "[('Jorge', 'PERSON'),\n",
       " ('Perez', 'PERSON'),\n",
       " ('era', 'O'),\n",
       " ('amigo', 'O'),\n",
       " ('de', 'O'),\n",
       " ('Bill', 'PERSON'),\n",
       " ('Gates,', 'PERSON'),\n",
       " ('pero', 'O'),\n",
       " ('luego', 'O'),\n",
       " ('se', 'O'),\n",
       " ('fue', 'O'),\n",
       " ('a', 'O'),\n",
       " ('Croacia,', 'O'),\n",
       " ('que', 'O'),\n",
       " ('es', 'O'),\n",
       " ('parte', 'O'),\n",
       " ('de', 'O'),\n",
       " ('la', 'O'),\n",
       " ('Unión', 'ORGANIZATION'),\n",
       " ('Europea', 'ORGANIZATION')]"
      ]
     },
     "execution_count": 163,
     "metadata": {},
     "output_type": "execute_result"
    }
   ],
   "source": [
    "spanish_ner_tagger.tag('Jorge Perez era amigo de Bill Gates, pero luego se fue a Croacia, que es parte de la Unión Europea'.split())"
   ]
  },
  {
   "cell_type": "code",
   "execution_count": 164,
   "metadata": {},
   "outputs": [],
   "source": [
    "# Add column with NER Tagging\n",
    "# alex_df['NER'] = alex_df.apply(lambda row: spanish_ner_tagger.tag(row.Text.lower().split()), axis=1) "
   ]
  },
  {
   "cell_type": "code",
   "execution_count": 165,
   "metadata": {},
   "outputs": [
    {
     "data": {
      "text/plain": [
       "'\\nwc = 0\\nfor i in alex_df.NER:\\n    for j in i:\\n        wc += 1\\n        if j[1] != \\'O\\':\\n            print(\\'Word: \\' + j[0] + \", Entity: \" + j[1])\\nprint(\\'%d words processed\\' % wc)\\n'"
      ]
     },
     "execution_count": 165,
     "metadata": {},
     "output_type": "execute_result"
    }
   ],
   "source": [
    "\"\"\"\n",
    "wc = 0\n",
    "for i in alex_df.NER:\n",
    "    for j in i:\n",
    "        wc += 1\n",
    "        if j[1] != 'O':\n",
    "            print('Word: ' + j[0] + \", Entity: \" + j[1])\n",
    "print('%d words processed' % wc)\n",
    "\"\"\""
   ]
  },
  {
   "cell_type": "code",
   "execution_count": 166,
   "metadata": {},
   "outputs": [],
   "source": [
    "# Same net tagging, now via server (just checking performance)\n",
    "ner_tagger_srv = CoreNLPParser(url='http://localhost:9000', tagtype='ner') "
   ]
  },
  {
   "cell_type": "code",
   "execution_count": 167,
   "metadata": {},
   "outputs": [
    {
     "data": {
      "text/plain": [
       "[('Jorge', 'PERSON'),\n",
       " ('Perez', 'PERSON'),\n",
       " ('era', 'O'),\n",
       " ('amigo', 'O'),\n",
       " ('de', 'O'),\n",
       " ('Bill', 'PERSON'),\n",
       " ('Gates', 'PERSON'),\n",
       " (',', 'O'),\n",
       " ('pero', 'O'),\n",
       " ('luego', 'O'),\n",
       " ('se', 'O'),\n",
       " ('fue', 'O'),\n",
       " ('a', 'O'),\n",
       " ('Croacia', 'COUNTRY'),\n",
       " (',', 'O'),\n",
       " ('que', 'O'),\n",
       " ('es', 'O'),\n",
       " ('parte', 'O'),\n",
       " ('de', 'O'),\n",
       " ('la', 'O'),\n",
       " ('Unión', 'ORGANIZATION'),\n",
       " ('Europea', 'ORGANIZATION')]"
      ]
     },
     "execution_count": 167,
     "metadata": {},
     "output_type": "execute_result"
    }
   ],
   "source": [
    "list(ner_tagger_srv.tag('Jorge Perez era amigo de Bill Gates, pero luego se fue a Croacia, que es parte de la Unión Europea'.split()))"
   ]
  },
  {
   "cell_type": "code",
   "execution_count": 168,
   "metadata": {},
   "outputs": [],
   "source": [
    "# Add column with NER Tagging (from server)\n",
    "alex_df['NER'] = alex_df.apply(lambda row: ner_tagger_srv.tag(row.Text.lower().split()), axis=1) "
   ]
  },
  {
   "cell_type": "code",
   "execution_count": 169,
   "metadata": {},
   "outputs": [
    {
     "name": "stdout",
     "output_type": "stream",
     "text": [
      "Word: 10, Entity: NUMBER\n",
      "Word: profesor, Entity: TITLE\n",
      "Word: profesor, Entity: TITLE\n",
      "Word: mañana, Entity: DATE\n",
      "Word: dos, Entity: NUMBER\n",
      "Word: mañana, Entity: DATE\n",
      "Word: 15, Entity: NUMBER\n",
      "Word: mañana, Entity: DATE\n",
      "Word: cáncer, Entity: CAUSE_OF_DEATH\n",
      "Word: río, Entity: TITLE\n",
      "Word: mañana, Entity: DATE\n",
      "Word: dos, Entity: NUMBER\n",
      "Word: batería, Entity: TITLE\n",
      "Word: río, Entity: TITLE\n",
      "Word: mañana, Entity: DATE\n",
      "Word: cuatro, Entity: NUMBER\n",
      "Word: profesor, Entity: TITLE\n",
      "Word: profesor, Entity: TITLE\n",
      "Word: cuatro, Entity: NUMBER\n",
      "Word: dos, Entity: NUMBER\n",
      "Word: tren, Entity: CRIMINAL_CHARGE\n",
      "Word: dos, Entity: NUMBER\n",
      "Word: dibujante, Entity: TITLE\n",
      "Word: mañana, Entity: DATE\n",
      "Word: asesino, Entity: CRIMINAL_CHARGE\n",
      "Word: en, Entity: CRIMINAL_CHARGE\n",
      "Word: serie, Entity: CRIMINAL_CHARGE\n",
      "Word: 4, Entity: NUMBER\n",
      "Word: domingo, Entity: DATE\n",
      "Word: río, Entity: TITLE\n",
      "Word: río, Entity: TITLE\n",
      "Word: río, Entity: TITLE\n",
      "Word: tortura, Entity: CRIMINAL_CHARGE\n",
      "Word: soldado, Entity: TITLE\n",
      "Word: dos, Entity: NUMBER\n",
      "Word: empresario, Entity: TITLE\n",
      "Word: violinista, Entity: TITLE\n",
      "Word: músico, Entity: TITLE\n",
      "Word: mañana, Entity: DATE\n",
      "Word: dos, Entity: NUMBER\n",
      "Word: mañana, Entity: DATE\n",
      "Word: río, Entity: TITLE\n",
      "Word: dos, Entity: NUMBER\n",
      "Word: músico, Entity: TITLE\n",
      "Word: violinista, Entity: TITLE\n",
      "Word: suicidio, Entity: CAUSE_OF_DEATH\n",
      "Word: músico, Entity: TITLE\n",
      "Word: músico, Entity: TITLE\n",
      "Word: delito, Entity: CRIMINAL_CHARGE\n",
      "Word: guardia, Entity: TITLE\n",
      "Word: asalto, Entity: CRIMINAL_CHARGE\n",
      "Word: 20, Entity: NUMBER\n",
      "Word: pescador, Entity: TITLE\n",
      "Word: compañero, Entity: TITLE\n",
      "Word: suicidio, Entity: CAUSE_OF_DEATH\n",
      "Word: policía, Entity: TITLE\n",
      "Word: policía, Entity: TITLE\n",
      "Word: 3, Entity: NUMBER\n",
      "Word: doctor, Entity: TITLE\n",
      "Word: mañana, Entity: DATE\n",
      "Word: doctor, Entity: TITLE\n",
      "Word: luci, Entity: PERSON\n",
      "Word: último, Entity: TITLE\n",
      "Word: pirata, Entity: TITLE\n",
      "Word: capitán, Entity: TITLE\n",
      "Word: dos, Entity: NUMBER\n",
      "Word: comerciante, Entity: TITLE\n",
      "Word: violinista, Entity: TITLE\n",
      "Word: doctor, Entity: TITLE\n",
      "Word: enfermedad, Entity: CAUSE_OF_DEATH\n",
      "Word: más, Entity: TITLE\n",
      "Word: alto, Entity: TITLE\n",
      "Word: tren, Entity: CRIMINAL_CHARGE\n",
      "Word: ataque, Entity: CAUSE_OF_DEATH\n",
      "Word: al, Entity: CAUSE_OF_DEATH\n",
      "Word: corazón, Entity: CAUSE_OF_DEATH\n",
      "Word: violinista, Entity: TITLE\n",
      "Word: hoy, Entity: DATE\n",
      "Word: hoy, Entity: DATE\n",
      "Word: manuel, Entity: PERSON\n",
      "Word: hotelero, Entity: TITLE\n",
      "Word: principal, Entity: TITLE\n",
      "Word: mañana, Entity: DATE\n",
      "Word: mañana, Entity: DATE\n",
      "Word: ten, Entity: NUMBER\n",
      "Word: artista, Entity: TITLE\n",
      "Word: cuatro, Entity: NUMBER\n",
      "Word: rey, Entity: TITLE\n",
      "Word: mañana, Entity: DATE\n",
      "Word: 5, Entity: NUMBER\n",
      "Word: profesor, Entity: TITLE\n",
      "Word: último, Entity: TITLE\n",
      "Word: compositor, Entity: TITLE\n",
      "Word: cuatro, Entity: NUMBER\n",
      "Word: compañero, Entity: TITLE\n",
      "Word: complicaciones, Entity: CAUSE_OF_DEATH\n",
      "Word: enfermedad, Entity: CAUSE_OF_DEATH\n",
      "Word: 2.0, Entity: NUMBER\n",
      "Word: soldado, Entity: TITLE\n",
      "Word: campesino, Entity: TITLE\n",
      "Word: río, Entity: TITLE\n",
      "Word: mark, Entity: PERSON\n",
      "Word: twain, Entity: PERSON\n",
      "Word: último, Entity: TITLE\n",
      "Word: septiembre, Entity: DATE\n",
      "Word: raquel, Entity: PERSON\n",
      "Word: jorge, Entity: PERSON\n",
      "Word: 10, Entity: NUMBER\n",
      "Word: 4, Entity: NUMBER\n",
      "Word: 3, Entity: NUMBER\n",
      "Word: 2, Entity: NUMBER\n",
      "Word: doctor, Entity: TITLE\n",
      "Word: doctor, Entity: TITLE\n",
      "Word: 7, Entity: NUMBER\n",
      "Word: 80, Entity: NUMBER\n",
      "Word: policía, Entity: TITLE\n",
      "Word: último, Entity: TITLE\n",
      "Word: violinista, Entity: TITLE\n",
      "Word: violinista, Entity: TITLE\n",
      "Word: policía, Entity: TITLE\n",
      "Word: drogas, Entity: CRIMINAL_CHARGE\n",
      "Word: arizona, Entity: STATE_OR_PROVINCE\n",
      "Word: estudiante, Entity: TITLE\n",
      "Word: músico, Entity: TITLE\n",
      "Word: lunes, Entity: DATE\n",
      "Word: viernes, Entity: DATE\n",
      "Word: el, Entity: DATE\n",
      "Word: miércoles, Entity: DATE\n",
      "Word: el, Entity: DATE\n",
      "Word: jueves, Entity: DATE\n",
      "Word: hoy, Entity: DATE\n",
      "Word: investigador, Entity: TITLE\n",
      "Word: 10, Entity: DATE\n",
      "Word: de, Entity: DATE\n",
      "Word: agosto, Entity: DATE\n",
      "Word: agosto, Entity: DATE\n",
      "Word: tormenta, Entity: CAUSE_OF_DEATH\n",
      "Word: 800, Entity: NUMBER\n",
      "Word: ministro, Entity: TITLE\n",
      "Word: ministro, Entity: TITLE\n",
      "Word: nueve, Entity: NUMBER\n",
      "Word: compañero, Entity: TITLE\n",
      "Word: doctor, Entity: TITLE\n",
      "Word: cuatro, Entity: NUMBER\n",
      "Word: mañana, Entity: DATE\n",
      "Word: profesor, Entity: TITLE\n",
      "Word: profesor, Entity: TITLE\n",
      "Word: violinista, Entity: TITLE\n",
      "Word: dos, Entity: NUMBER\n",
      "Word: guerra, Entity: CAUSE_OF_DEATH\n",
      "15527 words processed\n"
     ]
    }
   ],
   "source": [
    "wc = 0\n",
    "for i in alex_df.NER:\n",
    "    for j in i:\n",
    "        wc += 1\n",
    "        if j[1] != 'O':\n",
    "            print('Word: ' + j[0] + \", Entity: \" + j[1])\n",
    "print('%d words processed' % wc)"
   ]
  },
  {
   "cell_type": "markdown",
   "metadata": {},
   "source": [
    "### Lexical Parsing"
   ]
  },
  {
   "cell_type": "code",
   "execution_count": 170,
   "metadata": {},
   "outputs": [],
   "source": [
    "# Running the Stanford CoreNLP server in localhost:\n",
    "# With Spanish models\n",
    "# java -mx6g -cp \"*\" edu.stanford.nlp.pipeline.StanfordCoreNLPServer \n",
    "#    -serverProperties StanfordCoreNLP-spanish.properties \n",
    "#    -port 9000 \n",
    "#    -timeout 15000\n",
    "\n",
    "# https://github.com/nltk/nltk/wiki/Stanford-CoreNLP-API-in-NLTK "
   ]
  },
  {
   "cell_type": "code",
   "execution_count": 171,
   "metadata": {},
   "outputs": [],
   "source": [
    "from nltk.parse import CoreNLPParser"
   ]
  },
  {
   "cell_type": "code",
   "execution_count": 172,
   "metadata": {},
   "outputs": [],
   "source": [
    "# Lexical Parser\n",
    "spanish_parser = CoreNLPParser(url='http://localhost:9000')"
   ]
  },
  {
   "cell_type": "code",
   "execution_count": 173,
   "metadata": {},
   "outputs": [
    {
     "data": {
      "text/plain": [
       "[Tree('ROOT', [Tree('sentence', [Tree('sn', [Tree('grup.nom', [Tree('PRON', ['Esta'])])]), Tree('grup.verb', [Tree('AUX', ['es'])]), Tree('sn', [Tree('spec', [Tree('DET', ['la'])]), Tree('grup.nom', [Tree('NOUN', ['frase']), Tree('s.a', [Tree('s.a', [Tree('spec', [Tree('ADV', ['más'])]), Tree('grup.a', [Tree('ADJ', ['complicada'])])]), Tree('sp', [Tree('prep', [Tree('ADP', ['del'])]), Tree('sn', [Tree('grup.nom', [Tree('NOUN', ['mundo'])])])])])])]), Tree('PUNCT', ['.'])])])]"
      ]
     },
     "execution_count": 173,
     "metadata": {},
     "output_type": "execute_result"
    }
   ],
   "source": [
    "list(spanish_parser.raw_parse('Esta es la frase más complicada del mundo.'))"
   ]
  },
  {
   "cell_type": "code",
   "execution_count": 174,
   "metadata": {},
   "outputs": [],
   "source": [
    "# In principle, we don't need the lexical tree as part of the dataset"
   ]
  },
  {
   "cell_type": "markdown",
   "metadata": {},
   "source": [
    "### Dependency Parsing"
   ]
  },
  {
   "cell_type": "code",
   "execution_count": 175,
   "metadata": {},
   "outputs": [],
   "source": [
    "# Neural Dependency Parser\n",
    "from nltk.parse.corenlp import CoreNLPDependencyParser\n",
    "\n",
    "dep_parser = CoreNLPDependencyParser(url='http://localhost:9000')"
   ]
  },
  {
   "cell_type": "code",
   "execution_count": 176,
   "metadata": {},
   "outputs": [
    {
     "data": {
      "text/plain": [
       "[[(('frase', 'NOUN'), 'nsubj', ('Esta', 'PRON')),\n",
       "  (('frase', 'NOUN'), 'cop', ('es', 'AUX')),\n",
       "  (('frase', 'NOUN'), 'det', ('la', 'DET')),\n",
       "  (('frase', 'NOUN'), 'amod', ('complicada', 'ADJ')),\n",
       "  (('complicada', 'ADJ'), 'advmod', ('más', 'ADV')),\n",
       "  (('frase', 'NOUN'), 'nmod', ('mundo', 'NOUN')),\n",
       "  (('mundo', 'NOUN'), 'case', ('del', 'ADP')),\n",
       "  (('frase', 'NOUN'), 'punct', ('.', 'PUNCT'))]]"
      ]
     },
     "execution_count": 176,
     "metadata": {},
     "output_type": "execute_result"
    }
   ],
   "source": [
    "parses = dep_parser.parse('Esta es la frase más complicada del mundo.'.split())\n",
    "[[(governor, dep, dependent) for governor, dep, dependent in parse.triples()] for parse in parses]"
   ]
  },
  {
   "cell_type": "code",
   "execution_count": 177,
   "metadata": {},
   "outputs": [],
   "source": [
    "def getDepList(tokens):\n",
    "    parses = dep_parser.parse(tokens)\n",
    "    return [[(governor, dep, dependent) for governor, dep, dependent in parse.triples()] for parse in parses]"
   ]
  },
  {
   "cell_type": "code",
   "execution_count": 178,
   "metadata": {},
   "outputs": [],
   "source": [
    "# Add column with Dependency Parsing\n",
    "alex_df['DEP'] = alex_df.apply(lambda row: getDepList(row.Text.lower().split()), axis=1) "
   ]
  },
  {
   "cell_type": "code",
   "execution_count": 179,
   "metadata": {
    "scrolled": true
   },
   "outputs": [
    {
     "data": {
      "text/html": [
       "<div>\n",
       "<style scoped>\n",
       "    .dataframe tbody tr th:only-of-type {\n",
       "        vertical-align: middle;\n",
       "    }\n",
       "\n",
       "    .dataframe tbody tr th {\n",
       "        vertical-align: top;\n",
       "    }\n",
       "\n",
       "    .dataframe thead th {\n",
       "        text-align: right;\n",
       "    }\n",
       "</style>\n",
       "<table border=\"1\" class=\"dataframe\">\n",
       "  <thead>\n",
       "    <tr style=\"text-align: right;\">\n",
       "      <th></th>\n",
       "      <th>Code</th>\n",
       "      <th>TAS20</th>\n",
       "      <th>F1</th>\n",
       "      <th>F2</th>\n",
       "      <th>F3</th>\n",
       "      <th>Gender</th>\n",
       "      <th>Age</th>\n",
       "      <th>Card</th>\n",
       "      <th>T_Metaphors</th>\n",
       "      <th>T_ToM</th>\n",
       "      <th>...</th>\n",
       "      <th>Alex_B</th>\n",
       "      <th>Words</th>\n",
       "      <th>Sentences</th>\n",
       "      <th>Tokens</th>\n",
       "      <th>Tokens_Stop</th>\n",
       "      <th>Tokens_Stem_P</th>\n",
       "      <th>Tokens_Stem_S</th>\n",
       "      <th>POS</th>\n",
       "      <th>NER</th>\n",
       "      <th>DEP</th>\n",
       "    </tr>\n",
       "  </thead>\n",
       "  <tbody>\n",
       "    <tr>\n",
       "      <th>0</th>\n",
       "      <td>bc39e22ca5dba59fbd97c27987878f56</td>\n",
       "      <td>40</td>\n",
       "      <td>16</td>\n",
       "      <td>9</td>\n",
       "      <td>15</td>\n",
       "      <td>2</td>\n",
       "      <td>22</td>\n",
       "      <td>1</td>\n",
       "      <td>0</td>\n",
       "      <td>1</td>\n",
       "      <td>...</td>\n",
       "      <td>0</td>\n",
       "      <td>16</td>\n",
       "      <td>2</td>\n",
       "      <td>[es, un, niño, pensando, en, cual, es, la, res...</td>\n",
       "      <td>[niño, pensando, respuesta, deberes, sabe]</td>\n",
       "      <td>[niño, pensando, respuesta, deber, sabe]</td>\n",
       "      <td>[niñ, pens, respuest, deber, sab]</td>\n",
       "      <td>[(es, AUX), (un, DET), (niño, NOUN), (pensando...</td>\n",
       "      <td>[(es, O), (un, O), (niño, O), (pensando, O), (...</td>\n",
       "      <td>[[(('niño', 'NOUN'), cop, ('es', 'AUX')), (('n...</td>\n",
       "    </tr>\n",
       "    <tr>\n",
       "      <th>1</th>\n",
       "      <td>bc39e22ca5dba59fbd97c27987878f56</td>\n",
       "      <td>40</td>\n",
       "      <td>16</td>\n",
       "      <td>9</td>\n",
       "      <td>15</td>\n",
       "      <td>2</td>\n",
       "      <td>22</td>\n",
       "      <td>9VH</td>\n",
       "      <td>0</td>\n",
       "      <td>0</td>\n",
       "      <td>...</td>\n",
       "      <td>0</td>\n",
       "      <td>2</td>\n",
       "      <td>2</td>\n",
       "      <td>[soldados, descansando]</td>\n",
       "      <td>[soldados, descansando]</td>\n",
       "      <td>[soldado, descansando]</td>\n",
       "      <td>[sold, descans]</td>\n",
       "      <td>[(soldados, NOUN), (descansando, VERB), (., PU...</td>\n",
       "      <td>[(soldados, O), (descansando, O), (., O)]</td>\n",
       "      <td>[[(('descansando', 'VERB'), nsubj, ('soldados'...</td>\n",
       "    </tr>\n",
       "    <tr>\n",
       "      <th>2</th>\n",
       "      <td>bc39e22ca5dba59fbd97c27987878f56</td>\n",
       "      <td>40</td>\n",
       "      <td>16</td>\n",
       "      <td>9</td>\n",
       "      <td>15</td>\n",
       "      <td>2</td>\n",
       "      <td>22</td>\n",
       "      <td>11</td>\n",
       "      <td>0</td>\n",
       "      <td>0</td>\n",
       "      <td>...</td>\n",
       "      <td>0</td>\n",
       "      <td>2</td>\n",
       "      <td>2</td>\n",
       "      <td>[una, cascada]</td>\n",
       "      <td>[cascada]</td>\n",
       "      <td>[cascada]</td>\n",
       "      <td>[casc]</td>\n",
       "      <td>[(una, DET), (cascada, NOUN), (., PUNCT)]</td>\n",
       "      <td>[(una, O), (cascada, O), (., O)]</td>\n",
       "      <td>[[(('cascada', 'NOUN'), det, ('una', 'DET')), ...</td>\n",
       "    </tr>\n",
       "    <tr>\n",
       "      <th>3</th>\n",
       "      <td>bc39e22ca5dba59fbd97c27987878f56</td>\n",
       "      <td>40</td>\n",
       "      <td>16</td>\n",
       "      <td>9</td>\n",
       "      <td>15</td>\n",
       "      <td>2</td>\n",
       "      <td>22</td>\n",
       "      <td>13HM</td>\n",
       "      <td>0</td>\n",
       "      <td>1</td>\n",
       "      <td>...</td>\n",
       "      <td>0</td>\n",
       "      <td>7</td>\n",
       "      <td>2</td>\n",
       "      <td>[hombre, llorando, porque, su, mujer, ha, muerto]</td>\n",
       "      <td>[hombre, llorando, mujer, muerto]</td>\n",
       "      <td>[hombr, llorando, mujer, muerto]</td>\n",
       "      <td>[hombr, llor, muj, muert]</td>\n",
       "      <td>[(hombre, NOUN), (llorando, VERB), (porque, SC...</td>\n",
       "      <td>[(hombre, O), (llorando, O), (porque, O), (su,...</td>\n",
       "      <td>[[(('llorando', 'VERB'), nsubj, ('hombre', 'NO...</td>\n",
       "    </tr>\n",
       "    <tr>\n",
       "      <th>4</th>\n",
       "      <td>20cd825cadb95a71763bad06e142c148</td>\n",
       "      <td>40</td>\n",
       "      <td>12</td>\n",
       "      <td>10</td>\n",
       "      <td>18</td>\n",
       "      <td>2</td>\n",
       "      <td>22</td>\n",
       "      <td>1</td>\n",
       "      <td>0</td>\n",
       "      <td>1</td>\n",
       "      <td>...</td>\n",
       "      <td>0</td>\n",
       "      <td>29</td>\n",
       "      <td>4</td>\n",
       "      <td>[un, niño, cansado, de, estudiar, y, presionad...</td>\n",
       "      <td>[niño, cansado, estudiar, presionado, padres, ...</td>\n",
       "      <td>[niño, cansado, estudiar, presionado, padr, tr...</td>\n",
       "      <td>[niñ, cans, estudi, presion, padr, trist, inco...</td>\n",
       "      <td>[(un, DET), (niño, NOUN), (cansado, ADJ), (de,...</td>\n",
       "      <td>[(un, O), (niño, O), (cansado, O), (de, O), (e...</td>\n",
       "      <td>[[(('niño', 'NOUN'), det, ('un', 'DET')), (('n...</td>\n",
       "    </tr>\n",
       "  </tbody>\n",
       "</table>\n",
       "<p>5 rows × 26 columns</p>\n",
       "</div>"
      ],
      "text/plain": [
       "                               Code  TAS20  F1  F2  F3  Gender  Age  Card  \\\n",
       "0  bc39e22ca5dba59fbd97c27987878f56     40  16   9  15       2   22     1   \n",
       "1  bc39e22ca5dba59fbd97c27987878f56     40  16   9  15       2   22   9VH   \n",
       "2  bc39e22ca5dba59fbd97c27987878f56     40  16   9  15       2   22    11   \n",
       "3  bc39e22ca5dba59fbd97c27987878f56     40  16   9  15       2   22  13HM   \n",
       "4  20cd825cadb95a71763bad06e142c148     40  12  10  18       2   22     1   \n",
       "\n",
       "   T_Metaphors  T_ToM  ...  Alex_B  Words  Sentences  \\\n",
       "0            0      1  ...       0     16          2   \n",
       "1            0      0  ...       0      2          2   \n",
       "2            0      0  ...       0      2          2   \n",
       "3            0      1  ...       0      7          2   \n",
       "4            0      1  ...       0     29          4   \n",
       "\n",
       "                                              Tokens  \\\n",
       "0  [es, un, niño, pensando, en, cual, es, la, res...   \n",
       "1                            [soldados, descansando]   \n",
       "2                                     [una, cascada]   \n",
       "3  [hombre, llorando, porque, su, mujer, ha, muerto]   \n",
       "4  [un, niño, cansado, de, estudiar, y, presionad...   \n",
       "\n",
       "                                         Tokens_Stop  \\\n",
       "0         [niño, pensando, respuesta, deberes, sabe]   \n",
       "1                            [soldados, descansando]   \n",
       "2                                          [cascada]   \n",
       "3                  [hombre, llorando, mujer, muerto]   \n",
       "4  [niño, cansado, estudiar, presionado, padres, ...   \n",
       "\n",
       "                                       Tokens_Stem_P  \\\n",
       "0           [niño, pensando, respuesta, deber, sabe]   \n",
       "1                             [soldado, descansando]   \n",
       "2                                          [cascada]   \n",
       "3                   [hombr, llorando, mujer, muerto]   \n",
       "4  [niño, cansado, estudiar, presionado, padr, tr...   \n",
       "\n",
       "                                       Tokens_Stem_S  \\\n",
       "0                  [niñ, pens, respuest, deber, sab]   \n",
       "1                                    [sold, descans]   \n",
       "2                                             [casc]   \n",
       "3                          [hombr, llor, muj, muert]   \n",
       "4  [niñ, cans, estudi, presion, padr, trist, inco...   \n",
       "\n",
       "                                                 POS  \\\n",
       "0  [(es, AUX), (un, DET), (niño, NOUN), (pensando...   \n",
       "1  [(soldados, NOUN), (descansando, VERB), (., PU...   \n",
       "2          [(una, DET), (cascada, NOUN), (., PUNCT)]   \n",
       "3  [(hombre, NOUN), (llorando, VERB), (porque, SC...   \n",
       "4  [(un, DET), (niño, NOUN), (cansado, ADJ), (de,...   \n",
       "\n",
       "                                                 NER  \\\n",
       "0  [(es, O), (un, O), (niño, O), (pensando, O), (...   \n",
       "1          [(soldados, O), (descansando, O), (., O)]   \n",
       "2                   [(una, O), (cascada, O), (., O)]   \n",
       "3  [(hombre, O), (llorando, O), (porque, O), (su,...   \n",
       "4  [(un, O), (niño, O), (cansado, O), (de, O), (e...   \n",
       "\n",
       "                                                 DEP  \n",
       "0  [[(('niño', 'NOUN'), cop, ('es', 'AUX')), (('n...  \n",
       "1  [[(('descansando', 'VERB'), nsubj, ('soldados'...  \n",
       "2  [[(('cascada', 'NOUN'), det, ('una', 'DET')), ...  \n",
       "3  [[(('llorando', 'VERB'), nsubj, ('hombre', 'NO...  \n",
       "4  [[(('niño', 'NOUN'), det, ('un', 'DET')), (('n...  \n",
       "\n",
       "[5 rows x 26 columns]"
      ]
     },
     "execution_count": 179,
     "metadata": {},
     "output_type": "execute_result"
    }
   ],
   "source": [
    "alex_df.head()"
   ]
  },
  {
   "cell_type": "markdown",
   "metadata": {},
   "source": [
    "### Lemmatization (spanish)\n",
    "\n",
    "CoreNLP Spanish Lemmatizer seems not to work properly, it keeps returning the very same word."
   ]
  },
  {
   "cell_type": "code",
   "execution_count": 180,
   "metadata": {},
   "outputs": [],
   "source": [
    "nlp = StanfordCoreNLP('http://localhost', port=9000, timeout=30000)"
   ]
  },
  {
   "cell_type": "code",
   "execution_count": 181,
   "metadata": {},
   "outputs": [],
   "source": [
    "props = {'annotators': 'pos,lemma',\n",
    "         'pipelineLanguage': 'es',\n",
    "         'outputFormat': 'json'}"
   ]
  },
  {
   "cell_type": "code",
   "execution_count": 182,
   "metadata": {},
   "outputs": [
    {
     "data": {
      "text/plain": [
       "{'sentences': [{'index': 0,\n",
       "   'tokens': [{'index': 1,\n",
       "     'word': 'Era',\n",
       "     'originalText': 'Era',\n",
       "     'lemma': 'era',\n",
       "     'characterOffsetBegin': 0,\n",
       "     'characterOffsetEnd': 3,\n",
       "     'pos': 'AUX',\n",
       "     'before': '',\n",
       "     'after': ' '},\n",
       "    {'index': 2,\n",
       "     'word': 'una',\n",
       "     'originalText': 'una',\n",
       "     'lemma': 'una',\n",
       "     'characterOffsetBegin': 4,\n",
       "     'characterOffsetEnd': 7,\n",
       "     'pos': 'DET',\n",
       "     'before': ' ',\n",
       "     'after': ' '},\n",
       "    {'index': 3,\n",
       "     'word': 'casita',\n",
       "     'originalText': 'casita',\n",
       "     'lemma': 'casita',\n",
       "     'characterOffsetBegin': 8,\n",
       "     'characterOffsetEnd': 14,\n",
       "     'pos': 'NOUN',\n",
       "     'before': ' ',\n",
       "     'after': ' '},\n",
       "    {'index': 4,\n",
       "     'word': 'que',\n",
       "     'originalText': 'que',\n",
       "     'lemma': 'que',\n",
       "     'characterOffsetBegin': 15,\n",
       "     'characterOffsetEnd': 18,\n",
       "     'pos': 'PRON',\n",
       "     'before': ' ',\n",
       "     'after': ' '},\n",
       "    {'index': 5,\n",
       "     'word': 'antes',\n",
       "     'originalText': 'antes',\n",
       "     'lemma': 'antes',\n",
       "     'characterOffsetBegin': 19,\n",
       "     'characterOffsetEnd': 24,\n",
       "     'pos': 'ADV',\n",
       "     'before': ' ',\n",
       "     'after': ' '},\n",
       "    {'index': 6,\n",
       "     'word': 'esta',\n",
       "     'originalText': 'esta',\n",
       "     'lemma': 'esta',\n",
       "     'characterOffsetBegin': 25,\n",
       "     'characterOffsetEnd': 29,\n",
       "     'pos': 'DET',\n",
       "     'before': ' ',\n",
       "     'after': ' '},\n",
       "    {'index': 7,\n",
       "     'word': 'casota',\n",
       "     'originalText': 'casota',\n",
       "     'lemma': 'casota',\n",
       "     'characterOffsetBegin': 30,\n",
       "     'characterOffsetEnd': 36,\n",
       "     'pos': 'NOUN',\n",
       "     'before': ' ',\n",
       "     'after': ''},\n",
       "    {'index': 8,\n",
       "     'word': ',',\n",
       "     'originalText': ',',\n",
       "     'lemma': ',',\n",
       "     'characterOffsetBegin': 36,\n",
       "     'characterOffsetEnd': 37,\n",
       "     'pos': 'PUNCT',\n",
       "     'before': '',\n",
       "     'after': ' '},\n",
       "    {'index': 9,\n",
       "     'word': 'pero',\n",
       "     'originalText': 'pero',\n",
       "     'lemma': 'pero',\n",
       "     'characterOffsetBegin': 38,\n",
       "     'characterOffsetEnd': 42,\n",
       "     'pos': 'CCONJ',\n",
       "     'before': ' ',\n",
       "     'after': ' '},\n",
       "    {'index': 10,\n",
       "     'word': 'casilla',\n",
       "     'originalText': 'casilla',\n",
       "     'lemma': 'casilla',\n",
       "     'characterOffsetBegin': 43,\n",
       "     'characterOffsetEnd': 50,\n",
       "     'pos': 'NOUN',\n",
       "     'before': ' ',\n",
       "     'after': ' '},\n",
       "    {'index': 11,\n",
       "     'word': 'es',\n",
       "     'originalText': 'es',\n",
       "     'lemma': 'es',\n",
       "     'characterOffsetBegin': 51,\n",
       "     'characterOffsetEnd': 53,\n",
       "     'pos': 'AUX',\n",
       "     'before': ' ',\n",
       "     'after': ' '},\n",
       "    {'index': 12,\n",
       "     'word': 'como',\n",
       "     'originalText': 'como',\n",
       "     'lemma': 'como',\n",
       "     'characterOffsetBegin': 54,\n",
       "     'characterOffsetEnd': 58,\n",
       "     'pos': 'SCONJ',\n",
       "     'before': ' ',\n",
       "     'after': ' '},\n",
       "    {'index': 13,\n",
       "     'word': 'casa',\n",
       "     'originalText': 'casa',\n",
       "     'lemma': 'casa',\n",
       "     'characterOffsetBegin': 59,\n",
       "     'characterOffsetEnd': 63,\n",
       "     'pos': 'NOUN',\n",
       "     'before': ' ',\n",
       "     'after': ''}]}]}"
      ]
     },
     "execution_count": 182,
     "metadata": {},
     "output_type": "execute_result"
    }
   ],
   "source": [
    "sentence = \"Era una casita que antes esta casota, pero casilla es como casa\"\n",
    "parsed_str = nlp.annotate(sentence, properties=props)\n",
    "parsed_dict = json.loads(parsed_str)\n",
    "parsed_dict"
   ]
  },
  {
   "cell_type": "code",
   "execution_count": 183,
   "metadata": {},
   "outputs": [
    {
     "data": {
      "text/plain": [
       "'era una casita que antes esta casota , pero casilla es como casa'"
      ]
     },
     "execution_count": 183,
     "metadata": {},
     "output_type": "execute_result"
    }
   ],
   "source": [
    "lemma_list = [v for d in parsed_dict['sentences'][0]['tokens'] for k,v in d.items() if k == 'lemma']\n",
    "\" \".join(lemma_list)"
   ]
  },
  {
   "cell_type": "code",
   "execution_count": 184,
   "metadata": {},
   "outputs": [],
   "source": [
    "def getLemmaList_CoreNLP(text):\n",
    "    parsed_str = nlp.annotate(text, properties=props)\n",
    "    parsed_dict = json.loads(parsed_str)\n",
    "    lemma_list = [v for d in parsed_dict['sentences'][0]['tokens'] for k,v in d.items() if k == 'lemma']\n",
    "    return \" \".join(lemma_list)"
   ]
  },
  {
   "cell_type": "code",
   "execution_count": 185,
   "metadata": {},
   "outputs": [
    {
     "data": {
      "text/plain": [
       "'hola , que mal funcionaba'"
      ]
     },
     "execution_count": 185,
     "metadata": {},
     "output_type": "execute_result"
    }
   ],
   "source": [
    "getLemmaList_CoreNLP(\"Hola, que mal funcionaba\")"
   ]
  },
  {
   "cell_type": "code",
   "execution_count": 186,
   "metadata": {},
   "outputs": [],
   "source": [
    "# Add column with Lemmas\n",
    "alex_df['Lemmas_CNLP'] = alex_df.apply(lambda row: getLemmaList_CoreNLP(row.Text.lower()), axis=1) "
   ]
  },
  {
   "cell_type": "markdown",
   "metadata": {},
   "source": [
    "### Lemmatization (Spanish)\n",
    "Using Spacy Rule-Based Spanish Lemmatizer "
   ]
  },
  {
   "cell_type": "code",
   "execution_count": 187,
   "metadata": {},
   "outputs": [],
   "source": [
    "# Trying to get better results with Spacy and rule-based lemmatizer from:\n",
    "# https://github.com/pablodms/spacy-spanish-lemmatizer \n",
    "\n",
    "import spacy"
   ]
  },
  {
   "cell_type": "code",
   "execution_count": 188,
   "metadata": {},
   "outputs": [],
   "source": [
    "# ! pip install spacy_spanish_lemmatizer"
   ]
  },
  {
   "cell_type": "code",
   "execution_count": 189,
   "metadata": {},
   "outputs": [],
   "source": [
    "from spacy_spanish_lemmatizer import SpacyCustomLemmatizer"
   ]
  },
  {
   "cell_type": "code",
   "execution_count": 190,
   "metadata": {},
   "outputs": [],
   "source": [
    "# ! python -m spacy download es"
   ]
  },
  {
   "cell_type": "code",
   "execution_count": 191,
   "metadata": {},
   "outputs": [
    {
     "name": "stderr",
     "output_type": "stream",
     "text": [
      "C:\\Users\\array\\Anaconda3\\lib\\site-packages\\spacy\\util.py:275: UserWarning: [W031] Model 'es_core_news_sm' (2.2.0) requires spaCy v2.2 and is incompatible with the current spaCy version (2.3.2). This may lead to unexpected results or runtime errors. To resolve this, download a newer compatible model or retrain your custom model with the current spaCy version. For more details and available updates, run: python -m spacy validate\n",
      "  warnings.warn(warn_msg)\n"
     ]
    }
   ],
   "source": [
    "# https://stackoverflow.com/questions/49964028/spacy-oserror-cant-find-model-en \n",
    "nlp_spacy = spacy.load('es')"
   ]
  },
  {
   "cell_type": "code",
   "execution_count": 192,
   "metadata": {},
   "outputs": [],
   "source": [
    "lemmatizer_spacy = SpacyCustomLemmatizer()\n",
    "nlp_spacy.add_pipe(lemmatizer_spacy, name=\"lemmatizer\", after=\"tagger\")"
   ]
  },
  {
   "cell_type": "code",
   "execution_count": 193,
   "metadata": {},
   "outputs": [
    {
     "name": "stdout",
     "output_type": "stream",
     "text": [
      "Era era\n",
      "una un\n",
      "casita casita\n",
      "que que\n",
      "antes antes\n",
      "esta este\n",
      "casota casota\n",
      ", ,\n",
      "pero pero\n",
      "casilla casilla\n",
      "es es\n",
      "como como\n",
      "casa casa\n"
     ]
    }
   ],
   "source": [
    "# Funciona igual de mal que el de Stanford... \n",
    "for token in nlp_spacy(\"Era una casita que antes esta casota, pero casilla es como casa\"): \n",
    "    print(token.text, token.lemma_)"
   ]
  },
  {
   "cell_type": "code",
   "execution_count": 194,
   "metadata": {},
   "outputs": [
    {
     "data": {
      "text/plain": [
       "['ha', 'habido', 'caso', 'en', 'el', 'que', 'funcionar', ',', 'decir', '.']"
      ]
     },
     "execution_count": 194,
     "metadata": {},
     "output_type": "execute_result"
    }
   ],
   "source": [
    "text1 = \"Ha habido casos en los que funcionó, dicen.\"\n",
    "[token.lemma_ for token in nlp_spacy(text1)]"
   ]
  },
  {
   "cell_type": "code",
   "execution_count": 195,
   "metadata": {},
   "outputs": [],
   "source": [
    "def getLemmaList_Spacy(text):\n",
    "    return [token.lemma_ for token in nlp_spacy(text)]"
   ]
  },
  {
   "cell_type": "code",
   "execution_count": 196,
   "metadata": {},
   "outputs": [],
   "source": [
    "# Add column with Lemmas\n",
    "alex_df['Lemmas_Spacy'] = alex_df.apply(lambda row: getLemmaList_Spacy(row.Text.lower()), axis=1)"
   ]
  },
  {
   "cell_type": "code",
   "execution_count": 197,
   "metadata": {},
   "outputs": [
    {
     "data": {
      "text/html": [
       "<div>\n",
       "<style scoped>\n",
       "    .dataframe tbody tr th:only-of-type {\n",
       "        vertical-align: middle;\n",
       "    }\n",
       "\n",
       "    .dataframe tbody tr th {\n",
       "        vertical-align: top;\n",
       "    }\n",
       "\n",
       "    .dataframe thead th {\n",
       "        text-align: right;\n",
       "    }\n",
       "</style>\n",
       "<table border=\"1\" class=\"dataframe\">\n",
       "  <thead>\n",
       "    <tr style=\"text-align: right;\">\n",
       "      <th></th>\n",
       "      <th>Lemmas_CNLP</th>\n",
       "      <th>Lemmas_Spacy</th>\n",
       "    </tr>\n",
       "  </thead>\n",
       "  <tbody>\n",
       "    <tr>\n",
       "      <th>0</th>\n",
       "      <td>es un niño pensando en cual es la respuesta de...</td>\n",
       "      <td>[es, un, niño, pensar, en, cual, es, el, respu...</td>\n",
       "    </tr>\n",
       "    <tr>\n",
       "      <th>1</th>\n",
       "      <td>soldados descansando .</td>\n",
       "      <td>[soldado, descansar, .]</td>\n",
       "    </tr>\n",
       "    <tr>\n",
       "      <th>2</th>\n",
       "      <td>una cascada .</td>\n",
       "      <td>[un, cascada, .]</td>\n",
       "    </tr>\n",
       "    <tr>\n",
       "      <th>3</th>\n",
       "      <td>hombre llorando porque su mujer ha muerto .</td>\n",
       "      <td>[hombre, llorando, porque, su, mujer, ha, muer...</td>\n",
       "    </tr>\n",
       "    <tr>\n",
       "      <th>4</th>\n",
       "      <td>un niño cansado de estudiar y presionado por s...</td>\n",
       "      <td>[un, niño, cansado, de, estudiar, y, presionad...</td>\n",
       "    </tr>\n",
       "  </tbody>\n",
       "</table>\n",
       "</div>"
      ],
      "text/plain": [
       "                                         Lemmas_CNLP  \\\n",
       "0  es un niño pensando en cual es la respuesta de...   \n",
       "1                             soldados descansando .   \n",
       "2                                      una cascada .   \n",
       "3        hombre llorando porque su mujer ha muerto .   \n",
       "4  un niño cansado de estudiar y presionado por s...   \n",
       "\n",
       "                                        Lemmas_Spacy  \n",
       "0  [es, un, niño, pensar, en, cual, es, el, respu...  \n",
       "1                            [soldado, descansar, .]  \n",
       "2                                   [un, cascada, .]  \n",
       "3  [hombre, llorando, porque, su, mujer, ha, muer...  \n",
       "4  [un, niño, cansado, de, estudiar, y, presionad...  "
      ]
     },
     "execution_count": 197,
     "metadata": {},
     "output_type": "execute_result"
    }
   ],
   "source": [
    "alex_df[['Lemmas_CNLP','Lemmas_Spacy']].head()"
   ]
  },
  {
   "cell_type": "markdown",
   "metadata": {},
   "source": [
    "### Dependency graph visualization"
   ]
  },
  {
   "cell_type": "code",
   "execution_count": 198,
   "metadata": {},
   "outputs": [],
   "source": [
    "# ! pip install Graphviz\n",
    "# ! pip install pydot\n",
    "os.environ[\"PATH\"] += ';C:\\\\Program Files (x86)\\\\Graphviz 2.44.1\\\\bin'\n",
    "\n",
    "from graphviz import Digraph\n",
    "from IPython.display import Image\n",
    "# import pydot\n",
    "import pydotplus"
   ]
  },
  {
   "cell_type": "code",
   "execution_count": 199,
   "metadata": {},
   "outputs": [],
   "source": [
    "# dot = Digraph()\n",
    "# dot.node('1')\n",
    "# dot.node('2')\n",
    "# dot.edges(['12'])\n",
    "# dot"
   ]
  },
  {
   "cell_type": "code",
   "execution_count": 200,
   "metadata": {},
   "outputs": [
    {
     "data": {
      "image/svg+xml": [
       "<?xml version=\"1.0\" encoding=\"UTF-8\" standalone=\"no\"?>\n",
       "<!DOCTYPE svg PUBLIC \"-//W3C//DTD SVG 1.1//EN\"\n",
       " \"http://www.w3.org/Graphics/SVG/1.1/DTD/svg11.dtd\">\n",
       "<!-- Generated by graphviz version 2.44.1 (20200629.0846)\n",
       " -->\n",
       "<!-- Title: G Pages: 1 -->\n",
       "<svg width=\"81pt\" height=\"131pt\"\n",
       " viewBox=\"0.00 0.00 81.00 131.00\" xmlns=\"http://www.w3.org/2000/svg\" xmlns:xlink=\"http://www.w3.org/1999/xlink\">\n",
       "<g id=\"graph0\" class=\"graph\" transform=\"scale(1 1) rotate(0) translate(4 127)\">\n",
       "<title>G</title>\n",
       "<polygon fill=\"white\" stroke=\"transparent\" points=\"-4,4 -4,-127 77,-127 77,4 -4,4\"/>\n",
       "<!-- 0 -->\n",
       "<g id=\"node1\" class=\"node\">\n",
       "<title>0</title>\n",
       "<text text-anchor=\"middle\" x=\"33\" y=\"-101.3\" font-family=\"Times New Roman,serif\" font-size=\"14.00\">0 (None)</text>\n",
       "</g>\n",
       "<!-- 1 -->\n",
       "<g id=\"node2\" class=\"node\">\n",
       "<title>1</title>\n",
       "<text text-anchor=\"middle\" x=\"33\" y=\"-14.3\" font-family=\"Times New Roman,serif\" font-size=\"14.00\">1 (Hola)</text>\n",
       "</g>\n",
       "<!-- 0&#45;&gt;1 -->\n",
       "<g id=\"edge1\" class=\"edge\">\n",
       "<title>0&#45;&gt;1</title>\n",
       "<path fill=\"none\" stroke=\"black\" d=\"M33,-86.8C33,-75.16 33,-59.55 33,-46.24\"/>\n",
       "<polygon fill=\"black\" stroke=\"black\" points=\"36.5,-46.18 33,-36.18 29.5,-46.18 36.5,-46.18\"/>\n",
       "<text text-anchor=\"middle\" x=\"53\" y=\"-57.8\" font-family=\"Times New Roman,serif\" font-size=\"14.00\">ROOT</text>\n",
       "</g>\n",
       "</g>\n",
       "</svg>\n"
      ],
      "text/plain": [
       "<DependencyGraph with 2 nodes>"
      ]
     },
     "execution_count": 200,
     "metadata": {},
     "output_type": "execute_result"
    }
   ],
   "source": [
    "parse = next(dep_parser.raw_parse(\"Hola\"))\n",
    "parse"
   ]
  },
  {
   "cell_type": "code",
   "execution_count": 201,
   "metadata": {},
   "outputs": [
    {
     "data": {
      "text/plain": [
       "[(('frase', 'NOUN'), 'nsubj', ('Esta', 'PRON')),\n",
       " (('frase', 'NOUN'), 'cop', ('es', 'AUX')),\n",
       " (('frase', 'NOUN'), 'det', ('una', 'DET')),\n",
       " (('frase', 'NOUN'), 'amod', ('complicada', 'ADJ')),\n",
       " (('complicada', 'ADJ'), 'advmod', ('poco', 'ADV')),\n",
       " (('poco', 'ADV'), 'advmod', ('muy', 'ADV')),\n",
       " (('frase', 'NOUN'), 'punct', ('.', 'PUNCT'))]"
      ]
     },
     "execution_count": 201,
     "metadata": {},
     "output_type": "execute_result"
    }
   ],
   "source": [
    "dep = next(dep_parser.raw_parse(\"Esta es una frase muy poco complicada.\"))\n",
    "list(dep.triples())"
   ]
  },
  {
   "cell_type": "code",
   "execution_count": 202,
   "metadata": {},
   "outputs": [],
   "source": [
    "dep.tree().draw()"
   ]
  },
  {
   "cell_type": "code",
   "execution_count": 203,
   "metadata": {},
   "outputs": [
    {
     "data": {
      "text/plain": [
       "'digraph G{\\nedge [dir=forward]\\nnode [shape=plaintext]\\n\\n0 [label=\"0 (None)\"]\\n0 -> 4 [label=\"ROOT\"]\\n1 [label=\"1 (Esta)\"]\\n2 [label=\"2 (es)\"]\\n3 [label=\"3 (una)\"]\\n4 [label=\"4 (frase)\"]\\n4 -> 1 [label=\"nsubj\"]\\n4 -> 2 [label=\"cop\"]\\n4 -> 3 [label=\"det\"]\\n4 -> 7 [label=\"amod\"]\\n4 -> 8 [label=\"punct\"]\\n5 [label=\"5 (muy)\"]\\n6 [label=\"6 (poco)\"]\\n6 -> 5 [label=\"advmod\"]\\n7 [label=\"7 (complicada)\"]\\n7 -> 6 [label=\"advmod\"]\\n8 [label=\"8 (.)\"]\\n}'"
      ]
     },
     "execution_count": 203,
     "metadata": {},
     "output_type": "execute_result"
    }
   ],
   "source": [
    "dep.to_dot()"
   ]
  },
  {
   "cell_type": "code",
   "execution_count": 204,
   "metadata": {},
   "outputs": [
    {
     "data": {
      "image/png": "[encoded data removed]",
      "text/plain": [
       "<IPython.core.display.Image object>"
      ]
     },
     "execution_count": 204,
     "metadata": {},
     "output_type": "execute_result"
    }
   ],
   "source": [
    "graph = pydotplus.graph_from_dot_data(dep.to_dot())\n",
    "Image(graph.create_png())"
   ]
  },
  {
   "cell_type": "code",
   "execution_count": 205,
   "metadata": {},
   "outputs": [
    {
     "data": {
      "image/png": "[encoded data removed]",
      "text/plain": [
       "<IPython.core.display.Image object>"
      ]
     },
     "execution_count": 205,
     "metadata": {},
     "output_type": "execute_result"
    }
   ],
   "source": [
    "dep = next(dep_parser.raw_parse(\"Mejor no pruebes con empatía, no vaya a ser que te responda lo mismo.\"))\n",
    "graph = pydotplus.graph_from_dot_data(dep.to_dot())\n",
    "Image(graph.create_png())"
   ]
  },
  {
   "cell_type": "markdown",
   "metadata": {},
   "source": [
    "### Exlusion criteria (word count)"
   ]
  },
  {
   "cell_type": "code",
   "execution_count": 206,
   "metadata": {},
   "outputs": [],
   "source": [
    "# Exclusion criteria: get rid of too short and too long narratives. \n",
    "\n",
    "wc_lowerLimit = 5\n",
    "wc_upperLimit = alex_df.Words.mean() + 4 * alex_df.Words.std() # around 175\n",
    "\n",
    "selected_df = alex_df[(alex_df.Words > wc_lowerLimit) & (alex_df.Words < wc_upperLimit)]"
   ]
  },
  {
   "cell_type": "code",
   "execution_count": 207,
   "metadata": {},
   "outputs": [
    {
     "name": "stdout",
     "output_type": "stream",
     "text": [
      "15 rows deleted. 381 remaining.\n"
     ]
    }
   ],
   "source": [
    "print('%d rows deleted. %d remaining.' % (alex_df.Code.count() - selected_df.Code.count(), selected_df.Code.count()))"
   ]
  },
  {
   "cell_type": "markdown",
   "metadata": {},
   "source": [
    "### Save processed dataset"
   ]
  },
  {
   "cell_type": "code",
   "execution_count": 208,
   "metadata": {},
   "outputs": [],
   "source": [
    "# Dataset with classification, tags, text features, etc. \n",
    "\n",
    "alex_class_dataset_path = \"D:\\\\Dropbox-Array2001\\\\Dropbox\\\\DataSets\\\\Prolexitim-Dataset\\\\Prolexitim_v2_processed_dep.csv\"\n",
    "selected_df.to_csv(alex_class_dataset_path, sep=';', encoding='utf-8', index=False)"
   ]
  },
  {
   "cell_type": "code",
   "execution_count": null,
   "metadata": {},
   "outputs": [],
   "source": []
  },
  {
   "cell_type": "code",
   "execution_count": null,
   "metadata": {},
   "outputs": [],
   "source": []
  }
 ],
 "metadata": {
  "kernelspec": {
   "display_name": "Python 3",
   "language": "python",
   "name": "python3"
  },
  "language_info": {
   "codemirror_mode": {
    "name": "ipython",
    "version": 3
   },
   "file_extension": ".py",
   "mimetype": "text/x-python",
   "name": "python",
   "nbconvert_exporter": "python",
   "pygments_lexer": "ipython3",
   "version": "3.7.3"
  }
 },
 "nbformat": 4,
 "nbformat_minor": 2
}
