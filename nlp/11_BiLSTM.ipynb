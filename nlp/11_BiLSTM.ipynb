{
 "cells": [
  {
   "cell_type": "markdown",
   "metadata": {
    "id": "qCJf0EDPUv1w"
   },
   "source": [
    "## Language Analysis of Alexithymic Discourse\n",
    "\n",
    "<hr>\n",
    "\n",
    "Alexithymic Language Project / raul@psicobotica.com / V2 release (sept 2020)\n",
    "\n",
    "<hr>\n",
    "\n",
    "## Text classification with a Bidirectional Long Short Term Memory network (biLSTM)\n",
    "\n"
   ]
  },
  {
   "cell_type": "markdown",
   "metadata": {
    "id": "1DQ7byc_VKmt"
   },
   "source": [
    "## Libraries"
   ]
  },
  {
   "cell_type": "code",
   "execution_count": 1,
   "metadata": {
    "id": "EGvc1cKKTrPo"
   },
   "outputs": [],
   "source": [
    "# Data handling\n",
    "import pandas as pd\n",
    "import numpy as np"
   ]
  },
  {
   "cell_type": "code",
   "execution_count": 2,
   "metadata": {
    "id": "zjFhI2NOT_hF"
   },
   "outputs": [],
   "source": [
    "# Plotting\n",
    "import matplotlib.pyplot as plt\n",
    "import seaborn as sns"
   ]
  },
  {
   "cell_type": "code",
   "execution_count": 3,
   "metadata": {
    "id": "UbCAIrJ2UE8t"
   },
   "outputs": [],
   "source": [
    "# Deep Learning with Keras\n",
    "from tensorflow.keras import models, layers, preprocessing as kprocessing\n",
    "from tensorflow.keras import backend as K"
   ]
  },
  {
   "cell_type": "code",
   "execution_count": 120,
   "metadata": {
    "id": "cYzK_kk2UMF1"
   },
   "outputs": [],
   "source": [
    "# Installing BERT\n",
    "# !pip install transformers"
   ]
  },
  {
   "cell_type": "code",
   "execution_count": 5,
   "metadata": {
    "id": "4Z1tJjDWUOkV"
   },
   "outputs": [],
   "source": [
    "# Using BERT (not here)\n",
    "import transformers"
   ]
  },
  {
   "cell_type": "code",
   "execution_count": 6,
   "metadata": {
    "id": "BcP0axrXGzX0"
   },
   "outputs": [],
   "source": [
    "# importing my csv text formats\n",
    "import ast"
   ]
  },
  {
   "cell_type": "code",
   "execution_count": 101,
   "metadata": {
    "id": "SQrWGEqTe0os"
   },
   "outputs": [],
   "source": [
    "# Scikit Learn utils\n",
    "from sklearn import metrics"
   ]
  },
  {
   "cell_type": "markdown",
   "metadata": {
    "id": "VAgaWhgWVQ0U"
   },
   "source": [
    "## Load my dataset"
   ]
  },
  {
   "cell_type": "code",
   "execution_count": 7,
   "metadata": {
    "id": "h_foDw_nUgZF"
   },
   "outputs": [],
   "source": [
    "feats_dataset_path = \"https://raw.githubusercontent.com/raul-arrabales/alexithymic-lang/master/data/Prolexitim_v2_features_8.csv\"\n",
    "\n",
    "alex_df = pd.read_csv(feats_dataset_path, header=0, delimiter=\";\")"
   ]
  },
  {
   "cell_type": "code",
   "execution_count": 8,
   "metadata": {
    "colab": {
     "base_uri": "https://localhost:8080/"
    },
    "id": "vcmFEVt-Vgg-",
    "outputId": "ecb6a080-6455-4140-b198-1479d1183ff6"
   },
   "outputs": [
    {
     "data": {
      "text/plain": [
       "Index(['Code', 'TAS20', 'F1', 'F2', 'F3', 'Gender', 'Age', 'Card',\n",
       "       'T_Metaphors', 'T_ToM', 'T_FP', 'T_Interpret', 'T_Desc', 'T_Confussion',\n",
       "       'Text', 'Alex_A', 'Alex_B', 'Words', 'Sentences', 'Tokens',\n",
       "       'Tokens_Stop', 'Tokens_Stem_P', 'Tokens_Stem_S', 'POS', 'NER', 'DEP',\n",
       "       'Lemmas_CNLP', 'Lemmas_Spacy', 'Chars', 'avgWL', 'avgSL', 'Pun_Count',\n",
       "       'Stop_Count', 'RawTokens', 'Title_Count', 'Upper_Count', 'PRON_Count',\n",
       "       'DET_Count', 'ADV_Count', 'VERB_Count'],\n",
       "      dtype='object')"
      ]
     },
     "execution_count": 8,
     "metadata": {
      "tags": []
     },
     "output_type": "execute_result"
    }
   ],
   "source": [
    "alex_df.columns[0:40]"
   ]
  },
  {
   "cell_type": "code",
   "execution_count": 9,
   "metadata": {
    "colab": {
     "base_uri": "https://localhost:8080/",
     "height": 0
    },
    "id": "zYEIEfBCVjgk",
    "outputId": "ff92e94f-0de6-4633-965c-bb39e29d61e2"
   },
   "outputs": [
    {
     "data": {
      "text/html": [
       "<div>\n",
       "<style scoped>\n",
       "    .dataframe tbody tr th:only-of-type {\n",
       "        vertical-align: middle;\n",
       "    }\n",
       "\n",
       "    .dataframe tbody tr th {\n",
       "        vertical-align: top;\n",
       "    }\n",
       "\n",
       "    .dataframe thead th {\n",
       "        text-align: right;\n",
       "    }\n",
       "</style>\n",
       "<table border=\"1\" class=\"dataframe\">\n",
       "  <thead>\n",
       "    <tr style=\"text-align: right;\">\n",
       "      <th></th>\n",
       "      <th>Code</th>\n",
       "      <th>TAS20</th>\n",
       "      <th>F1</th>\n",
       "      <th>F2</th>\n",
       "      <th>F3</th>\n",
       "      <th>Gender</th>\n",
       "      <th>Age</th>\n",
       "      <th>Card</th>\n",
       "      <th>T_Metaphors</th>\n",
       "      <th>T_ToM</th>\n",
       "      <th>T_FP</th>\n",
       "      <th>T_Interpret</th>\n",
       "      <th>T_Desc</th>\n",
       "      <th>T_Confussion</th>\n",
       "      <th>Text</th>\n",
       "      <th>Alex_A</th>\n",
       "      <th>Alex_B</th>\n",
       "      <th>Words</th>\n",
       "      <th>Sentences</th>\n",
       "      <th>Tokens</th>\n",
       "      <th>Tokens_Stop</th>\n",
       "      <th>Tokens_Stem_P</th>\n",
       "      <th>Tokens_Stem_S</th>\n",
       "      <th>POS</th>\n",
       "      <th>NER</th>\n",
       "      <th>DEP</th>\n",
       "      <th>Lemmas_CNLP</th>\n",
       "      <th>Lemmas_Spacy</th>\n",
       "      <th>Chars</th>\n",
       "      <th>avgWL</th>\n",
       "      <th>avgSL</th>\n",
       "      <th>Pun_Count</th>\n",
       "      <th>Stop_Count</th>\n",
       "      <th>RawTokens</th>\n",
       "      <th>Title_Count</th>\n",
       "      <th>Upper_Count</th>\n",
       "      <th>PRON_Count</th>\n",
       "      <th>DET_Count</th>\n",
       "      <th>ADV_Count</th>\n",
       "      <th>VERB_Count</th>\n",
       "      <th>...</th>\n",
       "      <th>consumption_preferences_start_business</th>\n",
       "      <th>consumption_preferences_movie_romance</th>\n",
       "      <th>consumption_preferences_movie_adventure</th>\n",
       "      <th>consumption_preferences_movie_horror</th>\n",
       "      <th>consumption_preferences_movie_musical</th>\n",
       "      <th>consumption_preferences_movie_historical</th>\n",
       "      <th>consumption_preferences_movie_science_fiction</th>\n",
       "      <th>consumption_preferences_movie_war</th>\n",
       "      <th>consumption_preferences_movie_drama</th>\n",
       "      <th>consumption_preferences_movie_action</th>\n",
       "      <th>consumption_preferences_movie_documentary</th>\n",
       "      <th>consumption_preferences_music_rap</th>\n",
       "      <th>consumption_preferences_music_country</th>\n",
       "      <th>consumption_preferences_music_r_b</th>\n",
       "      <th>consumption_preferences_music_hip_hop</th>\n",
       "      <th>consumption_preferences_music_live_event</th>\n",
       "      <th>consumption_preferences_music_playing</th>\n",
       "      <th>consumption_preferences_music_latin</th>\n",
       "      <th>consumption_preferences_music_rock</th>\n",
       "      <th>consumption_preferences_music_classical</th>\n",
       "      <th>consumption_preferences_read_frequency</th>\n",
       "      <th>consumption_preferences_books_entertainment_magazines</th>\n",
       "      <th>consumption_preferences_books_non_fiction</th>\n",
       "      <th>consumption_preferences_books_financial_investing</th>\n",
       "      <th>consumption_preferences_books_autobiographies</th>\n",
       "      <th>consumption_preferences_volunteer</th>\n",
       "      <th>MSP_Words</th>\n",
       "      <th>MSP_Stems</th>\n",
       "      <th>AFINN_Words_Pol</th>\n",
       "      <th>AFINN_Stems_Pol</th>\n",
       "      <th>AFINN_Words_Int</th>\n",
       "      <th>AFINN_Stems_Int</th>\n",
       "      <th>AFINN_Words_Max</th>\n",
       "      <th>AFINN_Stems_Max</th>\n",
       "      <th>Watson_Sent</th>\n",
       "      <th>Clean_Text</th>\n",
       "      <th>LDA4_Umap2_0</th>\n",
       "      <th>LDA4_Umap2_1</th>\n",
       "      <th>LDA10_Topic</th>\n",
       "      <th>LDA4_Topic</th>\n",
       "    </tr>\n",
       "  </thead>\n",
       "  <tbody>\n",
       "    <tr>\n",
       "      <th>194</th>\n",
       "      <td>039dd653b1739fddd915a54b67f98585</td>\n",
       "      <td>55</td>\n",
       "      <td>19</td>\n",
       "      <td>17</td>\n",
       "      <td>19</td>\n",
       "      <td>1</td>\n",
       "      <td>40</td>\n",
       "      <td>13HM</td>\n",
       "      <td>0</td>\n",
       "      <td>1</td>\n",
       "      <td>0</td>\n",
       "      <td>1</td>\n",
       "      <td>0</td>\n",
       "      <td>0</td>\n",
       "      <td>un hombre que cada día debía levantarse excesi...</td>\n",
       "      <td>0</td>\n",
       "      <td>0</td>\n",
       "      <td>75</td>\n",
       "      <td>5</td>\n",
       "      <td>['un', 'hombre', 'que', 'cada', 'día', 'debía'...</td>\n",
       "      <td>['hombre', 'cada', 'día', 'debía', 'levantarse...</td>\n",
       "      <td>['hombr', 'cada', 'día', 'debía', 'levantars',...</td>\n",
       "      <td>['hombr', 'cad', 'dia', 'deb', 'levant', 'exce...</td>\n",
       "      <td>[('un', 'DET'), ('hombre', 'NOUN'), ('que', 'P...</td>\n",
       "      <td>[('un', 'O'), ('hombre', 'O'), ('que', 'O'), (...</td>\n",
       "      <td>[[(('hombre', 'NOUN'), 'det', ('un', 'DET')), ...</td>\n",
       "      <td>un hombre que cada día debía levantarse excesi...</td>\n",
       "      <td>['un', 'hombre', 'que', 'cada', 'día', 'debía'...</td>\n",
       "      <td>352</td>\n",
       "      <td>4.693333</td>\n",
       "      <td>15.000000</td>\n",
       "      <td>10</td>\n",
       "      <td>32</td>\n",
       "      <td>['un', 'hombre', 'que', 'cada', 'día', 'debía'...</td>\n",
       "      <td>3</td>\n",
       "      <td>3</td>\n",
       "      <td>8</td>\n",
       "      <td>9</td>\n",
       "      <td>6</td>\n",
       "      <td>16</td>\n",
       "      <td>...</td>\n",
       "      <td>1.0</td>\n",
       "      <td>1.0</td>\n",
       "      <td>0.0</td>\n",
       "      <td>1.0</td>\n",
       "      <td>0.0</td>\n",
       "      <td>0.0</td>\n",
       "      <td>0.0</td>\n",
       "      <td>0.0</td>\n",
       "      <td>0.0</td>\n",
       "      <td>0.0</td>\n",
       "      <td>0.0</td>\n",
       "      <td>1.0</td>\n",
       "      <td>1.0</td>\n",
       "      <td>1.0</td>\n",
       "      <td>1.0</td>\n",
       "      <td>0.0</td>\n",
       "      <td>0.0</td>\n",
       "      <td>0.0</td>\n",
       "      <td>0.5</td>\n",
       "      <td>0.0</td>\n",
       "      <td>0.0</td>\n",
       "      <td>1.0</td>\n",
       "      <td>0.0</td>\n",
       "      <td>0.0</td>\n",
       "      <td>0.0</td>\n",
       "      <td>0.0</td>\n",
       "      <td>0.116279</td>\n",
       "      <td>0.186047</td>\n",
       "      <td>0</td>\n",
       "      <td>-2</td>\n",
       "      <td>0.0</td>\n",
       "      <td>1.0</td>\n",
       "      <td>0</td>\n",
       "      <td>2</td>\n",
       "      <td>-0.434432</td>\n",
       "      <td>hombre cada día debía levantarse excesivamente...</td>\n",
       "      <td>3.594719</td>\n",
       "      <td>6.917141</td>\n",
       "      <td>8</td>\n",
       "      <td>1</td>\n",
       "    </tr>\n",
       "    <tr>\n",
       "      <th>236</th>\n",
       "      <td>2f052997edc3c005cc16cd263210f05f</td>\n",
       "      <td>69</td>\n",
       "      <td>22</td>\n",
       "      <td>20</td>\n",
       "      <td>27</td>\n",
       "      <td>1</td>\n",
       "      <td>38</td>\n",
       "      <td>11</td>\n",
       "      <td>0</td>\n",
       "      <td>1</td>\n",
       "      <td>0</td>\n",
       "      <td>1</td>\n",
       "      <td>0</td>\n",
       "      <td>0</td>\n",
       "      <td>un lugar maravilloso, donde la mano del hombre...</td>\n",
       "      <td>1</td>\n",
       "      <td>1</td>\n",
       "      <td>154</td>\n",
       "      <td>3</td>\n",
       "      <td>['un', 'lugar', 'maravilloso', 'donde', 'la', ...</td>\n",
       "      <td>['lugar', 'maravilloso', 'mano', 'hombre', 'nu...</td>\n",
       "      <td>['lugar', 'maravilloso', 'mano', 'hombr', 'nun...</td>\n",
       "      <td>['lug', 'maravill', 'man', 'hombr', 'nunc', 'l...</td>\n",
       "      <td>[('un', 'DET'), ('lugar', 'NOUN'), ('maravillo...</td>\n",
       "      <td>[('un', 'O'), ('lugar', 'O'), ('maravilloso', ...</td>\n",
       "      <td>[[(('habia', 'VERB'), 'obl', ('lugar', 'NOUN')...</td>\n",
       "      <td>un lugar maravilloso , donde la mano del hombr...</td>\n",
       "      <td>['un', 'lugar', 'maravilloso', ',', 'donde', '...</td>\n",
       "      <td>677</td>\n",
       "      <td>4.396104</td>\n",
       "      <td>51.333333</td>\n",
       "      <td>18</td>\n",
       "      <td>79</td>\n",
       "      <td>['un', 'lugar', 'maravilloso', 'donde', 'la', ...</td>\n",
       "      <td>2</td>\n",
       "      <td>2</td>\n",
       "      <td>18</td>\n",
       "      <td>21</td>\n",
       "      <td>8</td>\n",
       "      <td>30</td>\n",
       "      <td>...</td>\n",
       "      <td>0.5</td>\n",
       "      <td>1.0</td>\n",
       "      <td>1.0</td>\n",
       "      <td>1.0</td>\n",
       "      <td>0.0</td>\n",
       "      <td>0.0</td>\n",
       "      <td>1.0</td>\n",
       "      <td>0.0</td>\n",
       "      <td>1.0</td>\n",
       "      <td>0.0</td>\n",
       "      <td>1.0</td>\n",
       "      <td>0.0</td>\n",
       "      <td>1.0</td>\n",
       "      <td>1.0</td>\n",
       "      <td>0.5</td>\n",
       "      <td>0.0</td>\n",
       "      <td>0.0</td>\n",
       "      <td>0.0</td>\n",
       "      <td>0.5</td>\n",
       "      <td>1.0</td>\n",
       "      <td>1.0</td>\n",
       "      <td>0.0</td>\n",
       "      <td>1.0</td>\n",
       "      <td>0.0</td>\n",
       "      <td>1.0</td>\n",
       "      <td>0.0</td>\n",
       "      <td>0.000000</td>\n",
       "      <td>-0.013333</td>\n",
       "      <td>0</td>\n",
       "      <td>-4</td>\n",
       "      <td>9.0</td>\n",
       "      <td>6.0</td>\n",
       "      <td>9</td>\n",
       "      <td>8</td>\n",
       "      <td>0.741915</td>\n",
       "      <td>lugar maravilloso mano hombre nunca llegado na...</td>\n",
       "      <td>4.191791</td>\n",
       "      <td>5.980533</td>\n",
       "      <td>6</td>\n",
       "      <td>2</td>\n",
       "    </tr>\n",
       "  </tbody>\n",
       "</table>\n",
       "<p>2 rows × 189 columns</p>\n",
       "</div>"
      ],
      "text/plain": [
       "                                 Code  TAS20  ...  LDA10_Topic  LDA4_Topic\n",
       "194  039dd653b1739fddd915a54b67f98585     55  ...            8           1\n",
       "236  2f052997edc3c005cc16cd263210f05f     69  ...            6           2\n",
       "\n",
       "[2 rows x 189 columns]"
      ]
     },
     "execution_count": 9,
     "metadata": {
      "tags": []
     },
     "output_type": "execute_result"
    }
   ],
   "source": [
    "alex_df.sample(2)"
   ]
  },
  {
   "cell_type": "code",
   "execution_count": 9,
   "metadata": {
    "id": "0Calcrc3Vv3s"
   },
   "outputs": [],
   "source": []
  },
  {
   "cell_type": "markdown",
   "metadata": {
    "id": "9WRNl8YVJEQD"
   },
   "source": [
    "## Load Pre-trained Word Vectors"
   ]
  },
  {
   "cell_type": "code",
   "execution_count": 10,
   "metadata": {
    "id": "XeisMYUJJHWk"
   },
   "outputs": [],
   "source": [
    "from gensim.models import KeyedVectors\n",
    "import pyemd"
   ]
  },
  {
   "cell_type": "code",
   "execution_count": 11,
   "metadata": {
    "id": "ofupbM5oJpa0"
   },
   "outputs": [],
   "source": [
    "# Dimensionality of vectors\n",
    "NUM_DIM = 400"
   ]
  },
  {
   "cell_type": "code",
   "execution_count": 12,
   "metadata": {
    "colab": {
     "base_uri": "https://localhost:8080/",
     "height": 73,
     "resources": {
      "http://localhost:8080/nbextensions/google.colab/files.js": {
       "data": "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",
       "headers": [
        [
         "content-type",
         "application/javascript"
        ]
       ],
       "ok": true,
       "status": 200,
       "status_text": ""
      }
     }
    },
    "id": "umFlefYMJvNf",
    "outputId": "0e66312a-f2de-4d09-ba20-3d13f6668936"
   },
   "outputs": [
    {
     "data": {
      "text/html": [
       "\n",
       "     <input type=\"file\" id=\"files-205f1ee0-131f-40d4-99df-0476b6c1692c\" name=\"files[]\" multiple disabled\n",
       "        style=\"border:none\" />\n",
       "     <output id=\"result-205f1ee0-131f-40d4-99df-0476b6c1692c\">\n",
       "      Upload widget is only available when the cell has been executed in the\n",
       "      current browser session. Please rerun this cell to enable.\n",
       "      </output>\n",
       "      <script src=\"/nbextensions/google.colab/files.js\"></script> "
      ],
      "text/plain": [
       "<IPython.core.display.HTML object>"
      ]
     },
     "metadata": {
      "tags": []
     },
     "output_type": "display_data"
    },
    {
     "name": "stdout",
     "output_type": "stream",
     "text": [
      "Saving Prolexitim_v2_MyWord2Vec.csv to Prolexitim_v2_MyWord2Vec.csv\n"
     ]
    }
   ],
   "source": [
    "from google.colab import files\n",
    "uploaded = files.upload()"
   ]
  },
  {
   "cell_type": "code",
   "execution_count": 13,
   "metadata": {
    "id": "ON7RQmFJJI14"
   },
   "outputs": [],
   "source": [
    "# 20 MB file with pre-trained word vectors (instead of the full 3GB Word2Vec file)\n",
    "my_vectors = pd.read_csv('Prolexitim_v2_MyWord2Vec.csv', header=0, delimiter=\";\")"
   ]
  },
  {
   "cell_type": "code",
   "execution_count": 14,
   "metadata": {
    "colab": {
     "base_uri": "https://localhost:8080/",
     "height": 166
    },
    "id": "BhxVNOEIbJc1",
    "outputId": "cedf010a-511e-4571-d6e3-ce5a22ed74c8"
   },
   "outputs": [
    {
     "data": {
      "text/html": [
       "<div>\n",
       "<style scoped>\n",
       "    .dataframe tbody tr th:only-of-type {\n",
       "        vertical-align: middle;\n",
       "    }\n",
       "\n",
       "    .dataframe tbody tr th {\n",
       "        vertical-align: top;\n",
       "    }\n",
       "\n",
       "    .dataframe thead th {\n",
       "        text-align: right;\n",
       "    }\n",
       "</style>\n",
       "<table border=\"1\" class=\"dataframe\">\n",
       "  <thead>\n",
       "    <tr style=\"text-align: right;\">\n",
       "      <th></th>\n",
       "      <th>word</th>\n",
       "      <th>vector</th>\n",
       "    </tr>\n",
       "  </thead>\n",
       "  <tbody>\n",
       "    <tr>\n",
       "      <th>1927</th>\n",
       "      <td>colleja</td>\n",
       "      <td>[0.43148136138916016, 0.2813882529735565, -0.3...</td>\n",
       "    </tr>\n",
       "    <tr>\n",
       "      <th>1308</th>\n",
       "      <td>sangrando</td>\n",
       "      <td>[0.03461191803216934, 2.5738353729248047, -1.2...</td>\n",
       "    </tr>\n",
       "    <tr>\n",
       "      <th>478</th>\n",
       "      <td>levantarse</td>\n",
       "      <td>[-0.6086391806602478, 0.8480411171913147, -0.3...</td>\n",
       "    </tr>\n",
       "    <tr>\n",
       "      <th>1167</th>\n",
       "      <td>holgazan</td>\n",
       "      <td>[-0.014026081189513206, 0.011056145653128624, ...</td>\n",
       "    </tr>\n",
       "  </tbody>\n",
       "</table>\n",
       "</div>"
      ],
      "text/plain": [
       "            word                                             vector\n",
       "1927     colleja  [0.43148136138916016, 0.2813882529735565, -0.3...\n",
       "1308   sangrando  [0.03461191803216934, 2.5738353729248047, -1.2...\n",
       "478   levantarse  [-0.6086391806602478, 0.8480411171913147, -0.3...\n",
       "1167    holgazan  [-0.014026081189513206, 0.011056145653128624, ..."
      ]
     },
     "execution_count": 14,
     "metadata": {
      "tags": []
     },
     "output_type": "execute_result"
    }
   ],
   "source": [
    "my_vectors.sample(4)"
   ]
  },
  {
   "cell_type": "code",
   "execution_count": 15,
   "metadata": {
    "colab": {
     "base_uri": "https://localhost:8080/"
    },
    "id": "OEFp18U8HeA8",
    "outputId": "0329bcae-99c2-48a6-931e-b48d7e01df2d"
   },
   "outputs": [
    {
     "data": {
      "text/plain": [
       "2169    [-3.240154266357422, -1.7901349067687988, 3.35...\n",
       "Name: vector, dtype: object"
      ]
     },
     "execution_count": 15,
     "metadata": {
      "tags": []
     },
     "output_type": "execute_result"
    }
   ],
   "source": [
    "my_vectors[my_vectors['word'] == 'decidió']['vector']"
   ]
  },
  {
   "cell_type": "code",
   "execution_count": 16,
   "metadata": {
    "colab": {
     "base_uri": "https://localhost:8080/"
    },
    "id": "8Nt98XMoKc11",
    "outputId": "e05b62c4-1d40-4d0c-ef13-567b40558613"
   },
   "outputs": [
    {
     "data": {
      "text/plain": [
       "array(['[-3.240154266357422, -1.7901349067687988, 3.353377103805542, 1.6399216651916504, -0.9851885437965393, -0.7573761343955994, -0.1319102644920349, -2.604383707046509, -0.7085506916046143, 0.33221518993377686, -1.1286180019378662, 1.4342106580734253, 0.17469240725040436, -0.7540820240974426, -1.433244228363037, 0.007204042281955481, -0.05140113830566406, 1.6604589223861694, -0.5412502288818359, 0.11355430632829666, -2.1695127487182617, -0.3570452928543091, -1.8473812341690063, -0.30507487058639526, 0.9077266454696655, 0.07965555042028427, 2.2751524448394775, 0.24414795637130737, -1.8510997295379639, 0.8496582508087158, -0.023393386974930763, -0.7376925349235535, -0.5438008308410645, -0.10880938917398453, -2.2760491371154785, 2.5668444633483887, 0.884616494178772, -2.2656702995300293, 0.9524273872375488, 1.6825034618377686, 2.092249870300293, 1.125827431678772, 0.7442363500595093, -1.6205689907073975, 1.8329616785049438, -0.7965370416641235, 0.8949437141418457, 1.498968482017517, -2.474830150604248, -4.623486042022705, -0.019180363044142723, 2.792567491531372, -0.053044211119413376, -2.4274723529815674, 1.6922829151153564, 2.642050266265869, -1.3788453340530396, 0.7388187646865845, -0.4673714339733124, -0.33908307552337646, 0.004131624009460211, -0.975831925868988, 1.4488515853881836, -1.128027081489563, 2.503964900970459, -0.6724559664726257, -0.2124859094619751, 1.3024667501449585, 1.3495351076126099, 1.6801809072494507, -2.6906473636627197, -0.9041491746902466, 0.27199965715408325, 0.3313358724117279, 0.6577691435813904, -0.12243474274873734, 1.458162546157837, -0.19356466829776764, -1.0805195569992065, -1.39597487449646, -1.820816993713379, 0.1536201685667038, -2.9527742862701416, -0.03201359882950783, -0.9558589458465576, 0.5683044791221619, 2.036608934402466, -0.17295417189598083, -3.969514846801758, -0.7987433075904846, 0.697384238243103, -0.6203130483627319, -0.2767440974712372, 0.562425434589386, -0.024417471140623093, 1.902055025100708, 1.5343879461288452, -1.539247989654541, 0.9971412420272827, -1.4937695264816284, 1.4851410388946533, 0.3530588746070862, 1.7037804126739502, -0.06721723824739456, 4.14509391784668, 0.07076764851808548, -1.128055214881897, -1.5535978078842163, -3.4105098247528076, -0.0747344046831131, -1.579715609550476, -0.20818831026554108, -0.07053253799676895, 0.3630724251270294, 0.42674505710601807, 1.5416529178619385, -1.688287377357483, -1.1853400468826294, -3.3452162742614746, -3.1369543075561523, -0.7962462902069092, 4.136933326721191, 0.4422745108604431, 1.0663548707962036, 3.7413673400878906, 1.305171012878418, -2.8959238529205322, -0.6897799372673035, -0.8075172901153564, 2.8608896732330322, 0.5144648551940918, 2.117788553237915, 1.8238400220870972, -2.4076318740844727, -0.18754622340202332, -3.5405113697052, 0.0369894914329052, -0.6590296626091003, -2.610617160797119, -0.7726998329162598, 1.0922824144363403, -2.251913070678711, -2.629080057144165, -2.0982766151428223, 0.5558094382286072, 1.6574817895889282, -0.36571118235588074, 0.4892411530017853, -2.398153066635132, 0.77849280834198, 3.2760708332061768, 0.6896001100540161, -1.5671958923339844, 0.13542789220809937, -2.377831220626831, -1.17050302028656, 0.43307599425315857, 1.2751678228378296, -5.2500715255737305, 3.4014322757720947, 3.2127482891082764, 1.1011015176773071, 2.777960777282715, -1.8444336652755737, 1.9697037935256958, 0.6283795237541199, -0.719691276550293, 0.13806229829788208, -1.2138420343399048, 0.040035415440797806, 1.0067929029464722, 1.067173957824707, -0.15955747663974762, -2.1554059982299805, 0.45128753781318665, -1.475347876548767, 0.4797367751598358, 0.3234160542488098, -3.016848564147949, -2.804818868637085, -1.5284678936004639, -1.1566693782806396, -2.5293474197387695, 2.4156532287597656, -2.7484354972839355, 0.9075257182121277, 2.6897366046905518, -0.1777065545320511, -2.845301628112793, -0.5588756799697876, -0.4979843199253082, 0.8815902471542358, -2.2850418090820312, -1.3992986679077148, -2.188798666000366, -0.06228048354387283, 0.7359619736671448, 0.7462316155433655, 1.5476840734481812, 1.5065715312957764, 2.4672670364379883, -0.818880021572113, -0.6039557456970215, -1.9975299835205078, 0.6198369860649109, 1.6715115308761597, -2.783266544342041, 2.381659984588623, 2.5656583309173584, 0.32383671402931213, -0.6245878338813782, 1.815224528312683, 0.2927815616130829, 1.1373777389526367, -0.5290440917015076, -1.5319442749023438, -1.4347635507583618, -0.33876895904541016, -4.694091320037842, -0.6584513187408447, -0.08390863984823227, -1.8946287631988525, -0.06779495626688004, 0.3356505036354065, 0.5507941246032715, 2.705735921859741, 2.133359432220459, 0.5158275365829468, -1.4554171562194824, 2.9928295612335205, -0.29787296056747437, 0.09846450388431549, -3.172997236251831, 1.076366662979126, 0.09522742033004761, -3.7215726375579834, -1.9971923828125, -1.029173493385315, -0.08286352455615997, -0.7525222897529602, -3.687802314758301, -0.38800087571144104, 0.39471933245658875, 2.104921817779541, 2.446207046508789, -1.1351808309555054, -2.8527917861938477, -2.1548349857330322, -0.16810721158981323, -2.5622811317443848, -1.396514892578125, 1.0360805988311768, 1.3192228078842163, 2.936260223388672, -0.3921848237514496, 3.074235439300537, -1.88999605178833, -0.02384263463318348, 0.605379045009613, -2.9549505710601807, 4.295738220214844, 0.3767772912979126, -3.1651065349578857, 0.7766920924186707, -0.3881221115589142, 0.034592319279909134, 0.18887777626514435, -0.05235322564840317, 0.47575345635414124, -1.336199164390564, -0.8143196702003479, 4.070886611938477, 1.065765619277954, 1.5863900184631348, 2.6330363750457764, 0.7239750623703003, 0.777023196220398, 1.3236969709396362, -2.4854016304016113, -0.9247934222221375, 1.5113495588302612, -0.5759423971176147, -3.608677387237549, 0.8160404562950134, -2.0441079139709473, -1.1060776710510254, -1.8228867053985596, 2.8501152992248535, 2.145024061203003, 1.311250925064087, 0.6092371940612793, -2.131479024887085, -3.177250385284424, -0.8665143847465515, -0.6808657050132751, -2.6325793266296387, 0.14952072501182556, 2.279162645339966, -0.9994222521781921, -0.001669651479460299, 1.3659075498580933, 0.11386044323444366, -3.896928548812866, 1.533339023590088, -1.6150401830673218, -2.1375980377197266, 0.7657092213630676, 3.0592761039733887, 0.18410560488700867, -0.16337566077709198, 4.454188346862793, 0.2788943350315094, -2.106875419616699, 2.127671718597412, -0.4198894798755646, 1.289440393447876, 3.0420830249786377, 3.4871275424957275, 2.411224842071533, -4.007058143615723, 2.6805813312530518, -3.180673599243164, 1.6014827489852905, -2.280904769897461, -0.5098078846931458, 0.026147989556193352, 3.7888386249542236, -0.1089303195476532, -0.22777722775936127, 0.20205827057361603, 0.49876484274864197, -1.1185927391052246, 3.397357702255249, -1.9902211427688599, 2.248788595199585, 0.3733155131340027, 2.368849515914917, 0.2533934414386749, -0.6504275798797607, 2.9970645904541016, -2.0645453929901123, -0.25287559628486633, 1.008057713508606, -4.412606716156006, -2.3394811153411865, 0.7349706292152405, 0.04492036625742912, 2.652021884918213, 1.8327746391296387, -0.13585053384304047, 0.8128634095191956, 0.3154350519180298, 2.709472417831421, -0.5741574764251709, -1.5663363933563232, -2.2471492290496826, 1.7935110330581665, 0.5899208784103394, 0.24272620677947998, -1.233161449432373, -0.40039297938346863, -0.9724829792976379, -0.07067017257213593, -0.9779163599014282, 0.4661056399345398, -0.5144612789154053, -0.2291879802942276, 2.4688010215759277, -2.6582255363464355, -1.7340140342712402, -1.483088493347168, -1.8242790699005127, 0.6344385743141174, -2.2757182121276855, 0.004796069115400314, -3.057203531265259, 0.3352627456188202, 0.997938871383667, 1.5289617776870728, -3.753722667694092, 1.0021042823791504, -0.06864038854837418, -2.3694424629211426, 3.4489409923553467, -3.483569622039795, -0.36103081703186035, 0.07933409512042999, -0.05795300751924515, -1.3680754899978638, -1.8588300943374634, 2.6404123306274414, -0.6225232481956482, -1.8374260663986206, -0.2911108136177063, 0.5341801047325134, 2.2385313510894775, 0.1778220236301422, -2.041100025177002, -1.4844684600830078, 2.0472443103790283]'],\n",
       "      dtype=object)"
      ]
     },
     "execution_count": 16,
     "metadata": {
      "tags": []
     },
     "output_type": "execute_result"
    }
   ],
   "source": [
    "my_vectors[my_vectors['word'] == 'decidió']['vector'].values"
   ]
  },
  {
   "cell_type": "code",
   "execution_count": 17,
   "metadata": {
    "id": "zBziBmbdbMgL"
   },
   "outputs": [],
   "source": [
    "# Obtain the vector corresponding to a specific word\n",
    "# Returns a vector of zeroes if the word is not in my_vectors\n",
    "def get_my_Word2Vec( word ):\n",
    "  data = my_vectors[my_vectors['word'] == word]['vector'].values\n",
    "  if data is not None:\n",
    "    if len(data) > 0 :\n",
    "      return ast.literal_eval(data[0])\n",
    "    else:\n",
    "      return np.zeros(NUM_DIM)  \n",
    "  else: \n",
    "    return np.zeros(NUM_DIM)"
   ]
  },
  {
   "cell_type": "code",
   "execution_count": 18,
   "metadata": {
    "colab": {
     "base_uri": "https://localhost:8080/"
    },
    "id": "xWneCVM1SIWU",
    "outputId": "924f2f95-88b5-40de-f9ad-1908d3b2404e"
   },
   "outputs": [
    {
     "data": {
      "text/plain": [
       "400"
      ]
     },
     "execution_count": 18,
     "metadata": {
      "tags": []
     },
     "output_type": "execute_result"
    }
   ],
   "source": [
    "len(get_my_Word2Vec('decidió'))"
   ]
  },
  {
   "cell_type": "code",
   "execution_count": 19,
   "metadata": {
    "colab": {
     "base_uri": "https://localhost:8080/"
    },
    "id": "6GmsSc2Rj2-a",
    "outputId": "6223d3a3-10cf-44c9-98e2-8752cd7db675"
   },
   "outputs": [
    {
     "data": {
      "text/plain": [
       "[-3.240154266357422,\n",
       " -1.7901349067687988,\n",
       " 3.353377103805542,\n",
       " 1.6399216651916504,\n",
       " -0.9851885437965393,\n",
       " -0.7573761343955994,\n",
       " -0.1319102644920349,\n",
       " -2.604383707046509,\n",
       " -0.7085506916046143,\n",
       " 0.33221518993377686]"
      ]
     },
     "execution_count": 19,
     "metadata": {
      "tags": []
     },
     "output_type": "execute_result"
    }
   ],
   "source": [
    "get_my_Word2Vec('decidió')[0:10]"
   ]
  },
  {
   "cell_type": "code",
   "execution_count": 20,
   "metadata": {
    "colab": {
     "base_uri": "https://localhost:8080/"
    },
    "id": "ZOnwgunbLSab",
    "outputId": "d705064a-8fd2-4514-abfe-1938a7838ea3"
   },
   "outputs": [
    {
     "data": {
      "text/plain": [
       "400"
      ]
     },
     "execution_count": 20,
     "metadata": {
      "tags": []
     },
     "output_type": "execute_result"
    }
   ],
   "source": [
    "len(get_my_Word2Vec('2387dh12390hd0'))"
   ]
  },
  {
   "cell_type": "code",
   "execution_count": 22,
   "metadata": {
    "colab": {
     "base_uri": "https://localhost:8080/"
    },
    "id": "ulCAMsOaX7WL",
    "outputId": "3aecb7ae-d917-460d-b2e4-2e29cfcc250d"
   },
   "outputs": [
    {
     "data": {
      "text/plain": [
       "array([0., 0., 0., 0., 0., 0., 0., 0., 0., 0.])"
      ]
     },
     "execution_count": 22,
     "metadata": {
      "tags": []
     },
     "output_type": "execute_result"
    }
   ],
   "source": [
    "get_my_Word2Vec('2387dh12390hd0')[0:10]"
   ]
  },
  {
   "cell_type": "markdown",
   "metadata": {
    "id": "ZkdlHCKRb4PM"
   },
   "source": [
    "## Dataset Train/Test Split"
   ]
  },
  {
   "cell_type": "code",
   "execution_count": 23,
   "metadata": {
    "id": "JtuXRg9Hb8Uk"
   },
   "outputs": [],
   "source": [
    "from sklearn.model_selection import train_test_split"
   ]
  },
  {
   "cell_type": "code",
   "execution_count": 24,
   "metadata": {
    "id": "j0mPw44YdMEn"
   },
   "outputs": [],
   "source": [
    "# X is texts and y is alexithymia class\n",
    "\n",
    "X = list(alex_df['Tokens_Stop'].apply(lambda x: ast.literal_eval(x))) # Docs as list of clean tokens\n",
    "y = alex_df['Alex_A'].values"
   ]
  },
  {
   "cell_type": "code",
   "execution_count": 25,
   "metadata": {
    "colab": {
     "base_uri": "https://localhost:8080/",
     "height": 35
    },
    "id": "hpeQlAqbjBjp",
    "outputId": "a567237e-f7c3-4f48-9d53-875d64f7b675"
   },
   "outputs": [
    {
     "data": {
      "application/vnd.google.colaboratory.intrinsic+json": {
       "type": "string"
      },
      "text/plain": [
       "'es un niño pensando en cual es la respuesta de sus deberes porque no la sabe.'"
      ]
     },
     "execution_count": 25,
     "metadata": {
      "tags": []
     },
     "output_type": "execute_result"
    }
   ],
   "source": [
    "alex_df['Text'][0]"
   ]
  },
  {
   "cell_type": "code",
   "execution_count": 26,
   "metadata": {
    "colab": {
     "base_uri": "https://localhost:8080/"
    },
    "id": "OkovGrOidmmF",
    "outputId": "363aca61-6f9d-4dff-da7f-54779089523f"
   },
   "outputs": [
    {
     "data": {
      "text/plain": [
       "[['niño', 'pensando', 'respuesta', 'deberes', 'sabe'],\n",
       " ['hombre', 'llorando', 'mujer', 'muerto']]"
      ]
     },
     "execution_count": 26,
     "metadata": {
      "tags": []
     },
     "output_type": "execute_result"
    }
   ],
   "source": [
    "X[0:2]"
   ]
  },
  {
   "cell_type": "code",
   "execution_count": 27,
   "metadata": {
    "colab": {
     "base_uri": "https://localhost:8080/"
    },
    "id": "vY3pNp0peTzc",
    "outputId": "de35858d-e60b-42b7-f10c-5747438c17ce"
   },
   "outputs": [
    {
     "data": {
      "text/plain": [
       "array([0, 0])"
      ]
     },
     "execution_count": 27,
     "metadata": {
      "tags": []
     },
     "output_type": "execute_result"
    }
   ],
   "source": [
    "y[0:2]"
   ]
  },
  {
   "cell_type": "code",
   "execution_count": 28,
   "metadata": {
    "colab": {
     "base_uri": "https://localhost:8080/"
    },
    "id": "YUjzz6W2eYbt",
    "outputId": "82dd8a78-e5eb-4b90-cfed-6393c45339c2"
   },
   "outputs": [
    {
     "data": {
      "text/plain": [
       "True"
      ]
     },
     "execution_count": 28,
     "metadata": {
      "tags": []
     },
     "output_type": "execute_result"
    }
   ],
   "source": [
    "len(X) == len(y)"
   ]
  },
  {
   "cell_type": "code",
   "execution_count": 29,
   "metadata": {
    "id": "ta1pHWh0fhVO"
   },
   "outputs": [],
   "source": [
    " # Stratify y to keep same proportion of positives in both splits\n",
    " X_train, X_test, y_train, y_test = train_test_split(X, y, \n",
    "                                                     test_size=0.2, \n",
    "                                                     random_state=0, \n",
    "                                                     stratify=y) "
   ]
  },
  {
   "cell_type": "code",
   "execution_count": 30,
   "metadata": {
    "colab": {
     "base_uri": "https://localhost:8080/"
    },
    "id": "hYxL44uSiAEe",
    "outputId": "cf8b85ca-dc39-4c99-f46f-81cda709eb23"
   },
   "outputs": [
    {
     "data": {
      "text/plain": [
       "270"
      ]
     },
     "execution_count": 30,
     "metadata": {
      "tags": []
     },
     "output_type": "execute_result"
    }
   ],
   "source": [
    "len(X_train)"
   ]
  },
  {
   "cell_type": "code",
   "execution_count": 31,
   "metadata": {
    "colab": {
     "base_uri": "https://localhost:8080/"
    },
    "id": "DW0aOoK1iG88",
    "outputId": "063b7576-d031-4ab7-89a8-b7149f114c3a"
   },
   "outputs": [
    {
     "data": {
      "text/plain": [
       "68"
      ]
     },
     "execution_count": 31,
     "metadata": {
      "tags": []
     },
     "output_type": "execute_result"
    }
   ],
   "source": [
    "len(y_test)"
   ]
  },
  {
   "cell_type": "code",
   "execution_count": 32,
   "metadata": {
    "colab": {
     "base_uri": "https://localhost:8080/"
    },
    "id": "ZIxzWCQWiKcE",
    "outputId": "9acfb107-3b7b-4408-d856-6d61f2f36891"
   },
   "outputs": [
    {
     "data": {
      "text/plain": [
       "array([0, 1, 1, 0, 1, 0, 0, 0, 0, 1, 0, 0, 0, 0, 0, 1, 0, 0, 0, 0, 0, 0,\n",
       "       0, 0, 0, 0, 0, 0, 0, 1, 1, 0, 0, 0, 0, 0, 0, 1, 1, 0, 0, 0, 0, 0,\n",
       "       1, 0, 0, 0, 1, 0, 0, 0, 0, 0, 1, 0, 0, 0, 0, 0, 0, 1, 1, 0, 1, 0,\n",
       "       0, 0])"
      ]
     },
     "execution_count": 32,
     "metadata": {
      "tags": []
     },
     "output_type": "execute_result"
    }
   ],
   "source": [
    "y_test"
   ]
  },
  {
   "cell_type": "code",
   "execution_count": 43,
   "metadata": {
    "colab": {
     "base_uri": "https://localhost:8080/"
    },
    "id": "tE90brRYZIEc",
    "outputId": "5e6c1b88-7c0e-4b54-e954-2328884082a6"
   },
   "outputs": [
    {
     "name": "stdout",
     "output_type": "stream",
     "text": [
      "Positives ratio in test set: 0.22\n"
     ]
    }
   ],
   "source": [
    "print(\"Positives ratio in test set: %.2f\" % (sum(y_test)/len(y_test)))"
   ]
  },
  {
   "cell_type": "code",
   "execution_count": 33,
   "metadata": {
    "colab": {
     "base_uri": "https://localhost:8080/"
    },
    "id": "FQzxf7KMiOW8",
    "outputId": "289050a2-b67b-49be-9a52-e875e1f68401"
   },
   "outputs": [
    {
     "data": {
      "text/plain": [
       "array([1, 1, 0, 0, 0, 0, 1, 1, 1, 0, 0, 0, 0, 0, 0, 1, 0, 0, 0, 0, 0, 0,\n",
       "       0, 1, 1, 0, 0, 0, 1, 0, 0, 0, 0, 0, 0, 1, 0, 0, 1, 0, 0, 0, 0, 0,\n",
       "       0, 0, 0, 0, 0, 0, 0, 0, 0, 0, 0, 1, 0, 0, 0, 0, 1, 1, 0, 0, 0, 0,\n",
       "       0, 0, 0, 0, 0, 0, 0, 0, 0, 1, 0, 0, 0, 0, 1, 1, 0, 0, 0, 0, 0, 0,\n",
       "       0, 1, 0, 0, 0, 0, 0, 1, 0, 0, 0, 0, 0, 1, 1, 0, 0, 0, 0, 1, 0, 0,\n",
       "       0, 0, 0, 0, 0, 0, 0, 1, 1, 0, 0, 0, 0, 1, 0, 0, 0, 1, 1, 0, 0, 0,\n",
       "       0, 0, 0, 0, 0, 0, 0, 0, 1, 0, 0, 1, 0, 1, 0, 0, 0, 1, 0, 0, 0, 0,\n",
       "       0, 0, 0, 0, 0, 0, 0, 0, 0, 0, 0, 1, 0, 0, 1, 1, 0, 0, 1, 0, 0, 0,\n",
       "       1, 0, 0, 0, 0, 1, 0, 0, 0, 0, 0, 0, 1, 0, 0, 1, 0, 0, 0, 0, 0, 0,\n",
       "       0, 0, 0, 0, 1, 1, 1, 1, 1, 0, 1, 0, 1, 0, 0, 0, 1, 1, 0, 0, 0, 0,\n",
       "       0, 0, 0, 0, 0, 0, 1, 1, 1, 0, 0, 0, 1, 0, 1, 0, 0, 0, 0, 1, 0, 1,\n",
       "       0, 1, 0, 0, 0, 0, 0, 0, 0, 0, 0, 1, 0, 0, 1, 0, 0, 0, 0, 0, 1, 0,\n",
       "       1, 0, 0, 0, 0, 0])"
      ]
     },
     "execution_count": 33,
     "metadata": {
      "tags": []
     },
     "output_type": "execute_result"
    }
   ],
   "source": [
    "y_train"
   ]
  },
  {
   "cell_type": "code",
   "execution_count": 44,
   "metadata": {
    "colab": {
     "base_uri": "https://localhost:8080/"
    },
    "id": "2wGLCoIfZhKE",
    "outputId": "11f300c1-6f6e-498b-b8ad-3d8b76ec5c35"
   },
   "outputs": [
    {
     "name": "stdout",
     "output_type": "stream",
     "text": [
      "Positives ratio in train set: 0.22\n"
     ]
    }
   ],
   "source": [
    "print(\"Positives ratio in train set: %.2f\" % (sum(y_train)/len(y_train)))"
   ]
  },
  {
   "cell_type": "markdown",
   "metadata": {
    "id": "MikX5ZKWXKfm"
   },
   "source": [
    "## Keras Text Preprocessing (Feature Vectors)"
   ]
  },
  {
   "cell_type": "code",
   "execution_count": 45,
   "metadata": {
    "id": "3jFjDFdRXOU1"
   },
   "outputs": [],
   "source": [
    "# Keras tokenizer\n",
    "tokenizer = kprocessing.text.Tokenizer(lower=True, split=' ', \n",
    "                     oov_token=\"NaN\", \n",
    "                     filters='!\"#$%&()*+,-./:;<=>?@[\\\\]^_`{|}~\\t\\n')"
   ]
  },
  {
   "cell_type": "code",
   "execution_count": 46,
   "metadata": {
    "id": "ml9hLQusXdPq"
   },
   "outputs": [],
   "source": [
    "# Apply the tokenizer\n",
    "tokenizer.fit_on_texts(X)"
   ]
  },
  {
   "cell_type": "code",
   "execution_count": 47,
   "metadata": {
    "id": "YWH1cbc7aBVM"
   },
   "outputs": [],
   "source": [
    "# We have an id per word\n",
    "dic_vocabulary = tokenizer.word_index"
   ]
  },
  {
   "cell_type": "code",
   "execution_count": 48,
   "metadata": {
    "colab": {
     "base_uri": "https://localhost:8080/"
    },
    "id": "HOv1aCYOaDQs",
    "outputId": "2082b281-84f6-4225-a2fe-c148f6853ca0"
   },
   "outputs": [
    {
     "data": {
      "text/plain": [
       "2"
      ]
     },
     "execution_count": 48,
     "metadata": {
      "tags": []
     },
     "output_type": "execute_result"
    }
   ],
   "source": [
    "dic_vocabulary['violín']"
   ]
  },
  {
   "cell_type": "code",
   "execution_count": 49,
   "metadata": {
    "id": "kbe5jLbbaL-k"
   },
   "outputs": [],
   "source": [
    "# Convert each doc into a sequence of word ids\n",
    "text_seqs = tokenizer.texts_to_sequences(X_train)"
   ]
  },
  {
   "cell_type": "code",
   "execution_count": 50,
   "metadata": {
    "colab": {
     "base_uri": "https://localhost:8080/"
    },
    "id": "AsbOuNYwbGyE",
    "outputId": "a2b78371-0db2-4b74-d4de-6cd43d1938f8"
   },
   "outputs": [
    {
     "data": {
      "text/plain": [
       "[2544, 5, 161, 2545, 24, 425, 162]"
      ]
     },
     "execution_count": 50,
     "metadata": {
      "tags": []
     },
     "output_type": "execute_result"
    }
   ],
   "source": [
    "text_seqs[1]"
   ]
  },
  {
   "cell_type": "code",
   "execution_count": 54,
   "metadata": {
    "id": "II5ffsKjDeNA"
   },
   "outputs": [],
   "source": [
    "# Sequence lengths\n",
    "lengths = [len(text_seqs[i]) for i in range(0,len(text_seqs))]"
   ]
  },
  {
   "cell_type": "code",
   "execution_count": 55,
   "metadata": {
    "colab": {
     "base_uri": "https://localhost:8080/"
    },
    "id": "yok0hlNLEA9R",
    "outputId": "04072a06-d247-46a8-ba72-b9415a3cac06"
   },
   "outputs": [
    {
     "name": "stdout",
     "output_type": "stream",
     "text": [
      "Max: 75\n",
      "Min: 2\n",
      "Mean: 16.68148148148148\n",
      "Median: 12.5\n",
      "Stdev: 12.57784757647605\n"
     ]
    }
   ],
   "source": [
    "print(\"Max: \" + str(np.max(lengths)))\n",
    "print(\"Min: \" + str(np.min(lengths)))\n",
    "print(\"Mean: \" + str(np.mean(lengths)))\n",
    "print(\"Median: \" + str(np.median(lengths)))\n",
    "print(\"Stdev: \" + str(np.std(lengths)))"
   ]
  },
  {
   "cell_type": "code",
   "execution_count": 56,
   "metadata": {
    "colab": {
     "base_uri": "https://localhost:8080/",
     "height": 281
    },
    "id": "XkUXg-DwEe0R",
    "outputId": "54159307-c21d-411d-970f-ebf46ab4d029"
   },
   "outputs": [
    {
     "data": {
      "text/plain": [
       "<matplotlib.axes._subplots.AxesSubplot at 0x7f449c0ab4a8>"
      ]
     },
     "execution_count": 56,
     "metadata": {
      "tags": []
     },
     "output_type": "execute_result"
    },
    {
     "data": {
      "image/png": "[encoded data removed]",
      "text/plain": [
       "<Figure size 432x288 with 1 Axes>"
      ]
     },
     "metadata": {
      "needs_background": "light",
      "tags": []
     },
     "output_type": "display_data"
    }
   ],
   "source": [
    "sns.histplot(lengths)"
   ]
  },
  {
   "cell_type": "code",
   "execution_count": 57,
   "metadata": {
    "id": "wEUC33hLE4J_"
   },
   "outputs": [],
   "source": [
    "# Padding max length\n",
    "MAX_LEN = 20"
   ]
  },
  {
   "cell_type": "code",
   "execution_count": 58,
   "metadata": {
    "id": "6fliQZd5bKIk"
   },
   "outputs": [],
   "source": [
    "## padding sequence (paddind and truncating POST instead of PRE)\n",
    "X_train_padded = kprocessing.sequence.pad_sequences(text_seqs, \n",
    "                    maxlen=MAX_LEN, padding=\"post\", truncating=\"post\")"
   ]
  },
  {
   "cell_type": "code",
   "execution_count": 59,
   "metadata": {
    "colab": {
     "base_uri": "https://localhost:8080/"
    },
    "id": "1gDsNa3kFlAH",
    "outputId": "baeeb63e-6aed-4d48-8d3b-adb5afa8b054"
   },
   "outputs": [
    {
     "data": {
      "text/plain": [
       "array([[   4,  177,  277,    7, 2554,  245,  157,    0,    0,    0,    0,\n",
       "           0,    0,    0,    0,    0,    0,    0,    0,    0],\n",
       "       [2544,    5,  161, 2545,   24,  425,  162,    0,    0,    0,    0,\n",
       "           0,    0,    0,    0,    0,    0,    0,    0,    0],\n",
       "       [1597,    8,  753,   53,   10,  342,  138,   93,   27,    0,    0,\n",
       "           0,    0,    0,    0,    0,    0,    0,    0,    0]],\n",
       "      dtype=int32)"
      ]
     },
     "execution_count": 59,
     "metadata": {
      "tags": []
     },
     "output_type": "execute_result"
    }
   ],
   "source": [
    "X_train_padded[0:3]"
   ]
  },
  {
   "cell_type": "code",
   "execution_count": 60,
   "metadata": {
    "colab": {
     "base_uri": "https://localhost:8080/",
     "height": 269
    },
    "id": "lLHfOtx3FmGW",
    "outputId": "a767d193-d26d-4b20-a5b9-8c8abe495852"
   },
   "outputs": [
    {
     "data": {
      "image/png": "[encoded data removed]",
      "text/plain": [
       "<Figure size 432x288 with 1 Axes>"
      ]
     },
     "metadata": {
      "needs_background": "light",
      "tags": []
     },
     "output_type": "display_data"
    }
   ],
   "source": [
    "sns.heatmap(X_train_padded==0, vmin=0, vmax=1, cbar=False)\n",
    "plt.show()"
   ]
  },
  {
   "cell_type": "code",
   "execution_count": 61,
   "metadata": {
    "id": "DoJyCcDhFxnV"
   },
   "outputs": [],
   "source": [
    "# Same preprocessing for test set: \n",
    "text_seqs_test = tokenizer.texts_to_sequences(X_test)\n",
    "X_test_padded = kprocessing.sequence.pad_sequences(text_seqs_test, \n",
    "                    maxlen=MAX_LEN, padding=\"post\", truncating=\"post\")"
   ]
  },
  {
   "cell_type": "code",
   "execution_count": 62,
   "metadata": {
    "colab": {
     "base_uri": "https://localhost:8080/"
    },
    "id": "L8ylnP_MGwMd",
    "outputId": "ee03cd7c-e3bb-46d5-f028-47f0f6c60dde"
   },
   "outputs": [
    {
     "data": {
      "text/plain": [
       "array([[1211, 1212, 1213, ...,    0,    0,    0],\n",
       "       [ 779,  244,   13, ...,    0,    0,    0],\n",
       "       [  28,  825,  109, ...,    0,    0,    0],\n",
       "       ...,\n",
       "       [1603, 1604,  362, ...,    0,    0,    0],\n",
       "       [   5,  233, 2246, ..., 2251,   24,  843],\n",
       "       [   4,  117,    7, ...,    0,    0,    0]], dtype=int32)"
      ]
     },
     "execution_count": 62,
     "metadata": {
      "tags": []
     },
     "output_type": "execute_result"
    }
   ],
   "source": [
    "X_test_padded"
   ]
  },
  {
   "cell_type": "markdown",
   "metadata": {
    "id": "7cO_n7uNTbxr"
   },
   "source": [
    "## Building biLSTM model"
   ]
  },
  {
   "cell_type": "code",
   "execution_count": 63,
   "metadata": {
    "id": "0SAIakszGxNt"
   },
   "outputs": [],
   "source": [
    "# Create the matrix with word vectors:\n",
    "embeddings = np.zeros((len(dic_vocabulary)+1, 400))\n",
    "\n",
    "for word,idx in dic_vocabulary.items():\n",
    "    ## update the row with vector\n",
    "    embeddings[idx] = get_my_Word2Vec(word)"
   ]
  },
  {
   "cell_type": "code",
   "execution_count": 64,
   "metadata": {
    "colab": {
     "base_uri": "https://localhost:8080/"
    },
    "id": "HKxh5BtDOZVz",
    "outputId": "e417164b-8492-4011-9f58-47b18d085838"
   },
   "outputs": [
    {
     "data": {
      "text/plain": [
       "(2558, 400)"
      ]
     },
     "execution_count": 64,
     "metadata": {
      "tags": []
     },
     "output_type": "execute_result"
    }
   ],
   "source": [
    "# 2.5K words x 400 dimensions\n",
    "embeddings.shape"
   ]
  },
  {
   "cell_type": "code",
   "execution_count": 65,
   "metadata": {
    "colab": {
     "base_uri": "https://localhost:8080/"
    },
    "id": "R4Bk3ypAOpLq",
    "outputId": "7b55d22d-a553-4e7f-b7ee-660a65507aa9"
   },
   "outputs": [
    {
     "data": {
      "text/plain": [
       "79"
      ]
     },
     "execution_count": 65,
     "metadata": {
      "tags": []
     },
     "output_type": "execute_result"
    }
   ],
   "source": [
    "dic_vocabulary['muerta']"
   ]
  },
  {
   "cell_type": "code",
   "execution_count": 66,
   "metadata": {
    "colab": {
     "base_uri": "https://localhost:8080/"
    },
    "id": "0DyltJtZOyNZ",
    "outputId": "c5dd3d6a-57d7-45fc-a48f-3703171dba7e"
   },
   "outputs": [
    {
     "data": {
      "text/plain": [
       "True"
      ]
     },
     "execution_count": 66,
     "metadata": {
      "tags": []
     },
     "output_type": "execute_result"
    }
   ],
   "source": [
    "sum(embeddings[79] == get_my_Word2Vec('muerta')) == NUM_DIM"
   ]
  },
  {
   "cell_type": "code",
   "execution_count": 67,
   "metadata": {
    "id": "jLYCr6_DQc-B"
   },
   "outputs": [],
   "source": [
    "# 1. NEURAL NETWORK INPUT LAYER\n",
    "# My NN input layer will be of sequences of MAX_LEN words\n",
    "\n",
    "x_in = layers.Input(shape=(MAX_LEN,))\n"
   ]
  },
  {
   "cell_type": "code",
   "execution_count": 68,
   "metadata": {
    "colab": {
     "base_uri": "https://localhost:8080/"
    },
    "id": "F9fCELp3SH_c",
    "outputId": "5acd6e2a-965e-4193-fb41-b5a97c34e5b2"
   },
   "outputs": [
    {
     "data": {
      "text/plain": [
       "TensorShape([None, 20])"
      ]
     },
     "execution_count": 68,
     "metadata": {
      "tags": []
     },
     "output_type": "execute_result"
    }
   ],
   "source": [
    "# Input to my NN will be a sequence of MAX_LEN integers (word ids)\n",
    "x_in.shape"
   ]
  },
  {
   "cell_type": "code",
   "execution_count": 69,
   "metadata": {
    "id": "7GKmVb6dQyjS"
   },
   "outputs": [],
   "source": [
    "# 2. NEURAL NETWORK EMBEDDING LAYER\n",
    "# The embedding layer takes a sequence of word vectors (up to MAX_LEN) representing each word in the document\n",
    "\n",
    "x_layer = layers.Embedding(input_dim=embeddings.shape[0],  # Size of the vocabulary\n",
    "                     output_dim=embeddings.shape[1],  # Dimension of the embeeding\n",
    "                     weights=[embeddings],\n",
    "                     input_length=MAX_LEN,  # Length of the sequences\n",
    "                     trainable=False)(x_in)"
   ]
  },
  {
   "cell_type": "code",
   "execution_count": 70,
   "metadata": {
    "colab": {
     "base_uri": "https://localhost:8080/"
    },
    "id": "OgOFfCugSWFY",
    "outputId": "0a79fea2-7fbd-450e-e928-19517b048040"
   },
   "outputs": [
    {
     "data": {
      "text/plain": [
       "TensorShape([None, 20, 400])"
      ]
     },
     "execution_count": 70,
     "metadata": {
      "tags": []
     },
     "output_type": "execute_result"
    }
   ],
   "source": [
    "# Embedding layer will be a sequence of MAX_LEN words (padded) represented by 400 (latent space) dimensions\n",
    "x_layer.shape"
   ]
  },
  {
   "cell_type": "code",
   "execution_count": 71,
   "metadata": {
    "id": "J9wjJdmNPvoj"
   },
   "outputs": [],
   "source": [
    "# 3. NEURAL NETWORK ATTENTION LAYER\n",
    "# See https://arxiv.org/abs/1409.0473 \n",
    "# The attention layer focuses on what parts of a long text are more relevant\n",
    "\n",
    "## code attention layer\n",
    "def attention_layer(inputs, neurons):\n",
    "    x_layer = layers.Permute((2,1))(inputs)\n",
    "    x_layer = layers.Dense(neurons, activation=\"softmax\")(x_layer)\n",
    "    x_layer = layers.Permute((2,1), name=\"attention\")(x_layer)\n",
    "    x_layer = layers.multiply([inputs, x_layer])\n",
    "    return x_layer\n",
    "\n",
    "## apply attention\n",
    "x_layer = attention_layer(x_layer, neurons=MAX_LEN)"
   ]
  },
  {
   "cell_type": "code",
   "execution_count": 72,
   "metadata": {
    "id": "YMGpE-UKTfb7"
   },
   "outputs": [],
   "source": [
    "# 4. NEURAL NETWORK BI-LSTM LAYERS\n",
    "# 2 layers of bidirectional LSTM\n",
    "\n",
    "x_layer = layers.Bidirectional(layers.LSTM(units=MAX_LEN, dropout=0.2, \n",
    "                                                return_sequences=True))(x_layer)\n",
    "x_layer = layers.Bidirectional(layers.LSTM(units=MAX_LEN, dropout=0.2))(x_layer)"
   ]
  },
  {
   "cell_type": "code",
   "execution_count": 73,
   "metadata": {
    "id": "XOugV5mCTpWy"
   },
   "outputs": [],
   "source": [
    "# 5. NEURAL NETWORK FULLY-CONNECTED LAYERS\n",
    "# 2 dense layers acting as a multilayer perceptron\n",
    "\n",
    "x_layer = layers.Dense(64, activation='relu')(x_layer)\n",
    "y_out = layers.Dense(2, activation='softmax')(x_layer)\n"
   ]
  },
  {
   "cell_type": "code",
   "execution_count": 74,
   "metadata": {
    "colab": {
     "base_uri": "https://localhost:8080/"
    },
    "id": "8ym7lW7GWCRi",
    "outputId": "98762a32-d820-4d0b-9af5-18607c1264e1"
   },
   "outputs": [
    {
     "data": {
      "text/plain": [
       "TensorShape([None, 2])"
      ]
     },
     "execution_count": 74,
     "metadata": {
      "tags": []
     },
     "output_type": "execute_result"
    }
   ],
   "source": [
    "# The output for our two classes\n",
    "y_out.shape"
   ]
  },
  {
   "cell_type": "code",
   "execution_count": 75,
   "metadata": {
    "colab": {
     "base_uri": "https://localhost:8080/"
    },
    "id": "VSoVVqOhU9HP",
    "outputId": "fd7e38bc-9560-4268-8aa6-c427cc8f61f7"
   },
   "outputs": [
    {
     "name": "stdout",
     "output_type": "stream",
     "text": [
      "Model: \"functional_1\"\n",
      "__________________________________________________________________________________________________\n",
      "Layer (type)                    Output Shape         Param #     Connected to                     \n",
      "==================================================================================================\n",
      "input_1 (InputLayer)            [(None, 20)]         0                                            \n",
      "__________________________________________________________________________________________________\n",
      "embedding (Embedding)           (None, 20, 400)      1023200     input_1[0][0]                    \n",
      "__________________________________________________________________________________________________\n",
      "permute (Permute)               (None, 400, 20)      0           embedding[0][0]                  \n",
      "__________________________________________________________________________________________________\n",
      "dense (Dense)                   (None, 400, 20)      420         permute[0][0]                    \n",
      "__________________________________________________________________________________________________\n",
      "attention (Permute)             (None, 20, 400)      0           dense[0][0]                      \n",
      "__________________________________________________________________________________________________\n",
      "multiply (Multiply)             (None, 20, 400)      0           embedding[0][0]                  \n",
      "                                                                 attention[0][0]                  \n",
      "__________________________________________________________________________________________________\n",
      "bidirectional (Bidirectional)   (None, 20, 40)       67360       multiply[0][0]                   \n",
      "__________________________________________________________________________________________________\n",
      "bidirectional_1 (Bidirectional) (None, 40)           9760        bidirectional[0][0]              \n",
      "__________________________________________________________________________________________________\n",
      "dense_1 (Dense)                 (None, 64)           2624        bidirectional_1[0][0]            \n",
      "__________________________________________________________________________________________________\n",
      "dense_2 (Dense)                 (None, 2)            130         dense_1[0][0]                    \n",
      "==================================================================================================\n",
      "Total params: 1,103,494\n",
      "Trainable params: 80,294\n",
      "Non-trainable params: 1,023,200\n",
      "__________________________________________________________________________________________________\n"
     ]
    }
   ],
   "source": [
    "# Assemble the model and compile: \n",
    "\n",
    "model = models.Model(x_in, y_out)\n",
    "model.compile(loss='sparse_categorical_crossentropy',\n",
    "              optimizer='adam', metrics=['accuracy'])\n",
    "\n",
    "model.summary()"
   ]
  },
  {
   "cell_type": "markdown",
   "metadata": {
    "id": "CQ3pRjRyWfo5"
   },
   "source": [
    "## Train the biLSTM model"
   ]
  },
  {
   "cell_type": "code",
   "execution_count": 76,
   "metadata": {
    "colab": {
     "base_uri": "https://localhost:8080/"
    },
    "id": "kHrs0rZaaffa",
    "outputId": "5def2773-ed5b-4948-9681-54680714d765"
   },
   "outputs": [
    {
     "data": {
      "text/plain": [
       "array([[   4,  177,  277, ...,    0,    0,    0],\n",
       "       [2544,    5,  161, ...,    0,    0,    0],\n",
       "       [1597,    8,  753, ...,    0,    0,    0],\n",
       "       ...,\n",
       "       [ 253,   47,  106, ...,    0,    0,    0],\n",
       "       [  17,  342,  532, ..., 1019, 1020, 1021],\n",
       "       [   4,  871,  249, ...,    0,    0,    0]], dtype=int32)"
      ]
     },
     "execution_count": 76,
     "metadata": {
      "tags": []
     },
     "output_type": "execute_result"
    }
   ],
   "source": [
    "# This is the training set\n",
    "X_train_padded"
   ]
  },
  {
   "cell_type": "code",
   "execution_count": 77,
   "metadata": {
    "colab": {
     "base_uri": "https://localhost:8080/"
    },
    "id": "RjOBCKeWa2z6",
    "outputId": "2250dead-4de6-479f-cf7d-1af1a26ac013"
   },
   "outputs": [
    {
     "data": {
      "text/plain": [
       "array([1, 1, 0, 0, 0, 0, 1, 1, 1, 0, 0, 0, 0, 0, 0, 1, 0, 0, 0, 0, 0, 0,\n",
       "       0, 1, 1, 0, 0, 0, 1, 0, 0, 0, 0, 0, 0, 1, 0, 0, 1, 0, 0, 0, 0, 0,\n",
       "       0, 0, 0, 0, 0, 0, 0, 0, 0, 0, 0, 1, 0, 0, 0, 0, 1, 1, 0, 0, 0, 0,\n",
       "       0, 0, 0, 0, 0, 0, 0, 0, 0, 1, 0, 0, 0, 0, 1, 1, 0, 0, 0, 0, 0, 0,\n",
       "       0, 1, 0, 0, 0, 0, 0, 1, 0, 0, 0, 0, 0, 1, 1, 0, 0, 0, 0, 1, 0, 0,\n",
       "       0, 0, 0, 0, 0, 0, 0, 1, 1, 0, 0, 0, 0, 1, 0, 0, 0, 1, 1, 0, 0, 0,\n",
       "       0, 0, 0, 0, 0, 0, 0, 0, 1, 0, 0, 1, 0, 1, 0, 0, 0, 1, 0, 0, 0, 0,\n",
       "       0, 0, 0, 0, 0, 0, 0, 0, 0, 0, 0, 1, 0, 0, 1, 1, 0, 0, 1, 0, 0, 0,\n",
       "       1, 0, 0, 0, 0, 1, 0, 0, 0, 0, 0, 0, 1, 0, 0, 1, 0, 0, 0, 0, 0, 0,\n",
       "       0, 0, 0, 0, 1, 1, 1, 1, 1, 0, 1, 0, 1, 0, 0, 0, 1, 1, 0, 0, 0, 0,\n",
       "       0, 0, 0, 0, 0, 0, 1, 1, 1, 0, 0, 0, 1, 0, 1, 0, 0, 0, 0, 1, 0, 1,\n",
       "       0, 1, 0, 0, 0, 0, 0, 0, 0, 0, 0, 1, 0, 0, 1, 0, 0, 0, 0, 0, 1, 0,\n",
       "       1, 0, 0, 0, 0, 0])"
      ]
     },
     "execution_count": 77,
     "metadata": {
      "tags": []
     },
     "output_type": "execute_result"
    }
   ],
   "source": [
    "y_train"
   ]
  },
  {
   "cell_type": "code",
   "execution_count": 78,
   "metadata": {
    "colab": {
     "base_uri": "https://localhost:8080/"
    },
    "id": "5WjiB4NAbQgV",
    "outputId": "04bbbae5-68f9-48fc-e0e5-4217b60ce3e7"
   },
   "outputs": [
    {
     "data": {
      "text/plain": [
       "270"
      ]
     },
     "execution_count": 78,
     "metadata": {
      "tags": []
     },
     "output_type": "execute_result"
    }
   ],
   "source": [
    "len(y_train)"
   ]
  },
  {
   "cell_type": "code",
   "execution_count": 79,
   "metadata": {
    "id": "EYNhU9FqYxnm"
   },
   "outputs": [],
   "source": [
    "# Train for 20 epochs\n",
    "training = model.fit(x=X_train_padded, y=y_train, batch_size=64, \n",
    "                     epochs=20, shuffle=True, verbose=0, \n",
    "                     validation_split=0.2)"
   ]
  },
  {
   "cell_type": "code",
   "execution_count": 98,
   "metadata": {
    "id": "qU-dbTBlaTlu"
   },
   "outputs": [],
   "source": [
    "# Training metrics\n",
    "my_metrics = [k for k in training.history.keys() if (\"loss\" not in k) and (\"val\" not in k)]"
   ]
  },
  {
   "cell_type": "code",
   "execution_count": 99,
   "metadata": {
    "colab": {
     "base_uri": "https://localhost:8080/"
    },
    "id": "IzsFQfGQcI-k",
    "outputId": "5d19e885-957e-4887-e0ef-48b66c7fc649"
   },
   "outputs": [
    {
     "data": {
      "text/plain": [
       "['accuracy']"
      ]
     },
     "execution_count": 99,
     "metadata": {
      "tags": []
     },
     "output_type": "execute_result"
    }
   ],
   "source": [
    "my_metrics"
   ]
  },
  {
   "cell_type": "code",
   "execution_count": 119,
   "metadata": {
    "colab": {
     "base_uri": "https://localhost:8080/",
     "height": 404
    },
    "id": "UN3vwmNtcOv1",
    "outputId": "b92f3b00-b0ec-4980-be5a-4418bc4b1bcb"
   },
   "outputs": [
    {
     "data": {
      "image/png": "[encoded data removed]",
      "text/plain": [
       "<Figure size 864x432 with 4 Axes>"
      ]
     },
     "metadata": {
      "needs_background": "light",
      "tags": []
     },
     "output_type": "display_data"
    }
   ],
   "source": [
    "fig, ax = plt.subplots(nrows=1, ncols=2, sharey=True)\n",
    "fig.set_size_inches(12,6)\n",
    "ax[0].set(title=\"Training\")\n",
    "ax11 = ax[0].twinx()\n",
    "ax[0].plot(training.history['loss'], color='black')\n",
    "ax[0].set_xlabel('Epochs')\n",
    "ax[0].set_ylabel('Loss', color='black')\n",
    "for metric in my_metrics:\n",
    "    ax11.plot(training.history[metric], label=metric)\n",
    "ax11.set_ylabel(\"Score\", color='steelblue')\n",
    "ax11.legend()\n",
    "ax[1].set(title=\"Validation\")\n",
    "ax22 = ax[1].twinx()\n",
    "ax[1].plot(training.history['val_loss'], color='black')\n",
    "ax[1].set_xlabel('Epochs')\n",
    "ax[1].set_ylabel('Loss', color='black')\n",
    "for metric in my_metrics:\n",
    "     ax22.plot(training.history['val_'+metric], label=metric)\n",
    "ax22.set_ylabel(\"Score\", color=\"steelblue\")\n",
    "plt.show()"
   ]
  },
  {
   "cell_type": "markdown",
   "metadata": {
    "id": "BfggF3KOYLvD"
   },
   "source": [
    "## Test the biLSTM Model"
   ]
  },
  {
   "cell_type": "code",
   "execution_count": 83,
   "metadata": {
    "id": "JIB4ORSscn2d"
   },
   "outputs": [],
   "source": [
    "# y-predicted probas\n",
    "predicted_prob = model.predict(X_test_padded)"
   ]
  },
  {
   "cell_type": "code",
   "execution_count": 86,
   "metadata": {
    "colab": {
     "base_uri": "https://localhost:8080/"
    },
    "id": "oBHs6qHoYihi",
    "outputId": "8289fdaa-a198-4a01-dcc2-855bb8cc258d"
   },
   "outputs": [
    {
     "data": {
      "text/plain": [
       "array([[9.5399576e-01, 4.6004217e-02],\n",
       "       [2.6541346e-01, 7.3458654e-01],\n",
       "       [9.4215143e-01, 5.7848576e-02],\n",
       "       [9.9989355e-01, 1.0638755e-04],\n",
       "       [4.3712199e-01, 5.6287801e-01],\n",
       "       [9.9984848e-01, 1.5148993e-04]], dtype=float32)"
      ]
     },
     "execution_count": 86,
     "metadata": {
      "tags": []
     },
     "output_type": "execute_result"
    }
   ],
   "source": [
    "predicted_prob[0:6]"
   ]
  },
  {
   "cell_type": "code",
   "execution_count": 87,
   "metadata": {
    "colab": {
     "base_uri": "https://localhost:8080/"
    },
    "id": "O4ptGP2kYqba",
    "outputId": "88ab7c15-91fa-4d0b-c932-4b19eacad984"
   },
   "outputs": [
    {
     "data": {
      "text/plain": [
       "{0: 0, 1: 1}"
      ]
     },
     "execution_count": 87,
     "metadata": {
      "tags": []
     },
     "output_type": "execute_result"
    }
   ],
   "source": [
    "dic_y_mapping = {n:label for n,label in enumerate(np.unique(y_train))}\n",
    "dic_y_mapping"
   ]
  },
  {
   "cell_type": "code",
   "execution_count": 88,
   "metadata": {
    "colab": {
     "base_uri": "https://localhost:8080/"
    },
    "id": "84CAdcKvYhdc",
    "outputId": "8d13ae7e-f2f4-4cfa-ac68-6f058db89b38"
   },
   "outputs": [
    {
     "data": {
      "text/plain": [
       "[0, 1, 0, 0, 1, 0]"
      ]
     },
     "execution_count": 88,
     "metadata": {
      "tags": []
     },
     "output_type": "execute_result"
    }
   ],
   "source": [
    "predicted = [dic_y_mapping[np.argmax(pred)] for pred in predicted_prob]\n",
    "predicted[0:6]"
   ]
  },
  {
   "cell_type": "code",
   "execution_count": 89,
   "metadata": {
    "id": "4-gH1exFb4PY"
   },
   "outputs": [],
   "source": [
    "# Evaluation\n",
    "classes = np.unique(y_test)\n",
    "y_test_array = pd.get_dummies(y_test, drop_first=False).values"
   ]
  },
  {
   "cell_type": "code",
   "execution_count": 90,
   "metadata": {
    "colab": {
     "base_uri": "https://localhost:8080/"
    },
    "id": "R3R0rl_mcMTH",
    "outputId": "83bfa648-1d17-4567-f914-32ed1f2d1fa5"
   },
   "outputs": [
    {
     "data": {
      "text/plain": [
       "array([0, 1])"
      ]
     },
     "execution_count": 90,
     "metadata": {
      "tags": []
     },
     "output_type": "execute_result"
    }
   ],
   "source": [
    "# Our two classes\n",
    "classes"
   ]
  },
  {
   "cell_type": "code",
   "execution_count": 92,
   "metadata": {
    "colab": {
     "base_uri": "https://localhost:8080/"
    },
    "id": "jd8DeU1ncSqX",
    "outputId": "be51f96c-bf65-4fde-d02b-2a65b42e1c0b"
   },
   "outputs": [
    {
     "data": {
      "text/plain": [
       "array([[1, 0],\n",
       "       [0, 1],\n",
       "       [0, 1],\n",
       "       [1, 0],\n",
       "       [0, 1],\n",
       "       [1, 0]], dtype=uint8)"
      ]
     },
     "execution_count": 92,
     "metadata": {
      "tags": []
     },
     "output_type": "execute_result"
    }
   ],
   "source": [
    "y_test_array[0:6]"
   ]
  },
  {
   "cell_type": "code",
   "execution_count": 103,
   "metadata": {
    "colab": {
     "base_uri": "https://localhost:8080/"
    },
    "id": "7R3aPNqJdVG9",
    "outputId": "ecbb7889-2f4c-4b5a-fac8-e43fe5dd75e3"
   },
   "outputs": [
    {
     "data": {
      "text/plain": [
       "(68,)"
      ]
     },
     "execution_count": 103,
     "metadata": {
      "tags": []
     },
     "output_type": "execute_result"
    }
   ],
   "source": [
    "y_test.shape"
   ]
  },
  {
   "cell_type": "code",
   "execution_count": 115,
   "metadata": {
    "colab": {
     "base_uri": "https://localhost:8080/"
    },
    "id": "wm9YbUVPcUs-",
    "outputId": "8861596a-304e-491a-8c50-5f2ae52f8963"
   },
   "outputs": [
    {
     "name": "stdout",
     "output_type": "stream",
     "text": [
      "Accuracy: 0.75\n",
      "Auc: 0.7\n",
      "Detail:\n",
      "              precision    recall  f1-score   support\n",
      "\n",
      "           0       0.81      0.89      0.85        53\n",
      "           1       0.40      0.27      0.32        15\n",
      "\n",
      "    accuracy                           0.75        68\n",
      "   macro avg       0.61      0.58      0.58        68\n",
      "weighted avg       0.72      0.75      0.73        68\n",
      "\n"
     ]
    }
   ],
   "source": [
    "# Accuracy, Precision, Recall\n",
    "accuracy = metrics.accuracy_score(y_test, predicted)\n",
    "auc = metrics.roc_auc_score(y_test, predicted_prob[:,1], multi_class=\"ovr\")\n",
    "\n",
    "print(\"Accuracy:\",  round(accuracy,2))\n",
    "print(\"Auc:\", round(auc,2))\n",
    "print(\"Detail:\")\n",
    "print(metrics.classification_report(y_test, predicted))"
   ]
  },
  {
   "cell_type": "code",
   "execution_count": 116,
   "metadata": {
    "colab": {
     "base_uri": "https://localhost:8080/",
     "height": 312
    },
    "id": "WJxVV_l3cioW",
    "outputId": "bd7316be-3edc-41e3-f909-ad4aec124d81"
   },
   "outputs": [
    {
     "data": {
      "text/plain": [
       "(array([0.5, 1.5]), <a list of 2 Text major ticklabel objects>)"
      ]
     },
     "execution_count": 116,
     "metadata": {
      "tags": []
     },
     "output_type": "execute_result"
    },
    {
     "data": {
      "image/png": "[encoded data removed]",
      "text/plain": [
       "<Figure size 432x288 with 1 Axes>"
      ]
     },
     "metadata": {
      "needs_background": "light",
      "tags": []
     },
     "output_type": "display_data"
    }
   ],
   "source": [
    "# Confusion matrix\n",
    "cm = metrics.confusion_matrix(y_test, predicted)\n",
    "fig, ax = plt.subplots()\n",
    "sns.heatmap(cm, annot=True, fmt='d', ax=ax, cmap=plt.cm.Blues, \n",
    "            cbar=False)\n",
    "ax.set(xlabel=\"Pred\", ylabel=\"True\", xticklabels=classes, \n",
    "       yticklabels=classes, title=\"Confusion matrix\")\n",
    "plt.yticks(rotation=0)"
   ]
  },
  {
   "cell_type": "code",
   "execution_count": 117,
   "metadata": {
    "colab": {
     "base_uri": "https://localhost:8080/",
     "height": 513
    },
    "id": "Ii-YgJhRghoG",
    "outputId": "9729fb04-7d3b-4b14-f9e9-61921399d35e"
   },
   "outputs": [
    {
     "data": {
      "image/png": "[encoded data removed]",
      "text/plain": [
       "<Figure size 1152x576 with 2 Axes>"
      ]
     },
     "metadata": {
      "needs_background": "light",
      "tags": []
     },
     "output_type": "display_data"
    }
   ],
   "source": [
    "# ROC \n",
    "\n",
    "fig, ax = plt.subplots(nrows=1, ncols=2)\n",
    "fig.set_size_inches(16,8)\n",
    "for i in range(len(classes)):\n",
    "    fpr, tpr, thresholds = metrics.roc_curve(y_test_array[:,i],  \n",
    "                           predicted_prob[:,i])\n",
    "    ax[0].plot(fpr, tpr, lw=3, \n",
    "              label='{0} (area={1:0.2f})'.format(classes[i], \n",
    "                              metrics.auc(fpr, tpr))\n",
    "               )\n",
    "ax[0].plot([0,1], [0,1], color='navy', lw=3, linestyle='--')\n",
    "ax[0].set(xlim=[-0.05,1.0], ylim=[0.0,1.05], \n",
    "          xlabel='False Positive Rate', \n",
    "          ylabel=\"True Positive Rate (Recall)\", \n",
    "          title=\"Receiver operating characteristic\")\n",
    "ax[0].legend(loc=\"lower right\")\n",
    "ax[0].grid(True)\n",
    "\n",
    "## Plot precision-recall curve\n",
    "for i in range(len(classes)):\n",
    "    precision, recall, thresholds = metrics.precision_recall_curve(\n",
    "                 y_test_array[:,i], predicted_prob[:,i])\n",
    "    ax[1].plot(recall, precision, lw=3, \n",
    "               label='{0} (area={1:0.2f})'.format(classes[i], \n",
    "                                  metrics.auc(recall, precision))\n",
    "              )\n",
    "ax[1].set(xlim=[0.0,1.05], ylim=[0.0,1.05], xlabel='Recall', \n",
    "          ylabel=\"Precision\", title=\"Precision-Recall curve\")\n",
    "ax[1].legend(loc=\"best\")\n",
    "ax[1].grid(True)\n",
    "plt.show()"
   ]
  },
  {
   "cell_type": "code",
   "execution_count": null,
   "metadata": {
    "id": "Phmmt7Aig0H2"
   },
   "outputs": [],
   "source": []
  }
 ],
 "metadata": {
  "accelerator": "GPU",
  "colab": {
   "name": "11_BiLSTM.ipynb",
   "provenance": []
  },
  "kernelspec": {
   "display_name": "Python 3",
   "language": "python",
   "name": "python3"
  },
  "language_info": {
   "codemirror_mode": {
    "name": "ipython",
    "version": 3
   },
   "file_extension": ".py",
   "mimetype": "text/x-python",
   "name": "python",
   "nbconvert_exporter": "python",
   "pygments_lexer": "ipython3",
   "version": "3.7.3"
  }
 },
 "nbformat": 4,
 "nbformat_minor": 1
}
