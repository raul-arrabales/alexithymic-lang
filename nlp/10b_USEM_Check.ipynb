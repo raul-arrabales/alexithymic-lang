{
 "cells": [
  {
   "cell_type": "markdown",
   "metadata": {},
   "source": [
    "## Language Analysis of Alexithymic Discourse\n",
    "\n",
    "<hr>\n",
    "\n",
    "Alexithymic Language Project / raul@psicobotica.com / V2 release (sept 2020)\n",
    "\n",
    "<hr>\n",
    "\n",
    "## Latent Space Feature Engineering (embeddings)\n",
    "### Checking Google Universal Sentence Encoder - Multilingual Large 3\n",
    "\n",
    "- TF Hub Pre-trained model: https://tfhub.dev/google/universal-sentence-encoder-multilingual-large/3 \n"
   ]
  },
  {
   "cell_type": "markdown",
   "metadata": {},
   "source": [
    "### Load my dataset \n",
    "(After embedding calculation in Colab)"
   ]
  },
  {
   "cell_type": "code",
   "execution_count": 74,
   "metadata": {},
   "outputs": [],
   "source": [
    "import pandas as pd \n",
    "import numpy as np"
   ]
  },
  {
   "cell_type": "code",
   "execution_count": 2,
   "metadata": {},
   "outputs": [],
   "source": [
    "embeds_dataset_path = \"https://raw.githubusercontent.com/raul-arrabales/alexithymic-lang/master/models/Prolexitim_v2_features-embed-usem.csv\"\n",
    "\n",
    "alex_df = pd.read_csv(embeds_dataset_path, header=0, delimiter=\";\")"
   ]
  },
  {
   "cell_type": "code",
   "execution_count": 3,
   "metadata": {},
   "outputs": [
    {
     "data": {
      "text/plain": [
       "Index(['Code', 'TAS20', 'F1', 'F2', 'F3', 'Gender', 'Age', 'Card',\n",
       "       'T_Metaphors', 'T_ToM', 'T_FP', 'T_Interpret', 'T_Desc', 'T_Confussion',\n",
       "       'Text', 'Alex_A', 'Alex_B', 'Words', 'Sentences', 'Tokens',\n",
       "       'Tokens_Stop', 'Tokens_Stem', 'POS', 'NER', 'DEP', 'Chars', 'avgWL',\n",
       "       'avgSL', 'Pun_Count', 'Stop_Count', 'RawTokens', 'Title_Count',\n",
       "       'Upper_Count', 'VERB_Count', 'NOUN_Count', 'SYM_Count', 'ADV_Count',\n",
       "       'PUNCT_Count', 'INTJ_Count', 'CCONJ_Count', 'ADJ_Count', 'AUX_Count',\n",
       "       'DET_Count', 'SCONJ_Count', 'PRON_Count', 'NUM_Count', 'PROPN_Count',\n",
       "       'ADP_Count', 'VERB_Ratio', 'NOUN_Ratio', 'SYM_Ratio', 'ADV_Ratio',\n",
       "       'PUNCT_Ratio', 'INTJ_Ratio', 'CCONJ_Ratio', 'ADJ_Ratio', 'AUX_Ratio',\n",
       "       'DET_Ratio', 'SCONJ_Ratio', 'PRON_Ratio', 'NUM_Ratio', 'PROPN_Ratio',\n",
       "       'ADP_Ratio', 'TTR', 'HTR', 'Embed_USEM'],\n",
       "      dtype='object')"
      ]
     },
     "execution_count": 3,
     "metadata": {},
     "output_type": "execute_result"
    }
   ],
   "source": [
    "alex_df.columns"
   ]
  },
  {
   "cell_type": "code",
   "execution_count": 4,
   "metadata": {},
   "outputs": [
    {
     "data": {
      "text/html": [
       "<div>\n",
       "<style scoped>\n",
       "    .dataframe tbody tr th:only-of-type {\n",
       "        vertical-align: middle;\n",
       "    }\n",
       "\n",
       "    .dataframe tbody tr th {\n",
       "        vertical-align: top;\n",
       "    }\n",
       "\n",
       "    .dataframe thead th {\n",
       "        text-align: right;\n",
       "    }\n",
       "</style>\n",
       "<table border=\"1\" class=\"dataframe\">\n",
       "  <thead>\n",
       "    <tr style=\"text-align: right;\">\n",
       "      <th></th>\n",
       "      <th>Code</th>\n",
       "      <th>TAS20</th>\n",
       "      <th>F1</th>\n",
       "      <th>F2</th>\n",
       "      <th>F3</th>\n",
       "      <th>Gender</th>\n",
       "      <th>Age</th>\n",
       "      <th>Card</th>\n",
       "      <th>T_Metaphors</th>\n",
       "      <th>T_ToM</th>\n",
       "      <th>...</th>\n",
       "      <th>AUX_Ratio</th>\n",
       "      <th>DET_Ratio</th>\n",
       "      <th>SCONJ_Ratio</th>\n",
       "      <th>PRON_Ratio</th>\n",
       "      <th>NUM_Ratio</th>\n",
       "      <th>PROPN_Ratio</th>\n",
       "      <th>ADP_Ratio</th>\n",
       "      <th>TTR</th>\n",
       "      <th>HTR</th>\n",
       "      <th>Embed_USEM</th>\n",
       "    </tr>\n",
       "  </thead>\n",
       "  <tbody>\n",
       "    <tr>\n",
       "      <th>0</th>\n",
       "      <td>bc39e22ca5dba59fbd97c27987878f56</td>\n",
       "      <td>40</td>\n",
       "      <td>16</td>\n",
       "      <td>9</td>\n",
       "      <td>15</td>\n",
       "      <td>2</td>\n",
       "      <td>22</td>\n",
       "      <td>1</td>\n",
       "      <td>0</td>\n",
       "      <td>1</td>\n",
       "      <td>...</td>\n",
       "      <td>0.125000</td>\n",
       "      <td>0.187500</td>\n",
       "      <td>0.062500</td>\n",
       "      <td>0.125</td>\n",
       "      <td>0.0</td>\n",
       "      <td>0.0</td>\n",
       "      <td>0.125</td>\n",
       "      <td>0.562500</td>\n",
       "      <td>0.875</td>\n",
       "      <td>[-7.31239393e-02  8.52924492e-03  5.43712601e-...</td>\n",
       "    </tr>\n",
       "    <tr>\n",
       "      <th>1</th>\n",
       "      <td>bc39e22ca5dba59fbd97c27987878f56</td>\n",
       "      <td>40</td>\n",
       "      <td>16</td>\n",
       "      <td>9</td>\n",
       "      <td>15</td>\n",
       "      <td>2</td>\n",
       "      <td>22</td>\n",
       "      <td>13HM</td>\n",
       "      <td>0</td>\n",
       "      <td>1</td>\n",
       "      <td>...</td>\n",
       "      <td>0.142857</td>\n",
       "      <td>0.142857</td>\n",
       "      <td>0.142857</td>\n",
       "      <td>0.000</td>\n",
       "      <td>0.0</td>\n",
       "      <td>0.0</td>\n",
       "      <td>0.000</td>\n",
       "      <td>0.857143</td>\n",
       "      <td>1.000</td>\n",
       "      <td>[-4.18877453e-02  5.60541414e-02  9.09477472e-...</td>\n",
       "    </tr>\n",
       "  </tbody>\n",
       "</table>\n",
       "<p>2 rows × 66 columns</p>\n",
       "</div>"
      ],
      "text/plain": [
       "                               Code  TAS20  F1  F2  F3  Gender  Age  Card  \\\n",
       "0  bc39e22ca5dba59fbd97c27987878f56     40  16   9  15       2   22     1   \n",
       "1  bc39e22ca5dba59fbd97c27987878f56     40  16   9  15       2   22  13HM   \n",
       "\n",
       "   T_Metaphors  T_ToM  ...  AUX_Ratio  DET_Ratio  SCONJ_Ratio  PRON_Ratio  \\\n",
       "0            0      1  ...   0.125000   0.187500     0.062500       0.125   \n",
       "1            0      1  ...   0.142857   0.142857     0.142857       0.000   \n",
       "\n",
       "  NUM_Ratio  PROPN_Ratio  ADP_Ratio       TTR    HTR  \\\n",
       "0       0.0          0.0      0.125  0.562500  0.875   \n",
       "1       0.0          0.0      0.000  0.857143  1.000   \n",
       "\n",
       "                                          Embed_USEM  \n",
       "0  [-7.31239393e-02  8.52924492e-03  5.43712601e-...  \n",
       "1  [-4.18877453e-02  5.60541414e-02  9.09477472e-...  \n",
       "\n",
       "[2 rows x 66 columns]"
      ]
     },
     "execution_count": 4,
     "metadata": {},
     "output_type": "execute_result"
    }
   ],
   "source": [
    "alex_df.head(2)"
   ]
  },
  {
   "cell_type": "markdown",
   "metadata": {},
   "source": [
    "## Check doc vector reading"
   ]
  },
  {
   "cell_type": "code",
   "execution_count": 14,
   "metadata": {},
   "outputs": [
    {
     "data": {
      "text/plain": [
       "'[-7.31239393e-02  8.52924492e-03  5.43712601e-02  2.08456889e-02\\n  9.62229073e-03 -2.31775343e-02 -1.51738869e-02 -4.06471193e-02\\n  9.09910426e-02  5.55083230e-02  2.58596018e-02  2.69212648e-02\\n -4.07966934e-02  3.81241878e-03 -9.27785039e-02 -6.52729627e-03\\n  1.31709967e-02 -8.98597389e-02  5.8614'"
      ]
     },
     "execution_count": 14,
     "metadata": {},
     "output_type": "execute_result"
    }
   ],
   "source": [
    "alex_df.Embed_USEM.iloc[0][0:300]"
   ]
  },
  {
   "cell_type": "code",
   "execution_count": 6,
   "metadata": {},
   "outputs": [],
   "source": [
    "# Check one embedding: \n",
    "import ast \n",
    "\n",
    "str_embed = alex_df.Embed_USEM.iloc[0]"
   ]
  },
  {
   "cell_type": "code",
   "execution_count": 7,
   "metadata": {},
   "outputs": [
    {
     "data": {
      "text/plain": [
       "'[-7.31239393e-02, 8.52924492e-03, 5.43712601e-02, 2.08456889e-02, 9.62229073e-03, -2.31775343e-02, -1.51738869e-02, -4.06471193e-02, 9.09910426e-02, 5.55083230e-02, 2.58596018e-02, 2.69212648e-02, -4.07966934e-02, 3.81241878e-03, -9.27785039e-02, -6.52729627e-03, 1.31709967e-02, -8.98597389e-02, 5.86147793e-02, 5.48405610e-02, -3.24900411e-02, -1.00729443e-01, -4.92807068e-02, -2.05314662e-02, -4.82679754e-02, -1.29080620e-02, -3.21022272e-02, 1.60321034e-02, -3.05626094e-02, -3.88347730e-02, 4.80759218e-02, 4.10175696e-03, -9.00816452e-03, -5.84913231e-02, -6.34448528e-02, -1.05560206e-01, -8.32465105e-03, 3.01267579e-02, -2.32454818e-02, -6.74978271e-02, -6.01511151e-02, -1.08380485e-02, 5.39895408e-02, -7.65051274e-03, 6.45901188e-02, 4.71151760e-03, -2.56772581e-02, 5.28126657e-02, 3.70419323e-02, 1.78743470e-02, 5.87179363e-02, -3.33281420e-02, -8.67249444e-03, 3.61799635e-03, 2.07091067e-02, 5.44809066e-02, -4.44121175e-02, 4.10634130e-02, -3.86134237e-02, 3.63026485e-02, -3.53291854e-02, 3.74152847e-02, 3.07988673e-02, -2.20270697e-02, -3.97093035e-02, -4.84896963e-03, 2.32336000e-02, -6.40006959e-02, 6.05974495e-02, 9.14037600e-03, 6.69210628e-02, 3.10326554e-02, 9.99056827e-03, -2.24313661e-02, -5.45639452e-03, 2.14382466e-02, 3.97514589e-02, -3.27046961e-02, 2.00405680e-02, -6.07709810e-02, -1.05341375e-01, 3.87709308e-03, -1.41878554e-03, -1.58612859e-02, 5.02967425e-02, 1.96006615e-02, -2.22057570e-02, 3.25383469e-02, 6.08684793e-02, 8.44407529e-02, 4.42851186e-02, 3.43884416e-02, 2.66241152e-02, 3.35107744e-02, -6.22725971e-02, 3.80136594e-02, -6.69668391e-02, -6.23579212e-02, -1.69920661e-02, 3.73244733e-02, 2.76594479e-02, 7.21567348e-02, -4.49288487e-02, -5.94688486e-03, 2.56172623e-02, 5.68929827e-03, -3.95096233e-03, 4.15628664e-02, -2.04453547e-03, -4.06428985e-02, -2.19327509e-02, -2.05933303e-02, 6.19525537e-02, 9.98566765e-03, -9.57136694e-03, -1.49254417e-02, -2.61552166e-02, 1.44935548e-02, -6.48110965e-03, 4.49771695e-02, 1.84432343e-02, 3.40198312e-05, -1.21234125e-02, -1.84612237e-02, 6.25883415e-02, 1.73068196e-02, -5.71241416e-02, -7.67189786e-02, -1.75029170e-02, -1.68342050e-02, -4.28330339e-03, 3.83217148e-02, 7.70405829e-02, 4.49526869e-02, -8.62945095e-02, -4.33603855e-05, 1.07160034e-02, 5.50614037e-02, 4.12487909e-02, -9.18451604e-03, 1.19411740e-02, -1.84518620e-02, 3.59585471e-02, 3.05159553e-03, -2.83313431e-02, -2.03071777e-02, -6.60488382e-02, 1.71608536e-03, 2.21027732e-02, -2.45484952e-02, -2.37423163e-02, -2.07948312e-02, -2.69997418e-02, -4.48992848e-03, 1.97962951e-02, 1.18045947e-02, -3.02099548e-02, 2.47858441e-03, -6.35153726e-02, -1.13860946e-02, 6.02229834e-02, 4.38805260e-02, 6.33475482e-02, -2.96330750e-02, 2.27888264e-02, -6.53182641e-02, -6.05835579e-02, -8.09346512e-02, 1.67136081e-02, -2.19816137e-02, 2.40792073e-02, -2.51053292e-02, 3.35796475e-02, 3.21782865e-02, 1.11179203e-02, 1.59652550e-02, -7.04286918e-02, 5.14941588e-02, 5.74762821e-02, 9.75443348e-02, 2.12552939e-02, -4.67252508e-02, 6.01568371e-02, -2.84866169e-02, -1.94352232e-02, -2.89417673e-02, 3.57940011e-02, 2.87229754e-02, -4.55975831e-02, 6.40041605e-02, 5.34306355e-02, 6.49942830e-02, 2.49620918e-02, -1.72757097e-02, -6.62241429e-02, -2.86126435e-02, -1.13933496e-02, -1.35994917e-02, 1.09425206e-02, -6.10757023e-02, 8.71019438e-03, 4.14069220e-02, 1.01309475e-02, 8.57305303e-02, -2.31089592e-02, 2.88836136e-02, -4.34798524e-02, -6.26310855e-02, -4.45867591e-02, -4.79644444e-03, -4.98706140e-02, -9.54459611e-05, -8.97352248e-02, 2.68280366e-03, -4.56528850e-02, 5.73305711e-02, 4.85942811e-02, -1.29879368e-02, 8.35155994e-02, 5.77806793e-02, -1.67514365e-02, -2.50164177e-02, -1.41605567e-02, 4.29361016e-02, 4.89172786e-02, 4.89791185e-02, 5.26858866e-02, 6.51196614e-02, -4.02014740e-02, 7.32323825e-02, -3.12724635e-02, 1.95597522e-02, 2.46734805e-02, 1.88777465e-02, 5.03257774e-02, 2.33884193e-02, -4.56830561e-02, 3.36578973e-02, -8.04231539e-02, -1.12149669e-02, -2.00881809e-02, -5.64479157e-02, 2.85854973e-02, -2.18010717e-03, -7.45957196e-02, 4.08431366e-02, 8.19990784e-02, -2.95764469e-02, 2.97647808e-02, 5.63192666e-02, -8.83638933e-02, 4.53557707e-02, 7.01271966e-02, 1.76479518e-02, -4.43526879e-02, 3.12331915e-02, -1.51670007e-02, 3.24649625e-02, -2.23500114e-02, 2.80435178e-02, -1.70994103e-02, 2.38330271e-02, 4.35596704e-02, -4.77819927e-02, -5.72693758e-02, 4.58420850e-02, -7.52980486e-02, -9.17730257e-02, 2.67506274e-03, 3.15567143e-02, -4.56133373e-02, -4.16294895e-02, -1.15058171e-02, -5.34453578e-02, 4.47640195e-02, -1.39479674e-02, 2.97455322e-02, 2.86122244e-02, -2.25603450e-02, -4.22020722e-03, -6.76050186e-02, 4.81075794e-02, 7.11155916e-03, 1.20488722e-02, -3.02903615e-02, 1.92773750e-03, -6.94841817e-02, -8.12380016e-02, -4.17445265e-02, -6.13264255e-02, 3.49906012e-02, -5.00957947e-03, -2.06449181e-02, -7.71126077e-02, 7.22251311e-02, -1.29891383e-02, -2.09139958e-02, -2.98832785e-02, 1.88069660e-02, -6.76578209e-02, -3.03142727e-03, -5.83405457e-02, -7.60420784e-02, -6.76123202e-02, 7.39073306e-02, 7.62005299e-02, 1.88518800e-02, -6.87842295e-02, -6.92598969e-02, 8.66482686e-03, -7.39303678e-02, -2.32898891e-02, 5.17156906e-02, 6.26580650e-03, -4.49321344e-02, -2.82701664e-02, -5.20979837e-02, -2.05857656e-03, -5.17931245e-02, -6.66333036e-03, -2.71854997e-02, 4.52677608e-02, -3.04285740e-03, 2.57751979e-02, -7.51219988e-02, -5.10102585e-02, -3.34780701e-02, -4.47248444e-02, 4.36264537e-02, -7.61835277e-02, -7.66596124e-02, -1.67958103e-02, -5.05587794e-02, 3.88243273e-02, -9.51709040e-03, -7.99563751e-02, 2.16977261e-02, 7.06100017e-02, -7.15941265e-02, 1.20642409e-02, -2.91832853e-02, -7.02651590e-02, 1.91559736e-02, 5.74529693e-02, 2.52071507e-02, 2.47392114e-02, -1.72958598e-02, 4.10875753e-02, -3.57342232e-03, 2.96067931e-02, 5.36811072e-04, -1.75089743e-02, 3.83376703e-02, 4.93486337e-02, 5.62936999e-02, 4.78816545e-03, 2.69864518e-02, -7.26589039e-02, 2.14162283e-03, 5.39039113e-02, -9.62231867e-03, 4.64064302e-03, 3.17455791e-02, -3.75767127e-02, 2.56757308e-02, -9.03350301e-03, 9.07292366e-02, 3.14570442e-02, -1.53806005e-02, -2.11736523e-02, 6.33342639e-02, -7.55854025e-02, 6.50542080e-02, -1.24894772e-02, 1.25756031e-02, -5.63980527e-02, -7.81034604e-02, -4.07137908e-02, -7.19562396e-02, -3.04968543e-02, -5.31730801e-02, -3.25830393e-02, 6.50893385e-03, 4.60411981e-02, -3.22840512e-02, 5.69556355e-02, -1.13167474e-02, -8.84608701e-02, 9.56982151e-02, -4.25886773e-02, 3.53116654e-02, -3.33880708e-02, 3.29835992e-03, 1.52155012e-02, 2.23692767e-02, -4.19142954e-02, -7.12281689e-02, 3.21027935e-02, -3.42645263e-03, -6.48939684e-02, -5.32641895e-02, -1.66913681e-03, 2.64718886e-02, -5.00480272e-02, -3.59143876e-02, -4.07142155e-02, 3.05385026e-03, -5.18588386e-02, -1.05485204e-03, 1.33722071e-02, -6.19270094e-03, 6.22958702e-04, 4.40013520e-02, 2.39700545e-03, 1.85871571e-02, -1.36892200e-02, 5.99729456e-02, -4.48652506e-02, -2.85437908e-02, 7.33431801e-03, 9.75457672e-03, -3.88662852e-02, 4.77225333e-02, -6.09503612e-02, -1.04032695e-01, 3.51272225e-02, -4.49390300e-02, 3.54734957e-02, -1.26975281e-02, 5.54323159e-02, -3.31058018e-02, -7.67129008e-03, -3.86243537e-02, 1.74587946e-02, 9.79929715e-02, 2.11045402e-03, 4.78485972e-02, 2.01127604e-02, -6.12889193e-02, -4.63967770e-02, -5.75005971e-02, 1.30308280e-03, 1.45238200e-02, -5.49703799e-02, -1.82238482e-02, -4.67233658e-02, 1.03942476e-01, 5.43834269e-02, -3.31468205e-03, -4.83273901e-02, -2.73532886e-02, 4.13648486e-02, -4.48624268e-02, 6.95429444e-02, -1.14176357e-02, -1.30875064e-02, 1.24603426e-02, 2.77201403e-02, 6.25247359e-02, -2.66522560e-02, -5.20165963e-03, -2.14025285e-03, 4.87368703e-02, -3.62682343e-02, -1.06180660e-01, -6.30358458e-02, -2.25803219e-02, 3.70533131e-02, -1.02875427e-04, 4.79137041e-02, -1.26132090e-02, -8.26081932e-02, -2.91483235e-02, 1.33077530e-02, -6.16459213e-02, 2.72248406e-02, -2.76070572e-02, -2.56724339e-02, -1.13269156e-02, 5.93582205e-02, -5.33491597e-02, 1.49435773e-02, 1.89263616e-02, 9.91478376e-03, -4.28921431e-02, 3.16576250e-02, -1.16941668e-02, -9.51962844e-02, -1.23145236e-02, 1.37184118e-03, 4.81866002e-02, 7.05557093e-02, 2.19667852e-02, -4.16274667e-02, 5.41236512e-02, 4.95058596e-02, -7.03717619e-02, -1.31016737e-02, 8.27757716e-02, -1.65058381e-03, -2.83764321e-02, 2.91389599e-02, 1.04691360e-04, -5.04442155e-02, -5.79338521e-02, -4.18754369e-02, 4.51067053e-02, 5.58234043e-02, 5.29632578e-03, -4.35158499e-02, 2.71758474e-02, 5.32943867e-02]'"
      ]
     },
     "execution_count": 7,
     "metadata": {},
     "output_type": "execute_result"
    }
   ],
   "source": [
    "str_embed = str_embed.replace('\\n', '')\n",
    "str_embed = ' '.join(str_embed.split())\n",
    "str_embed = str_embed.replace(' ', ', ')\n",
    "str_embed"
   ]
  },
  {
   "cell_type": "code",
   "execution_count": 8,
   "metadata": {},
   "outputs": [],
   "source": [
    "embed = ast.literal_eval(str_embed)"
   ]
  },
  {
   "cell_type": "code",
   "execution_count": 9,
   "metadata": {},
   "outputs": [
    {
     "data": {
      "text/plain": [
       "list"
      ]
     },
     "execution_count": 9,
     "metadata": {},
     "output_type": "execute_result"
    }
   ],
   "source": [
    "type(embed)"
   ]
  },
  {
   "cell_type": "code",
   "execution_count": 12,
   "metadata": {},
   "outputs": [
    {
     "data": {
      "text/plain": [
       "512"
      ]
     },
     "execution_count": 12,
     "metadata": {},
     "output_type": "execute_result"
    }
   ],
   "source": [
    "len(embed)"
   ]
  },
  {
   "cell_type": "markdown",
   "metadata": {},
   "source": [
    "## Extracting doc vectors from CSV format"
   ]
  },
  {
   "cell_type": "code",
   "execution_count": 62,
   "metadata": {},
   "outputs": [],
   "source": [
    "def get_DocVec( vec_txt ):\n",
    "    \n",
    "    # Process string as stored in the CSV:\n",
    "    str_embed = ''\n",
    "    str_embed = vec_txt.replace('\\n', '')\n",
    "    str_embed = ' '.join(str_embed.split())\n",
    "    str_embed = str_embed.replace(' ', ', ')\n",
    "    \n",
    "    # From formatted string to list\n",
    "    \n",
    "    try:\n",
    "        embed = ast.literal_eval(str_embed)        \n",
    "    except SyntaxError as ex:\n",
    "        embed = []\n",
    "    \n",
    "    return embed"
   ]
  },
  {
   "cell_type": "code",
   "execution_count": 63,
   "metadata": {},
   "outputs": [
    {
     "data": {
      "text/plain": [
       "[]"
      ]
     },
     "execution_count": 63,
     "metadata": {},
     "output_type": "execute_result"
    }
   ],
   "source": [
    "get_DocVec( \"[3%,4$]\" )"
   ]
  },
  {
   "cell_type": "code",
   "execution_count": 64,
   "metadata": {},
   "outputs": [
    {
     "data": {
      "text/plain": [
       "'Se levantó Jaime por la mañana sin poder creer lo que acaba de pasar, su mujer, su esposa desde hace 15 años había fallecido de la noche a la mañana. Madre mia, querría por todos los medios que eso fuera un sueño, pero no era así. Cómo se lo pensaba decir a las niñas, y sus padres. Qué horrible.'"
      ]
     },
     "execution_count": 64,
     "metadata": {},
     "output_type": "execute_result"
    }
   ],
   "source": [
    "alex_df.Text.iloc[12]"
   ]
  },
  {
   "cell_type": "code",
   "execution_count": 66,
   "metadata": {},
   "outputs": [
    {
     "data": {
      "text/plain": [
       "[-0.0499770753, -0.0436713472, 0.0532757044, 0.0132640311]"
      ]
     },
     "execution_count": 66,
     "metadata": {},
     "output_type": "execute_result"
    }
   ],
   "source": [
    "get_DocVec(alex_df.Embed_USEM.iloc[11])[0:4]"
   ]
  },
  {
   "cell_type": "code",
   "execution_count": 88,
   "metadata": {},
   "outputs": [
    {
     "data": {
      "text/plain": [
       "(381, 66)"
      ]
     },
     "execution_count": 88,
     "metadata": {},
     "output_type": "execute_result"
    }
   ],
   "source": [
    "alex_df.shape"
   ]
  },
  {
   "cell_type": "markdown",
   "metadata": {},
   "source": [
    "## Using doc vecs for alexithymia classification\n",
    "- Building a df with features being the 512 dims of the doc vectors: Xi.\n",
    "- And label to be predictied (y) being alexithymia (Alex_A).\n",
    "- Using a random forest to try to predict y as a function of Xi --> y' = f(Xi)"
   ]
  },
  {
   "cell_type": "code",
   "execution_count": 82,
   "metadata": {},
   "outputs": [],
   "source": [
    "# New dataframes with features (512 dims of the doc vec) and target (alexithymia class)\n",
    "col_names = []\n",
    "for i in range(512):\n",
    "    col_names.append(\"x_\" + str(i))\n",
    "col_names.append(\"y\")   \n",
    "\n",
    "ml_df = pd.DataFrame(columns = col_names)"
   ]
  },
  {
   "cell_type": "code",
   "execution_count": 83,
   "metadata": {},
   "outputs": [
    {
     "data": {
      "text/html": [
       "<div>\n",
       "<style scoped>\n",
       "    .dataframe tbody tr th:only-of-type {\n",
       "        vertical-align: middle;\n",
       "    }\n",
       "\n",
       "    .dataframe tbody tr th {\n",
       "        vertical-align: top;\n",
       "    }\n",
       "\n",
       "    .dataframe thead th {\n",
       "        text-align: right;\n",
       "    }\n",
       "</style>\n",
       "<table border=\"1\" class=\"dataframe\">\n",
       "  <thead>\n",
       "    <tr style=\"text-align: right;\">\n",
       "      <th></th>\n",
       "      <th>x_0</th>\n",
       "      <th>x_1</th>\n",
       "      <th>x_2</th>\n",
       "      <th>x_3</th>\n",
       "      <th>x_4</th>\n",
       "      <th>x_5</th>\n",
       "      <th>x_6</th>\n",
       "      <th>x_7</th>\n",
       "      <th>x_8</th>\n",
       "      <th>x_9</th>\n",
       "      <th>...</th>\n",
       "      <th>x_503</th>\n",
       "      <th>x_504</th>\n",
       "      <th>x_505</th>\n",
       "      <th>x_506</th>\n",
       "      <th>x_507</th>\n",
       "      <th>x_508</th>\n",
       "      <th>x_509</th>\n",
       "      <th>x_510</th>\n",
       "      <th>x_511</th>\n",
       "      <th>y</th>\n",
       "    </tr>\n",
       "  </thead>\n",
       "  <tbody>\n",
       "  </tbody>\n",
       "</table>\n",
       "<p>0 rows × 513 columns</p>\n",
       "</div>"
      ],
      "text/plain": [
       "Empty DataFrame\n",
       "Columns: [x_0, x_1, x_2, x_3, x_4, x_5, x_6, x_7, x_8, x_9, x_10, x_11, x_12, x_13, x_14, x_15, x_16, x_17, x_18, x_19, x_20, x_21, x_22, x_23, x_24, x_25, x_26, x_27, x_28, x_29, x_30, x_31, x_32, x_33, x_34, x_35, x_36, x_37, x_38, x_39, x_40, x_41, x_42, x_43, x_44, x_45, x_46, x_47, x_48, x_49, x_50, x_51, x_52, x_53, x_54, x_55, x_56, x_57, x_58, x_59, x_60, x_61, x_62, x_63, x_64, x_65, x_66, x_67, x_68, x_69, x_70, x_71, x_72, x_73, x_74, x_75, x_76, x_77, x_78, x_79, x_80, x_81, x_82, x_83, x_84, x_85, x_86, x_87, x_88, x_89, x_90, x_91, x_92, x_93, x_94, x_95, x_96, x_97, x_98, x_99, ...]\n",
       "Index: []\n",
       "\n",
       "[0 rows x 513 columns]"
      ]
     },
     "execution_count": 83,
     "metadata": {},
     "output_type": "execute_result"
    }
   ],
   "source": [
    "ml_df"
   ]
  },
  {
   "cell_type": "code",
   "execution_count": 84,
   "metadata": {},
   "outputs": [],
   "source": [
    "# Fill the new df\n",
    "for index, row in alex_df.iterrows():\n",
    "    docvec = get_DocVec(row.Embed_USEM)\n",
    "    if ( len(docvec) == 512):\n",
    "        docvec.append(row.Alex_A)\n",
    "        # print(str(index) + \": \" + str(docvec))\n",
    "        # print(str(index))\n",
    "        a_series = pd.Series(docvec, index=ml_df.columns)\n",
    "        ml_df = ml_df.append(a_series, ignore_index=True)"
   ]
  },
  {
   "cell_type": "code",
   "execution_count": 85,
   "metadata": {},
   "outputs": [
    {
     "data": {
      "text/html": [
       "<div>\n",
       "<style scoped>\n",
       "    .dataframe tbody tr th:only-of-type {\n",
       "        vertical-align: middle;\n",
       "    }\n",
       "\n",
       "    .dataframe tbody tr th {\n",
       "        vertical-align: top;\n",
       "    }\n",
       "\n",
       "    .dataframe thead th {\n",
       "        text-align: right;\n",
       "    }\n",
       "</style>\n",
       "<table border=\"1\" class=\"dataframe\">\n",
       "  <thead>\n",
       "    <tr style=\"text-align: right;\">\n",
       "      <th></th>\n",
       "      <th>x_0</th>\n",
       "      <th>x_1</th>\n",
       "      <th>x_2</th>\n",
       "      <th>x_3</th>\n",
       "      <th>x_4</th>\n",
       "      <th>x_5</th>\n",
       "      <th>x_6</th>\n",
       "      <th>x_7</th>\n",
       "      <th>x_8</th>\n",
       "      <th>x_9</th>\n",
       "      <th>...</th>\n",
       "      <th>x_503</th>\n",
       "      <th>x_504</th>\n",
       "      <th>x_505</th>\n",
       "      <th>x_506</th>\n",
       "      <th>x_507</th>\n",
       "      <th>x_508</th>\n",
       "      <th>x_509</th>\n",
       "      <th>x_510</th>\n",
       "      <th>x_511</th>\n",
       "      <th>y</th>\n",
       "    </tr>\n",
       "  </thead>\n",
       "  <tbody>\n",
       "    <tr>\n",
       "      <th>6</th>\n",
       "      <td>-0.042583</td>\n",
       "      <td>-0.026122</td>\n",
       "      <td>0.072293</td>\n",
       "      <td>-0.031568</td>\n",
       "      <td>-0.050732</td>\n",
       "      <td>-0.049053</td>\n",
       "      <td>-0.010643</td>\n",
       "      <td>-0.070609</td>\n",
       "      <td>0.093300</td>\n",
       "      <td>0.044327</td>\n",
       "      <td>...</td>\n",
       "      <td>-0.047869</td>\n",
       "      <td>-0.053675</td>\n",
       "      <td>-0.038461</td>\n",
       "      <td>0.009039</td>\n",
       "      <td>0.050932</td>\n",
       "      <td>-0.007903</td>\n",
       "      <td>0.017709</td>\n",
       "      <td>0.060860</td>\n",
       "      <td>0.007182</td>\n",
       "      <td>0.0</td>\n",
       "    </tr>\n",
       "    <tr>\n",
       "      <th>304</th>\n",
       "      <td>-0.042144</td>\n",
       "      <td>0.020095</td>\n",
       "      <td>0.046625</td>\n",
       "      <td>-0.028251</td>\n",
       "      <td>-0.025519</td>\n",
       "      <td>-0.016321</td>\n",
       "      <td>-0.022097</td>\n",
       "      <td>-0.066276</td>\n",
       "      <td>0.082082</td>\n",
       "      <td>0.069979</td>\n",
       "      <td>...</td>\n",
       "      <td>0.006712</td>\n",
       "      <td>-0.047060</td>\n",
       "      <td>-0.043909</td>\n",
       "      <td>-0.004645</td>\n",
       "      <td>0.052653</td>\n",
       "      <td>0.015768</td>\n",
       "      <td>-0.017322</td>\n",
       "      <td>0.028792</td>\n",
       "      <td>0.032775</td>\n",
       "      <td>1.0</td>\n",
       "    </tr>\n",
       "    <tr>\n",
       "      <th>318</th>\n",
       "      <td>-0.015038</td>\n",
       "      <td>-0.010592</td>\n",
       "      <td>0.054217</td>\n",
       "      <td>-0.006452</td>\n",
       "      <td>-0.059231</td>\n",
       "      <td>-0.019235</td>\n",
       "      <td>-0.043250</td>\n",
       "      <td>-0.072545</td>\n",
       "      <td>0.075841</td>\n",
       "      <td>0.064178</td>\n",
       "      <td>...</td>\n",
       "      <td>-0.021962</td>\n",
       "      <td>-0.048283</td>\n",
       "      <td>-0.035060</td>\n",
       "      <td>0.031862</td>\n",
       "      <td>0.060261</td>\n",
       "      <td>0.030374</td>\n",
       "      <td>-0.024699</td>\n",
       "      <td>0.016523</td>\n",
       "      <td>0.058286</td>\n",
       "      <td>0.0</td>\n",
       "    </tr>\n",
       "    <tr>\n",
       "      <th>160</th>\n",
       "      <td>-0.024376</td>\n",
       "      <td>0.013349</td>\n",
       "      <td>0.067786</td>\n",
       "      <td>-0.000418</td>\n",
       "      <td>-0.038532</td>\n",
       "      <td>-0.041453</td>\n",
       "      <td>-0.059419</td>\n",
       "      <td>-0.067756</td>\n",
       "      <td>0.075298</td>\n",
       "      <td>0.068596</td>\n",
       "      <td>...</td>\n",
       "      <td>-0.048566</td>\n",
       "      <td>-0.033402</td>\n",
       "      <td>-0.038841</td>\n",
       "      <td>0.024853</td>\n",
       "      <td>0.051833</td>\n",
       "      <td>0.054188</td>\n",
       "      <td>0.002309</td>\n",
       "      <td>0.025766</td>\n",
       "      <td>0.046561</td>\n",
       "      <td>0.0</td>\n",
       "    </tr>\n",
       "    <tr>\n",
       "      <th>66</th>\n",
       "      <td>-0.018161</td>\n",
       "      <td>0.016608</td>\n",
       "      <td>0.063132</td>\n",
       "      <td>-0.018519</td>\n",
       "      <td>-0.036722</td>\n",
       "      <td>-0.020456</td>\n",
       "      <td>-0.040975</td>\n",
       "      <td>-0.065057</td>\n",
       "      <td>0.078790</td>\n",
       "      <td>0.056758</td>\n",
       "      <td>...</td>\n",
       "      <td>-0.029739</td>\n",
       "      <td>-0.046248</td>\n",
       "      <td>-0.016601</td>\n",
       "      <td>-0.011005</td>\n",
       "      <td>0.058983</td>\n",
       "      <td>0.047400</td>\n",
       "      <td>0.008180</td>\n",
       "      <td>0.046651</td>\n",
       "      <td>0.023453</td>\n",
       "      <td>0.0</td>\n",
       "    </tr>\n",
       "    <tr>\n",
       "      <th>209</th>\n",
       "      <td>-0.044084</td>\n",
       "      <td>0.003223</td>\n",
       "      <td>0.075401</td>\n",
       "      <td>0.025500</td>\n",
       "      <td>-0.026090</td>\n",
       "      <td>-0.013931</td>\n",
       "      <td>-0.027696</td>\n",
       "      <td>-0.072641</td>\n",
       "      <td>0.095963</td>\n",
       "      <td>0.043599</td>\n",
       "      <td>...</td>\n",
       "      <td>-0.019119</td>\n",
       "      <td>-0.045525</td>\n",
       "      <td>-0.038326</td>\n",
       "      <td>0.013268</td>\n",
       "      <td>0.037031</td>\n",
       "      <td>0.018315</td>\n",
       "      <td>0.021758</td>\n",
       "      <td>0.001306</td>\n",
       "      <td>0.052808</td>\n",
       "      <td>0.0</td>\n",
       "    </tr>\n",
       "  </tbody>\n",
       "</table>\n",
       "<p>6 rows × 513 columns</p>\n",
       "</div>"
      ],
      "text/plain": [
       "          x_0       x_1       x_2       x_3       x_4       x_5       x_6  \\\n",
       "6   -0.042583 -0.026122  0.072293 -0.031568 -0.050732 -0.049053 -0.010643   \n",
       "304 -0.042144  0.020095  0.046625 -0.028251 -0.025519 -0.016321 -0.022097   \n",
       "318 -0.015038 -0.010592  0.054217 -0.006452 -0.059231 -0.019235 -0.043250   \n",
       "160 -0.024376  0.013349  0.067786 -0.000418 -0.038532 -0.041453 -0.059419   \n",
       "66  -0.018161  0.016608  0.063132 -0.018519 -0.036722 -0.020456 -0.040975   \n",
       "209 -0.044084  0.003223  0.075401  0.025500 -0.026090 -0.013931 -0.027696   \n",
       "\n",
       "          x_7       x_8       x_9  ...     x_503     x_504     x_505  \\\n",
       "6   -0.070609  0.093300  0.044327  ... -0.047869 -0.053675 -0.038461   \n",
       "304 -0.066276  0.082082  0.069979  ...  0.006712 -0.047060 -0.043909   \n",
       "318 -0.072545  0.075841  0.064178  ... -0.021962 -0.048283 -0.035060   \n",
       "160 -0.067756  0.075298  0.068596  ... -0.048566 -0.033402 -0.038841   \n",
       "66  -0.065057  0.078790  0.056758  ... -0.029739 -0.046248 -0.016601   \n",
       "209 -0.072641  0.095963  0.043599  ... -0.019119 -0.045525 -0.038326   \n",
       "\n",
       "        x_506     x_507     x_508     x_509     x_510     x_511    y  \n",
       "6    0.009039  0.050932 -0.007903  0.017709  0.060860  0.007182  0.0  \n",
       "304 -0.004645  0.052653  0.015768 -0.017322  0.028792  0.032775  1.0  \n",
       "318  0.031862  0.060261  0.030374 -0.024699  0.016523  0.058286  0.0  \n",
       "160  0.024853  0.051833  0.054188  0.002309  0.025766  0.046561  0.0  \n",
       "66  -0.011005  0.058983  0.047400  0.008180  0.046651  0.023453  0.0  \n",
       "209  0.013268  0.037031  0.018315  0.021758  0.001306  0.052808  0.0  \n",
       "\n",
       "[6 rows x 513 columns]"
      ]
     },
     "execution_count": 85,
     "metadata": {},
     "output_type": "execute_result"
    }
   ],
   "source": [
    "ml_df.sample(6)"
   ]
  },
  {
   "cell_type": "code",
   "execution_count": 87,
   "metadata": {},
   "outputs": [
    {
     "data": {
      "text/plain": [
       "(356, 513)"
      ]
     },
     "execution_count": 87,
     "metadata": {},
     "output_type": "execute_result"
    }
   ],
   "source": [
    "ml_df.shape"
   ]
  },
  {
   "cell_type": "markdown",
   "metadata": {},
   "source": [
    "### Train/Test sets"
   ]
  },
  {
   "cell_type": "code",
   "execution_count": 89,
   "metadata": {},
   "outputs": [],
   "source": [
    "# Labels are the values we want to predict\n",
    "labels = np.array(ml_df['y'])"
   ]
  },
  {
   "cell_type": "code",
   "execution_count": 90,
   "metadata": {},
   "outputs": [],
   "source": [
    "# Remove the labels from the features\n",
    "# axis 1 refers to the columns\n",
    "features = ml_df.drop('y', axis = 1)"
   ]
  },
  {
   "cell_type": "code",
   "execution_count": 91,
   "metadata": {},
   "outputs": [],
   "source": [
    "# Saving feature names for later use\n",
    "feature_list = list(features.columns)"
   ]
  },
  {
   "cell_type": "code",
   "execution_count": 92,
   "metadata": {},
   "outputs": [],
   "source": [
    "# Convert to numpy array\n",
    "features = np.array(features)"
   ]
  },
  {
   "cell_type": "code",
   "execution_count": 93,
   "metadata": {},
   "outputs": [],
   "source": [
    "# Using Skicit-learn to split data into training and testing sets\n",
    "from sklearn.model_selection import train_test_split\n",
    "\n",
    "# Split the data into training and testing sets\n",
    "train_features, test_features, train_labels, test_labels = train_test_split(features, labels, test_size = 0.25, random_state = 42)"
   ]
  },
  {
   "cell_type": "code",
   "execution_count": 94,
   "metadata": {},
   "outputs": [
    {
     "name": "stdout",
     "output_type": "stream",
     "text": [
      "Training Features Shape: (267, 512)\n",
      "Training Labels Shape: (267,)\n",
      "Testing Features Shape: (89, 512)\n",
      "Testing Labels Shape: (89,)\n"
     ]
    }
   ],
   "source": [
    "print('Training Features Shape:', train_features.shape)\n",
    "print('Training Labels Shape:', train_labels.shape)\n",
    "print('Testing Features Shape:', test_features.shape)\n",
    "print('Testing Labels Shape:', test_labels.shape)"
   ]
  },
  {
   "cell_type": "markdown",
   "metadata": {},
   "source": [
    "### Vector 3D Visualization per class"
   ]
  },
  {
   "cell_type": "code",
   "execution_count": 124,
   "metadata": {},
   "outputs": [],
   "source": [
    "from sklearn.manifold import TSNE\n",
    "import matplotlib.pyplot as plt \n",
    "from mpl_toolkits.mplot3d import Axes3D"
   ]
  },
  {
   "cell_type": "code",
   "execution_count": 116,
   "metadata": {},
   "outputs": [
    {
     "data": {
      "text/plain": [
       "(356, 512)"
      ]
     },
     "execution_count": 116,
     "metadata": {},
     "output_type": "execute_result"
    }
   ],
   "source": [
    "features.shape"
   ]
  },
  {
   "cell_type": "code",
   "execution_count": 121,
   "metadata": {},
   "outputs": [],
   "source": [
    "# Reduce dimensionality to 2D\n",
    "tsne = TSNE(n_components=3)\n",
    "tsne_3D = tsne.fit_transform(features)"
   ]
  },
  {
   "cell_type": "code",
   "execution_count": 122,
   "metadata": {},
   "outputs": [],
   "source": [
    "# df with 3D projections of vectors\n",
    "df_3D = pd.DataFrame(tsne_3D, columns=['tsne_0', 'tsne_1', 'tsne_2'])"
   ]
  },
  {
   "cell_type": "code",
   "execution_count": 129,
   "metadata": {},
   "outputs": [
    {
     "data": {
      "image/png": "[encoded data removed]",
      "text/plain": [
       "<Figure size 864x576 with 1 Axes>"
      ]
     },
     "metadata": {
      "needs_background": "light"
     },
     "output_type": "display_data"
    }
   ],
   "source": [
    "colors = {0: 'blue', 1: 'red'}\n",
    "ax = plt.figure(figsize=(12,8)).gca(projection='3d')\n",
    "ax.scatter(\n",
    "    xs=df_3D[\"tsne_0\"], \n",
    "    ys=df_3D[\"tsne_1\"], \n",
    "    zs=df_3D[\"tsne_2\"], \n",
    "    c=[colors[xi] for xi in labels]\n",
    ")\n",
    "ax.set_xlabel('tnse-0')\n",
    "ax.set_ylabel('tnse-1')\n",
    "ax.set_zlabel('tnse-2')\n",
    "plt.title(\"3D Projection (t-SNE) - Target: Alexithymia\")\n",
    "plt.show()"
   ]
  },
  {
   "cell_type": "markdown",
   "metadata": {},
   "source": [
    "### Trying to predict with a Random Forest"
   ]
  },
  {
   "cell_type": "code",
   "execution_count": 96,
   "metadata": {},
   "outputs": [],
   "source": [
    "from sklearn.ensemble import RandomForestClassifier\n",
    "\n",
    "# Instantiate model with 1000 decision trees\n",
    "rf = RandomForestClassifier(n_estimators = 1000, random_state = 42)\n",
    "\n",
    "# Train the model on training data\n",
    "rf.fit(train_features, train_labels);"
   ]
  },
  {
   "cell_type": "code",
   "execution_count": 97,
   "metadata": {},
   "outputs": [],
   "source": [
    "# Use the forest's predict method on the test data\n",
    "predictions = rf.predict(test_features)"
   ]
  },
  {
   "cell_type": "markdown",
   "metadata": {},
   "source": [
    "### Evaluating the model\n",
    "- See https://en.wikipedia.org/wiki/Receiver_operating_characteristic "
   ]
  },
  {
   "cell_type": "code",
   "execution_count": 98,
   "metadata": {},
   "outputs": [
    {
     "data": {
      "text/plain": [
       "array([0., 0., 0., 0., 0., 0., 0., 0., 1., 0., 0., 0., 1., 1., 0., 0., 1.,\n",
       "       0., 1., 0., 0., 0., 0., 0., 0., 0., 0., 1., 0., 0., 0., 0., 1., 0.,\n",
       "       1., 0., 0., 0., 0., 0., 0., 0., 0., 0., 1., 0., 0., 0., 0., 0., 0.,\n",
       "       0., 0., 1., 1., 1., 0., 0., 0., 0., 0., 0., 0., 0., 0., 0., 1., 0.,\n",
       "       0., 0., 0., 0., 1., 0., 0., 0., 1., 0., 0., 0., 0., 0., 1., 0., 1.,\n",
       "       1., 0., 0., 0.])"
      ]
     },
     "execution_count": 98,
     "metadata": {},
     "output_type": "execute_result"
    }
   ],
   "source": [
    "test_labels"
   ]
  },
  {
   "cell_type": "code",
   "execution_count": 99,
   "metadata": {},
   "outputs": [
    {
     "data": {
      "text/plain": [
       "array([0., 0., 1., 0., 0., 0., 0., 0., 0., 0., 0., 0., 0., 1., 0., 0., 0.,\n",
       "       0., 0., 0., 0., 0., 0., 0., 0., 0., 0., 0., 0., 0., 0., 0., 0., 0.,\n",
       "       0., 0., 0., 1., 0., 0., 0., 0., 1., 1., 0., 0., 0., 1., 0., 0., 0.,\n",
       "       0., 0., 0., 0., 0., 0., 0., 0., 0., 0., 0., 0., 0., 0., 0., 0., 0.,\n",
       "       0., 0., 1., 0., 0., 0., 0., 0., 0., 0., 0., 0., 0., 1., 0., 0., 1.,\n",
       "       1., 0., 0., 0.])"
      ]
     },
     "execution_count": 99,
     "metadata": {},
     "output_type": "execute_result"
    }
   ],
   "source": [
    "predictions"
   ]
  },
  {
   "cell_type": "code",
   "execution_count": 102,
   "metadata": {
    "scrolled": true
   },
   "outputs": [
    {
     "data": {
      "text/html": [
       "<div>\n",
       "<style scoped>\n",
       "    .dataframe tbody tr th:only-of-type {\n",
       "        vertical-align: middle;\n",
       "    }\n",
       "\n",
       "    .dataframe tbody tr th {\n",
       "        vertical-align: top;\n",
       "    }\n",
       "\n",
       "    .dataframe thead th {\n",
       "        text-align: right;\n",
       "    }\n",
       "</style>\n",
       "<table border=\"1\" class=\"dataframe\">\n",
       "  <thead>\n",
       "    <tr style=\"text-align: right;\">\n",
       "      <th>Predicted</th>\n",
       "      <th>0.0</th>\n",
       "      <th>1.0</th>\n",
       "    </tr>\n",
       "    <tr>\n",
       "      <th>Actual</th>\n",
       "      <th></th>\n",
       "      <th></th>\n",
       "    </tr>\n",
       "  </thead>\n",
       "  <tbody>\n",
       "    <tr>\n",
       "      <th>0.0</th>\n",
       "      <td>64</td>\n",
       "      <td>7</td>\n",
       "    </tr>\n",
       "    <tr>\n",
       "      <th>1.0</th>\n",
       "      <td>15</td>\n",
       "      <td>3</td>\n",
       "    </tr>\n",
       "  </tbody>\n",
       "</table>\n",
       "</div>"
      ],
      "text/plain": [
       "Predicted  0.0  1.0\n",
       "Actual             \n",
       "0.0         64    7\n",
       "1.0         15    3"
      ]
     },
     "execution_count": 102,
     "metadata": {},
     "output_type": "execute_result"
    }
   ],
   "source": [
    "# Create confusion matrix\n",
    "cm = pd.crosstab(test_labels, predictions, rownames=['Actual'], colnames=['Predicted'])\n",
    "cm"
   ]
  },
  {
   "cell_type": "code",
   "execution_count": 105,
   "metadata": {},
   "outputs": [
    {
     "data": {
      "text/plain": [
       "89"
      ]
     },
     "execution_count": 105,
     "metadata": {},
     "output_type": "execute_result"
    }
   ],
   "source": [
    "# Total\n",
    "Total = cm[0][0] + cm[1][1] + cm[0][1] + cm[1][0]\n",
    "Total"
   ]
  },
  {
   "cell_type": "code",
   "execution_count": 107,
   "metadata": {},
   "outputs": [
    {
     "data": {
      "text/plain": [
       "67"
      ]
     },
     "execution_count": 107,
     "metadata": {},
     "output_type": "execute_result"
    }
   ],
   "source": [
    "# Hits\n",
    "Hits = cm[0][0] + cm[1][1]\n",
    "Hits"
   ]
  },
  {
   "cell_type": "code",
   "execution_count": 108,
   "metadata": {},
   "outputs": [
    {
     "data": {
      "text/plain": [
       "0.7528089887640449"
      ]
     },
     "execution_count": 108,
     "metadata": {},
     "output_type": "execute_result"
    }
   ],
   "source": [
    "## Accuracy (Acc)\n",
    "Acc = Hits / Total\n",
    "Acc"
   ]
  },
  {
   "cell_type": "code",
   "execution_count": 110,
   "metadata": {},
   "outputs": [
    {
     "data": {
      "text/plain": [
       "64"
      ]
     },
     "execution_count": 110,
     "metadata": {},
     "output_type": "execute_result"
    }
   ],
   "source": [
    "# True Positives (TP)\n",
    "TP = cm[0][0] \n",
    "TP"
   ]
  },
  {
   "cell_type": "code",
   "execution_count": 111,
   "metadata": {},
   "outputs": [
    {
     "data": {
      "text/plain": [
       "3"
      ]
     },
     "execution_count": 111,
     "metadata": {},
     "output_type": "execute_result"
    }
   ],
   "source": [
    "# True Negatives (TN)\n",
    "TN = cm[1][1]\n",
    "TN"
   ]
  },
  {
   "cell_type": "code",
   "execution_count": 113,
   "metadata": {},
   "outputs": [
    {
     "data": {
      "text/plain": [
       "7"
      ]
     },
     "execution_count": 113,
     "metadata": {},
     "output_type": "execute_result"
    }
   ],
   "source": [
    "# False Positives (FP)\n",
    "FP = cm[1][0] \n",
    "FP"
   ]
  },
  {
   "cell_type": "code",
   "execution_count": 114,
   "metadata": {},
   "outputs": [
    {
     "data": {
      "text/plain": [
       "15"
      ]
     },
     "execution_count": 114,
     "metadata": {},
     "output_type": "execute_result"
    }
   ],
   "source": [
    "# False Negatives (FN)\n",
    "FN = cm[0][1] \n",
    "FN"
   ]
  },
  {
   "cell_type": "code",
   "execution_count": 101,
   "metadata": {},
   "outputs": [
    {
     "name": "stdout",
     "output_type": "stream",
     "text": [
      "Accuracy: 0.7528089887640449\n"
     ]
    }
   ],
   "source": [
    "from sklearn import metrics\n",
    "print(\"Accuracy:\", metrics.accuracy_score(test_labels, predictions))"
   ]
  }
 ],
 "metadata": {
  "kernelspec": {
   "display_name": "Python 3",
   "language": "python",
   "name": "python3"
  },
  "language_info": {
   "codemirror_mode": {
    "name": "ipython",
    "version": 3
   },
   "file_extension": ".py",
   "mimetype": "text/x-python",
   "name": "python",
   "nbconvert_exporter": "python",
   "pygments_lexer": "ipython3",
   "version": "3.7.3"
  }
 },
 "nbformat": 4,
 "nbformat_minor": 2
}
