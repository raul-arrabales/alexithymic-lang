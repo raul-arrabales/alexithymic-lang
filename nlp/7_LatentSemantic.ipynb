{
 "cells": [
  {
   "cell_type": "markdown",
   "metadata": {},
   "source": [
    "## Language Analysis of Alexithymic Discourse\n",
    "\n",
    "<hr>\n",
    "\n",
    "Alexithymic Language Project / raul@psicobotica.com / V2 release (sept 2020)\n",
    "\n",
    "<hr>\n",
    "\n",
    "### Latent Semantic Analysis (LSA)\n",
    "\n",
    "We perform a Latent Semantic analysis to find relationships between documents and terms they contain. Basically, we perform a LSA-based topic detection to find out whether alexithymic language differs in topics from non-alexithymic language when referred to the same stimuli.\n",
    "\n",
    "LSA takes into account context around words to determine topics. LSA uses Singular-Value Decomposition (SVD) for dimensionality reduction of document vectors. \n",
    "\n",
    "- Topic modeling. \n",
    "\n",
    "<hr>\n",
    "\n",
    "[More about Latent Semantic Analysis](https://en.wikipedia.org/wiki/Latent_semantic_analysis)\n",
    "\n",
    "[About Singular-Value Decomposition](https://en.wikipedia.org/wiki/Singular_value_decomposition)\n"
   ]
  },
  {
   "cell_type": "code",
   "execution_count": 1,
   "metadata": {},
   "outputs": [],
   "source": [
    "import pandas as pd \n",
    "import numpy as np\n",
    "import ast"
   ]
  },
  {
   "cell_type": "markdown",
   "metadata": {},
   "source": [
    "## Load features dataset\n",
    "- Data is already pre-processed (1-Preprocessing). \n",
    "- Basic NLP features are already calculated (2-Features). \n",
    "- Some additional BoW features have been added (3-BoW).\n",
    "- Some additional TF/IDF features have been added (3-TFIDF).\n",
    "- N-Gram models have been generated (3-N-Grams). \n",
    "- PoS lists for each document identified (4-Lexicosemantics). \n",
    "- Writer's personality variables inferred (5-Personality).\n",
    "- Sentiment analysis (6-Sentiment). "
   ]
  },
  {
   "cell_type": "code",
   "execution_count": 2,
   "metadata": {},
   "outputs": [],
   "source": [
    "feats_dataset_path = \"https://raw.githubusercontent.com/raul-arrabales/alexithymic-lang/master/data/Prolexitim_v2_features_6.csv\"\n",
    "alex_df = pd.read_csv(feats_dataset_path, header=0, delimiter=\";\")"
   ]
  },
  {
   "cell_type": "code",
   "execution_count": 3,
   "metadata": {},
   "outputs": [
    {
     "data": {
      "text/html": [
       "<div>\n",
       "<style scoped>\n",
       "    .dataframe tbody tr th:only-of-type {\n",
       "        vertical-align: middle;\n",
       "    }\n",
       "\n",
       "    .dataframe tbody tr th {\n",
       "        vertical-align: top;\n",
       "    }\n",
       "\n",
       "    .dataframe thead th {\n",
       "        text-align: right;\n",
       "    }\n",
       "</style>\n",
       "<table border=\"1\" class=\"dataframe\">\n",
       "  <thead>\n",
       "    <tr style=\"text-align: right;\">\n",
       "      <th></th>\n",
       "      <th>Code</th>\n",
       "      <th>TAS20</th>\n",
       "      <th>F1</th>\n",
       "      <th>F2</th>\n",
       "      <th>F3</th>\n",
       "      <th>Gender</th>\n",
       "      <th>Age</th>\n",
       "      <th>Card</th>\n",
       "      <th>T_Metaphors</th>\n",
       "      <th>T_ToM</th>\n",
       "      <th>...</th>\n",
       "      <th>consumption_preferences_volunteer</th>\n",
       "      <th>MSP_Words</th>\n",
       "      <th>MSP_Stems</th>\n",
       "      <th>AFINN_Words_Pol</th>\n",
       "      <th>AFINN_Stems_Pol</th>\n",
       "      <th>AFINN_Words_Int</th>\n",
       "      <th>AFINN_Stems_Int</th>\n",
       "      <th>AFINN_Words_Max</th>\n",
       "      <th>AFINN_Stems_Max</th>\n",
       "      <th>Watson_Sent</th>\n",
       "    </tr>\n",
       "  </thead>\n",
       "  <tbody>\n",
       "    <tr>\n",
       "      <th>216</th>\n",
       "      <td>0496b449d5006fe4c1bcc37a208a0e00</td>\n",
       "      <td>41</td>\n",
       "      <td>13</td>\n",
       "      <td>10</td>\n",
       "      <td>18</td>\n",
       "      <td>2</td>\n",
       "      <td>56</td>\n",
       "      <td>9VH</td>\n",
       "      <td>0</td>\n",
       "      <td>1</td>\n",
       "      <td>...</td>\n",
       "      <td>0.0</td>\n",
       "      <td>0.047619</td>\n",
       "      <td>0.190476</td>\n",
       "      <td>8</td>\n",
       "      <td>8</td>\n",
       "      <td>4.0</td>\n",
       "      <td>4.0</td>\n",
       "      <td>8</td>\n",
       "      <td>8</td>\n",
       "      <td>0.759027</td>\n",
       "    </tr>\n",
       "    <tr>\n",
       "      <th>115</th>\n",
       "      <td>efb2088a8ab28dc16c158813ae396ec8</td>\n",
       "      <td>35</td>\n",
       "      <td>13</td>\n",
       "      <td>9</td>\n",
       "      <td>13</td>\n",
       "      <td>2</td>\n",
       "      <td>29</td>\n",
       "      <td>13HM</td>\n",
       "      <td>0</td>\n",
       "      <td>1</td>\n",
       "      <td>...</td>\n",
       "      <td>0.0</td>\n",
       "      <td>-0.111111</td>\n",
       "      <td>-0.222222</td>\n",
       "      <td>-5</td>\n",
       "      <td>1</td>\n",
       "      <td>3.5</td>\n",
       "      <td>0.5</td>\n",
       "      <td>6</td>\n",
       "      <td>1</td>\n",
       "      <td>-0.976379</td>\n",
       "    </tr>\n",
       "  </tbody>\n",
       "</table>\n",
       "<p>2 rows × 184 columns</p>\n",
       "</div>"
      ],
      "text/plain": [
       "                                 Code  TAS20  F1  F2  F3  Gender  Age  Card  \\\n",
       "216  0496b449d5006fe4c1bcc37a208a0e00     41  13  10  18       2   56   9VH   \n",
       "115  efb2088a8ab28dc16c158813ae396ec8     35  13   9  13       2   29  13HM   \n",
       "\n",
       "     T_Metaphors  T_ToM  ...  consumption_preferences_volunteer  MSP_Words  \\\n",
       "216            0      1  ...                                0.0   0.047619   \n",
       "115            0      1  ...                                0.0  -0.111111   \n",
       "\n",
       "     MSP_Stems  AFINN_Words_Pol AFINN_Stems_Pol  AFINN_Words_Int  \\\n",
       "216   0.190476                8               8              4.0   \n",
       "115  -0.222222               -5               1              3.5   \n",
       "\n",
       "     AFINN_Stems_Int  AFINN_Words_Max  AFINN_Stems_Max Watson_Sent  \n",
       "216              4.0                8                8    0.759027  \n",
       "115              0.5                6                1   -0.976379  \n",
       "\n",
       "[2 rows x 184 columns]"
      ]
     },
     "execution_count": 3,
     "metadata": {},
     "output_type": "execute_result"
    }
   ],
   "source": [
    "alex_df.sample(2)"
   ]
  },
  {
   "cell_type": "code",
   "execution_count": 4,
   "metadata": {},
   "outputs": [
    {
     "data": {
      "text/plain": [
       "Index(['Code', 'TAS20', 'F1', 'F2', 'F3', 'Gender', 'Age', 'Card',\n",
       "       'T_Metaphors', 'T_ToM', 'T_FP', 'T_Interpret', 'T_Desc', 'T_Confussion',\n",
       "       'Text', 'Alex_A', 'Alex_B', 'Words', 'Sentences', 'Tokens',\n",
       "       'Tokens_Stop', 'Tokens_Stem_P', 'Tokens_Stem_S', 'POS', 'NER', 'DEP',\n",
       "       'Lemmas_CNLP', 'Lemmas_Spacy', 'Chars', 'avgWL', 'avgSL', 'Pun_Count',\n",
       "       'Stop_Count', 'RawTokens', 'Title_Count', 'Upper_Count', 'PRON_Count',\n",
       "       'DET_Count', 'ADV_Count', 'VERB_Count'],\n",
       "      dtype='object')"
      ]
     },
     "execution_count": 4,
     "metadata": {},
     "output_type": "execute_result"
    }
   ],
   "source": [
    "alex_df.columns[0:40]"
   ]
  },
  {
   "cell_type": "markdown",
   "metadata": {},
   "source": [
    "## Stimuli variable (card) control\n",
    "- Remove under-represented cards"
   ]
  },
  {
   "cell_type": "code",
   "execution_count": 5,
   "metadata": {},
   "outputs": [
    {
     "data": {
      "text/plain": [
       "9VH     89\n",
       "1       85\n",
       "11      83\n",
       "13HM    81\n",
       "12VN     8\n",
       "7VH      6\n",
       "3VH      6\n",
       "13N      5\n",
       "13V      5\n",
       "10       4\n",
       "18NM     3\n",
       "13VH     2\n",
       "15HM     1\n",
       "10N      1\n",
       "9BM      1\n",
       "!·HM     1\n",
       "Name: Card, dtype: int64"
      ]
     },
     "execution_count": 5,
     "metadata": {},
     "output_type": "execute_result"
    }
   ],
   "source": [
    "alex_df.Card.value_counts()"
   ]
  },
  {
   "cell_type": "code",
   "execution_count": 6,
   "metadata": {},
   "outputs": [],
   "source": [
    "# drop under-represented cards\n",
    "alex_df = alex_df.drop(alex_df[(alex_df.Card != '9VH') & (alex_df.Card != '1') & (alex_df.Card != '11') & (alex_df.Card != '13HM')].index)"
   ]
  },
  {
   "cell_type": "code",
   "execution_count": 7,
   "metadata": {},
   "outputs": [
    {
     "data": {
      "text/plain": [
       "9VH     89\n",
       "1       85\n",
       "11      83\n",
       "13HM    81\n",
       "Name: Card, dtype: int64"
      ]
     },
     "execution_count": 7,
     "metadata": {},
     "output_type": "execute_result"
    }
   ],
   "source": [
    "alex_df.Card.value_counts()"
   ]
  },
  {
   "cell_type": "markdown",
   "metadata": {},
   "source": [
    "## LSA analysis"
   ]
  },
  {
   "cell_type": "markdown",
   "metadata": {},
   "source": [
    "### Document-Term matrix \n",
    "- TF/IDF vector per document"
   ]
  },
  {
   "cell_type": "code",
   "execution_count": 8,
   "metadata": {},
   "outputs": [],
   "source": [
    "from sklearn.feature_extraction.text import TfidfVectorizer "
   ]
  },
  {
   "cell_type": "code",
   "execution_count": 9,
   "metadata": {},
   "outputs": [],
   "source": [
    "# Get TF/IDF vectors for each doc\n",
    "TFIDF_vectorizer = TfidfVectorizer(max_features= 1000, # Top 1K most frequent word in the dict\n",
    "                                   max_df = 0.5,      # Maximum Document Frequency\n",
    "                                   smooth_idf=True)   # Adds 1 extra doc to prevent zero div"
   ]
  },
  {
   "cell_type": "code",
   "execution_count": 10,
   "metadata": {},
   "outputs": [],
   "source": [
    "# Get a new column with removed stop words in Spanish\n",
    "# As sklearn RF/IDF vectorizer does not support Spanish\n",
    "alex_df['Clean_Text'] = alex_df.Tokens_Stop.apply(lambda x: \" \".join(ast.literal_eval(x)))"
   ]
  },
  {
   "cell_type": "code",
   "execution_count": 11,
   "metadata": {},
   "outputs": [
    {
     "data": {
      "text/html": [
       "<div>\n",
       "<style scoped>\n",
       "    .dataframe tbody tr th:only-of-type {\n",
       "        vertical-align: middle;\n",
       "    }\n",
       "\n",
       "    .dataframe tbody tr th {\n",
       "        vertical-align: top;\n",
       "    }\n",
       "\n",
       "    .dataframe thead th {\n",
       "        text-align: right;\n",
       "    }\n",
       "</style>\n",
       "<table border=\"1\" class=\"dataframe\">\n",
       "  <thead>\n",
       "    <tr style=\"text-align: right;\">\n",
       "      <th></th>\n",
       "      <th>Text</th>\n",
       "      <th>Tokens_Stop</th>\n",
       "      <th>Clean_Text</th>\n",
       "    </tr>\n",
       "  </thead>\n",
       "  <tbody>\n",
       "    <tr>\n",
       "      <th>228</th>\n",
       "      <td>Después de un largo día de trabajo, llegó la p...</td>\n",
       "      <td>['después', 'largo', 'día', 'trabajo', 'llegó'...</td>\n",
       "      <td>después largo día trabajo llegó plácida siesta...</td>\n",
       "    </tr>\n",
       "    <tr>\n",
       "      <th>253</th>\n",
       "      <td>Vaya resaca más mala! Anoche el Rubius se bebi...</td>\n",
       "      <td>['vaya', 'resaca', 'mala', 'anoche', 'rubius',...</td>\n",
       "      <td>vaya resaca mala anoche rubius bebió jarabe to...</td>\n",
       "    </tr>\n",
       "    <tr>\n",
       "      <th>301</th>\n",
       "      <td>un niño que quería tocar el violín pero sus pa...</td>\n",
       "      <td>['niño', 'quería', 'tocar', 'violín', 'padres'...</td>\n",
       "      <td>niño quería tocar violín padres permitían cost...</td>\n",
       "    </tr>\n",
       "    <tr>\n",
       "      <th>174</th>\n",
       "      <td>El doctor solo pudo certificar su muerte, esta...</td>\n",
       "      <td>['doctor', 'solo', 'pudo', 'certificar', 'muer...</td>\n",
       "      <td>doctor solo pudo certificar muerte agotado des...</td>\n",
       "    </tr>\n",
       "  </tbody>\n",
       "</table>\n",
       "</div>"
      ],
      "text/plain": [
       "                                                  Text  \\\n",
       "228  Después de un largo día de trabajo, llegó la p...   \n",
       "253  Vaya resaca más mala! Anoche el Rubius se bebi...   \n",
       "301  un niño que quería tocar el violín pero sus pa...   \n",
       "174  El doctor solo pudo certificar su muerte, esta...   \n",
       "\n",
       "                                           Tokens_Stop  \\\n",
       "228  ['después', 'largo', 'día', 'trabajo', 'llegó'...   \n",
       "253  ['vaya', 'resaca', 'mala', 'anoche', 'rubius',...   \n",
       "301  ['niño', 'quería', 'tocar', 'violín', 'padres'...   \n",
       "174  ['doctor', 'solo', 'pudo', 'certificar', 'muer...   \n",
       "\n",
       "                                            Clean_Text  \n",
       "228  después largo día trabajo llegó plácida siesta...  \n",
       "253  vaya resaca mala anoche rubius bebió jarabe to...  \n",
       "301  niño quería tocar violín padres permitían cost...  \n",
       "174  doctor solo pudo certificar muerte agotado des...  "
      ]
     },
     "execution_count": 11,
     "metadata": {},
     "output_type": "execute_result"
    }
   ],
   "source": [
    "alex_df[['Text', 'Tokens_Stop','Clean_Text']].sample(4)"
   ]
  },
  {
   "cell_type": "code",
   "execution_count": 12,
   "metadata": {},
   "outputs": [],
   "source": [
    "TFIDF_matrix = TFIDF_vectorizer.fit_transform(alex_df['Clean_Text'])"
   ]
  },
  {
   "cell_type": "code",
   "execution_count": 13,
   "metadata": {},
   "outputs": [
    {
     "name": "stdout",
     "output_type": "stream",
     "text": [
      "We have 338 documents and 1000 most frequent terms.\n"
     ]
    }
   ],
   "source": [
    "print(\"We have %d documents and %d most frequent terms.\" % \n",
    "      (TFIDF_matrix.shape[0],TFIDF_matrix.shape[1]))"
   ]
  },
  {
   "cell_type": "markdown",
   "metadata": {},
   "source": [
    "### Topic modeling"
   ]
  },
  {
   "cell_type": "code",
   "execution_count": 14,
   "metadata": {},
   "outputs": [],
   "source": [
    "from sklearn.decomposition import TruncatedSVD"
   ]
  },
  {
   "cell_type": "code",
   "execution_count": 15,
   "metadata": {},
   "outputs": [],
   "source": [
    "# Number of topics to detect\n",
    "NUM_Topics = 4 # same as different stimuli. "
   ]
  },
  {
   "cell_type": "code",
   "execution_count": 16,
   "metadata": {},
   "outputs": [],
   "source": [
    "# SVD represent documents and terms in vectors \n",
    "SVD_model = TruncatedSVD(\n",
    "    n_components=NUM_Topics, \n",
    "    algorithm='randomized', \n",
    "    n_iter=100, \n",
    "    random_state=122)"
   ]
  },
  {
   "cell_type": "code",
   "execution_count": 25,
   "metadata": {},
   "outputs": [
    {
     "data": {
      "text/plain": [
       "TruncatedSVD(algorithm='randomized', n_components=4, n_iter=100,\n",
       "       random_state=122, tol=0.0)"
      ]
     },
     "execution_count": 25,
     "metadata": {},
     "output_type": "execute_result"
    }
   ],
   "source": [
    "SVD_model.fit(TFIDF_matrix)"
   ]
  },
  {
   "cell_type": "code",
   "execution_count": 19,
   "metadata": {},
   "outputs": [
    {
     "data": {
      "text/plain": [
       "4"
      ]
     },
     "execution_count": 19,
     "metadata": {},
     "output_type": "execute_result"
    }
   ],
   "source": [
    "len(SVD_model.components_)"
   ]
  },
  {
   "cell_type": "code",
   "execution_count": 20,
   "metadata": {},
   "outputs": [
    {
     "name": "stdout",
     "output_type": "stream",
     "text": [
      "Topic 0: ['niño', 'violín', 'tocar', 'padres', 'aburrido', 'quería', 'violin']\n",
      "Topic 1: ['hombre', 'mujer', 'muerta', 'cama', 'esposa', 'llorando', 'fallecida']\n",
      "Topic 2: ['día', 'grupo', 'hombres', 'descansando', 'siesta', 'después', 'campo']\n",
      "Topic 3: ['cascada', 'bosque', 'montaña', 'camino', 'animales', 'pájaros', 'agua']\n"
     ]
    }
   ],
   "source": [
    "# Inspect topics detected\n",
    "\n",
    "terms = TFIDF_vectorizer.get_feature_names()\n",
    "\n",
    "for i,comp in enumerate(SVD_model.components_):\n",
    "    terms_comp = zip(terms, comp)\n",
    "    sorted_terms = sorted(terms_comp, key= lambda x:x[1], reverse=True)[:7]\n",
    "    words = []\n",
    "    for t in sorted_terms:\n",
    "        words.append(t[0])        \n",
    "    print(\"Topic \" + str(i) + \": \" + str(words))\n",
    "    "
   ]
  },
  {
   "cell_type": "markdown",
   "metadata": {},
   "source": [
    "Topics clearly match the typical description of the four cards:\n",
    "\n",
    "<img src=\"https://psicobotica.com/prolexitim/nlp/stimuli/TAT-1.jpg\" align=\"left\" width=160>\n",
    "\n",
    "<img src=\"https://psicobotica.com/prolexitim/nlp/stimuli/TAT-9VH.jpg\" align=\"left\" width=160> \n",
    "\n",
    "<img src=\"https://psicobotica.com/prolexitim/nlp/stimuli/TAT-11.jpg\" align=\"left\" width=160> \n",
    "\n",
    "<img src=\"https://psicobotica.com/prolexitim/nlp/stimuli/TAT-13HM.jpg\" align=\"left\" width=160>\n"
   ]
  },
  {
   "cell_type": "markdown",
   "metadata": {},
   "source": [
    "### Topic Visualization\n",
    "- 2D projection using UMAP\n",
    "\n",
    "[About UMAP - Uniform Manifold Approximation and Projection](https://arxiv.org/abs/1802.03426)\n",
    "\n",
    "[API docs](https://umap-learn.readthedocs.io/en/latest/)"
   ]
  },
  {
   "cell_type": "code",
   "execution_count": null,
   "metadata": {},
   "outputs": [],
   "source": [
    "# ! pip uninstall umap"
   ]
  },
  {
   "cell_type": "code",
   "execution_count": null,
   "metadata": {},
   "outputs": [],
   "source": [
    "# ! pip install llvmlite --ignore-installed"
   ]
  },
  {
   "cell_type": "code",
   "execution_count": 100,
   "metadata": {},
   "outputs": [
    {
     "name": "stdout",
     "output_type": "stream",
     "text": [
      "Processing c:\\users\\array\\appdata\\local\\pip\\cache\\wheels\\14\\9a\\ed\\66159a5e13d3b6341b6542cf4f1faf478834753bed5ecaef8d\\umap_learn-0.4.6-py3-none-any.whl\n",
      "Requirement already satisfied: scipy>=1.3.1 in c:\\users\\array\\anaconda3\\lib\\site-packages (from umap-learn) (1.5.3)\n",
      "Collecting numba!=0.47,>=0.46\n",
      "  Using cached numba-0.51.2-cp37-cp37m-win_amd64.whl (2.2 MB)\n",
      "Requirement already satisfied: scikit-learn>=0.20 in c:\\users\\array\\anaconda3\\lib\\site-packages (from umap-learn) (0.20.3)\n",
      "Requirement already satisfied: numpy>=1.17 in c:\\users\\array\\anaconda3\\lib\\site-packages (from umap-learn) (1.19.2)\n",
      "Requirement already satisfied: llvmlite<0.35,>=0.34.0.dev0 in c:\\users\\array\\anaconda3\\lib\\site-packages (from numba!=0.47,>=0.46->umap-learn) (0.34.0)\n",
      "Requirement already satisfied: setuptools in c:\\users\\array\\anaconda3\\lib\\site-packages (from numba!=0.47,>=0.46->umap-learn) (40.8.0)\n",
      "Installing collected packages: numba, umap-learn\n",
      "Successfully installed numba-0.51.2 umap-learn-0.4.6\n"
     ]
    }
   ],
   "source": [
    "# ! pip install umap-learn --user"
   ]
  },
  {
   "cell_type": "code",
   "execution_count": 21,
   "metadata": {},
   "outputs": [],
   "source": [
    "import umap\n",
    "# import umap.umap as umap"
   ]
  },
  {
   "cell_type": "code",
   "execution_count": 23,
   "metadata": {},
   "outputs": [],
   "source": [
    "import matplotlib.pyplot as plt\n",
    "import seaborn as sns"
   ]
  },
  {
   "cell_type": "code",
   "execution_count": 26,
   "metadata": {},
   "outputs": [],
   "source": [
    "topics = SVD_model.fit_transform(TFIDF_matrix)"
   ]
  },
  {
   "cell_type": "code",
   "execution_count": 28,
   "metadata": {},
   "outputs": [],
   "source": [
    "embedding = umap.UMAP(\n",
    "    n_neighbors=150, \n",
    "    min_dist=0.5, \n",
    "    random_state=12).fit_transform(topics)"
   ]
  },
  {
   "cell_type": "code",
   "execution_count": 34,
   "metadata": {},
   "outputs": [
    {
     "data": {
      "text/plain": [
       "(338, 2)"
      ]
     },
     "execution_count": 34,
     "metadata": {},
     "output_type": "execute_result"
    }
   ],
   "source": [
    "embedding.shape"
   ]
  },
  {
   "cell_type": "code",
   "execution_count": 38,
   "metadata": {},
   "outputs": [
    {
     "data": {
      "image/png": "[encoded data removed]",
      "text/plain": [
       "<Figure size 576x432 with 1 Axes>"
      ]
     },
     "metadata": {
      "needs_background": "light"
     },
     "output_type": "display_data"
    }
   ],
   "source": [
    "colors = {'9VH': 'blue', '1': 'red', '11': 'green', '13HM': 'black'}\n",
    "\n",
    "plt.figure(figsize=(8,6))\n",
    "plt.scatter(\n",
    "    embedding[:, 0], \n",
    "    embedding[:, 1], \n",
    "    c = alex_df['Card'].apply(lambda x: colors[x]),\n",
    "    #c = ['green','blue','black','red'],\n",
    "    s = 10, # size\n",
    "    edgecolor='none'\n",
    ")\n",
    "plt.show()"
   ]
  },
  {
   "cell_type": "code",
   "execution_count": null,
   "metadata": {},
   "outputs": [],
   "source": []
  }
 ],
 "metadata": {
  "kernelspec": {
   "display_name": "Python 3",
   "language": "python",
   "name": "python3"
  },
  "language_info": {
   "codemirror_mode": {
    "name": "ipython",
    "version": 3
   },
   "file_extension": ".py",
   "mimetype": "text/x-python",
   "name": "python",
   "nbconvert_exporter": "python",
   "pygments_lexer": "ipython3",
   "version": "3.7.3"
  }
 },
 "nbformat": 4,
 "nbformat_minor": 2
}
